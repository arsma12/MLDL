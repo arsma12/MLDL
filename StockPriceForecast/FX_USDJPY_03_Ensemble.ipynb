{
 "cells": [
  {
   "cell_type": "markdown",
   "metadata": {},
   "source": [
    "# ◆Forex forecast USD／JPY\n",
    "### Based on [USD / JPY daily forecast](https://stooq.com/q/d/?s=usdjpy&c=0), we predict whether the closing price of the next day will rise or fall.\n",
    "###### Create Date：2020/01/15　Author：M.Hasegawa\n",
    "### ────────────────────────────────────────────────────────────────\n",
    "\n",
    "#### 【table of contents】\n",
    "- 0.[**Import module**](#Import_module)\n",
    "- 1.[**Import data**](#Import_data)\n",
    "- 2.[**Feature engineering**](#Future_engineering)\n",
    "- 3.[**Setting the objective variable**](#Setting_the_objective_variable)\n",
    "- 4.[**Preprocessing**](#Preprocessing)\n",
    "- 5.[**Modeling**](#Modeling)\n",
    "\n",
    "###### ※usdjpy_d.csv\n",
    "\n",
    "| No | Column | ColumnName | Missing | use |\n",
    "|:---:|:---:|:---:|:---:|:---:|\n",
    "|  1 | Date| 日付 | - | ○ |\n",
    "|  2 | Open |始値 | - | ○ |\n",
    "|  3 | High |高値 | - | ○ |\n",
    "|  4 | Low |底値 | - | ○ |\n",
    "|  5 | Close |終値 | - | ○ |"
   ]
  },
  {
   "cell_type": "markdown",
   "metadata": {},
   "source": [
    "## 0. Import module<a id='Import_module'></a>"
   ]
  },
  {
   "cell_type": "code",
   "execution_count": 1,
   "metadata": {},
   "outputs": [],
   "source": [
    "%matplotlib inline\n",
    "#import datetime\n",
    "from datetime         import datetime\n",
    "import oandapy\n",
    "import pytz\n",
    "import configparser\n",
    "import pandas  as pd\n",
    "import numpy   as np\n",
    "import seaborn as sns\n",
    "import xgboost           as xgb\n",
    "import lightgbm          as lgb\n",
    "import category_encoders as ce\n",
    "import matplotlib.pyplot as plt\n",
    "from time                    import time\n",
    "from sklearn.model_selection import KFold\n",
    "from sklearn.model_selection import cross_val_score\n",
    "from sklearn.model_selection import cross_val_predict\n",
    "from sklearn.model_selection import GridSearchCV\n",
    "from sklearn.linear_model    import SGDClassifier\n",
    "from sklearn.svm             import SVC\n",
    "from sklearn.metrics         import log_loss, accuracy_score, confusion_matrix,precision_recall_fscore_support\n",
    "from sklearn.model_selection import train_test_split\n",
    "from sklearn.preprocessing   import StandardScaler\n",
    "from IPython.display         import Markdown, display\n",
    "from matplotlib import ticker\n",
    "from sklearn.tree              import DecisionTreeClassifier, export_graphviz\n",
    "from sklearn.ensemble          import RandomForestClassifier\n",
    "from sklearn.ensemble          import ExtraTreesClassifier\n",
    "from sklearn.ensemble          import AdaBoostClassifier\n",
    "from sklearn.ensemble          import GradientBoostingClassifier\n",
    "from sklearn.ensemble          import VotingClassifier\n",
    "from xgboost.sklearn           import XGBClassifier\n",
    "from sklearn.feature_selection import RFECV\n",
    "from sklearn.feature_selection import SelectFromModel\n",
    "from sklearn.model_selection   import learning_curve\n",
    "from sklearn.model_selection   import validation_curve\n",
    "\n",
    "import pandas as pd\n",
    "import matplotlib.dates as mdates\n",
    "import codecs as cd\n",
    "import warnings\n",
    "warnings.filterwarnings('ignore')\n",
    "\n",
    "# ****************************************************************************\n",
    "# setting\n",
    "# ****************************************************************************\n",
    "train_size = 0.80\n",
    "\n",
    "wrapper_flg = True\n",
    "selectFromModel_flg = False\n",
    "\n",
    "pd.set_option('display.max_columns', 500)\n",
    "pd.set_option('display.max_rows', 30)\n",
    "\n",
    "config = configparser.ConfigParser()\n",
    "config.read('./config_OANDA.txt')\n",
    "account_id = config['oanda']['account_id']\n",
    "api_key = config['oanda']['api_key']\n",
    "\n",
    "# ============================================================================\n",
    "# MarkDown\n",
    "# ============================================================================\n",
    "def printmd(string):\n",
    "    display(Markdown('\\n\\n**' + string + '**'))\n",
    "\n",
    "# ============================================================================\n",
    "# Conv Japan Time\n",
    "# ============================================================================\n",
    "def iso_to_jp(iso):\n",
    "    date = None\n",
    "    try:\n",
    "        date = datetime.strptime(iso, '%Y-%m-%dT%H:%M:%S.%fZ')\n",
    "        date = pytz.utc.localize(date).astimezone(pytz.timezone(\"Asia/Tokyo\"))\n",
    "    except ValueError:\n",
    "        try:\n",
    "            date = datetime.strptime(iso, '%Y-%m-%dT%H:%M:%S.%f%z')\n",
    "            date = date.astimezone(pytz.timezone(\"Asia/Tokyo\"))\n",
    "        except ValueError:\n",
    "            pass\n",
    "    return date\n",
    "\n",
    "# ============================================================================\n",
    "# Conv Format\n",
    "# ============================================================================\n",
    "def date_to_str(date):\n",
    "    if date is None:\n",
    "        return ''\n",
    "    return date.strftime('%Y/%m/%d %H:%M:%S')\n",
    "\n",
    "# ============================================================================\n",
    "# get_tilt\n",
    "# ============================================================================\n",
    "def get_tilt(close):\n",
    "    \n",
    "    length = len(close)\n",
    "    tilt = np.zeros(length)\n",
    "    \n",
    "    for i in range(length):\n",
    "        if i < 1:\n",
    "            tilt[i] = 0\n",
    "        else :\n",
    "            a = pd.Series(close)[i:i+1].values - pd.Series(close)[i-1:i].values\n",
    "            tilt[i] = a/1\n",
    "    return tilt\n",
    "\n",
    "# ============================================================================\n",
    "# get_rsi\n",
    "# ============================================================================\n",
    "def get_rsi(close, period):\n",
    "    \n",
    "    diff = close.diff()\n",
    "    up, down = diff.copy(), diff.copy()\n",
    "    up[up < 0] = 0\n",
    "    down[down > 0] = 0\n",
    "    \n",
    "    up_sma = up.rolling(window=period, center=False).mean()\n",
    "    down_sma = down.abs().rolling(window=period, center=False).mean()\n",
    "    \n",
    "    rs = up_sma / down_sma\n",
    "    rsi = 100.0 - (100.0 / (1.0 + rs))\n",
    "    \n",
    "    return rsi\n",
    "\n",
    "# ============================================================================\n",
    "# get_rci\n",
    "# ============================================================================\n",
    "def get_rci(close, period):\n",
    "    rank_period = np.arange(period, 0, -1)\n",
    "    length = len(close)\n",
    "    rci = np.zeros(length)\n",
    "    \n",
    "    for i in range(length):\n",
    "        if i < period - 1:\n",
    "            rci[i] = 0\n",
    "        else :\n",
    "            rank_price = pd.Series(close)[i - period + 1: i + 1].rank(method='min', ascending = False).values\n",
    "            rci[i] = np.int32((1 - (6 * sum((rank_period - rank_price)**2)) / (period**3 - period)) * 100)\n",
    "            \n",
    "    return rci\n",
    "\n",
    "# ============================================================================\n",
    "# get_bb\n",
    "# ============================================================================\n",
    "def get_bb(close, sigma):\n",
    "    mean = close.rolling(window=21).mean()\n",
    "    std = close.rolling(window=21).std()\n",
    "    upper = mean + (std * sigma)\n",
    "    lower = mean - (std * sigma)\n",
    "    return upper,lower\n",
    "\n",
    "# ============================================================================\n",
    "# get_momentum\n",
    "# ============================================================================\n",
    "def get_momentum(close, period):\n",
    "    return close - close.shift(period)\n",
    "\n",
    "# ============================================================================\n",
    "# get_sma\n",
    "# ============================================================================\n",
    "def get_sma(close, period):\n",
    "    return list(pd.Series(close).rolling(period).mean())\n",
    "\n",
    "# ============================================================================\n",
    "# get_ema\n",
    "# ============================================================================\n",
    "def get_ema(close, period):\n",
    "    return list(pd.Series(close).ewm(span=period).mean())\n",
    "\n",
    "# ============================================================================\n",
    "# 学習曲線を作成\n",
    "# モデル、タイトル、X,y\n",
    "# ============================================================================\n",
    "def plot_learning_curve(estimator, title, X, y, ylim=None, cv=None,n_jobs=-1,train_sizes=np.linspace(.1, 1.0, 5)):\n",
    "    plt.figure(figsize=(6,4))\n",
    "    plt.title(title)\n",
    "    plt.xlabel(\"Training examples\")\n",
    "    plt.ylabel(\"Accuracy Score\")\n",
    "    \n",
    "    # 学習曲線\n",
    "    train_sizes, train_scores, test_scores = learning_curve(estimator, X, y, cv=cv, n_jobs=n_jobs, \n",
    "                                                            train_sizes=train_sizes,\n",
    "                                                           random_state=1234)\n",
    "    train_scores_mean = np.mean(train_scores, axis=1) # 分割数分のスコアの平均\n",
    "    train_scores_std  = np.std(train_scores, axis=1) # 分割数分のスコアの標準偏差\n",
    "    test_scores_mean  = np.mean(test_scores, axis=1) # 分割数分のスコアの平均\n",
    "    test_scores_std   = np.std(test_scores, axis=1) # 分割数分のスコアの標準偏差\n",
    "    \n",
    "    plt.grid()\n",
    "    # 標準偏差の範囲を色付け（学習データ）\n",
    "    plt.fill_between(train_sizes, \n",
    "                     train_scores_mean - train_scores_std,\n",
    "                     train_scores_mean + train_scores_std, \n",
    "                     alpha=0.1,\n",
    "                     color=\"r\")\n",
    "    # 標準偏差の範囲を色付け（交差検証法）\n",
    "    plt.fill_between(train_sizes, \n",
    "                     test_scores_mean - test_scores_std, \n",
    "                     test_scores_mean + test_scores_std, \n",
    "                     alpha=0.1, color=\"g\")\n",
    "    # 学習データのスコアをプロット\n",
    "    plt.plot(train_sizes, train_scores_mean, 'o-', color=\"r\", label=\"Training score\")\n",
    "    # 交差検証法スコアをプロット\n",
    "    plt.plot(train_sizes, test_scores_mean, 'o-', color=\"g\", label=\"Cross-validation score\")\n",
    "    plt.legend(loc=\"best\")\n",
    "    plt.show()\n",
    "\n",
    "# ============================================================================\n",
    "# 特徴量の重要度を表示するグラフ\n",
    "# ============================================================================\n",
    "def plot_feature_importance(best_model, datacols, title):\n",
    "    plt.figure(figsize=(8,4))\n",
    "    tmp_se = pd.Series(best_model.feature_importances_,datacols).sort_values(ascending=True)\n",
    "    tmp_se.tail(15).plot.barh(width=0.8)\n",
    "    plt.grid(which='major',color='gray',linestyle=':')\n",
    "    plt.grid(which='minor',color='gray',linestyle=':')\n",
    "    plt.title(title + ' (Top15)')\n",
    "    plt.show()\n",
    "    \n",
    "# ============================================================================\n",
    "# ハイパーパラメーター探索用関数\n",
    "# ============================================================================\n",
    "def grid_search_argo(dic_argo, model_name, clf, param, X_train, y_train):\n",
    "    \n",
    "    # グリッドサーチ\n",
    "    grid = GridSearchCV(estimator=clf, param_grid=param, scoring='accuracy', cv=kfold, n_jobs=-1)\n",
    "    \n",
    "    # 学習\n",
    "    grid_result = grid.fit(X_train, y_train)\n",
    "\n",
    "    best_estimator = grid_result.best_estimator_\n",
    "    means = grid_result.cv_results_['mean_test_score']\n",
    "    stds = grid_result.cv_results_['std_test_score']\n",
    "    params = grid_result.cv_results_['params']\n",
    "    \n",
    "    #for mean, stdev, param in zip(means, stds, params):\n",
    "    #    print(\"Score: %f (%f) with: %r\" % (mean, stdev, param))\n",
    "    #    print(\"----------------------------------------------\")\n",
    "    \n",
    "    print(\"BestScore: %f using %s\" % (round(grid_result.best_score_,3), grid_result.best_params_))\n",
    "    dic_argo.setdefault(model_name, grid_result) # 辞書に格納\n",
    "    \n",
    "    return best_estimator"
   ]
  },
  {
   "cell_type": "markdown",
   "metadata": {},
   "source": [
    "# 1. Import data<a id='Import_data'></a>\n",
    "\n",
    "- M30・・・30 minute candlesticks, hour alignment\n",
    "- H1・・・1 hour candlesticks, hour alignment\n",
    "- H4・・・4 hour candlesticks, day alignment\n",
    "- D・・・1 day candlesticks, day alignment\n",
    "- W・・・1 week candlesticks, aligned to start of week\n",
    "- M・・・1 month candlesticks, aligned to first day of the month"
   ]
  },
  {
   "cell_type": "code",
   "execution_count": 2,
   "metadata": {},
   "outputs": [
    {
     "name": "stdout",
     "output_type": "stream",
     "text": [
      "df.shape= (1000, 5)\n"
     ]
    },
    {
     "data": {
      "text/html": [
       "<div>\n",
       "<style scoped>\n",
       "    .dataframe tbody tr th:only-of-type {\n",
       "        vertical-align: middle;\n",
       "    }\n",
       "\n",
       "    .dataframe tbody tr th {\n",
       "        vertical-align: top;\n",
       "    }\n",
       "\n",
       "    .dataframe thead th {\n",
       "        text-align: right;\n",
       "    }\n",
       "</style>\n",
       "<table border=\"1\" class=\"dataframe\">\n",
       "  <thead>\n",
       "    <tr style=\"text-align: right;\">\n",
       "      <th></th>\n",
       "      <th>time</th>\n",
       "      <th>open</th>\n",
       "      <th>high</th>\n",
       "      <th>low</th>\n",
       "      <th>close</th>\n",
       "    </tr>\n",
       "  </thead>\n",
       "  <tbody>\n",
       "    <tr>\n",
       "      <th>998</th>\n",
       "      <td>2020-02-07 23:00:00</td>\n",
       "      <td>109.780</td>\n",
       "      <td>109.852</td>\n",
       "      <td>109.538</td>\n",
       "      <td>109.813</td>\n",
       "    </tr>\n",
       "    <tr>\n",
       "      <th>999</th>\n",
       "      <td>2020-02-08 03:00:00</td>\n",
       "      <td>109.812</td>\n",
       "      <td>109.853</td>\n",
       "      <td>109.707</td>\n",
       "      <td>109.799</td>\n",
       "    </tr>\n",
       "  </tbody>\n",
       "</table>\n",
       "</div>"
      ],
      "text/plain": [
       "                   time     open     high      low    close\n",
       "998 2020-02-07 23:00:00  109.780  109.852  109.538  109.813\n",
       "999 2020-02-08 03:00:00  109.812  109.853  109.707  109.799"
      ]
     },
     "metadata": {},
     "output_type": "display_data"
    }
   ],
   "source": [
    "oa = oandapy.API(environment=\"live\", access_token=api_key)\n",
    "data = oa.get_history(instrument=\"USD_JPY\", granularity='H4', count=1000)\n",
    "\n",
    "df = pd.DataFrame(data[\"candles\"])\n",
    "\n",
    "df['time'] = df['time'].apply(lambda x: iso_to_jp(x))   # 日本時間に変換\n",
    "df['time'] = df['time'].apply(lambda x: date_to_str(x)) # 形式変換（文字列型）\n",
    "df[\"time\"] = pd.to_datetime(df[\"time\"])                  # 型変換\n",
    "#df[\"time\"] = df[\"time\"].apply(mdates.date2num)          # 数値変換\n",
    "\n",
    "df = df[[\"time\",\"openAsk\",\"highAsk\",\"lowAsk\",\"closeAsk\"]].copy()\n",
    "df = df.rename(columns={\"openAsk\":\"open\",\"highAsk\":\"high\",\"lowAsk\":\"low\",\"closeAsk\":\"close\"})\n",
    "#df = df.set_index(\"time\")\n",
    "\n",
    "'''\n",
    "# ********* Enter today *********\n",
    "# 本日分を入力して、翌日終値が当日終値よりも上昇するかを予測を行う（ただし、当日の終値は途中）\n",
    "p_open = 109.587\n",
    "p_high = 110.016\n",
    "p_low = 109.813\n",
    "p_close = 109.903\n",
    "tmp_se = pd.Series([datetime.today().strftime(\"%Y-%m-%d 00:00:00\"),p_open,p_high,p_low,p_close], index=df.columns)    \n",
    "df = df.append(tmp_se, ignore_index=True)\n",
    "df['time'] = pd.to_datetime(df['time'])\n",
    "# *******************************\n",
    "'''\n",
    "\n",
    "print('df.shape=',df.shape)\n",
    "display(df.tail(2))"
   ]
  },
  {
   "cell_type": "markdown",
   "metadata": {},
   "source": [
    "# 2. Feature engineering <a id ='Future_engineering'></a>"
   ]
  },
  {
   "cell_type": "code",
   "execution_count": 3,
   "metadata": {
    "scrolled": false
   },
   "outputs": [
    {
     "data": {
      "text/markdown": [
       "\n",
       "\n",
       "**▼ size**"
      ],
      "text/plain": [
       "<IPython.core.display.Markdown object>"
      ]
     },
     "metadata": {},
     "output_type": "display_data"
    },
    {
     "data": {
      "text/plain": [
       "(288, 97)"
      ]
     },
     "metadata": {},
     "output_type": "display_data"
    },
    {
     "data": {
      "text/markdown": [
       "\n",
       "\n",
       "**▼ Last 5 lines display**"
      ],
      "text/plain": [
       "<IPython.core.display.Markdown object>"
      ]
     },
     "metadata": {},
     "output_type": "display_data"
    },
    {
     "data": {
      "text/html": [
       "<div>\n",
       "<style scoped>\n",
       "    .dataframe tbody tr th:only-of-type {\n",
       "        vertical-align: middle;\n",
       "    }\n",
       "\n",
       "    .dataframe tbody tr th {\n",
       "        vertical-align: top;\n",
       "    }\n",
       "\n",
       "    .dataframe thead th {\n",
       "        text-align: right;\n",
       "    }\n",
       "</style>\n",
       "<table border=\"1\" class=\"dataframe\">\n",
       "  <thead>\n",
       "    <tr style=\"text-align: right;\">\n",
       "      <th></th>\n",
       "      <th>time</th>\n",
       "      <th>open</th>\n",
       "      <th>high</th>\n",
       "      <th>low</th>\n",
       "      <th>close</th>\n",
       "      <th>sma5</th>\n",
       "      <th>sma21</th>\n",
       "      <th>ema10</th>\n",
       "      <th>tilt_sma5</th>\n",
       "      <th>tilt_sma21</th>\n",
       "      <th>tilt_ema10</th>\n",
       "      <th>bb1_up</th>\n",
       "      <th>bb1_low</th>\n",
       "      <th>bb2_up</th>\n",
       "      <th>bb2_low</th>\n",
       "      <th>bb3_up</th>\n",
       "      <th>bb3_low</th>\n",
       "      <th>bb1_shrinkage</th>\n",
       "      <th>bb2_shrinkage</th>\n",
       "      <th>bb3_shrinkage</th>\n",
       "      <th>momentum_5</th>\n",
       "      <th>momentum_10</th>\n",
       "      <th>momentum_21</th>\n",
       "      <th>rci9</th>\n",
       "      <th>rci21</th>\n",
       "      <th>rci52</th>\n",
       "      <th>tilt_rci9</th>\n",
       "      <th>tilt_rci21</th>\n",
       "      <th>tilt_rci52</th>\n",
       "      <th>rsi14</th>\n",
       "      <th>tilt_rsi14</th>\n",
       "      <th>day_chg</th>\n",
       "      <th>c_up</th>\n",
       "      <th>c_all_len</th>\n",
       "      <th>c_pil_len</th>\n",
       "      <th>top_bar</th>\n",
       "      <th>low_bar</th>\n",
       "      <th>c_y_b</th>\n",
       "      <th>c_y_dai</th>\n",
       "      <th>c_y_h_b</th>\n",
       "      <th>c_y_y_b</th>\n",
       "      <th>c_y_sg</th>\n",
       "      <th>c_y_ug</th>\n",
       "      <th>c_y_km</th>\n",
       "      <th>c_y_kk</th>\n",
       "      <th>c_i_b</th>\n",
       "      <th>c_i_dai</th>\n",
       "      <th>c_i_y_b</th>\n",
       "      <th>c_i_h_i</th>\n",
       "      <th>c_i_sg</th>\n",
       "      <th>c_i_km</th>\n",
       "      <th>c_i_ug</th>\n",
       "      <th>c_i_kk</th>\n",
       "      <th>c_juji</th>\n",
       "      <th>c_tonbo</th>\n",
       "      <th>c_touba</th>\n",
       "      <th>c_ippon</th>\n",
       "      <th>y1_day_chg</th>\n",
       "      <th>y1_c_all_len</th>\n",
       "      <th>y1_c_pil_len</th>\n",
       "      <th>y1_c_up</th>\n",
       "      <th>y1_top_bar</th>\n",
       "      <th>y1_low_bar</th>\n",
       "      <th>y2_day_chg</th>\n",
       "      <th>y2_c_all_len</th>\n",
       "      <th>y2_c_pil_len</th>\n",
       "      <th>y2_c_up</th>\n",
       "      <th>y2_top_bar</th>\n",
       "      <th>y2_low_bar</th>\n",
       "      <th>y3_day_chg</th>\n",
       "      <th>y3_c_all_len</th>\n",
       "      <th>y3_c_pil_len</th>\n",
       "      <th>y3_c_up</th>\n",
       "      <th>y3_top_bar</th>\n",
       "      <th>y3_low_bar</th>\n",
       "      <th>y4_day_chg</th>\n",
       "      <th>y4_c_all_len</th>\n",
       "      <th>y4_c_pil_len</th>\n",
       "      <th>y4_c_up</th>\n",
       "      <th>y4_top_bar</th>\n",
       "      <th>y4_low_bar</th>\n",
       "      <th>y5_day_chg</th>\n",
       "      <th>y5_c_all_len</th>\n",
       "      <th>y5_c_pil_len</th>\n",
       "      <th>y5_c_up</th>\n",
       "      <th>y5_top_bar</th>\n",
       "      <th>y5_low_bar</th>\n",
       "      <th>ren2_up</th>\n",
       "      <th>ren3_up</th>\n",
       "      <th>ren4_up</th>\n",
       "      <th>ren5_up</th>\n",
       "      <th>ren6_up</th>\n",
       "      <th>ren2_down</th>\n",
       "      <th>ren3_down</th>\n",
       "      <th>ren4_down</th>\n",
       "      <th>ren5_down</th>\n",
       "      <th>ren6_down</th>\n",
       "    </tr>\n",
       "  </thead>\n",
       "  <tbody>\n",
       "    <tr>\n",
       "      <th>995</th>\n",
       "      <td>2020-02-07 11:00:00</td>\n",
       "      <td>109.921</td>\n",
       "      <td>109.944</td>\n",
       "      <td>109.880</td>\n",
       "      <td>109.891</td>\n",
       "      <td>109.9362</td>\n",
       "      <td>109.565810</td>\n",
       "      <td>109.840713</td>\n",
       "      <td>0.0068</td>\n",
       "      <td>0.058095</td>\n",
       "      <td>0.011175</td>\n",
       "      <td>110.411458</td>\n",
       "      <td>108.720161</td>\n",
       "      <td>110.411458</td>\n",
       "      <td>108.720161</td>\n",
       "      <td>110.411458</td>\n",
       "      <td>108.720161</td>\n",
       "      <td>1.691297</td>\n",
       "      <td>1.691297</td>\n",
       "      <td>1.691297</td>\n",
       "      <td>0.034</td>\n",
       "      <td>0.107</td>\n",
       "      <td>1.220</td>\n",
       "      <td>63.0</td>\n",
       "      <td>95.0</td>\n",
       "      <td>51.0</td>\n",
       "      <td>-20.0</td>\n",
       "      <td>-2.0</td>\n",
       "      <td>4.0</td>\n",
       "      <td>68.678460</td>\n",
       "      <td>-3.911902</td>\n",
       "      <td>-0.030</td>\n",
       "      <td>0</td>\n",
       "      <td>0.064</td>\n",
       "      <td>0.030</td>\n",
       "      <td>0.023</td>\n",
       "      <td>0.011</td>\n",
       "      <td>0</td>\n",
       "      <td>0</td>\n",
       "      <td>0</td>\n",
       "      <td>0</td>\n",
       "      <td>0</td>\n",
       "      <td>0</td>\n",
       "      <td>0</td>\n",
       "      <td>0</td>\n",
       "      <td>0</td>\n",
       "      <td>0</td>\n",
       "      <td>0</td>\n",
       "      <td>0</td>\n",
       "      <td>0</td>\n",
       "      <td>1</td>\n",
       "      <td>0</td>\n",
       "      <td>0</td>\n",
       "      <td>1</td>\n",
       "      <td>0</td>\n",
       "      <td>0</td>\n",
       "      <td>1</td>\n",
       "      <td>-0.079</td>\n",
       "      <td>0.225</td>\n",
       "      <td>0.079</td>\n",
       "      <td>0.0</td>\n",
       "      <td>0.047</td>\n",
       "      <td>0.099</td>\n",
       "      <td>0.025</td>\n",
       "      <td>0.061</td>\n",
       "      <td>0.025</td>\n",
       "      <td>1.0</td>\n",
       "      <td>0.006</td>\n",
       "      <td>0.030</td>\n",
       "      <td>0.088</td>\n",
       "      <td>0.169</td>\n",
       "      <td>0.088</td>\n",
       "      <td>1.0</td>\n",
       "      <td>0.017</td>\n",
       "      <td>0.064</td>\n",
       "      <td>0.032</td>\n",
       "      <td>0.154</td>\n",
       "      <td>0.032</td>\n",
       "      <td>1.0</td>\n",
       "      <td>0.052</td>\n",
       "      <td>0.070</td>\n",
       "      <td>-0.057</td>\n",
       "      <td>0.177</td>\n",
       "      <td>0.057</td>\n",
       "      <td>0.0</td>\n",
       "      <td>0.063</td>\n",
       "      <td>0.057</td>\n",
       "      <td>0</td>\n",
       "      <td>0</td>\n",
       "      <td>0</td>\n",
       "      <td>0</td>\n",
       "      <td>0</td>\n",
       "      <td>1</td>\n",
       "      <td>0</td>\n",
       "      <td>0</td>\n",
       "      <td>0</td>\n",
       "      <td>0</td>\n",
       "    </tr>\n",
       "    <tr>\n",
       "      <th>996</th>\n",
       "      <td>2020-02-07 15:00:00</td>\n",
       "      <td>109.890</td>\n",
       "      <td>110.001</td>\n",
       "      <td>109.785</td>\n",
       "      <td>109.790</td>\n",
       "      <td>109.9164</td>\n",
       "      <td>109.616714</td>\n",
       "      <td>109.831492</td>\n",
       "      <td>-0.0198</td>\n",
       "      <td>0.050905</td>\n",
       "      <td>-0.009220</td>\n",
       "      <td>110.372723</td>\n",
       "      <td>108.860706</td>\n",
       "      <td>110.372723</td>\n",
       "      <td>108.860706</td>\n",
       "      <td>110.372723</td>\n",
       "      <td>108.860706</td>\n",
       "      <td>1.512018</td>\n",
       "      <td>1.512018</td>\n",
       "      <td>1.512018</td>\n",
       "      <td>-0.099</td>\n",
       "      <td>0.019</td>\n",
       "      <td>1.069</td>\n",
       "      <td>9.0</td>\n",
       "      <td>90.0</td>\n",
       "      <td>54.0</td>\n",
       "      <td>-54.0</td>\n",
       "      <td>-5.0</td>\n",
       "      <td>3.0</td>\n",
       "      <td>64.579256</td>\n",
       "      <td>-4.099204</td>\n",
       "      <td>-0.100</td>\n",
       "      <td>0</td>\n",
       "      <td>0.216</td>\n",
       "      <td>0.100</td>\n",
       "      <td>0.111</td>\n",
       "      <td>0.005</td>\n",
       "      <td>0</td>\n",
       "      <td>0</td>\n",
       "      <td>0</td>\n",
       "      <td>0</td>\n",
       "      <td>0</td>\n",
       "      <td>0</td>\n",
       "      <td>0</td>\n",
       "      <td>0</td>\n",
       "      <td>0</td>\n",
       "      <td>0</td>\n",
       "      <td>0</td>\n",
       "      <td>0</td>\n",
       "      <td>0</td>\n",
       "      <td>0</td>\n",
       "      <td>0</td>\n",
       "      <td>0</td>\n",
       "      <td>0</td>\n",
       "      <td>0</td>\n",
       "      <td>0</td>\n",
       "      <td>0</td>\n",
       "      <td>-0.030</td>\n",
       "      <td>0.064</td>\n",
       "      <td>0.030</td>\n",
       "      <td>0.0</td>\n",
       "      <td>0.023</td>\n",
       "      <td>0.011</td>\n",
       "      <td>-0.079</td>\n",
       "      <td>0.225</td>\n",
       "      <td>0.079</td>\n",
       "      <td>0.0</td>\n",
       "      <td>0.047</td>\n",
       "      <td>0.099</td>\n",
       "      <td>0.025</td>\n",
       "      <td>0.061</td>\n",
       "      <td>0.025</td>\n",
       "      <td>1.0</td>\n",
       "      <td>0.006</td>\n",
       "      <td>0.030</td>\n",
       "      <td>0.088</td>\n",
       "      <td>0.169</td>\n",
       "      <td>0.088</td>\n",
       "      <td>1.0</td>\n",
       "      <td>0.017</td>\n",
       "      <td>0.064</td>\n",
       "      <td>0.032</td>\n",
       "      <td>0.154</td>\n",
       "      <td>0.032</td>\n",
       "      <td>1.0</td>\n",
       "      <td>0.052</td>\n",
       "      <td>0.070</td>\n",
       "      <td>0</td>\n",
       "      <td>0</td>\n",
       "      <td>0</td>\n",
       "      <td>0</td>\n",
       "      <td>0</td>\n",
       "      <td>1</td>\n",
       "      <td>1</td>\n",
       "      <td>0</td>\n",
       "      <td>0</td>\n",
       "      <td>0</td>\n",
       "    </tr>\n",
       "    <tr>\n",
       "      <th>997</th>\n",
       "      <td>2020-02-07 19:00:00</td>\n",
       "      <td>109.788</td>\n",
       "      <td>110.049</td>\n",
       "      <td>109.678</td>\n",
       "      <td>109.781</td>\n",
       "      <td>109.8770</td>\n",
       "      <td>109.667810</td>\n",
       "      <td>109.822312</td>\n",
       "      <td>-0.0394</td>\n",
       "      <td>0.051095</td>\n",
       "      <td>-0.009180</td>\n",
       "      <td>110.300921</td>\n",
       "      <td>109.034698</td>\n",
       "      <td>110.300921</td>\n",
       "      <td>109.034698</td>\n",
       "      <td>110.300921</td>\n",
       "      <td>109.034698</td>\n",
       "      <td>1.266222</td>\n",
       "      <td>1.266222</td>\n",
       "      <td>1.266222</td>\n",
       "      <td>-0.197</td>\n",
       "      <td>-0.082</td>\n",
       "      <td>1.073</td>\n",
       "      <td>-36.0</td>\n",
       "      <td>81.0</td>\n",
       "      <td>56.0</td>\n",
       "      <td>-45.0</td>\n",
       "      <td>-9.0</td>\n",
       "      <td>2.0</td>\n",
       "      <td>67.415730</td>\n",
       "      <td>2.836474</td>\n",
       "      <td>-0.007</td>\n",
       "      <td>0</td>\n",
       "      <td>0.371</td>\n",
       "      <td>0.007</td>\n",
       "      <td>0.261</td>\n",
       "      <td>0.103</td>\n",
       "      <td>0</td>\n",
       "      <td>0</td>\n",
       "      <td>0</td>\n",
       "      <td>0</td>\n",
       "      <td>0</td>\n",
       "      <td>0</td>\n",
       "      <td>0</td>\n",
       "      <td>0</td>\n",
       "      <td>0</td>\n",
       "      <td>0</td>\n",
       "      <td>0</td>\n",
       "      <td>0</td>\n",
       "      <td>0</td>\n",
       "      <td>0</td>\n",
       "      <td>0</td>\n",
       "      <td>0</td>\n",
       "      <td>0</td>\n",
       "      <td>0</td>\n",
       "      <td>0</td>\n",
       "      <td>0</td>\n",
       "      <td>-0.100</td>\n",
       "      <td>0.216</td>\n",
       "      <td>0.100</td>\n",
       "      <td>0.0</td>\n",
       "      <td>0.111</td>\n",
       "      <td>0.005</td>\n",
       "      <td>-0.030</td>\n",
       "      <td>0.064</td>\n",
       "      <td>0.030</td>\n",
       "      <td>0.0</td>\n",
       "      <td>0.023</td>\n",
       "      <td>0.011</td>\n",
       "      <td>-0.079</td>\n",
       "      <td>0.225</td>\n",
       "      <td>0.079</td>\n",
       "      <td>0.0</td>\n",
       "      <td>0.047</td>\n",
       "      <td>0.099</td>\n",
       "      <td>0.025</td>\n",
       "      <td>0.061</td>\n",
       "      <td>0.025</td>\n",
       "      <td>1.0</td>\n",
       "      <td>0.006</td>\n",
       "      <td>0.030</td>\n",
       "      <td>0.088</td>\n",
       "      <td>0.169</td>\n",
       "      <td>0.088</td>\n",
       "      <td>1.0</td>\n",
       "      <td>0.017</td>\n",
       "      <td>0.064</td>\n",
       "      <td>0</td>\n",
       "      <td>0</td>\n",
       "      <td>0</td>\n",
       "      <td>0</td>\n",
       "      <td>0</td>\n",
       "      <td>1</td>\n",
       "      <td>1</td>\n",
       "      <td>1</td>\n",
       "      <td>0</td>\n",
       "      <td>0</td>\n",
       "    </tr>\n",
       "    <tr>\n",
       "      <th>998</th>\n",
       "      <td>2020-02-07 23:00:00</td>\n",
       "      <td>109.780</td>\n",
       "      <td>109.852</td>\n",
       "      <td>109.538</td>\n",
       "      <td>109.813</td>\n",
       "      <td>109.8388</td>\n",
       "      <td>109.715000</td>\n",
       "      <td>109.820619</td>\n",
       "      <td>-0.0382</td>\n",
       "      <td>0.047190</td>\n",
       "      <td>-0.001693</td>\n",
       "      <td>110.217607</td>\n",
       "      <td>109.212393</td>\n",
       "      <td>110.217607</td>\n",
       "      <td>109.212393</td>\n",
       "      <td>110.217607</td>\n",
       "      <td>109.212393</td>\n",
       "      <td>1.005214</td>\n",
       "      <td>1.005214</td>\n",
       "      <td>1.005214</td>\n",
       "      <td>-0.191</td>\n",
       "      <td>-0.026</td>\n",
       "      <td>0.991</td>\n",
       "      <td>-51.0</td>\n",
       "      <td>73.0</td>\n",
       "      <td>60.0</td>\n",
       "      <td>-15.0</td>\n",
       "      <td>-8.0</td>\n",
       "      <td>4.0</td>\n",
       "      <td>57.295850</td>\n",
       "      <td>-10.119880</td>\n",
       "      <td>0.033</td>\n",
       "      <td>1</td>\n",
       "      <td>0.314</td>\n",
       "      <td>0.033</td>\n",
       "      <td>0.039</td>\n",
       "      <td>0.242</td>\n",
       "      <td>0</td>\n",
       "      <td>0</td>\n",
       "      <td>0</td>\n",
       "      <td>0</td>\n",
       "      <td>0</td>\n",
       "      <td>0</td>\n",
       "      <td>0</td>\n",
       "      <td>0</td>\n",
       "      <td>0</td>\n",
       "      <td>0</td>\n",
       "      <td>0</td>\n",
       "      <td>0</td>\n",
       "      <td>0</td>\n",
       "      <td>0</td>\n",
       "      <td>0</td>\n",
       "      <td>0</td>\n",
       "      <td>0</td>\n",
       "      <td>1</td>\n",
       "      <td>0</td>\n",
       "      <td>0</td>\n",
       "      <td>-0.007</td>\n",
       "      <td>0.371</td>\n",
       "      <td>0.007</td>\n",
       "      <td>0.0</td>\n",
       "      <td>0.261</td>\n",
       "      <td>0.103</td>\n",
       "      <td>-0.100</td>\n",
       "      <td>0.216</td>\n",
       "      <td>0.100</td>\n",
       "      <td>0.0</td>\n",
       "      <td>0.111</td>\n",
       "      <td>0.005</td>\n",
       "      <td>-0.030</td>\n",
       "      <td>0.064</td>\n",
       "      <td>0.030</td>\n",
       "      <td>0.0</td>\n",
       "      <td>0.023</td>\n",
       "      <td>0.011</td>\n",
       "      <td>-0.079</td>\n",
       "      <td>0.225</td>\n",
       "      <td>0.079</td>\n",
       "      <td>0.0</td>\n",
       "      <td>0.047</td>\n",
       "      <td>0.099</td>\n",
       "      <td>0.025</td>\n",
       "      <td>0.061</td>\n",
       "      <td>0.025</td>\n",
       "      <td>1.0</td>\n",
       "      <td>0.006</td>\n",
       "      <td>0.030</td>\n",
       "      <td>0</td>\n",
       "      <td>0</td>\n",
       "      <td>0</td>\n",
       "      <td>0</td>\n",
       "      <td>0</td>\n",
       "      <td>0</td>\n",
       "      <td>0</td>\n",
       "      <td>0</td>\n",
       "      <td>0</td>\n",
       "      <td>0</td>\n",
       "    </tr>\n",
       "    <tr>\n",
       "      <th>999</th>\n",
       "      <td>2020-02-08 03:00:00</td>\n",
       "      <td>109.812</td>\n",
       "      <td>109.853</td>\n",
       "      <td>109.707</td>\n",
       "      <td>109.799</td>\n",
       "      <td>109.8148</td>\n",
       "      <td>109.748667</td>\n",
       "      <td>109.816688</td>\n",
       "      <td>-0.0240</td>\n",
       "      <td>0.033667</td>\n",
       "      <td>-0.003931</td>\n",
       "      <td>110.162960</td>\n",
       "      <td>109.334373</td>\n",
       "      <td>110.162960</td>\n",
       "      <td>109.334373</td>\n",
       "      <td>110.162960</td>\n",
       "      <td>109.334373</td>\n",
       "      <td>0.828587</td>\n",
       "      <td>0.828587</td>\n",
       "      <td>0.828587</td>\n",
       "      <td>-0.120</td>\n",
       "      <td>-0.117</td>\n",
       "      <td>0.707</td>\n",
       "      <td>-68.0</td>\n",
       "      <td>63.0</td>\n",
       "      <td>62.0</td>\n",
       "      <td>-17.0</td>\n",
       "      <td>-10.0</td>\n",
       "      <td>2.0</td>\n",
       "      <td>51.101322</td>\n",
       "      <td>-6.194528</td>\n",
       "      <td>-0.013</td>\n",
       "      <td>0</td>\n",
       "      <td>0.146</td>\n",
       "      <td>0.013</td>\n",
       "      <td>0.041</td>\n",
       "      <td>0.092</td>\n",
       "      <td>0</td>\n",
       "      <td>0</td>\n",
       "      <td>0</td>\n",
       "      <td>0</td>\n",
       "      <td>0</td>\n",
       "      <td>0</td>\n",
       "      <td>0</td>\n",
       "      <td>0</td>\n",
       "      <td>0</td>\n",
       "      <td>0</td>\n",
       "      <td>0</td>\n",
       "      <td>0</td>\n",
       "      <td>0</td>\n",
       "      <td>1</td>\n",
       "      <td>0</td>\n",
       "      <td>0</td>\n",
       "      <td>1</td>\n",
       "      <td>0</td>\n",
       "      <td>0</td>\n",
       "      <td>0</td>\n",
       "      <td>0.033</td>\n",
       "      <td>0.314</td>\n",
       "      <td>0.033</td>\n",
       "      <td>1.0</td>\n",
       "      <td>0.039</td>\n",
       "      <td>0.242</td>\n",
       "      <td>-0.007</td>\n",
       "      <td>0.371</td>\n",
       "      <td>0.007</td>\n",
       "      <td>0.0</td>\n",
       "      <td>0.261</td>\n",
       "      <td>0.103</td>\n",
       "      <td>-0.100</td>\n",
       "      <td>0.216</td>\n",
       "      <td>0.100</td>\n",
       "      <td>0.0</td>\n",
       "      <td>0.111</td>\n",
       "      <td>0.005</td>\n",
       "      <td>-0.030</td>\n",
       "      <td>0.064</td>\n",
       "      <td>0.030</td>\n",
       "      <td>0.0</td>\n",
       "      <td>0.023</td>\n",
       "      <td>0.011</td>\n",
       "      <td>-0.079</td>\n",
       "      <td>0.225</td>\n",
       "      <td>0.079</td>\n",
       "      <td>0.0</td>\n",
       "      <td>0.047</td>\n",
       "      <td>0.099</td>\n",
       "      <td>0</td>\n",
       "      <td>0</td>\n",
       "      <td>0</td>\n",
       "      <td>0</td>\n",
       "      <td>0</td>\n",
       "      <td>0</td>\n",
       "      <td>0</td>\n",
       "      <td>0</td>\n",
       "      <td>0</td>\n",
       "      <td>0</td>\n",
       "    </tr>\n",
       "  </tbody>\n",
       "</table>\n",
       "</div>"
      ],
      "text/plain": [
       "                   time     open     high      low    close      sma5  \\\n",
       "995 2020-02-07 11:00:00  109.921  109.944  109.880  109.891  109.9362   \n",
       "996 2020-02-07 15:00:00  109.890  110.001  109.785  109.790  109.9164   \n",
       "997 2020-02-07 19:00:00  109.788  110.049  109.678  109.781  109.8770   \n",
       "998 2020-02-07 23:00:00  109.780  109.852  109.538  109.813  109.8388   \n",
       "999 2020-02-08 03:00:00  109.812  109.853  109.707  109.799  109.8148   \n",
       "\n",
       "          sma21       ema10  tilt_sma5  tilt_sma21  tilt_ema10      bb1_up  \\\n",
       "995  109.565810  109.840713     0.0068    0.058095    0.011175  110.411458   \n",
       "996  109.616714  109.831492    -0.0198    0.050905   -0.009220  110.372723   \n",
       "997  109.667810  109.822312    -0.0394    0.051095   -0.009180  110.300921   \n",
       "998  109.715000  109.820619    -0.0382    0.047190   -0.001693  110.217607   \n",
       "999  109.748667  109.816688    -0.0240    0.033667   -0.003931  110.162960   \n",
       "\n",
       "        bb1_low      bb2_up     bb2_low      bb3_up     bb3_low  \\\n",
       "995  108.720161  110.411458  108.720161  110.411458  108.720161   \n",
       "996  108.860706  110.372723  108.860706  110.372723  108.860706   \n",
       "997  109.034698  110.300921  109.034698  110.300921  109.034698   \n",
       "998  109.212393  110.217607  109.212393  110.217607  109.212393   \n",
       "999  109.334373  110.162960  109.334373  110.162960  109.334373   \n",
       "\n",
       "     bb1_shrinkage  bb2_shrinkage  bb3_shrinkage  momentum_5  momentum_10  \\\n",
       "995       1.691297       1.691297       1.691297       0.034        0.107   \n",
       "996       1.512018       1.512018       1.512018      -0.099        0.019   \n",
       "997       1.266222       1.266222       1.266222      -0.197       -0.082   \n",
       "998       1.005214       1.005214       1.005214      -0.191       -0.026   \n",
       "999       0.828587       0.828587       0.828587      -0.120       -0.117   \n",
       "\n",
       "     momentum_21  rci9  rci21  rci52  tilt_rci9  tilt_rci21  tilt_rci52  \\\n",
       "995        1.220  63.0   95.0   51.0      -20.0        -2.0         4.0   \n",
       "996        1.069   9.0   90.0   54.0      -54.0        -5.0         3.0   \n",
       "997        1.073 -36.0   81.0   56.0      -45.0        -9.0         2.0   \n",
       "998        0.991 -51.0   73.0   60.0      -15.0        -8.0         4.0   \n",
       "999        0.707 -68.0   63.0   62.0      -17.0       -10.0         2.0   \n",
       "\n",
       "         rsi14  tilt_rsi14  day_chg  c_up  c_all_len  c_pil_len  top_bar  \\\n",
       "995  68.678460   -3.911902   -0.030     0      0.064      0.030    0.023   \n",
       "996  64.579256   -4.099204   -0.100     0      0.216      0.100    0.111   \n",
       "997  67.415730    2.836474   -0.007     0      0.371      0.007    0.261   \n",
       "998  57.295850  -10.119880    0.033     1      0.314      0.033    0.039   \n",
       "999  51.101322   -6.194528   -0.013     0      0.146      0.013    0.041   \n",
       "\n",
       "     low_bar  c_y_b  c_y_dai  c_y_h_b  c_y_y_b  c_y_sg  c_y_ug  c_y_km  \\\n",
       "995    0.011      0        0        0        0       0       0       0   \n",
       "996    0.005      0        0        0        0       0       0       0   \n",
       "997    0.103      0        0        0        0       0       0       0   \n",
       "998    0.242      0        0        0        0       0       0       0   \n",
       "999    0.092      0        0        0        0       0       0       0   \n",
       "\n",
       "     c_y_kk  c_i_b  c_i_dai  c_i_y_b  c_i_h_i  c_i_sg  c_i_km  c_i_ug  c_i_kk  \\\n",
       "995       0      0        0        0        0       0       1       0       0   \n",
       "996       0      0        0        0        0       0       0       0       0   \n",
       "997       0      0        0        0        0       0       0       0       0   \n",
       "998       0      0        0        0        0       0       0       0       0   \n",
       "999       0      0        0        0        0       0       1       0       0   \n",
       "\n",
       "     c_juji  c_tonbo  c_touba  c_ippon  y1_day_chg  y1_c_all_len  \\\n",
       "995       1        0        0        1      -0.079         0.225   \n",
       "996       0        0        0        0      -0.030         0.064   \n",
       "997       0        0        0        0      -0.100         0.216   \n",
       "998       0        1        0        0      -0.007         0.371   \n",
       "999       1        0        0        0       0.033         0.314   \n",
       "\n",
       "     y1_c_pil_len  y1_c_up  y1_top_bar  y1_low_bar  y2_day_chg  y2_c_all_len  \\\n",
       "995         0.079      0.0       0.047       0.099       0.025         0.061   \n",
       "996         0.030      0.0       0.023       0.011      -0.079         0.225   \n",
       "997         0.100      0.0       0.111       0.005      -0.030         0.064   \n",
       "998         0.007      0.0       0.261       0.103      -0.100         0.216   \n",
       "999         0.033      1.0       0.039       0.242      -0.007         0.371   \n",
       "\n",
       "     y2_c_pil_len  y2_c_up  y2_top_bar  y2_low_bar  y3_day_chg  y3_c_all_len  \\\n",
       "995         0.025      1.0       0.006       0.030       0.088         0.169   \n",
       "996         0.079      0.0       0.047       0.099       0.025         0.061   \n",
       "997         0.030      0.0       0.023       0.011      -0.079         0.225   \n",
       "998         0.100      0.0       0.111       0.005      -0.030         0.064   \n",
       "999         0.007      0.0       0.261       0.103      -0.100         0.216   \n",
       "\n",
       "     y3_c_pil_len  y3_c_up  y3_top_bar  y3_low_bar  y4_day_chg  y4_c_all_len  \\\n",
       "995         0.088      1.0       0.017       0.064       0.032         0.154   \n",
       "996         0.025      1.0       0.006       0.030       0.088         0.169   \n",
       "997         0.079      0.0       0.047       0.099       0.025         0.061   \n",
       "998         0.030      0.0       0.023       0.011      -0.079         0.225   \n",
       "999         0.100      0.0       0.111       0.005      -0.030         0.064   \n",
       "\n",
       "     y4_c_pil_len  y4_c_up  y4_top_bar  y4_low_bar  y5_day_chg  y5_c_all_len  \\\n",
       "995         0.032      1.0       0.052       0.070      -0.057         0.177   \n",
       "996         0.088      1.0       0.017       0.064       0.032         0.154   \n",
       "997         0.025      1.0       0.006       0.030       0.088         0.169   \n",
       "998         0.079      0.0       0.047       0.099       0.025         0.061   \n",
       "999         0.030      0.0       0.023       0.011      -0.079         0.225   \n",
       "\n",
       "     y5_c_pil_len  y5_c_up  y5_top_bar  y5_low_bar  ren2_up  ren3_up  ren4_up  \\\n",
       "995         0.057      0.0       0.063       0.057        0        0        0   \n",
       "996         0.032      1.0       0.052       0.070        0        0        0   \n",
       "997         0.088      1.0       0.017       0.064        0        0        0   \n",
       "998         0.025      1.0       0.006       0.030        0        0        0   \n",
       "999         0.079      0.0       0.047       0.099        0        0        0   \n",
       "\n",
       "     ren5_up  ren6_up  ren2_down  ren3_down  ren4_down  ren5_down  ren6_down  \n",
       "995        0        0          1          0          0          0          0  \n",
       "996        0        0          1          1          0          0          0  \n",
       "997        0        0          1          1          1          0          0  \n",
       "998        0        0          0          0          0          0          0  \n",
       "999        0        0          0          0          0          0          0  "
      ]
     },
     "metadata": {},
     "output_type": "display_data"
    }
   ],
   "source": [
    "# sma/ema\n",
    "df['sma5']= get_sma(df.close,5)\n",
    "df['sma21']= get_sma(df.close,21)\n",
    "df['ema10']= get_ema(df.close,10)\n",
    "\n",
    "# tilt(sma/ema)\n",
    "df['tilt_sma5']= get_tilt(df.sma5)\n",
    "df['tilt_sma21']= get_tilt(df.sma21)\n",
    "df['tilt_ema10']= get_tilt(df.ema10)\n",
    "\n",
    "# BB\n",
    "df['bb1_up'], df['bb1_low'] = get_bb(df.close, 2)\n",
    "df['bb2_up'], df['bb2_low'] = get_bb(df.close, 2)\n",
    "df['bb3_up'], df['bb3_low'] = get_bb(df.close, 2)\n",
    "\n",
    "# Bollinger band contraction\n",
    "df['bb1_shrinkage'] = df['bb1_up'] - df['bb1_low']\n",
    "df['bb2_shrinkage'] = df['bb2_up'] - df['bb2_low']\n",
    "df['bb3_shrinkage'] = df['bb3_up'] - df['bb3_low']\n",
    "\n",
    "# momentum\n",
    "df['momentum_5'] = get_momentum(df.close, 5)\n",
    "df['momentum_10'] = get_momentum(df.close, 10)\n",
    "df['momentum_21'] = get_momentum(df.close, 21)\n",
    "\n",
    "# RCI\n",
    "df['rci9'] = get_rci(df.close,9)\n",
    "df['rci21'] = get_rci(df.close,21)\n",
    "df['rci52'] = get_rci(df.close,52)\n",
    "\n",
    "# tilt(RCI)\n",
    "df['tilt_rci9'] = get_tilt(df.rci9)\n",
    "df['tilt_rci21'] = get_tilt(df.rci21)\n",
    "df['tilt_rci52'] = get_tilt(df.rci52)\n",
    "\n",
    "# RSI\n",
    "df['rsi14'] = get_rsi(df.close,14)\n",
    "df['tilt_rsi14'] = get_tilt(df.rsi14)\n",
    "\n",
    "# Candlestick features\n",
    "df['day_chg'] = df.close - df.open # Daily change\n",
    "df['c_up'] = np.where(df.day_chg >= 0,1,0) # 陽線：1／陰線：0\n",
    "df['c_all_len'] = abs(df.high - df.low) # Candle length(ヒゲ含む)\n",
    "df['c_pil_len'] = np.where(df.day_chg >= 0,df.close - df.open,df.open - df.close) # Candle length\n",
    "df['top_bar'] = np.where(df.day_chg >= 0,df.high - df.close, df.high - df.open) # 上ヒゲの長さ\n",
    "df['low_bar'] = np.where(df.day_chg >= 0,df.open - df.low, df.close - df.low)   # 下ヒゲの長さ\n",
    "\n",
    "# https://east-fx.com/archives/553\n",
    "dic_c = {'c_y_b':'陽の丸坊主',\n",
    "         'c_y_dai':'大陽線',\n",
    "         'c_y_h_b':'陽の大引け坊主',\n",
    "         'c_y_y_b':'陽の寄り付き坊主',\n",
    "         'c_y_sg':'下影陽線',\n",
    "         'c_y_ug':'上影陽線',\n",
    "         'c_y_km':'陽のコマ',\n",
    "         'c_y_kk':'陽のカラカサ',\n",
    "         'c_i_b':'陰の丸坊主',\n",
    "         'c_i_dai':'大陰線',\n",
    "         'c_i_y_b':'陰の寄り付き坊主',\n",
    "         'c_i_h_i':'陰の大引け陰線',\n",
    "         'c_i_sg':'下影陰線',\n",
    "         'c_i_km':'陰のコマ',\n",
    "         'c_i_ug':'上影陰線',\n",
    "         'c_i_kk':'陰のカラカサ',\n",
    "         'c_juji':'十字',\n",
    "         'c_tonbo':'トンボ',\n",
    "         'c_touba':'トウバ',\n",
    "         'c_ippon':'一本線'\n",
    "         }\n",
    "\n",
    "# 陽の丸坊主(ヒゲがなく実体が長い陽線。買い勢力がかなり強い形)\n",
    "df['c_y_b'] = np.where((df.c_up == 1) & (df.top_bar < 0.05) & (df.low_bar < 0.05) & (df.c_pil_len >= 0.4), 1 , 0)\n",
    "# 大陽線(上下ヒゲはあるが実体が長い陽線。買い勢力がかなり強い形。)\n",
    "df['c_y_dai'] = np.where((df.c_up == 1) & (df.top_bar >= 0.05) & (df.low_bar >= 0.05) & (df.c_pil_len >= 0.6), 1 , 0)\n",
    "# 陽の大引け坊主(上ヒゲがなく、下ヒゲがある。買いの勢いがまだまだ強い形。)\n",
    "df['c_y_h_b'] = np.where((df.c_up == 1) & (df.top_bar < 0.05) & (df.low_bar >= 0.10) & (df.c_pil_len >= 0.4), 1 , 0)\n",
    "# 陽の寄り付き坊主(上ヒゲのみの陽線。買い勢力が強いが、上ヒゲが長すぎると天井になる可能性もある形。)\n",
    "df['c_y_y_b'] = np.where((df.c_up == 1) & (df.top_bar >= 0.10) & (df.low_bar < 0.05) & (df.c_pil_len >= 0.4), 1 , 0)\n",
    "# 下影陽線(実体よりも下ヒゲが長い形。一旦売り勢力に攻め込まれてからの戻しの長いヒゲなので、買い勢力が強い。)\n",
    "df['c_y_sg'] = np.where((df.c_up == 1) & (df.low_bar >= 0.40) & (df.low_bar > df.c_pil_len), 1 , 0)\n",
    "# 上影陽線(実体よりも上ヒゲが長い形。買い勢力が売り勢力に押され気味になり上ヒゲになるので、買い勢力が若干弱め。実体が短すぎ場合はトレンド転換の可能性あり。)\n",
    "df['c_y_ug'] = np.where((df.c_up == 1) & (df.top_bar >= 0.40) & (df.top_bar > df.c_pil_len), 1 , 0)\n",
    "# 陽のコマ(保ち合い。売り買いの勢力が拮抗している状態で現れる。陽線の場合は強持ち合いと呼ばれる。トレンド転換の可能性あり。)\n",
    "df['c_y_km'] = np.where((df.c_up == 1) & (df.top_bar < 0.10) & (df.low_bar < 0.10) & (df.c_pil_len < 0.20), 1 , 0)\n",
    "# 陽のカラカサ(下ヒゲが長く、実体がヒゲよりも小さい形。トレンド転換する可能性あり。)\n",
    "df['c_y_kk'] = np.where((df.c_up == 1) & (df.low_bar >= 0.40) & (df.top_bar < 0.05) & (df.c_pil_len < df.low_bar), 1 , 0)\n",
    "\n",
    "# 陰の丸坊主(ヒゲがなく実体が長い陰線。売り勢力がかなり強い形)\n",
    "df['c_i_b'] = np.where((df.c_up == 0) & (df.top_bar < 0.05) & (df.low_bar < 0.05) & (df.c_pil_len >= 0.4), 1 , 0)\n",
    "# 大陰線(上下ヒゲはあるが実体が長い陰線。売り勢力がかなり強い形。)\n",
    "df['c_i_dai'] = np.where((df.c_up == 0) & (df.top_bar >= 0.05) & (df.low_bar >= 0.05) & (df.c_pil_len >= 0.6), 1 , 0)\n",
    "# 陰の寄り付き坊主(上ヒゲがない陰線。実体部分が長いので売り勢力優勢ではあるが、下ヒゲが長すぎるとトレンド転換の可能性あり。)\n",
    "df['c_i_y_b'] = np.where((df.c_up == 0) & (df.top_bar < 0.05) & (df.low_bar >= 0.10) & (df.c_pil_len >= 0.4), 1 , 0)\n",
    "# 陰の大引け陰線(下ヒゲがない形。実体部分が長く売り勢力の勢いも強い。)\n",
    "df['c_i_h_i'] = np.where((df.c_up == 0) & (df.top_bar >= 0.10) & (df.low_bar < 0.05) & (df.c_pil_len >= 0.4), 1 , 0)\n",
    "# 下影陰線(下ヒゲが長く実体がヒゲよりも短い陰線。売りの勢力が少し弱まっている際に出現しやすいので、トレンド転換する可能性あり。)\n",
    "df['c_i_sg'] = np.where((df.c_up == 0) & (df.low_bar >= 0.40) & (df.low_bar > df.c_pil_len), 1 , 0)\n",
    "# 陰のコマ(売り・買い勢力が拮抗している形。陰線の場合は弱持合いと呼ばれている。)\n",
    "df['c_i_km'] = np.where((df.c_up == 0) & (df.top_bar < 0.10) & (df.low_bar < 0.10) & (df.c_pil_len < 0.2), 1 , 0)\n",
    "# 上影陰線(上ヒゲが長く実体がヒゲより短い形。一旦買い勢力に押し戻されてから再度ヒゲをつけて戻しているので、売り勢力が強い。ただ、実体が短すぎるとトレンド転換の可能性もある。)\n",
    "df['c_i_ug'] = np.where((df.c_up == 0) & (df.top_bar >= 0.40) & (df.top_bar > df.c_pil_len), 1 , 0)\n",
    "# 陰のカラカサ(下ヒゲが長く上ヒゲがなく、且つ実体が短い形。)\n",
    "df['c_i_kk'] = np.where((df.c_up == 0) & (df.low_bar >= 0.40) & (df.top_bar < 0.05) & (df.c_pil_len < df.low_bar), 1 , 0)\n",
    "\n",
    "# 十字（天井もしくは底ならトレンド転換の可能性あり。）\n",
    "df['c_juji'] = np.where((df.c_pil_len < 0.1) & (abs(df.top_bar - df.low_bar) <= 0.1) & (df.c_pil_len < 0.1), 1 , 0)\n",
    "# トンボ（天井もしくは底ならトレンド転換の可能性あり。）\n",
    "df['c_tonbo'] = np.where((df.top_bar < 0.05) & (df.low_bar >= 0.2) & (df.c_pil_len < 0.1), 1 , 0)\n",
    "# トウバ(天井もしくは底ならトレンド転換の可能性あり。)\n",
    "df['c_touba'] = np.where((df.low_bar < 0.05) & (df.top_bar >= 0.2) & (df.c_pil_len < 0.1), 1 , 0)\n",
    "# 一本線(継続トレンド転換の可能性あり)\n",
    "df['c_ippon'] = np.where((df.low_bar < 0.05) & (df.top_bar < 0.05) & (df.c_pil_len < 0.1), 1 , 0)\n",
    "\n",
    "# Candlestick features for the last few days\n",
    "df['y1_day_chg'] = df.day_chg.shift(+1)\n",
    "df['y1_c_all_len'] = df.c_all_len.shift(+1)\n",
    "df['y1_c_pil_len'] = df.c_pil_len.shift(+1)\n",
    "df['y1_c_up'] = df.c_up.shift(+1)\n",
    "df['y1_top_bar'] = df.top_bar.shift(+1)\n",
    "df['y1_low_bar'] = df.low_bar.shift(+1)\n",
    "\n",
    "df['y2_day_chg'] = df.day_chg.shift(+2)\n",
    "df['y2_c_all_len'] = df.c_all_len.shift(+2)\n",
    "df['y2_c_pil_len'] = df.c_pil_len.shift(+2)\n",
    "df['y2_c_up'] = df.c_up.shift(+2)\n",
    "df['y2_top_bar'] = df.top_bar.shift(+2)\n",
    "df['y2_low_bar'] = df.low_bar.shift(+2)\n",
    "\n",
    "df['y3_day_chg'] = df.day_chg.shift(+3)\n",
    "df['y3_c_all_len'] = df.c_all_len.shift(+3)\n",
    "df['y3_c_pil_len'] = df.c_pil_len.shift(+3)\n",
    "df['y3_c_up'] = df.c_up.shift(+3)\n",
    "df['y3_top_bar'] = df.top_bar.shift(+3)\n",
    "df['y3_low_bar'] = df.low_bar.shift(+3)\n",
    "\n",
    "df['y4_day_chg'] = df.day_chg.shift(+4)\n",
    "df['y4_c_all_len'] = df.c_all_len.shift(+4)\n",
    "df['y4_c_pil_len'] = df.c_pil_len.shift(+4)\n",
    "df['y4_c_up'] = df.c_up.shift(+4)\n",
    "df['y4_top_bar'] = df.top_bar.shift(+4)\n",
    "df['y4_low_bar'] = df.low_bar.shift(+4)\n",
    "\n",
    "df['y5_day_chg'] = df.day_chg.shift(+5)\n",
    "df['y5_c_all_len'] = df.c_all_len.shift(+5)\n",
    "df['y5_c_pil_len'] = df.c_pil_len.shift(+5)\n",
    "df['y5_c_up'] = df.c_up.shift(+5)\n",
    "df['y5_top_bar'] = df.top_bar.shift(+5)\n",
    "df['y5_low_bar'] = df.low_bar.shift(+5)\n",
    "\n",
    "df['ren2_up'] = np.where((df.c_up == 1) & (df.y1_c_up == 1), 1 , 0)\n",
    "df['ren3_up'] = np.where((df.c_up == 1) & (df.y1_c_up == 1) & (df.y2_c_up == 1), 1 , 0)\n",
    "df['ren4_up'] = np.where((df.c_up == 1) & (df.y1_c_up == 1) & (df.y2_c_up == 1) & (df.y3_c_up == 1), 1 , 0)\n",
    "df['ren5_up'] = np.where((df.c_up == 1) & (df.y1_c_up == 1) & (df.y2_c_up == 1) & (df.y3_c_up == 1) & (df.y4_c_up == 1), 1 , 0)\n",
    "df['ren6_up'] = np.where((df.c_up == 1) & (df.y1_c_up == 1) & (df.y2_c_up == 1) & (df.y3_c_up == 1) & (df.y4_c_up == 1) & (df.y5_c_up == 1), 1 , 0)\n",
    "\n",
    "df['ren2_down'] = np.where((df.c_up == 0) & (df.y1_c_up == 0), 1 , 0)\n",
    "df['ren3_down'] = np.where((df.c_up == 0) & (df.y1_c_up == 0) & (df.y2_c_up == 0), 1 , 0)\n",
    "df['ren4_down'] = np.where((df.c_up == 0) & (df.y1_c_up == 0) & (df.y2_c_up == 0) & (df.y3_c_up == 0), 1 , 0)\n",
    "df['ren5_down'] = np.where((df.c_up == 0) & (df.y1_c_up == 0) & (df.y2_c_up == 0) & (df.y3_c_up == 0) & (df.y4_c_up == 0), 1 , 0)\n",
    "df['ren6_down'] = np.where((df.c_up == 0) & (df.y1_c_up == 0) & (df.y2_c_up == 0) & (df.y3_c_up == 0) & (df.y4_c_up == 0) & (df.y5_c_up == 0), 1 , 0)\n",
    "\n",
    "# test target\n",
    "df = df.query('time >= \"2019-12-01\"')\n",
    "\n",
    "printmd('▼ size')\n",
    "display(df.shape)\n",
    "\n",
    "printmd('▼ Last 5 lines display')\n",
    "display(df.tail(5))"
   ]
  },
  {
   "cell_type": "code",
   "execution_count": 4,
   "metadata": {
    "scrolled": false
   },
   "outputs": [
    {
     "data": {
      "text/markdown": [
       "\n",
       "\n",
       "**▼c_y_b:陽の丸坊主**"
      ],
      "text/plain": [
       "<IPython.core.display.Markdown object>"
      ]
     },
     "metadata": {},
     "output_type": "display_data"
    },
    {
     "name": "stdout",
     "output_type": "stream",
     "text": [
      "0    287\n",
      "1      1\n",
      "Name: c_y_b, dtype: int64\n"
     ]
    },
    {
     "data": {
      "text/markdown": [
       "\n",
       "\n",
       "**▼c_y_dai:大陽線**"
      ],
      "text/plain": [
       "<IPython.core.display.Markdown object>"
      ]
     },
     "metadata": {},
     "output_type": "display_data"
    },
    {
     "name": "stdout",
     "output_type": "stream",
     "text": [
      "0    288\n",
      "Name: c_y_dai, dtype: int64\n"
     ]
    },
    {
     "data": {
      "text/markdown": [
       "\n",
       "\n",
       "**▼c_y_h_b:陽の大引け坊主**"
      ],
      "text/plain": [
       "<IPython.core.display.Markdown object>"
      ]
     },
     "metadata": {},
     "output_type": "display_data"
    },
    {
     "name": "stdout",
     "output_type": "stream",
     "text": [
      "0    288\n",
      "Name: c_y_h_b, dtype: int64\n"
     ]
    },
    {
     "data": {
      "text/markdown": [
       "\n",
       "\n",
       "**▼c_y_y_b:陽の寄り付き坊主**"
      ],
      "text/plain": [
       "<IPython.core.display.Markdown object>"
      ]
     },
     "metadata": {},
     "output_type": "display_data"
    },
    {
     "name": "stdout",
     "output_type": "stream",
     "text": [
      "0    288\n",
      "Name: c_y_y_b, dtype: int64\n"
     ]
    },
    {
     "data": {
      "text/markdown": [
       "\n",
       "\n",
       "**▼c_y_sg:下影陽線**"
      ],
      "text/plain": [
       "<IPython.core.display.Markdown object>"
      ]
     },
     "metadata": {},
     "output_type": "display_data"
    },
    {
     "name": "stdout",
     "output_type": "stream",
     "text": [
      "0    288\n",
      "Name: c_y_sg, dtype: int64\n"
     ]
    },
    {
     "data": {
      "text/markdown": [
       "\n",
       "\n",
       "**▼c_y_ug:上影陽線**"
      ],
      "text/plain": [
       "<IPython.core.display.Markdown object>"
      ]
     },
     "metadata": {},
     "output_type": "display_data"
    },
    {
     "name": "stdout",
     "output_type": "stream",
     "text": [
      "0    288\n",
      "Name: c_y_ug, dtype: int64\n"
     ]
    },
    {
     "data": {
      "text/markdown": [
       "\n",
       "\n",
       "**▼c_y_km:陽のコマ**"
      ],
      "text/plain": [
       "<IPython.core.display.Markdown object>"
      ]
     },
     "metadata": {},
     "output_type": "display_data"
    },
    {
     "name": "stdout",
     "output_type": "stream",
     "text": [
      "0    174\n",
      "1    114\n",
      "Name: c_y_km, dtype: int64\n"
     ]
    },
    {
     "data": {
      "text/markdown": [
       "\n",
       "\n",
       "**▼c_y_kk:陽のカラカサ**"
      ],
      "text/plain": [
       "<IPython.core.display.Markdown object>"
      ]
     },
     "metadata": {},
     "output_type": "display_data"
    },
    {
     "name": "stdout",
     "output_type": "stream",
     "text": [
      "0    288\n",
      "Name: c_y_kk, dtype: int64\n"
     ]
    },
    {
     "data": {
      "text/markdown": [
       "\n",
       "\n",
       "**▼c_i_b:陰の丸坊主**"
      ],
      "text/plain": [
       "<IPython.core.display.Markdown object>"
      ]
     },
     "metadata": {},
     "output_type": "display_data"
    },
    {
     "name": "stdout",
     "output_type": "stream",
     "text": [
      "0    288\n",
      "Name: c_i_b, dtype: int64\n"
     ]
    },
    {
     "data": {
      "text/markdown": [
       "\n",
       "\n",
       "**▼c_i_dai:大陰線**"
      ],
      "text/plain": [
       "<IPython.core.display.Markdown object>"
      ]
     },
     "metadata": {},
     "output_type": "display_data"
    },
    {
     "name": "stdout",
     "output_type": "stream",
     "text": [
      "0    288\n",
      "Name: c_i_dai, dtype: int64\n"
     ]
    },
    {
     "data": {
      "text/markdown": [
       "\n",
       "\n",
       "**▼c_i_y_b:陰の寄り付き坊主**"
      ],
      "text/plain": [
       "<IPython.core.display.Markdown object>"
      ]
     },
     "metadata": {},
     "output_type": "display_data"
    },
    {
     "name": "stdout",
     "output_type": "stream",
     "text": [
      "0    287\n",
      "1      1\n",
      "Name: c_i_y_b, dtype: int64\n"
     ]
    },
    {
     "data": {
      "text/markdown": [
       "\n",
       "\n",
       "**▼c_i_h_i:陰の大引け陰線**"
      ],
      "text/plain": [
       "<IPython.core.display.Markdown object>"
      ]
     },
     "metadata": {},
     "output_type": "display_data"
    },
    {
     "name": "stdout",
     "output_type": "stream",
     "text": [
      "0    288\n",
      "Name: c_i_h_i, dtype: int64\n"
     ]
    },
    {
     "data": {
      "text/markdown": [
       "\n",
       "\n",
       "**▼c_i_sg:下影陰線**"
      ],
      "text/plain": [
       "<IPython.core.display.Markdown object>"
      ]
     },
     "metadata": {},
     "output_type": "display_data"
    },
    {
     "name": "stdout",
     "output_type": "stream",
     "text": [
      "0    288\n",
      "Name: c_i_sg, dtype: int64\n"
     ]
    },
    {
     "data": {
      "text/markdown": [
       "\n",
       "\n",
       "**▼c_i_km:陰のコマ**"
      ],
      "text/plain": [
       "<IPython.core.display.Markdown object>"
      ]
     },
     "metadata": {},
     "output_type": "display_data"
    },
    {
     "name": "stdout",
     "output_type": "stream",
     "text": [
      "0    196\n",
      "1     92\n",
      "Name: c_i_km, dtype: int64\n"
     ]
    },
    {
     "data": {
      "text/markdown": [
       "\n",
       "\n",
       "**▼c_i_ug:上影陰線**"
      ],
      "text/plain": [
       "<IPython.core.display.Markdown object>"
      ]
     },
     "metadata": {},
     "output_type": "display_data"
    },
    {
     "name": "stdout",
     "output_type": "stream",
     "text": [
      "0    288\n",
      "Name: c_i_ug, dtype: int64\n"
     ]
    },
    {
     "data": {
      "text/markdown": [
       "\n",
       "\n",
       "**▼c_i_kk:陰のカラカサ**"
      ],
      "text/plain": [
       "<IPython.core.display.Markdown object>"
      ]
     },
     "metadata": {},
     "output_type": "display_data"
    },
    {
     "name": "stdout",
     "output_type": "stream",
     "text": [
      "0    288\n",
      "Name: c_i_kk, dtype: int64\n"
     ]
    },
    {
     "data": {
      "text/markdown": [
       "\n",
       "\n",
       "**▼c_juji:十字**"
      ],
      "text/plain": [
       "<IPython.core.display.Markdown object>"
      ]
     },
     "metadata": {},
     "output_type": "display_data"
    },
    {
     "name": "stdout",
     "output_type": "stream",
     "text": [
      "1    186\n",
      "0    102\n",
      "Name: c_juji, dtype: int64\n"
     ]
    },
    {
     "data": {
      "text/markdown": [
       "\n",
       "\n",
       "**▼c_tonbo:トンボ**"
      ],
      "text/plain": [
       "<IPython.core.display.Markdown object>"
      ]
     },
     "metadata": {},
     "output_type": "display_data"
    },
    {
     "name": "stdout",
     "output_type": "stream",
     "text": [
      "0    287\n",
      "1      1\n",
      "Name: c_tonbo, dtype: int64\n"
     ]
    },
    {
     "data": {
      "text/markdown": [
       "\n",
       "\n",
       "**▼c_touba:トウバ**"
      ],
      "text/plain": [
       "<IPython.core.display.Markdown object>"
      ]
     },
     "metadata": {},
     "output_type": "display_data"
    },
    {
     "name": "stdout",
     "output_type": "stream",
     "text": [
      "0    288\n",
      "Name: c_touba, dtype: int64\n"
     ]
    },
    {
     "data": {
      "text/markdown": [
       "\n",
       "\n",
       "**▼c_ippon:一本線**"
      ],
      "text/plain": [
       "<IPython.core.display.Markdown object>"
      ]
     },
     "metadata": {},
     "output_type": "display_data"
    },
    {
     "name": "stdout",
     "output_type": "stream",
     "text": [
      "0    200\n",
      "1     88\n",
      "Name: c_ippon, dtype: int64\n"
     ]
    }
   ],
   "source": [
    "# Check number of data of candlestick features\n",
    "for k,v in dic_c.items():\n",
    "    printmd('▼' + str(k) + ':' + str(v))\n",
    "    print(df[k].value_counts())\n",
    "    #tmp_df = df.query(k + '== 1').head(10)\n",
    "    #display(tmp_df[['time','open','high','low','close']])"
   ]
  },
  {
   "cell_type": "markdown",
   "metadata": {},
   "source": [
    "# 3. Setting the objective variable<a id= 'Setting_the_objective_variable'></a>"
   ]
  },
  {
   "cell_type": "code",
   "execution_count": 5,
   "metadata": {},
   "outputs": [
    {
     "data": {
      "text/markdown": [
       "\n",
       "\n",
       "**▼ target（%）**"
      ],
      "text/plain": [
       "<IPython.core.display.Markdown object>"
      ]
     },
     "metadata": {},
     "output_type": "display_data"
    },
    {
     "data": {
      "image/png": "[encoded data removed]",
      "text/plain": [
       "<Figure size 360x360 with 1 Axes>"
      ]
     },
     "metadata": {},
     "output_type": "display_data"
    },
    {
     "data": {
      "text/html": [
       "<div>\n",
       "<style scoped>\n",
       "    .dataframe tbody tr th:only-of-type {\n",
       "        vertical-align: middle;\n",
       "    }\n",
       "\n",
       "    .dataframe tbody tr th {\n",
       "        vertical-align: top;\n",
       "    }\n",
       "\n",
       "    .dataframe thead th {\n",
       "        text-align: right;\n",
       "    }\n",
       "</style>\n",
       "<table border=\"1\" class=\"dataframe\">\n",
       "  <thead>\n",
       "    <tr style=\"text-align: right;\">\n",
       "      <th></th>\n",
       "      <th>target</th>\n",
       "    </tr>\n",
       "  </thead>\n",
       "  <tbody>\n",
       "    <tr>\n",
       "      <th>0</th>\n",
       "      <td>156</td>\n",
       "    </tr>\n",
       "    <tr>\n",
       "      <th>1</th>\n",
       "      <td>132</td>\n",
       "    </tr>\n",
       "  </tbody>\n",
       "</table>\n",
       "</div>"
      ],
      "text/plain": [
       "   target\n",
       "0     156\n",
       "1     132"
      ]
     },
     "metadata": {},
     "output_type": "display_data"
    },
    {
     "data": {
      "text/html": [
       "<div>\n",
       "<style scoped>\n",
       "    .dataframe tbody tr th:only-of-type {\n",
       "        vertical-align: middle;\n",
       "    }\n",
       "\n",
       "    .dataframe tbody tr th {\n",
       "        vertical-align: top;\n",
       "    }\n",
       "\n",
       "    .dataframe thead th {\n",
       "        text-align: right;\n",
       "    }\n",
       "</style>\n",
       "<table border=\"1\" class=\"dataframe\">\n",
       "  <thead>\n",
       "    <tr style=\"text-align: right;\">\n",
       "      <th></th>\n",
       "      <th>time</th>\n",
       "      <th>open</th>\n",
       "      <th>high</th>\n",
       "      <th>low</th>\n",
       "      <th>close</th>\n",
       "      <th>sma5</th>\n",
       "      <th>sma21</th>\n",
       "      <th>ema10</th>\n",
       "      <th>tilt_sma5</th>\n",
       "      <th>tilt_sma21</th>\n",
       "      <th>tilt_ema10</th>\n",
       "      <th>bb1_up</th>\n",
       "      <th>bb1_low</th>\n",
       "      <th>bb2_up</th>\n",
       "      <th>bb2_low</th>\n",
       "      <th>bb3_up</th>\n",
       "      <th>bb3_low</th>\n",
       "      <th>bb1_shrinkage</th>\n",
       "      <th>bb2_shrinkage</th>\n",
       "      <th>bb3_shrinkage</th>\n",
       "      <th>momentum_5</th>\n",
       "      <th>momentum_10</th>\n",
       "      <th>momentum_21</th>\n",
       "      <th>rci9</th>\n",
       "      <th>rci21</th>\n",
       "      <th>rci52</th>\n",
       "      <th>tilt_rci9</th>\n",
       "      <th>tilt_rci21</th>\n",
       "      <th>tilt_rci52</th>\n",
       "      <th>rsi14</th>\n",
       "      <th>tilt_rsi14</th>\n",
       "      <th>day_chg</th>\n",
       "      <th>c_up</th>\n",
       "      <th>c_all_len</th>\n",
       "      <th>c_pil_len</th>\n",
       "      <th>top_bar</th>\n",
       "      <th>low_bar</th>\n",
       "      <th>c_y_b</th>\n",
       "      <th>c_y_dai</th>\n",
       "      <th>c_y_h_b</th>\n",
       "      <th>c_y_y_b</th>\n",
       "      <th>c_y_sg</th>\n",
       "      <th>c_y_ug</th>\n",
       "      <th>c_y_km</th>\n",
       "      <th>c_y_kk</th>\n",
       "      <th>c_i_b</th>\n",
       "      <th>c_i_dai</th>\n",
       "      <th>c_i_y_b</th>\n",
       "      <th>c_i_h_i</th>\n",
       "      <th>c_i_sg</th>\n",
       "      <th>c_i_km</th>\n",
       "      <th>c_i_ug</th>\n",
       "      <th>c_i_kk</th>\n",
       "      <th>c_juji</th>\n",
       "      <th>c_tonbo</th>\n",
       "      <th>c_touba</th>\n",
       "      <th>c_ippon</th>\n",
       "      <th>y1_day_chg</th>\n",
       "      <th>y1_c_all_len</th>\n",
       "      <th>y1_c_pil_len</th>\n",
       "      <th>y1_c_up</th>\n",
       "      <th>y1_top_bar</th>\n",
       "      <th>y1_low_bar</th>\n",
       "      <th>y2_day_chg</th>\n",
       "      <th>y2_c_all_len</th>\n",
       "      <th>y2_c_pil_len</th>\n",
       "      <th>y2_c_up</th>\n",
       "      <th>y2_top_bar</th>\n",
       "      <th>y2_low_bar</th>\n",
       "      <th>y3_day_chg</th>\n",
       "      <th>y3_c_all_len</th>\n",
       "      <th>y3_c_pil_len</th>\n",
       "      <th>y3_c_up</th>\n",
       "      <th>y3_top_bar</th>\n",
       "      <th>y3_low_bar</th>\n",
       "      <th>y4_day_chg</th>\n",
       "      <th>y4_c_all_len</th>\n",
       "      <th>y4_c_pil_len</th>\n",
       "      <th>y4_c_up</th>\n",
       "      <th>y4_top_bar</th>\n",
       "      <th>y4_low_bar</th>\n",
       "      <th>y5_day_chg</th>\n",
       "      <th>y5_c_all_len</th>\n",
       "      <th>y5_c_pil_len</th>\n",
       "      <th>y5_c_up</th>\n",
       "      <th>y5_top_bar</th>\n",
       "      <th>y5_low_bar</th>\n",
       "      <th>ren2_up</th>\n",
       "      <th>ren3_up</th>\n",
       "      <th>ren4_up</th>\n",
       "      <th>ren5_up</th>\n",
       "      <th>ren6_up</th>\n",
       "      <th>ren2_down</th>\n",
       "      <th>ren3_down</th>\n",
       "      <th>ren4_down</th>\n",
       "      <th>ren5_down</th>\n",
       "      <th>ren6_down</th>\n",
       "      <th>t1_close</th>\n",
       "      <th>t1_diff</th>\n",
       "      <th>target</th>\n",
       "    </tr>\n",
       "  </thead>\n",
       "  <tbody>\n",
       "    <tr>\n",
       "      <th>997</th>\n",
       "      <td>2020-02-07 19:00:00</td>\n",
       "      <td>109.788</td>\n",
       "      <td>110.049</td>\n",
       "      <td>109.678</td>\n",
       "      <td>109.781</td>\n",
       "      <td>109.8770</td>\n",
       "      <td>109.667810</td>\n",
       "      <td>109.822312</td>\n",
       "      <td>-0.0394</td>\n",
       "      <td>0.051095</td>\n",
       "      <td>-0.009180</td>\n",
       "      <td>110.300921</td>\n",
       "      <td>109.034698</td>\n",
       "      <td>110.300921</td>\n",
       "      <td>109.034698</td>\n",
       "      <td>110.300921</td>\n",
       "      <td>109.034698</td>\n",
       "      <td>1.266222</td>\n",
       "      <td>1.266222</td>\n",
       "      <td>1.266222</td>\n",
       "      <td>-0.197</td>\n",
       "      <td>-0.082</td>\n",
       "      <td>1.073</td>\n",
       "      <td>-36.0</td>\n",
       "      <td>81.0</td>\n",
       "      <td>56.0</td>\n",
       "      <td>-45.0</td>\n",
       "      <td>-9.0</td>\n",
       "      <td>2.0</td>\n",
       "      <td>67.415730</td>\n",
       "      <td>2.836474</td>\n",
       "      <td>-0.007</td>\n",
       "      <td>0</td>\n",
       "      <td>0.371</td>\n",
       "      <td>0.007</td>\n",
       "      <td>0.261</td>\n",
       "      <td>0.103</td>\n",
       "      <td>0</td>\n",
       "      <td>0</td>\n",
       "      <td>0</td>\n",
       "      <td>0</td>\n",
       "      <td>0</td>\n",
       "      <td>0</td>\n",
       "      <td>0</td>\n",
       "      <td>0</td>\n",
       "      <td>0</td>\n",
       "      <td>0</td>\n",
       "      <td>0</td>\n",
       "      <td>0</td>\n",
       "      <td>0</td>\n",
       "      <td>0</td>\n",
       "      <td>0</td>\n",
       "      <td>0</td>\n",
       "      <td>0</td>\n",
       "      <td>0</td>\n",
       "      <td>0</td>\n",
       "      <td>0</td>\n",
       "      <td>-0.100</td>\n",
       "      <td>0.216</td>\n",
       "      <td>0.100</td>\n",
       "      <td>0.0</td>\n",
       "      <td>0.111</td>\n",
       "      <td>0.005</td>\n",
       "      <td>-0.030</td>\n",
       "      <td>0.064</td>\n",
       "      <td>0.030</td>\n",
       "      <td>0.0</td>\n",
       "      <td>0.023</td>\n",
       "      <td>0.011</td>\n",
       "      <td>-0.079</td>\n",
       "      <td>0.225</td>\n",
       "      <td>0.079</td>\n",
       "      <td>0.0</td>\n",
       "      <td>0.047</td>\n",
       "      <td>0.099</td>\n",
       "      <td>0.025</td>\n",
       "      <td>0.061</td>\n",
       "      <td>0.025</td>\n",
       "      <td>1.0</td>\n",
       "      <td>0.006</td>\n",
       "      <td>0.030</td>\n",
       "      <td>0.088</td>\n",
       "      <td>0.169</td>\n",
       "      <td>0.088</td>\n",
       "      <td>1.0</td>\n",
       "      <td>0.017</td>\n",
       "      <td>0.064</td>\n",
       "      <td>0</td>\n",
       "      <td>0</td>\n",
       "      <td>0</td>\n",
       "      <td>0</td>\n",
       "      <td>0</td>\n",
       "      <td>1</td>\n",
       "      <td>1</td>\n",
       "      <td>1</td>\n",
       "      <td>0</td>\n",
       "      <td>0</td>\n",
       "      <td>109.813</td>\n",
       "      <td>0.032</td>\n",
       "      <td>1</td>\n",
       "    </tr>\n",
       "    <tr>\n",
       "      <th>998</th>\n",
       "      <td>2020-02-07 23:00:00</td>\n",
       "      <td>109.780</td>\n",
       "      <td>109.852</td>\n",
       "      <td>109.538</td>\n",
       "      <td>109.813</td>\n",
       "      <td>109.8388</td>\n",
       "      <td>109.715000</td>\n",
       "      <td>109.820619</td>\n",
       "      <td>-0.0382</td>\n",
       "      <td>0.047190</td>\n",
       "      <td>-0.001693</td>\n",
       "      <td>110.217607</td>\n",
       "      <td>109.212393</td>\n",
       "      <td>110.217607</td>\n",
       "      <td>109.212393</td>\n",
       "      <td>110.217607</td>\n",
       "      <td>109.212393</td>\n",
       "      <td>1.005214</td>\n",
       "      <td>1.005214</td>\n",
       "      <td>1.005214</td>\n",
       "      <td>-0.191</td>\n",
       "      <td>-0.026</td>\n",
       "      <td>0.991</td>\n",
       "      <td>-51.0</td>\n",
       "      <td>73.0</td>\n",
       "      <td>60.0</td>\n",
       "      <td>-15.0</td>\n",
       "      <td>-8.0</td>\n",
       "      <td>4.0</td>\n",
       "      <td>57.295850</td>\n",
       "      <td>-10.119880</td>\n",
       "      <td>0.033</td>\n",
       "      <td>1</td>\n",
       "      <td>0.314</td>\n",
       "      <td>0.033</td>\n",
       "      <td>0.039</td>\n",
       "      <td>0.242</td>\n",
       "      <td>0</td>\n",
       "      <td>0</td>\n",
       "      <td>0</td>\n",
       "      <td>0</td>\n",
       "      <td>0</td>\n",
       "      <td>0</td>\n",
       "      <td>0</td>\n",
       "      <td>0</td>\n",
       "      <td>0</td>\n",
       "      <td>0</td>\n",
       "      <td>0</td>\n",
       "      <td>0</td>\n",
       "      <td>0</td>\n",
       "      <td>0</td>\n",
       "      <td>0</td>\n",
       "      <td>0</td>\n",
       "      <td>0</td>\n",
       "      <td>1</td>\n",
       "      <td>0</td>\n",
       "      <td>0</td>\n",
       "      <td>-0.007</td>\n",
       "      <td>0.371</td>\n",
       "      <td>0.007</td>\n",
       "      <td>0.0</td>\n",
       "      <td>0.261</td>\n",
       "      <td>0.103</td>\n",
       "      <td>-0.100</td>\n",
       "      <td>0.216</td>\n",
       "      <td>0.100</td>\n",
       "      <td>0.0</td>\n",
       "      <td>0.111</td>\n",
       "      <td>0.005</td>\n",
       "      <td>-0.030</td>\n",
       "      <td>0.064</td>\n",
       "      <td>0.030</td>\n",
       "      <td>0.0</td>\n",
       "      <td>0.023</td>\n",
       "      <td>0.011</td>\n",
       "      <td>-0.079</td>\n",
       "      <td>0.225</td>\n",
       "      <td>0.079</td>\n",
       "      <td>0.0</td>\n",
       "      <td>0.047</td>\n",
       "      <td>0.099</td>\n",
       "      <td>0.025</td>\n",
       "      <td>0.061</td>\n",
       "      <td>0.025</td>\n",
       "      <td>1.0</td>\n",
       "      <td>0.006</td>\n",
       "      <td>0.030</td>\n",
       "      <td>0</td>\n",
       "      <td>0</td>\n",
       "      <td>0</td>\n",
       "      <td>0</td>\n",
       "      <td>0</td>\n",
       "      <td>0</td>\n",
       "      <td>0</td>\n",
       "      <td>0</td>\n",
       "      <td>0</td>\n",
       "      <td>0</td>\n",
       "      <td>109.799</td>\n",
       "      <td>-0.014</td>\n",
       "      <td>0</td>\n",
       "    </tr>\n",
       "    <tr>\n",
       "      <th>999</th>\n",
       "      <td>2020-02-08 03:00:00</td>\n",
       "      <td>109.812</td>\n",
       "      <td>109.853</td>\n",
       "      <td>109.707</td>\n",
       "      <td>109.799</td>\n",
       "      <td>109.8148</td>\n",
       "      <td>109.748667</td>\n",
       "      <td>109.816688</td>\n",
       "      <td>-0.0240</td>\n",
       "      <td>0.033667</td>\n",
       "      <td>-0.003931</td>\n",
       "      <td>110.162960</td>\n",
       "      <td>109.334373</td>\n",
       "      <td>110.162960</td>\n",
       "      <td>109.334373</td>\n",
       "      <td>110.162960</td>\n",
       "      <td>109.334373</td>\n",
       "      <td>0.828587</td>\n",
       "      <td>0.828587</td>\n",
       "      <td>0.828587</td>\n",
       "      <td>-0.120</td>\n",
       "      <td>-0.117</td>\n",
       "      <td>0.707</td>\n",
       "      <td>-68.0</td>\n",
       "      <td>63.0</td>\n",
       "      <td>62.0</td>\n",
       "      <td>-17.0</td>\n",
       "      <td>-10.0</td>\n",
       "      <td>2.0</td>\n",
       "      <td>51.101322</td>\n",
       "      <td>-6.194528</td>\n",
       "      <td>-0.013</td>\n",
       "      <td>0</td>\n",
       "      <td>0.146</td>\n",
       "      <td>0.013</td>\n",
       "      <td>0.041</td>\n",
       "      <td>0.092</td>\n",
       "      <td>0</td>\n",
       "      <td>0</td>\n",
       "      <td>0</td>\n",
       "      <td>0</td>\n",
       "      <td>0</td>\n",
       "      <td>0</td>\n",
       "      <td>0</td>\n",
       "      <td>0</td>\n",
       "      <td>0</td>\n",
       "      <td>0</td>\n",
       "      <td>0</td>\n",
       "      <td>0</td>\n",
       "      <td>0</td>\n",
       "      <td>1</td>\n",
       "      <td>0</td>\n",
       "      <td>0</td>\n",
       "      <td>1</td>\n",
       "      <td>0</td>\n",
       "      <td>0</td>\n",
       "      <td>0</td>\n",
       "      <td>0.033</td>\n",
       "      <td>0.314</td>\n",
       "      <td>0.033</td>\n",
       "      <td>1.0</td>\n",
       "      <td>0.039</td>\n",
       "      <td>0.242</td>\n",
       "      <td>-0.007</td>\n",
       "      <td>0.371</td>\n",
       "      <td>0.007</td>\n",
       "      <td>0.0</td>\n",
       "      <td>0.261</td>\n",
       "      <td>0.103</td>\n",
       "      <td>-0.100</td>\n",
       "      <td>0.216</td>\n",
       "      <td>0.100</td>\n",
       "      <td>0.0</td>\n",
       "      <td>0.111</td>\n",
       "      <td>0.005</td>\n",
       "      <td>-0.030</td>\n",
       "      <td>0.064</td>\n",
       "      <td>0.030</td>\n",
       "      <td>0.0</td>\n",
       "      <td>0.023</td>\n",
       "      <td>0.011</td>\n",
       "      <td>-0.079</td>\n",
       "      <td>0.225</td>\n",
       "      <td>0.079</td>\n",
       "      <td>0.0</td>\n",
       "      <td>0.047</td>\n",
       "      <td>0.099</td>\n",
       "      <td>0</td>\n",
       "      <td>0</td>\n",
       "      <td>0</td>\n",
       "      <td>0</td>\n",
       "      <td>0</td>\n",
       "      <td>0</td>\n",
       "      <td>0</td>\n",
       "      <td>0</td>\n",
       "      <td>0</td>\n",
       "      <td>0</td>\n",
       "      <td>NaN</td>\n",
       "      <td>NaN</td>\n",
       "      <td>0</td>\n",
       "    </tr>\n",
       "  </tbody>\n",
       "</table>\n",
       "</div>"
      ],
      "text/plain": [
       "                   time     open     high      low    close      sma5  \\\n",
       "997 2020-02-07 19:00:00  109.788  110.049  109.678  109.781  109.8770   \n",
       "998 2020-02-07 23:00:00  109.780  109.852  109.538  109.813  109.8388   \n",
       "999 2020-02-08 03:00:00  109.812  109.853  109.707  109.799  109.8148   \n",
       "\n",
       "          sma21       ema10  tilt_sma5  tilt_sma21  tilt_ema10      bb1_up  \\\n",
       "997  109.667810  109.822312    -0.0394    0.051095   -0.009180  110.300921   \n",
       "998  109.715000  109.820619    -0.0382    0.047190   -0.001693  110.217607   \n",
       "999  109.748667  109.816688    -0.0240    0.033667   -0.003931  110.162960   \n",
       "\n",
       "        bb1_low      bb2_up     bb2_low      bb3_up     bb3_low  \\\n",
       "997  109.034698  110.300921  109.034698  110.300921  109.034698   \n",
       "998  109.212393  110.217607  109.212393  110.217607  109.212393   \n",
       "999  109.334373  110.162960  109.334373  110.162960  109.334373   \n",
       "\n",
       "     bb1_shrinkage  bb2_shrinkage  bb3_shrinkage  momentum_5  momentum_10  \\\n",
       "997       1.266222       1.266222       1.266222      -0.197       -0.082   \n",
       "998       1.005214       1.005214       1.005214      -0.191       -0.026   \n",
       "999       0.828587       0.828587       0.828587      -0.120       -0.117   \n",
       "\n",
       "     momentum_21  rci9  rci21  rci52  tilt_rci9  tilt_rci21  tilt_rci52  \\\n",
       "997        1.073 -36.0   81.0   56.0      -45.0        -9.0         2.0   \n",
       "998        0.991 -51.0   73.0   60.0      -15.0        -8.0         4.0   \n",
       "999        0.707 -68.0   63.0   62.0      -17.0       -10.0         2.0   \n",
       "\n",
       "         rsi14  tilt_rsi14  day_chg  c_up  c_all_len  c_pil_len  top_bar  \\\n",
       "997  67.415730    2.836474   -0.007     0      0.371      0.007    0.261   \n",
       "998  57.295850  -10.119880    0.033     1      0.314      0.033    0.039   \n",
       "999  51.101322   -6.194528   -0.013     0      0.146      0.013    0.041   \n",
       "\n",
       "     low_bar  c_y_b  c_y_dai  c_y_h_b  c_y_y_b  c_y_sg  c_y_ug  c_y_km  \\\n",
       "997    0.103      0        0        0        0       0       0       0   \n",
       "998    0.242      0        0        0        0       0       0       0   \n",
       "999    0.092      0        0        0        0       0       0       0   \n",
       "\n",
       "     c_y_kk  c_i_b  c_i_dai  c_i_y_b  c_i_h_i  c_i_sg  c_i_km  c_i_ug  c_i_kk  \\\n",
       "997       0      0        0        0        0       0       0       0       0   \n",
       "998       0      0        0        0        0       0       0       0       0   \n",
       "999       0      0        0        0        0       0       1       0       0   \n",
       "\n",
       "     c_juji  c_tonbo  c_touba  c_ippon  y1_day_chg  y1_c_all_len  \\\n",
       "997       0        0        0        0      -0.100         0.216   \n",
       "998       0        1        0        0      -0.007         0.371   \n",
       "999       1        0        0        0       0.033         0.314   \n",
       "\n",
       "     y1_c_pil_len  y1_c_up  y1_top_bar  y1_low_bar  y2_day_chg  y2_c_all_len  \\\n",
       "997         0.100      0.0       0.111       0.005      -0.030         0.064   \n",
       "998         0.007      0.0       0.261       0.103      -0.100         0.216   \n",
       "999         0.033      1.0       0.039       0.242      -0.007         0.371   \n",
       "\n",
       "     y2_c_pil_len  y2_c_up  y2_top_bar  y2_low_bar  y3_day_chg  y3_c_all_len  \\\n",
       "997         0.030      0.0       0.023       0.011      -0.079         0.225   \n",
       "998         0.100      0.0       0.111       0.005      -0.030         0.064   \n",
       "999         0.007      0.0       0.261       0.103      -0.100         0.216   \n",
       "\n",
       "     y3_c_pil_len  y3_c_up  y3_top_bar  y3_low_bar  y4_day_chg  y4_c_all_len  \\\n",
       "997         0.079      0.0       0.047       0.099       0.025         0.061   \n",
       "998         0.030      0.0       0.023       0.011      -0.079         0.225   \n",
       "999         0.100      0.0       0.111       0.005      -0.030         0.064   \n",
       "\n",
       "     y4_c_pil_len  y4_c_up  y4_top_bar  y4_low_bar  y5_day_chg  y5_c_all_len  \\\n",
       "997         0.025      1.0       0.006       0.030       0.088         0.169   \n",
       "998         0.079      0.0       0.047       0.099       0.025         0.061   \n",
       "999         0.030      0.0       0.023       0.011      -0.079         0.225   \n",
       "\n",
       "     y5_c_pil_len  y5_c_up  y5_top_bar  y5_low_bar  ren2_up  ren3_up  ren4_up  \\\n",
       "997         0.088      1.0       0.017       0.064        0        0        0   \n",
       "998         0.025      1.0       0.006       0.030        0        0        0   \n",
       "999         0.079      0.0       0.047       0.099        0        0        0   \n",
       "\n",
       "     ren5_up  ren6_up  ren2_down  ren3_down  ren4_down  ren5_down  ren6_down  \\\n",
       "997        0        0          1          1          1          0          0   \n",
       "998        0        0          0          0          0          0          0   \n",
       "999        0        0          0          0          0          0          0   \n",
       "\n",
       "     t1_close  t1_diff  target  \n",
       "997   109.813    0.032       1  \n",
       "998   109.799   -0.014       0  \n",
       "999       NaN      NaN       0  "
      ]
     },
     "metadata": {},
     "output_type": "display_data"
    }
   ],
   "source": [
    "# 翌日終値が当日終値よりも上昇するかを予測\n",
    "df['t1_close'] = df.close.shift(-1)\n",
    "df['t1_diff'] = df['t1_close'] - df['close']\n",
    "df['target'] = np.where(df['t1_diff'] >= 0.01,1,0)\n",
    "\n",
    "printmd('▼ target（%）')\n",
    "per_state = round(df['target'].value_counts() / len(df['target']) * 100,2)\n",
    "values = list(per_state.values)\n",
    "\n",
    "# pie\n",
    "plt.figure(figsize=(5,5))\n",
    "plt.pie(values, labels=list(per_state.index),\n",
    "        wedgeprops={'linewidth': 2,'edgecolor':'white'},\n",
    "        textprops={'color': 'white', 'weight': 'bold'},\n",
    "        counterclock=False,startangle=270,\n",
    "        autopct=lambda p: '{:.1f}%'.format(p) if p >= 2.5 else '')\n",
    "lgnd=plt.legend(bbox_to_anchor=(1.0, 0.25, 1.55, 0.5), loc=\"center left\", borderaxespad=0.)\n",
    "plt.axis('equal')\n",
    "plt.show()\n",
    "\n",
    "display(pd.DataFrame(df['target'].value_counts(),columns=['target']))\n",
    "\n",
    "display(df.tail(3))"
   ]
  },
  {
   "cell_type": "markdown",
   "metadata": {},
   "source": [
    "# 4. Preprocessing<a id ='Preprocessing'></a>"
   ]
  },
  {
   "cell_type": "code",
   "execution_count": 6,
   "metadata": {
    "scrolled": false
   },
   "outputs": [
    {
     "data": {
      "text/markdown": [
       "\n",
       "\n",
       "**▼全データ**"
      ],
      "text/plain": [
       "<IPython.core.display.Markdown object>"
      ]
     },
     "metadata": {},
     "output_type": "display_data"
    },
    {
     "name": "stdout",
     "output_type": "stream",
     "text": [
      "X_all.shape= (288, 96)\n",
      "y_all.shape= (288,)\n"
     ]
    },
    {
     "data": {
      "text/markdown": [
       "\n",
       "\n",
       "**▼訓練データ**"
      ],
      "text/plain": [
       "<IPython.core.display.Markdown object>"
      ]
     },
     "metadata": {},
     "output_type": "display_data"
    },
    {
     "name": "stdout",
     "output_type": "stream",
     "text": [
      "X_train.shape= (230, 96)\n",
      "y_train.shape= (230,)\n"
     ]
    },
    {
     "data": {
      "text/markdown": [
       "\n",
       "\n",
       "**▼テストデータ**"
      ],
      "text/plain": [
       "<IPython.core.display.Markdown object>"
      ]
     },
     "metadata": {},
     "output_type": "display_data"
    },
    {
     "name": "stdout",
     "output_type": "stream",
     "text": [
      "X_test.shape= (56, 96)\n",
      "y_test.shape= (56,)\n"
     ]
    },
    {
     "data": {
      "text/markdown": [
       "\n",
       "\n",
       "**▼予測データ**"
      ],
      "text/plain": [
       "<IPython.core.display.Markdown object>"
      ]
     },
     "metadata": {},
     "output_type": "display_data"
    },
    {
     "name": "stdout",
     "output_type": "stream",
     "text": [
      "X_today.shape= (1, 96)\n"
     ]
    }
   ],
   "source": [
    "# データセットの行数、列数を取得\n",
    "split_row = np.int(train_size * df.shape[0])\n",
    "end_row = df.shape[0]\n",
    "\n",
    "# 翌日の予測用を保持\n",
    "X_today_df = df.tail(1)\n",
    "\n",
    "X_all_df = df.drop(['time','t1_close','t1_diff','target'], axis=1)\n",
    "\n",
    "X_columns = X_all_df.columns\n",
    "\n",
    "# 標準化項目リスト\n",
    "enc_norm_col = ['open','high','low','close',\n",
    "                'sma5','sma21','ema10',\n",
    "                'rci9','rci21','rci52',\n",
    "                'tilt_rci9','tilt_rci21','tilt_rci52',\n",
    "                'tilt_sma5','tilt_sma21',\n",
    "                'tilt_ema10',\n",
    "                'rsi14',\n",
    "                'tilt_rsi14',\n",
    "                'bb1_up','bb1_low',\n",
    "                'bb2_up','bb2_low',\n",
    "                'bb3_up','bb3_low',\n",
    "                'bb1_shrinkage','bb2_shrinkage','bb3_shrinkage',\n",
    "                'momentum_5','momentum_10','momentum_21',\n",
    "                'day_chg','c_all_len','c_pil_len','top_bar','low_bar',\n",
    "                'y1_day_chg','y1_c_all_len','y1_c_pil_len','y1_top_bar','y1_low_bar',\n",
    "                'y2_day_chg','y2_c_all_len','y2_c_pil_len','y2_top_bar','y2_low_bar',\n",
    "                'y3_day_chg','y3_c_all_len','y3_c_pil_len','y3_top_bar','y3_low_bar',\n",
    "                'y4_day_chg','y4_c_all_len','y4_c_pil_len','y4_top_bar','y4_low_bar',\n",
    "                'y5_day_chg','y5_c_all_len','y5_c_pil_len','y5_top_bar','y5_low_bar',\n",
    "               ]\n",
    "\n",
    "# 標準化する列名と列番号の辞書\n",
    "dic_norm_col = {}\n",
    "for col_name in enc_norm_col:\n",
    "    dic_norm_col.setdefault(col_name, X_all_df.columns.get_loc(col_name))\n",
    "X_columns = X_all_df.columns\n",
    "list_X_columns = X_columns.tolist()\n",
    "\n",
    "# -------------------------------------------------\n",
    "# ndarrayに変換\n",
    "X_all = X_all_df.values\n",
    "y_all = df['target'].values\n",
    "\n",
    "printmd('▼全データ')\n",
    "print('X_all.shape=',X_all.shape)\n",
    "print('y_all.shape=',y_all.shape)\n",
    "#print('X_all[-3:,]',X_all[-3:,])\n",
    "\n",
    "# 訓練用\n",
    "X_train = X_all[:split_row, :]\n",
    "y_train = y_all[:split_row]\n",
    "\n",
    "printmd('▼訓練データ')\n",
    "print('X_train.shape=',X_train.shape)\n",
    "print('y_train.shape=',y_train.shape)\n",
    "#print('X_train[-1:,]=\\n',X_train[-1:,])\n",
    "\n",
    "# テスト用\n",
    "X_test = X_all[split_row+1:end_row-1,:]\n",
    "y_test = y_all[split_row+1:end_row-1]\n",
    "\n",
    "printmd('▼テストデータ')\n",
    "print('X_test.shape=',X_test.shape)\n",
    "print('y_test.shape=',y_test.shape)\n",
    "#print('X_test[-1:,]=\\n',X_test[-1:,])\n",
    "\n",
    "# 翌日の予測用\n",
    "X_today = X_all[end_row - 1:,:]\n",
    "\n",
    "printmd('▼予測データ')\n",
    "print('X_today.shape=',X_today.shape)\n",
    "#print('X_today.shape=',X_today)\n",
    "\n",
    "# 標準化\n",
    "for col_name,col_idx in dic_norm_col.items():\n",
    "    stdsc = StandardScaler()\n",
    "    X_train[:,col_idx:col_idx+1] = stdsc.fit_transform(X_train[:,col_idx:col_idx+1])\n",
    "    X_test[:,col_idx:col_idx+1] = stdsc.transform(X_test[:,col_idx:col_idx+1])\n",
    "    X_today[:,col_idx:col_idx+1] = stdsc.transform(X_today[:,col_idx:col_idx+1])\n",
    "    "
   ]
  },
  {
   "cell_type": "markdown",
   "metadata": {},
   "source": [
    "# 4-1. 特徴選択<a id='selection'></a>\n",
    "\n",
    "- 不要な説明変数を除外します。以下の通り、ラッパー法と埋め込み法を試しましたが、速度と精度の観点から、L1正則化を利用したロジスティック回帰モデルで埋め込み法を実施しています。\n",
    "\n",
    "### 4-1-1. ラッパー法（ステップワイズ法）[RFECV](https://scikit-learn.org/stable/modules/generated/sklearn.feature_selection.RFECV.html)"
   ]
  },
  {
   "cell_type": "code",
   "execution_count": 7,
   "metadata": {},
   "outputs": [
    {
     "name": "stdout",
     "output_type": "stream",
     "text": [
      "→ラッパー法（ステップワイズ法）を実施する\n"
     ]
    },
    {
     "data": {
      "image/png": "[encoded data removed]",
      "text/plain": [
       "<Figure size 432x288 with 1 Axes>"
      ]
     },
     "metadata": {
      "needs_background": "light"
     },
     "output_type": "display_data"
    },
    {
     "name": "stdout",
     "output_type": "stream",
     "text": [
      "None\n",
      "│open is dropped. \n",
      "│high is dropped. \n",
      "│close is dropped. \n",
      "│sma5 is dropped. \n",
      "│sma21 is dropped. \n",
      "│ema10 is dropped. \n",
      "│bb1_up is dropped. \n",
      "│bb1_low is dropped. \n",
      "│bb2_up is dropped. \n",
      "│bb1_shrinkage is dropped. \n",
      "│bb2_shrinkage is dropped. \n",
      "│bb3_shrinkage is dropped. \n",
      "│momentum_5 is dropped. \n",
      "│momentum_10 is dropped. \n",
      "│rci21 is dropped. \n",
      "│rci52 is dropped. \n",
      "│tilt_rci9 is dropped. \n",
      "│tilt_rci21 is dropped. \n",
      "│tilt_rci52 is dropped. \n",
      "│rsi14 is dropped. \n",
      "│tilt_rsi14 is dropped. \n",
      "│day_chg is dropped. \n",
      "│c_up is dropped. \n",
      "│c_all_len is dropped. \n",
      "│c_pil_len is dropped. \n",
      "│low_bar is dropped. \n",
      "│c_y_dai is dropped. \n",
      "│c_y_h_b is dropped. \n",
      "│c_y_y_b is dropped. \n",
      "│c_y_sg is dropped. \n",
      "│c_y_ug is dropped. \n",
      "│c_y_km is dropped. \n",
      "│c_y_kk is dropped. \n",
      "│c_i_b is dropped. \n",
      "│c_i_dai is dropped. \n",
      "│c_i_y_b is dropped. \n",
      "│c_i_h_i is dropped. \n",
      "│c_i_sg is dropped. \n",
      "│c_i_km is dropped. \n",
      "│c_i_ug is dropped. \n",
      "│c_i_kk is dropped. \n",
      "│c_tonbo is dropped. \n",
      "│c_touba is dropped. \n",
      "│c_ippon is dropped. \n",
      "│y1_day_chg is dropped. \n",
      "│y1_c_all_len is dropped. \n",
      "│y1_c_pil_len is dropped. \n",
      "│y1_top_bar is dropped. \n",
      "│y1_low_bar is dropped. \n",
      "│y2_day_chg is dropped. \n",
      "│y2_c_all_len is dropped. \n",
      "│y2_c_pil_len is dropped. \n",
      "│y2_c_up is dropped. \n",
      "│y2_top_bar is dropped. \n",
      "│y2_low_bar is dropped. \n",
      "│y3_day_chg is dropped. \n",
      "│y3_c_all_len is dropped. \n",
      "│y3_c_pil_len is dropped. \n",
      "│y3_top_bar is dropped. \n",
      "│y3_low_bar is dropped. \n",
      "│y4_day_chg is dropped. \n",
      "│y4_c_all_len is dropped. \n",
      "│y4_c_pil_len is dropped. \n",
      "│y4_c_up is dropped. \n",
      "│y4_top_bar is dropped. \n",
      "│y5_day_chg is dropped. \n",
      "│y5_c_all_len is dropped. \n",
      "│y5_c_up is dropped. \n",
      "│y5_top_bar is dropped. \n",
      "│y5_low_bar is dropped. \n",
      "│ren2_up is dropped. \n",
      "│ren4_up is dropped. \n",
      "│ren4_down is dropped. \n",
      "\n",
      "▼利用対象の特徴数\n",
      "len(list_X_columns)= 23\n",
      "\n",
      "▼ ラッパー法実施後行列\n",
      "X_train= (230, 23)\n",
      "X_test= (56, 23)\n"
     ]
    }
   ],
   "source": [
    "if(wrapper_flg):\n",
    "    print('→ラッパー法（ステップワイズ法）を実施する')\n",
    "    \n",
    "    # RFECVは交差検証によってステップワイズ法による特徴選択を行う\n",
    "    kfold = KFold(n_splits=10, random_state=1234)\n",
    "    estimator = SGDClassifier(loss='log',max_iter=10000,fit_intercept=True,random_state=1234,tol=1e-3)\n",
    "    rfecv = RFECV(estimator, cv=kfold, scoring='accuracy')\n",
    "    rfecv.fit(X_train, y_train)\n",
    "\n",
    "    plt.plot(range(1, len(rfecv.grid_scores_) + 1), rfecv.grid_scores_)\n",
    "    plt.grid(which='major',color='gray',linestyle=':')\n",
    "    plt.grid(which='minor',color='gray',linestyle=':')\n",
    "    print(plt.show())\n",
    "    \n",
    "    # 除外する特徴量\n",
    "    remove_feature = X_columns[ ~rfecv.support_]\n",
    "    for f in remove_feature:\n",
    "        list_X_columns.remove(f)\n",
    "        print('│' + f + ' is dropped. ')\n",
    "\n",
    "    print('\\n▼利用対象の特徴数')\n",
    "    print('len(list_X_columns)=',len(list_X_columns))   \n",
    "\n",
    "    X_train = X_train[:,rfecv.support_]\n",
    "    X_test = X_test[:,rfecv.support_]\n",
    "    X_today = X_today[:,rfecv.support_]\n",
    "\n",
    "    print('\\n▼ ラッパー法実施後行列')\n",
    "    print('X_train=',X_train.shape)\n",
    "    print('X_test=',X_test.shape)\n",
    "else:\n",
    "    print('→ラッパー法（ステップワイズ法）しない')\n"
   ]
  },
  {
   "cell_type": "markdown",
   "metadata": {},
   "source": [
    "### 4-1-2. 埋め込み法 [SelectFromModel](https://scikit-learn.org/stable/modules/generated/sklearn.feature_selection.SelectFromModel.html)"
   ]
  },
  {
   "cell_type": "code",
   "execution_count": 8,
   "metadata": {},
   "outputs": [
    {
     "name": "stdout",
     "output_type": "stream",
     "text": [
      "→埋め込み法を実施しない\n"
     ]
    }
   ],
   "source": [
    "if(selectFromModel_flg):\n",
    "    print('→埋め込み法を実施する')\n",
    "    \n",
    "    # ロジスティック回帰のL1正則化によって、特徴選択を行う\n",
    "    clf = SGDClassifier(loss='log',alpha=0.0001, penalty='l1',max_iter=10000,fit_intercept=True,random_state=1234,tol=1e-3)\n",
    "    sfm = SelectFromModel(clf, threshold=1e-5)\n",
    "    sfm.fit(X_train, y_train)\n",
    "    \n",
    "    # 結果をDataFrameへ格納\n",
    "    res_df = pd.DataFrame(columns=['feature','weight','abs_w'])\n",
    "    res_df['feature'] = list_X_columns\n",
    "    res_df['weight'] = np.reshape(sfm.estimator_.coef_[0], -1).tolist()\n",
    "    res_df['abs_w'] = abs( res_df['weight'] )\n",
    "\n",
    "    # 重みの大きさを横棒グラフで表示\n",
    "    print('\\n▼ 重みの大きさを横棒グラフで表示(Top15)')\n",
    "    res_df = res_df.sort_values('abs_w', ascending=False)\n",
    "    res_df.reset_index(drop=True,inplace=True)\n",
    "    res_df_head = res_df.head(15)\n",
    "    plt.figure(figsize=(10, 5))\n",
    "    plt.barh(np.arange(len(res_df_head['feature']))[::-1], res_df_head['weight'], align='center')\n",
    "    plt.yticks(np.arange(len(res_df_head['feature']))[::-1], res_df_head['feature'])\n",
    "    plt.title('feature importance')\n",
    "    plt.xlabel('weight')\n",
    "    plt.ylabel('feature')\n",
    "    plt.grid()\n",
    "    plt.show()\n",
    "    \n",
    "    # 除外する特徴量\n",
    "    remove_feature = X_columns[ ~sfm.get_support()]\n",
    "    for f in remove_feature:\n",
    "        list_X_columns.remove(f)\n",
    "        print('│' + f + ' is dropped. ')\n",
    "\n",
    "    print('\\n▼利用対象の特徴数')\n",
    "    print('len(list_X_columns)=',len(list_X_columns))   \n",
    "\n",
    "    X_train = X_train[:,sfm.get_support()]\n",
    "    X_test = X_test[:,sfm.get_support()]\n",
    "    X_today = X_today[:,sfm.get_support()]\n",
    "    \n",
    "    print('\\n▼ 埋め込み法実施後行列')\n",
    "    print('X_train=',X_train.shape)\n",
    "    print('X_test=',X_test.shape)\n",
    "else:\n",
    "    print('→埋め込み法を実施しない')\n"
   ]
  },
  {
   "cell_type": "markdown",
   "metadata": {},
   "source": [
    "# 5. Modeling<a id='Modeling'></a>"
   ]
  },
  {
   "cell_type": "code",
   "execution_count": 9,
   "metadata": {},
   "outputs": [],
   "source": [
    "dic_argo = {} # アルゴリズムごとに結果を格納\n",
    "kfold = KFold(n_splits=5, random_state=1234)"
   ]
  },
  {
   "cell_type": "markdown",
   "metadata": {},
   "source": [
    "## 5-1. Basic Algorithm"
   ]
  },
  {
   "cell_type": "markdown",
   "metadata": {},
   "source": [
    "### 5-1-1. [ロジスティック回帰](https://scikit-learn.org/stable/modules/generated/sklearn.linear_model.SGDClassifier.html)"
   ]
  },
  {
   "cell_type": "code",
   "execution_count": 10,
   "metadata": {
    "scrolled": false
   },
   "outputs": [
    {
     "name": "stdout",
     "output_type": "stream",
     "text": [
      "BestScore: 0.622000 using {'alpha': 0.0001, 'penalty': 'None'}\n"
     ]
    },
    {
     "data": {
      "text/plain": [
       "SGDClassifier(alpha=0.0001, average=False, class_weight=None,\n",
       "       early_stopping=False, epsilon=0.1, eta0=0.0, fit_intercept=True,\n",
       "       l1_ratio=0.15, learning_rate='optimal', loss='log', max_iter=10000,\n",
       "       n_iter=None, n_iter_no_change=5, n_jobs=None, penalty='None',\n",
       "       power_t=0.5, random_state=1234, shuffle=True, tol=0.001,\n",
       "       validation_fraction=0.1, verbose=0, warm_start=False)"
      ]
     },
     "execution_count": 10,
     "metadata": {},
     "output_type": "execute_result"
    }
   ],
   "source": [
    "lr_clf = SGDClassifier(loss='log', max_iter=10000, fit_intercept=True, random_state=1234, tol=1e-3)\n",
    "lr_param = {'penalty' : ['None','l1','l2','elasticnet'],#正則化項（default = 'l2'）\n",
    "            'alpha' : [1e-4, 1e-3] # 正則化項の効き具合(default = 0.0001:1e-4)\n",
    "            }\n",
    "best_lr = grid_search_argo(dic_argo, 'LogisticRegression', lr_clf, lr_param, X_train, y_train)\n",
    "\n",
    "best_lr"
   ]
  },
  {
   "cell_type": "markdown",
   "metadata": {},
   "source": [
    "### 5-1-2. [サポートベクターマシン](https://scikit-learn.org/stable/modules/generated/sklearn.svm.SVC.html#sklearn.svm.SVC)"
   ]
  },
  {
   "cell_type": "code",
   "execution_count": 11,
   "metadata": {},
   "outputs": [
    {
     "name": "stdout",
     "output_type": "stream",
     "text": [
      "BestScore: 0.643000 using {'C': 0.1, 'kernel': 'linear'}\n"
     ]
    },
    {
     "data": {
      "text/plain": [
       "SVC(C=0.1, cache_size=200, class_weight=None, coef0=0.0,\n",
       "  decision_function_shape='ovr', degree=3, gamma='auto_deprecated',\n",
       "  kernel='linear', max_iter=-1, probability=True, random_state=1234,\n",
       "  shrinking=True, tol=0.001, verbose=False)"
      ]
     },
     "execution_count": 11,
     "metadata": {},
     "output_type": "execute_result"
    }
   ],
   "source": [
    "svm_clf = SVC(random_state=1234,probability=True)\n",
    "svm_param = [{'kernel': ['linear'], 'C': [0.1,1]},\n",
    "                  {'kernel': ['rbf'], 'gamma': [0.1, 1e-2],'C': [0.1,1]}\n",
    "                 ]\n",
    "best_svm = grid_search_argo(dic_argo, 'SVM', svm_clf, svm_param, X_train, y_train)\n",
    "\n",
    "best_svm"
   ]
  },
  {
   "cell_type": "markdown",
   "metadata": {},
   "source": [
    "### 5-1-3. [DecisionTree](https://scikit-learn.org/stable/modules/generated/sklearn.tree.DecisionTreeClassifier.html)"
   ]
  },
  {
   "cell_type": "code",
   "execution_count": 12,
   "metadata": {},
   "outputs": [
    {
     "name": "stdout",
     "output_type": "stream",
     "text": [
      "BestScore: 0.574000 using {'max_depth': 5, 'min_samples_leaf': 3, 'min_samples_split': 2, 'splitter': 'random'}\n"
     ]
    },
    {
     "data": {
      "text/plain": [
       "DecisionTreeClassifier(class_weight=None, criterion='gini', max_depth=5,\n",
       "            max_features=None, max_leaf_nodes=None,\n",
       "            min_impurity_decrease=0.0, min_impurity_split=None,\n",
       "            min_samples_leaf=3, min_samples_split=2,\n",
       "            min_weight_fraction_leaf=0.0, presort=False, random_state=1234,\n",
       "            splitter='random')"
      ]
     },
     "execution_count": 12,
     "metadata": {},
     "output_type": "execute_result"
    }
   ],
   "source": [
    "dt_clf = DecisionTreeClassifier(criterion='gini',random_state=1234)\n",
    "dt_param = {'splitter':['best','random'],  # default='best' 各ノードで分割を選択するために使用される戦略\n",
    "            'max_depth' : [2,5],         # 木の深さ\n",
    "            'min_samples_split': [2,3],    # ノードを分割するために必要な最小サンプルサイズ\n",
    "            'min_samples_leaf':[1,3],      # 葉を構成するのに必要な最小限のサンプルの数\n",
    "            }\n",
    "best_dt = grid_search_argo(dic_argo, 'DecisionTree', dt_clf, dt_param, X_train, y_train)\n",
    "\n",
    "best_dt"
   ]
  },
  {
   "cell_type": "markdown",
   "metadata": {},
   "source": [
    "## 5-2. アンサンブル法（バギング）\n",
    "### 5-2-1. [RandomForest](https://scikit-learn.org/stable/modules/generated/sklearn.ensemble.RandomForestClassifier.html)"
   ]
  },
  {
   "cell_type": "code",
   "execution_count": 13,
   "metadata": {
    "scrolled": false
   },
   "outputs": [
    {
     "name": "stdout",
     "output_type": "stream",
     "text": [
      "BestScore: 0.578000 using {'max_depth': 2, 'min_samples_leaf': 3, 'min_samples_split': 2, 'n_estimators': 100}\n"
     ]
    },
    {
     "data": {
      "text/plain": [
       "RandomForestClassifier(bootstrap=True, class_weight=None, criterion='gini',\n",
       "            max_depth=2, max_features='auto', max_leaf_nodes=None,\n",
       "            min_impurity_decrease=0.0, min_impurity_split=None,\n",
       "            min_samples_leaf=3, min_samples_split=2,\n",
       "            min_weight_fraction_leaf=0.0, n_estimators=100, n_jobs=None,\n",
       "            oob_score=False, random_state=1234, verbose=0,\n",
       "            warm_start=False)"
      ]
     },
     "execution_count": 13,
     "metadata": {},
     "output_type": "execute_result"
    }
   ],
   "source": [
    "RFC_clf = RandomForestClassifier(random_state=1234)\n",
    "RFC_param = {'max_depth': [2],    # 木の深さ\n",
    "             'min_samples_split': [2,3], # ノードを分割するために必要な最小サンプルサイズ\n",
    "             'min_samples_leaf': [1,3],  # 葉を構成するのに必要な最小限のサンプルの数\n",
    "             'n_estimators' :[100,200],\n",
    "            }\n",
    "best_RFC = grid_search_argo(dic_argo, 'RandomForest', RFC_clf, RFC_param, X_train, y_train)\n",
    "\n",
    "best_RFC"
   ]
  },
  {
   "cell_type": "markdown",
   "metadata": {},
   "source": [
    "## 5-3. アンサンブル法（ブースティング）\n",
    "### 5-3-1. [AdaBoost](https://scikit-learn.org/stable/modules/generated/sklearn.ensemble.AdaBoostClassifier.html)"
   ]
  },
  {
   "cell_type": "code",
   "execution_count": 14,
   "metadata": {},
   "outputs": [
    {
     "name": "stdout",
     "output_type": "stream",
     "text": [
      "BestScore: 0.552000 using {'base_estimator__criterion': 'gini', 'base_estimator__max_depth': 2, 'base_estimator__min_samples_leaf': 3, 'base_estimator__min_samples_split': 2, 'learning_rate': 0.001, 'n_estimators': 500}\n"
     ]
    },
    {
     "data": {
      "text/plain": [
       "AdaBoostClassifier(algorithm='SAMME.R',\n",
       "          base_estimator=DecisionTreeClassifier(class_weight=None, criterion='gini', max_depth=2,\n",
       "            max_features=None, max_leaf_nodes=None,\n",
       "            min_impurity_decrease=0.0, min_impurity_split=None,\n",
       "            min_samples_leaf=3, min_samples_split=2,\n",
       "            min_weight_fraction_leaf=0.0, presort=False, random_state=1234,\n",
       "            splitter='best'),\n",
       "          learning_rate=0.001, n_estimators=500, random_state=1234)"
      ]
     },
     "execution_count": 14,
     "metadata": {},
     "output_type": "execute_result"
    }
   ],
   "source": [
    "ABC_clf = AdaBoostClassifier(DecisionTreeClassifier(random_state=1234), random_state=1234)\n",
    "ABC_param = {\"base_estimator__criterion\" : [\"gini\"],\n",
    "             'base_estimator__max_depth': [2],     # 木の深さ\n",
    "             'base_estimator__min_samples_split': [2], # ノードを分割するために必要な最小サンプルサイズ\n",
    "             'base_estimator__min_samples_leaf': [3],  # 葉を構成するのに必要な最小限のサンプルの数\n",
    "             'n_estimators':[500,800],                 # ブースティングする木の数\n",
    "             'learning_rate': [0.001]                  # 学習率\n",
    "            }\n",
    "best_ABC = grid_search_argo(dic_argo, 'AdaBoost', ABC_clf, ABC_param, X_train, y_train)\n",
    "\n",
    "best_ABC"
   ]
  },
  {
   "cell_type": "markdown",
   "metadata": {},
   "source": [
    "### 5-3-2. [GradientBoosting](https://scikit-learn.org/stable/modules/generated/sklearn.ensemble.GradientBoostingClassifier.html)"
   ]
  },
  {
   "cell_type": "code",
   "execution_count": 15,
   "metadata": {},
   "outputs": [
    {
     "name": "stdout",
     "output_type": "stream",
     "text": [
      "BestScore: 0.565000 using {'learning_rate': 0.05, 'loss': 'deviance', 'max_depth': 2, 'max_features': 'sqrt', 'min_samples_leaf': 1, 'min_samples_split': 2, 'n_estimators': 1200}\n"
     ]
    },
    {
     "data": {
      "text/plain": [
       "GradientBoostingClassifier(criterion='friedman_mse', init=None,\n",
       "              learning_rate=0.05, loss='deviance', max_depth=2,\n",
       "              max_features='sqrt', max_leaf_nodes=None,\n",
       "              min_impurity_decrease=0.0, min_impurity_split=None,\n",
       "              min_samples_leaf=1, min_samples_split=2,\n",
       "              min_weight_fraction_leaf=0.0, n_estimators=1200,\n",
       "              n_iter_no_change=None, presort='auto', random_state=1234,\n",
       "              subsample=1.0, tol=0.0001, validation_fraction=0.1,\n",
       "              verbose=0, warm_start=False)"
      ]
     },
     "execution_count": 15,
     "metadata": {},
     "output_type": "execute_result"
    }
   ],
   "source": [
    "GBC_clf = GradientBoostingClassifier(random_state=1234)\n",
    "GBC_param = {'loss' : ['deviance'],   # 最適化される損失関数\n",
    "             'n_estimators' : [1200], # ブースティングする木の数\n",
    "             'learning_rate': [0.05], # 学習率\n",
    "             'max_depth': [2],        # 木の深さ\n",
    "             'min_samples_leaf': [1], # 葉を構成するのに必要な最小限のサンプルの数\n",
    "             'min_samples_split': [2], # 内部ノードを分割するために必要なサンプルの最小数\n",
    "             'max_features': ['sqrt']  # 最適な分割を探すときに考慮する機能の数\n",
    "             }\n",
    "best_GBC = grid_search_argo(dic_argo, 'GradientBoosting', GBC_clf, GBC_param, X_train, y_train)\n",
    "\n",
    "best_GBC"
   ]
  },
  {
   "cell_type": "markdown",
   "metadata": {},
   "source": [
    "### 5-3-3. [XGBoost](https://xgboost.readthedocs.io/en/latest/python/python_api.html#module-xgboost.sklearn)"
   ]
  },
  {
   "cell_type": "code",
   "execution_count": 16,
   "metadata": {},
   "outputs": [
    {
     "name": "stdout",
     "output_type": "stream",
     "text": [
      "BestScore: 0.548000 using {'colsample_bytree': 0.8, 'eta': 0.3, 'gamma': 0.1, 'learning_rate': 0.08, 'max_depth': 2, 'min_child_weight': 1, 'n_estimators': 300, 'subsample': 0.6}\n"
     ]
    },
    {
     "data": {
      "text/plain": [
       "XGBClassifier(base_score=0.5, booster='gbtree', colsample_bylevel=1,\n",
       "       colsample_bynode=1, colsample_bytree=0.8, eta=0.3, gamma=0.1,\n",
       "       learning_rate=0.08, max_delta_step=0, max_depth=2,\n",
       "       min_child_weight=1, missing=None, n_estimators=300, n_jobs=1,\n",
       "       nthread=None, objective='binary:logistic', random_state=1234,\n",
       "       reg_alpha=0, reg_lambda=1, scale_pos_weight=1, seed=None,\n",
       "       silent=None, subsample=0.6, verbosity=1)"
      ]
     },
     "execution_count": 16,
     "metadata": {},
     "output_type": "execute_result"
    }
   ],
   "source": [
    "XGB_clf = xgb.XGBClassifier(objective= 'binary:logistic',random_state=1234)\n",
    "XGB_param = {'learning_rate': [0.08],   # 学習率\n",
    "             'max_depth': [2],          # 木の深さ\n",
    "             'min_child_weight': [1],   # 子ノードにおいて観察されるデータの重み付けの合計\n",
    "             'subsample': [0.6],        # トレーニングインスタンスのサブサンプル率\n",
    "             'colsample_bytree': [0.8], # 各木を構築するときの列のサブサンプル比\n",
    "             'n_estimators': [300],     # ブースティングする木の数\n",
    "             'gamma':[0.1],             # 木のノードにさらにパーティションを作成するために必要な最小限の損失削減\n",
    "             'eta': [0.3],              # 学習率を調整できる。小さくすることで、モデルの頑健性を高めることができる。\n",
    "            }\n",
    "best_XGB = grid_search_argo(dic_argo, 'XGBoost', XGB_clf, XGB_param, X_train, y_train)\n",
    "\n",
    "best_XGB"
   ]
  },
  {
   "cell_type": "markdown",
   "metadata": {},
   "source": [
    "### 4-3-4. [LightGBM](https://lightgbm.readthedocs.io/en/latest/pythonapi/lightgbm.LGBMClassifier.html)"
   ]
  },
  {
   "cell_type": "code",
   "execution_count": 17,
   "metadata": {},
   "outputs": [
    {
     "name": "stdout",
     "output_type": "stream",
     "text": [
      "BestScore: 0.578000 using {'colsample_bytree': 0.8, 'learning_rate': 0.01, 'max_depth': 2, 'n_estimators': 1200, 'num_leaves': 14, 'reg_alpha': 0.01, 'reg_lambda': 0, 'subsample': 0.01}\n"
     ]
    },
    {
     "data": {
      "text/plain": [
       "LGBMClassifier(boosting_type='gbdt', class_weight=None, colsample_bytree=0.8,\n",
       "        importance_type='split', learning_rate=0.01, max_depth=2,\n",
       "        min_child_samples=20, min_child_weight=0.001, min_split_gain=0.0,\n",
       "        n_estimators=1200, n_jobs=-1, num_leaves=14, objective='binary',\n",
       "        random_state=1234, reg_alpha=0.01, reg_lambda=0, silent=True,\n",
       "        subsample=0.01, subsample_for_bin=200000, subsample_freq=0)"
      ]
     },
     "execution_count": 17,
     "metadata": {},
     "output_type": "execute_result"
    }
   ],
   "source": [
    "LGB_clf = lgb.LGBMClassifier(objective='binary',random_state=1234)\n",
    "LGB_param ={'n_estimators':[1200],     # ブースティングする木の数\n",
    "            'max_depth':[2],          # 木の深さ\n",
    "            'num_leaves':[14],         # 木の葉の最大数\n",
    "            'learning_rate':[0.01],    # 学習率\n",
    "            'colsample_bytree':[0.8],  # 各木を構築するときの列のサブサンプル比\n",
    "            'subsample':[0.01],        # トレーニングインスタンスのサブサンプル率\n",
    "            'reg_alpha':[0.01],        # 重みに関するL1正則化項\n",
    "            'reg_lambda':[0],          # 重みに関するL2正則化項\n",
    "            }\n",
    "best_LGB = grid_search_argo(dic_argo, 'LightGBM', LGB_clf, LGB_param, X_train, y_train)\n",
    "\n",
    "best_LGB"
   ]
  },
  {
   "cell_type": "markdown",
   "metadata": {},
   "source": [
    "## 5-4.  ニューラルネットワーク\n",
    "### 5-4-1. [ Neural Network](https://keras.io/ja/layers/core/)"
   ]
  },
  {
   "cell_type": "code",
   "execution_count": 18,
   "metadata": {},
   "outputs": [
    {
     "name": "stderr",
     "output_type": "stream",
     "text": [
      "Using TensorFlow backend.\n"
     ]
    },
    {
     "name": "stdout",
     "output_type": "stream",
     "text": [
      "WARNING:tensorflow:From C:\\Users\\arsma\\Anaconda3\\lib\\site-packages\\tensorflow\\python\\ops\\init_ops.py:1251: calling VarianceScaling.__init__ (from tensorflow.python.ops.init_ops) with dtype is deprecated and will be removed in a future version.\n",
      "Instructions for updating:\n",
      "Call initializer instance with the dtype argument instead of passing it to the constructor\n",
      "WARNING:tensorflow:From C:\\Users\\arsma\\Anaconda3\\lib\\site-packages\\tensorflow\\python\\ops\\nn_impl.py:180: add_dispatch_support.<locals>.wrapper (from tensorflow.python.ops.array_ops) is deprecated and will be removed in a future version.\n",
      "Instructions for updating:\n",
      "Use tf.where in 2.0, which has the same broadcast rule as np.where\n",
      "BestScore: 0.609000 using {'batch_size': 20, 'nb_epoch': 20}\n",
      "score_train= 64.34782608695652\n",
      "score_test= 57.14285714285714\n"
     ]
    },
    {
     "data": {
      "image/png": "[encoded data removed]",
      "text/plain": [
       "<Figure size 432x288 with 1 Axes>"
      ]
     },
     "metadata": {
      "needs_background": "light"
     },
     "output_type": "display_data"
    },
    {
     "data": {
      "image/png": "[encoded data removed]",
      "text/plain": [
       "<Figure size 432x288 with 1 Axes>"
      ]
     },
     "metadata": {
      "needs_background": "light"
     },
     "output_type": "display_data"
    }
   ],
   "source": [
    "from tensorflow.compat.v1.keras            import Sequential\n",
    "from tensorflow.compat.v1.keras.layers     import Dense, Dropout, Activation\n",
    "from tensorflow.compat.v1.keras.optimizers import SGD, RMSprop, Adagrad, Adadelta, Adam\n",
    "from keras.wrappers.scikit_learn           import KerasClassifier\n",
    "\n",
    "def build_nn():\n",
    "    nn = Sequential()    \n",
    "    nn.add(Dense(units=32, activation='relu', input_dim=len(list_X_columns)))\n",
    "    nn.add(Dense(units=128, activation='relu'))\n",
    "    nn.add(Dense(units=16, activation='relu'))\n",
    "    nn.add(Dense(units=1, activation='sigmoid'))\n",
    "    nn.compile(optimizer=Adam(lr=0.001), loss='binary_crossentropy', metrics=['accuracy'])    \n",
    "    return nn\n",
    "\n",
    "NN_param = dict(nb_epoch= [10,20,30],batch_size= [10,20])\n",
    "best_NN = grid_search_argo(dic_argo, 'NeuralNetwork',KerasClassifier(build_fn=build_nn,verbose=0), NN_param, X_train, y_train)\n",
    "\n",
    "y_test_pred_NN =(best_NN.predict(X_test) > 0.5).reshape(-1,)\n",
    "y_train_pred_NN =(best_NN.predict(X_train) > 0.5).reshape(-1,)\n",
    "print('score_train=',100 * accuracy_score(y_train, y_train_pred_NN))\n",
    "print('score_test=',100 * accuracy_score(y_test, y_test_pred_NN))\n",
    "\n",
    "# 計算の実行\n",
    "fit = best_NN.fit(X_train, y_train,\n",
    "          epochs=30, # エポック：学習データを何巡するか（50回データをみて学習する）※小さくすると十分に学習できない。\n",
    "          batch_size=10,# 100個データあったとしてもランダムに20個ずつ取り出して重みを更新する\n",
    "          validation_data=(X_test, y_test),\n",
    "          verbose=0# ログを非表示\n",
    ") \n",
    "\n",
    "# 各epochにおける損失と精度をdfに入れる\n",
    "df = pd.DataFrame(fit.history)\n",
    "\n",
    "# グラフ化\n",
    "df[[\"loss\", \"val_loss\"]].plot()\n",
    "plt.ylabel(\"loss\")\n",
    "plt.xlabel(\"epoch\")\n",
    "plt.show()\n",
    "\n",
    "df[[\"acc\", \"val_acc\"]].plot()\n",
    "plt.ylabel(\"acc\")\n",
    "plt.xlabel(\"epoch\")\n",
    "plt.ylim([0,1.0])\n",
    "plt.show()"
   ]
  },
  {
   "cell_type": "markdown",
   "metadata": {},
   "source": [
    "## 5-5. アンサンブル × アンサンブル\n",
    "### 5-5-1. [VotingClassifier](https://scikit-learn.org/stable/modules/generated/sklearn.ensemble.VotingClassifier.html)"
   ]
  },
  {
   "cell_type": "code",
   "execution_count": 19,
   "metadata": {},
   "outputs": [
    {
     "data": {
      "image/png": "[encoded data removed]",
      "text/plain": [
       "<Figure size 576x288 with 2 Axes>"
      ]
     },
     "metadata": {
      "needs_background": "light"
     },
     "output_type": "display_data"
    },
    {
     "name": "stdout",
     "output_type": "stream",
     "text": [
      "→相関の低いモデル同士を掛け合わせる。\n"
     ]
    }
   ],
   "source": [
    "# 各アルゴリズムの予測結果をヒートマップで比較\n",
    "mdl_results = pd.concat([pd.Series(best_lr.predict(X_test), name=\"LR\"), \n",
    "                         pd.Series(best_svm.predict(X_test), name=\"SVM\"), \n",
    "                         pd.Series(best_dt.predict(X_test), name=\"DT\"), \n",
    "                         pd.Series(best_RFC.predict(X_test), name=\"RFC\"),\n",
    "                         pd.Series(best_ABC.predict(X_test), name=\"ABC\"),\n",
    "                         pd.Series(best_GBC.predict(X_test), name=\"GBC\"),\n",
    "                         pd.Series(best_XGB.predict(X_test), name=\"XGB\"),\n",
    "                         pd.Series(best_LGB.predict(X_test), name=\"LGM\"),\n",
    "                         pd.Series(y_test_pred_NN, name=\"NN\"),\n",
    "                         ],axis=1)\n",
    "\n",
    "plt.figure(figsize =(8, 4))\n",
    "sns.heatmap(mdl_results.corr(), annot=True, fmt='1.3f', vmax=1, vmin=-1, center=0)\n",
    "plt.title('Correlation beetween models results', size=12)\n",
    "plt.show()\n",
    "\n",
    "print('→相関の低いモデル同士を掛け合わせる。')"
   ]
  },
  {
   "cell_type": "code",
   "execution_count": 20,
   "metadata": {},
   "outputs": [
    {
     "name": "stdout",
     "output_type": "stream",
     "text": [
      "BestScore: 0.591000 using {'voting': 'hard', 'weights': None}\n"
     ]
    },
    {
     "data": {
      "text/plain": [
       "VotingClassifier(estimators=[('lr', SGDClassifier(alpha=0.0001, average=False, class_weight=None,\n",
       "       early_stopping=False, epsilon=0.1, eta0=0.0, fit_intercept=True,\n",
       "       l1_ratio=0.15, learning_rate='optimal', loss='log', max_iter=10000,\n",
       "       n_iter=None, n_iter_no_change=5, n_jobs=None, penalty='None',\n",
       "   ...01, reg_lambda=0, silent=True,\n",
       "        subsample=0.01, subsample_for_bin=200000, subsample_freq=0))],\n",
       "         flatten_transform=None, n_jobs=-1, voting='hard', weights=None)"
      ]
     },
     "execution_count": 20,
     "metadata": {},
     "output_type": "execute_result"
    }
   ],
   "source": [
    "# 相関の高いモデル同士を掛け合わせる\n",
    "VOC_clf = VotingClassifier(estimators=[('lr', best_lr),\n",
    "                                       ('svm', best_svm),\n",
    "                                       ('dt', best_dt),\n",
    "                                       #('rfc', best_RFC),\n",
    "                                       #('abc', best_ABC),\n",
    "                                       ('gbc', best_GBC),\n",
    "                                       ('xgb', best_XGB),\n",
    "                                       ('lgb', best_LGB),\n",
    "                                      ], n_jobs=-1)\n",
    "\n",
    "VOC_param = {'voting': ['hard'],'weights':[None]}\n",
    "best_VOC = grid_search_argo(dic_argo, 'VotingClassifier', VOC_clf, VOC_param, X_train, y_train)\n",
    "\n",
    "best_VOC"
   ]
  },
  {
   "cell_type": "code",
   "execution_count": 21,
   "metadata": {
    "scrolled": false
   },
   "outputs": [
    {
     "data": {
      "text/plain": [
       "'\\nplot_learning_curve(best_lr,\"1.LogisticRegression learning curves\",X_train,y_train,cv=kfold)\\nplot_learning_curve(best_svm,\"2.SVM learning curves\",X_train,y_train,cv=kfold)\\nplot_learning_curve(best_dt,\"3.Decition Tree learning curves\",X_train,y_train,cv=kfold)\\nplot_learning_curve(best_RFC,\"4.RandomForest learning curves\",X_train,y_train,cv=kfold)\\nplot_learning_curve(best_ABC,\"5.AdaBoost learning curves\",X_train,y_train,cv=kfold)\\nplot_learning_curve(best_GBC,\"6.GradientBoosting learning curves\",X_train,y_train,cv=kfold)\\nplot_learning_curve(best_XGB,\"7.XGBoost learning curves\",X_train,y_train,cv=kfold)\\nplot_learning_curve(best_LGB,\"8.LightGBM learning curves\",X_train,y_train,cv=kfold)\\nplot_learning_curve(best_NN,\"9.Neural Network learning curves\",X_train,y_train,cv=kfold)\\nplot_learning_curve(best_VOC,\"10.VotingClassifier learning curves\",X_train,y_train,cv=kfold)\\n'"
      ]
     },
     "execution_count": 21,
     "metadata": {},
     "output_type": "execute_result"
    }
   ],
   "source": [
    "'''\n",
    "plot_learning_curve(best_lr,\"1.LogisticRegression learning curves\",X_train,y_train,cv=kfold)\n",
    "plot_learning_curve(best_svm,\"2.SVM learning curves\",X_train,y_train,cv=kfold)\n",
    "plot_learning_curve(best_dt,\"3.Decition Tree learning curves\",X_train,y_train,cv=kfold)\n",
    "plot_learning_curve(best_RFC,\"4.RandomForest learning curves\",X_train,y_train,cv=kfold)\n",
    "plot_learning_curve(best_ABC,\"5.AdaBoost learning curves\",X_train,y_train,cv=kfold)\n",
    "plot_learning_curve(best_GBC,\"6.GradientBoosting learning curves\",X_train,y_train,cv=kfold)\n",
    "plot_learning_curve(best_XGB,\"7.XGBoost learning curves\",X_train,y_train,cv=kfold)\n",
    "plot_learning_curve(best_LGB,\"8.LightGBM learning curves\",X_train,y_train,cv=kfold)\n",
    "plot_learning_curve(best_NN,\"9.Neural Network learning curves\",X_train,y_train,cv=kfold)\n",
    "plot_learning_curve(best_VOC,\"10.VotingClassifier learning curves\",X_train,y_train,cv=kfold)\n",
    "'''"
   ]
  },
  {
   "cell_type": "code",
   "execution_count": 22,
   "metadata": {},
   "outputs": [
    {
     "data": {
      "image/png": "[encoded data removed]",
      "text/plain": [
       "<Figure size 576x288 with 1 Axes>"
      ]
     },
     "metadata": {
      "needs_background": "light"
     },
     "output_type": "display_data"
    },
    {
     "data": {
      "image/png": "[encoded data removed]",
      "text/plain": [
       "<Figure size 576x288 with 1 Axes>"
      ]
     },
     "metadata": {
      "needs_background": "light"
     },
     "output_type": "display_data"
    },
    {
     "data": {
      "image/png": "[encoded data removed]",
      "text/plain": [
       "<Figure size 576x288 with 1 Axes>"
      ]
     },
     "metadata": {
      "needs_background": "light"
     },
     "output_type": "display_data"
    },
    {
     "data": {
      "image/png": "[encoded data removed]",
      "text/plain": [
       "<Figure size 576x288 with 1 Axes>"
      ]
     },
     "metadata": {
      "needs_background": "light"
     },
     "output_type": "display_data"
    },
    {
     "data": {
      "image/png": "[encoded data removed]",
      "text/plain": [
       "<Figure size 576x288 with 1 Axes>"
      ]
     },
     "metadata": {
      "needs_background": "light"
     },
     "output_type": "display_data"
    },
    {
     "data": {
      "image/png": "[encoded data removed]",
      "text/plain": [
       "<Figure size 576x288 with 1 Axes>"
      ]
     },
     "metadata": {
      "needs_background": "light"
     },
     "output_type": "display_data"
    }
   ],
   "source": [
    "for k,grid_result in dic_argo.items():    \n",
    "    if(hasattr(grid_result.best_estimator_, 'feature_importances_')):\n",
    "        plot_feature_importance(grid_result.best_estimator_, list_X_columns, k)"
   ]
  },
  {
   "cell_type": "markdown",
   "metadata": {},
   "source": [
    "## 6. モデル評価<a id='result'></a>"
   ]
  },
  {
   "cell_type": "code",
   "execution_count": 23,
   "metadata": {},
   "outputs": [
    {
     "name": "stdout",
     "output_type": "stream",
     "text": [
      "\n",
      "▼ モデルの評価結果一覧\n"
     ]
    },
    {
     "data": {
      "text/html": [
       "<div>\n",
       "<style scoped>\n",
       "    .dataframe tbody tr th:only-of-type {\n",
       "        vertical-align: middle;\n",
       "    }\n",
       "\n",
       "    .dataframe tbody tr th {\n",
       "        vertical-align: top;\n",
       "    }\n",
       "\n",
       "    .dataframe thead th {\n",
       "        text-align: right;\n",
       "    }\n",
       "</style>\n",
       "<table border=\"1\" class=\"dataframe\">\n",
       "  <thead>\n",
       "    <tr style=\"text-align: right;\">\n",
       "      <th></th>\n",
       "      <th>model_name</th>\n",
       "      <th>train_acc_score</th>\n",
       "      <th>test_acc_score</th>\n",
       "      <th>precision</th>\n",
       "      <th>recall</th>\n",
       "      <th>F1</th>\n",
       "    </tr>\n",
       "  </thead>\n",
       "  <tbody>\n",
       "    <tr>\n",
       "      <th>0</th>\n",
       "      <td>LogisticRegression</td>\n",
       "      <td>65.2174</td>\n",
       "      <td>48.2143</td>\n",
       "      <td>51.4286</td>\n",
       "      <td>60</td>\n",
       "      <td>55.3846</td>\n",
       "    </tr>\n",
       "    <tr>\n",
       "      <th>1</th>\n",
       "      <td>SVM</td>\n",
       "      <td>70.8696</td>\n",
       "      <td>55.3571</td>\n",
       "      <td>59.2593</td>\n",
       "      <td>53.3333</td>\n",
       "      <td>56.1404</td>\n",
       "    </tr>\n",
       "    <tr>\n",
       "      <th>2</th>\n",
       "      <td>DecisionTree</td>\n",
       "      <td>70.8696</td>\n",
       "      <td>48.2143</td>\n",
       "      <td>51.5152</td>\n",
       "      <td>56.6667</td>\n",
       "      <td>53.9683</td>\n",
       "    </tr>\n",
       "    <tr>\n",
       "      <th>3</th>\n",
       "      <td>RandomForest</td>\n",
       "      <td>69.5652</td>\n",
       "      <td>57.1429</td>\n",
       "      <td>57.5</td>\n",
       "      <td>76.6667</td>\n",
       "      <td>65.7143</td>\n",
       "    </tr>\n",
       "    <tr>\n",
       "      <th>4</th>\n",
       "      <td>AdaBoost</td>\n",
       "      <td>74.7826</td>\n",
       "      <td>64.2857</td>\n",
       "      <td>65.625</td>\n",
       "      <td>70</td>\n",
       "      <td>67.7419</td>\n",
       "    </tr>\n",
       "    <tr>\n",
       "      <th>5</th>\n",
       "      <td>GradientBoosting</td>\n",
       "      <td>100</td>\n",
       "      <td>62.5</td>\n",
       "      <td>66.6667</td>\n",
       "      <td>60</td>\n",
       "      <td>63.1579</td>\n",
       "    </tr>\n",
       "    <tr>\n",
       "      <th>6</th>\n",
       "      <td>XGBoost</td>\n",
       "      <td>97.3913</td>\n",
       "      <td>62.5</td>\n",
       "      <td>63.6364</td>\n",
       "      <td>70</td>\n",
       "      <td>66.6667</td>\n",
       "    </tr>\n",
       "    <tr>\n",
       "      <th>7</th>\n",
       "      <td>LightGBM</td>\n",
       "      <td>86.9565</td>\n",
       "      <td>62.5</td>\n",
       "      <td>64.5161</td>\n",
       "      <td>66.6667</td>\n",
       "      <td>65.5738</td>\n",
       "    </tr>\n",
       "    <tr>\n",
       "      <th>8</th>\n",
       "      <td>NeuralNetwork</td>\n",
       "      <td>95.6522</td>\n",
       "      <td>53.5714</td>\n",
       "      <td>57.1429</td>\n",
       "      <td>53.3333</td>\n",
       "      <td>55.1724</td>\n",
       "    </tr>\n",
       "    <tr>\n",
       "      <th>9</th>\n",
       "      <td>VotingClassifier</td>\n",
       "      <td>87.3913</td>\n",
       "      <td>55.3571</td>\n",
       "      <td>56.7568</td>\n",
       "      <td>70</td>\n",
       "      <td>62.6866</td>\n",
       "    </tr>\n",
       "  </tbody>\n",
       "</table>\n",
       "</div>"
      ],
      "text/plain": [
       "           model_name train_acc_score test_acc_score precision   recall  \\\n",
       "0  LogisticRegression         65.2174        48.2143   51.4286       60   \n",
       "1                 SVM         70.8696        55.3571   59.2593  53.3333   \n",
       "2        DecisionTree         70.8696        48.2143   51.5152  56.6667   \n",
       "3        RandomForest         69.5652        57.1429      57.5  76.6667   \n",
       "4            AdaBoost         74.7826        64.2857    65.625       70   \n",
       "5    GradientBoosting             100           62.5   66.6667       60   \n",
       "6             XGBoost         97.3913           62.5   63.6364       70   \n",
       "7            LightGBM         86.9565           62.5   64.5161  66.6667   \n",
       "8       NeuralNetwork         95.6522        53.5714   57.1429  53.3333   \n",
       "9    VotingClassifier         87.3913        55.3571   56.7568       70   \n",
       "\n",
       "        F1  \n",
       "0  55.3846  \n",
       "1  56.1404  \n",
       "2  53.9683  \n",
       "3  65.7143  \n",
       "4  67.7419  \n",
       "5  63.1579  \n",
       "6  66.6667  \n",
       "7  65.5738  \n",
       "8  55.1724  \n",
       "9  62.6866  "
      ]
     },
     "metadata": {},
     "output_type": "display_data"
    },
    {
     "name": "stdout",
     "output_type": "stream",
     "text": [
      "\n",
      "▼ Day3 モデルの評価結果\n",
      "最良モデル = SVM：{'C': 0.1, 'kernel': 'linear'}\n",
      "訓練データサイズ = (230, 23)\n",
      "対数尤度 = -15.419\n",
      "正答率（訓練データ） = 70.870%\n",
      "正答率（テストデータ）= 55.357% ※汎化性能\n",
      "適合率（Precision※精度) = 59.259%\n",
      "再現率（Recall※検出率) = 53.333%\n",
      "F1値（F1-score） = 56.140%\n",
      "\n",
      "▼ 混同行列\n"
     ]
    },
    {
     "data": {
      "text/html": [
       "<div>\n",
       "<style scoped>\n",
       "    .dataframe tbody tr th:only-of-type {\n",
       "        vertical-align: middle;\n",
       "    }\n",
       "\n",
       "    .dataframe tbody tr th {\n",
       "        vertical-align: top;\n",
       "    }\n",
       "\n",
       "    .dataframe thead th {\n",
       "        text-align: right;\n",
       "    }\n",
       "</style>\n",
       "<table border=\"1\" class=\"dataframe\">\n",
       "  <thead>\n",
       "    <tr style=\"text-align: right;\">\n",
       "      <th></th>\n",
       "      <th>予測 = 翌日上昇しない</th>\n",
       "      <th>予測 = 翌日上昇する</th>\n",
       "    </tr>\n",
       "  </thead>\n",
       "  <tbody>\n",
       "    <tr>\n",
       "      <th>正解 = 翌日上昇しない</th>\n",
       "      <td>16</td>\n",
       "      <td>14</td>\n",
       "    </tr>\n",
       "    <tr>\n",
       "      <th>正解 =翌日上昇する</th>\n",
       "      <td>11</td>\n",
       "      <td>15</td>\n",
       "    </tr>\n",
       "  </tbody>\n",
       "</table>\n",
       "</div>"
      ],
      "text/plain": [
       "              予測 = 翌日上昇しない  予測 = 翌日上昇する\n",
       "正解 = 翌日上昇しない            16           14\n",
       "正解 =翌日上昇する              11           15"
      ]
     },
     "metadata": {},
     "output_type": "display_data"
    }
   ],
   "source": [
    "# 全モデルの評価結果をDataFrameへ格納\n",
    "res_df = pd.DataFrame(columns=['model_name','train_acc_score','test_acc_score','precision','recall','F1'])\n",
    "\n",
    "# 全モデル比較\n",
    "first_flg = True\n",
    "for k,grid_result in dic_argo.items():\n",
    "    tmp_score = grid_result.best_score_\n",
    "    \n",
    "    # 一覧追加\n",
    "    y_train_pred = grid_result.best_estimator_.predict(X_train)\n",
    "    y_test_pred = grid_result.best_estimator_.predict(X_test)\n",
    "    precision, recall, f1_score, _ = precision_recall_fscore_support(y_test, y_test_pred)\n",
    "    addRow = pd.DataFrame([k, 100 * accuracy_score(y_train, y_train_pred),\n",
    "                              100 * accuracy_score(y_test, y_test_pred),\n",
    "                              100 * precision[0],\n",
    "                              100 * recall[0],\n",
    "                              100 * f1_score[0]], index=res_df.columns).T\n",
    "    res_df = res_df.append(addRow, ignore_index=True)\n",
    "    \n",
    "    # 最良モデル取得\n",
    "    if (first_flg):\n",
    "        max_score = tmp_score\n",
    "        best_model = k\n",
    "        best_clf = grid_result.best_estimator_\n",
    "        best_param = grid_result.best_params_\n",
    "        first_flg = False\n",
    "    if (max_score < tmp_score):\n",
    "        max_score = tmp_score\n",
    "        best_model = k\n",
    "        best_clf = grid_result.best_estimator_\n",
    "        best_param = grid_result.best_params_\n",
    "\n",
    "print('\\n▼ モデルの評価結果一覧')\n",
    "display(res_df)\n",
    "\n",
    "# 最良モデルの評価\n",
    "y_train_pred = best_clf.predict(X_train) # 訓練データ\n",
    "y_test_pred = best_clf.predict(X_test) # テストデータ\n",
    "score_train = 100 * accuracy_score(y_train, y_train_pred)\n",
    "score_test = 100 * accuracy_score(y_test, y_test_pred)\n",
    "precision, recall, f1_score, _ = precision_recall_fscore_support(y_test, y_test_pred)\n",
    "v_precision = 100 * precision[0]\n",
    "v_recall= 100 * recall[0]\n",
    "v_F1 = 100 * f1_score[0]\n",
    "\n",
    "print('\\n▼ Day3 モデルの評価結果')\n",
    "print('最良モデル = ' + str(best_model) + '：' + str(best_param))\n",
    "print('訓練データサイズ = ' + str(X_train.shape))\n",
    "print('対数尤度 = {:.3f}'.format(- log_loss(y_test, y_test_pred)))\n",
    "print('正答率（訓練データ） = {:.3f}%'.format(score_train))\n",
    "print('正答率（テストデータ）= {:.3f}% ※汎化性能'.format(score_test))\n",
    "print('適合率（Precision※精度) = {:.3f}%'.format(v_precision))\n",
    "print('再現率（Recall※検出率) = {:.3f}%'.format(v_recall))\n",
    "print('F1値（F1-score） = {:.3f}%'.format(v_F1))\n",
    "print('\\n▼ 混同行列')\n",
    "conf_mat = pd.DataFrame(confusion_matrix(y_test, y_test_pred), \n",
    "                        index=['正解 = 翌日上昇しない', '正解 =翌日上昇する'], \n",
    "                        columns=['予測 = 翌日上昇しない', '予測 = 翌日上昇する'])\n",
    "display(conf_mat)"
   ]
  },
  {
   "cell_type": "code",
   "execution_count": 24,
   "metadata": {},
   "outputs": [
    {
     "data": {
      "text/markdown": [
       "\n",
       "\n",
       "**▼ 閾値以上の信頼度でトレードした場合の勝率**"
      ],
      "text/plain": [
       "<IPython.core.display.Markdown object>"
      ]
     },
     "metadata": {},
     "output_type": "display_data"
    },
    {
     "data": {
      "text/html": [
       "<div>\n",
       "<style scoped>\n",
       "    .dataframe tbody tr th:only-of-type {\n",
       "        vertical-align: middle;\n",
       "    }\n",
       "\n",
       "    .dataframe tbody tr th {\n",
       "        vertical-align: top;\n",
       "    }\n",
       "\n",
       "    .dataframe thead th {\n",
       "        text-align: right;\n",
       "    }\n",
       "</style>\n",
       "<table border=\"1\" class=\"dataframe\">\n",
       "  <thead>\n",
       "    <tr style=\"text-align: right;\">\n",
       "      <th></th>\n",
       "      <th>pred</th>\n",
       "      <th>actual</th>\n",
       "      <th>max_prob</th>\n",
       "    </tr>\n",
       "  </thead>\n",
       "  <tbody>\n",
       "    <tr>\n",
       "      <th>0</th>\n",
       "      <td>0</td>\n",
       "      <td>0</td>\n",
       "      <td>0.661762</td>\n",
       "    </tr>\n",
       "    <tr>\n",
       "      <th>1</th>\n",
       "      <td>1</td>\n",
       "      <td>0</td>\n",
       "      <td>0.767344</td>\n",
       "    </tr>\n",
       "    <tr>\n",
       "      <th>3</th>\n",
       "      <td>0</td>\n",
       "      <td>0</td>\n",
       "      <td>0.634120</td>\n",
       "    </tr>\n",
       "    <tr>\n",
       "      <th>4</th>\n",
       "      <td>0</td>\n",
       "      <td>0</td>\n",
       "      <td>0.761877</td>\n",
       "    </tr>\n",
       "    <tr>\n",
       "      <th>8</th>\n",
       "      <td>0</td>\n",
       "      <td>1</td>\n",
       "      <td>0.668658</td>\n",
       "    </tr>\n",
       "    <tr>\n",
       "      <th>9</th>\n",
       "      <td>1</td>\n",
       "      <td>0</td>\n",
       "      <td>0.623908</td>\n",
       "    </tr>\n",
       "    <tr>\n",
       "      <th>10</th>\n",
       "      <td>0</td>\n",
       "      <td>0</td>\n",
       "      <td>0.657411</td>\n",
       "    </tr>\n",
       "    <tr>\n",
       "      <th>11</th>\n",
       "      <td>0</td>\n",
       "      <td>1</td>\n",
       "      <td>0.603160</td>\n",
       "    </tr>\n",
       "    <tr>\n",
       "      <th>12</th>\n",
       "      <td>0</td>\n",
       "      <td>0</td>\n",
       "      <td>0.697820</td>\n",
       "    </tr>\n",
       "    <tr>\n",
       "      <th>13</th>\n",
       "      <td>0</td>\n",
       "      <td>0</td>\n",
       "      <td>0.646038</td>\n",
       "    </tr>\n",
       "  </tbody>\n",
       "</table>\n",
       "</div>"
      ],
      "text/plain": [
       "    pred  actual  max_prob\n",
       "0      0       0  0.661762\n",
       "1      1       0  0.767344\n",
       "3      0       0  0.634120\n",
       "4      0       0  0.761877\n",
       "8      0       1  0.668658\n",
       "9      1       0  0.623908\n",
       "10     0       0  0.657411\n",
       "11     0       1  0.603160\n",
       "12     0       0  0.697820\n",
       "13     0       0  0.646038"
      ]
     },
     "metadata": {},
     "output_type": "display_data"
    },
    {
     "name": "stdout",
     "output_type": "stream",
     "text": [
      "正答率（※閾値指定）=58.333%\n"
     ]
    },
    {
     "data": {
      "text/markdown": [
       "\n",
       "\n",
       "**▼ 明日の予測**"
      ],
      "text/plain": [
       "<IPython.core.display.Markdown object>"
      ]
     },
     "metadata": {},
     "output_type": "display_data"
    },
    {
     "data": {
      "text/html": [
       "<div>\n",
       "<style scoped>\n",
       "    .dataframe tbody tr th:only-of-type {\n",
       "        vertical-align: middle;\n",
       "    }\n",
       "\n",
       "    .dataframe tbody tr th {\n",
       "        vertical-align: top;\n",
       "    }\n",
       "\n",
       "    .dataframe thead th {\n",
       "        text-align: right;\n",
       "    }\n",
       "</style>\n",
       "<table border=\"1\" class=\"dataframe\">\n",
       "  <thead>\n",
       "    <tr style=\"text-align: right;\">\n",
       "      <th></th>\n",
       "      <th>time</th>\n",
       "      <th>open</th>\n",
       "      <th>high</th>\n",
       "      <th>low</th>\n",
       "      <th>close</th>\n",
       "      <th>tomorrow_pred</th>\n",
       "      <th>prob0</th>\n",
       "      <th>prob1</th>\n",
       "    </tr>\n",
       "  </thead>\n",
       "  <tbody>\n",
       "    <tr>\n",
       "      <th>0</th>\n",
       "      <td>2020-02-08 03:00:00</td>\n",
       "      <td>109.812</td>\n",
       "      <td>109.853</td>\n",
       "      <td>109.707</td>\n",
       "      <td>109.799</td>\n",
       "      <td>0</td>\n",
       "      <td>0.539209</td>\n",
       "      <td>0.460791</td>\n",
       "    </tr>\n",
       "  </tbody>\n",
       "</table>\n",
       "</div>"
      ],
      "text/plain": [
       "                 time     open     high      low    close  tomorrow_pred  \\\n",
       "0 2020-02-08 03:00:00  109.812  109.853  109.707  109.799              0   \n",
       "\n",
       "      prob0     prob1  \n",
       "0  0.539209  0.460791  "
      ]
     },
     "metadata": {},
     "output_type": "display_data"
    },
    {
     "name": "stdout",
     "output_type": "stream",
     "text": [
      "Probability of rising the next day = 46.08%\n"
     ]
    }
   ],
   "source": [
    "printmd('▼ 閾値以上の信頼度でトレードした場合の勝率')\n",
    "# 確率取得（上昇しない確率：上昇する確率）\n",
    "prob = best_clf.predict_proba(X_test)\n",
    "\n",
    "# 閾値を指定\n",
    "max_prob, max_prob_args = [],[]\n",
    "for i in range(len(prob)):\n",
    "    max_prob.append(prob[i].max())\n",
    "    if prob[i].max() > 0.60: # n%以上の確率データで絞る\n",
    "        max_prob_args.append(prob[i].argmax())\n",
    "    else:\n",
    "        max_prob_args.append(-1)\n",
    "a = pd.DataFrame(X_test)\n",
    "a['pred'] = max_prob_args\n",
    "a['actual'] = y_test\n",
    "a['max_prob'] = max_prob\n",
    "b = a[a['pred'] != -1]\n",
    "display(b[['pred','actual','max_prob']].head(10))\n",
    "print('正答率（※閾値指定）={:.3f}%'.format(accuracy_score(b['pred'], b['actual']) * 100))\n",
    "\n",
    "printmd('▼ 明日の予測')\n",
    "test_csv =X_today_df\n",
    "test_csv['tomorrow_pred'] = best_clf.predict(X_today)\n",
    "test_csv['prob0'] = best_clf.predict_proba(X_today)[:,0]\n",
    "test_csv['prob1'] = best_clf.predict_proba(X_today)[:,1]\n",
    "test_csv = test_csv.reset_index()\n",
    "test_csv = test_csv[['time','open','high','low','close','tomorrow_pred','prob0','prob1']]\n",
    "display(test_csv)\n",
    "\n",
    "print('Probability of rising the next day = {:.2f}%'.format(test_csv.iloc[0,7] * 100))"
   ]
  }
 ],
 "metadata": {
  "kernelspec": {
   "display_name": "Python 3",
   "language": "python",
   "name": "python3"
  },
  "language_info": {
   "codemirror_mode": {
    "name": "ipython",
    "version": 3
   },
   "file_extension": ".py",
   "mimetype": "text/x-python",
   "name": "python",
   "nbconvert_exporter": "python",
   "pygments_lexer": "ipython3",
   "version": "3.7.3"
  }
 },
 "nbformat": 4,
 "nbformat_minor": 2
}
