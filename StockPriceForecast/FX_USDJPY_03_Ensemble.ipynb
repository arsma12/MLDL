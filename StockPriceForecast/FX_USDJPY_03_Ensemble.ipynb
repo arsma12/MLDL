{
 "cells": [
  {
   "cell_type": "markdown",
   "metadata": {},
   "source": [
    "# ◆Forex forecast USD／JPY\n",
    "### Based on USD / JPY daily forecast, we predict whether the closing price of the next day will rise or fall.\n",
    "- kaggle URL:https://stooq.com/q/d/?s=usdjpy&c=0\n",
    "- Create Date：2020/01/15　Author：M.Hasegawa\n",
    "### ────────────────────────────────────────────────────────────────\n",
    "\n",
    "#### 【table of contents】\n",
    "\n",
    "- 0.[**Import module**](#Import_module)\n",
    "- 1.[**Import data**](#Import_data)\n",
    "- 2.[**Feature engineering**](#Future_engineering)\n",
    "- 3.[**Data visualization**](#Data_visualization)\n",
    "- 4.[**Setting the objective variable**](#Setting_the_objective_variable)\n",
    "- 5.[**Preprocessing**](#Preprocessing)\n",
    "- 6.[**Modeling**](#Modeling)\n",
    "\n",
    "#### ※usdjpy_d.csv\n",
    "\n",
    "| No | Column | ColumnName | Missing | use |\n",
    "|:---:|:---:|:---:|:---:|:---:|\n",
    "|  1 | Date| 日付 | - | ○ |\n",
    "|  2 | Open |始値 | - | ○ |\n",
    "|  3 | High |高値 | - | ○ |\n",
    "|  4 | Low |底値 | - | ○ |\n",
    "|  5 | Close |終値 | - | ○ |"
   ]
  },
  {
   "cell_type": "markdown",
   "metadata": {},
   "source": [
    "## 0. Import module<a id='Import_module'></a>"
   ]
  },
  {
   "cell_type": "code",
   "execution_count": 1,
   "metadata": {},
   "outputs": [],
   "source": [
    "%matplotlib inline\n",
    "import datetime\n",
    "import pandas  as pd\n",
    "import numpy   as np\n",
    "import seaborn as sns\n",
    "import category_encoders as ce\n",
    "import matplotlib.pyplot as plt\n",
    "from time                    import time\n",
    "from sklearn.model_selection import KFold\n",
    "from sklearn.model_selection import cross_val_score\n",
    "from sklearn.model_selection import cross_val_predict\n",
    "from sklearn.model_selection import GridSearchCV\n",
    "from sklearn.model_selection import learning_curve\n",
    "from sklearn.linear_model    import SGDClassifier\n",
    "from sklearn.svm             import SVC\n",
    "from sklearn.metrics         import log_loss, accuracy_score, confusion_matrix,precision_recall_fscore_support\n",
    "from sklearn.model_selection import train_test_split\n",
    "from sklearn.preprocessing   import StandardScaler\n",
    "from IPython.display         import Markdown, display\n",
    "from matplotlib import ticker\n",
    "from sklearn.tree import DecisionTreeClassifier\n",
    "\n",
    "import pandas as pd\n",
    "import matplotlib.dates as mdates\n",
    "import mpl_finance as mpf\n",
    "import codecs as cd\n",
    "import warnings\n",
    "import mpl_finance\n",
    "warnings.filterwarnings('ignore')\n",
    "\n",
    "# ****************************************************************************\n",
    "# setting\n",
    "# ****************************************************************************\n",
    "train_size = 0.80\n",
    "\n",
    "pd.set_option('display.max_columns', 500)\n",
    "pd.set_option('display.max_rows', 30)\n",
    "    \n",
    "# ============================================================================\n",
    "# MarkDown\n",
    "# ============================================================================\n",
    "def printmd(string):\n",
    "    display(Markdown('\\n\\n**' + string + '**'))\n",
    "\n",
    "# ============================================================================\n",
    "# plot_learning_curve\n",
    "# ============================================================================\n",
    "def plot_learning_curve(estimator, title, X, y, ylim=None, cv=None,n_jobs=-1,train_sizes=np.linspace(.1, 1.0, 5)):\n",
    "    plt.figure(figsize=(12,5))\n",
    "    plt.title(title)\n",
    "    plt.xlabel(\"Training examples\")\n",
    "    plt.ylabel(\"Accuracy Score\")\n",
    "    \n",
    "    train_sizes, train_scores, test_scores = learning_curve(estimator, X, y, cv=cv, n_jobs=n_jobs, \n",
    "                                                            train_sizes=train_sizes,\n",
    "                                                           random_state=1234)\n",
    "    train_scores_mean = np.mean(train_scores, axis=1)\n",
    "    train_scores_std  = np.std(train_scores, axis=1)\n",
    "    test_scores_mean  = np.mean(test_scores, axis=1)\n",
    "    test_scores_std   = np.std(test_scores, axis=1)\n",
    "    \n",
    "    plt.grid()\n",
    "    plt.fill_between(train_sizes, \n",
    "                     train_scores_mean - train_scores_std,\n",
    "                     train_scores_mean + train_scores_std, \n",
    "                     alpha=0.1,\n",
    "                     color=\"r\")\n",
    "    plt.fill_between(train_sizes, \n",
    "                     test_scores_mean - test_scores_std, \n",
    "                     test_scores_mean + test_scores_std, \n",
    "                     alpha=0.1, color=\"g\")\n",
    "    plt.plot(train_sizes, train_scores_mean, 'o-', color=\"r\", label=\"Training score\")\n",
    "    plt.plot(train_sizes, test_scores_mean, 'o-', color=\"g\", label=\"Cross-validation score\")\n",
    "    plt.legend(loc=\"best\")\n",
    "    plt.show()\n",
    "\n",
    "# ============================================================================\n",
    "# get_tilt\n",
    "# ============================================================================\n",
    "def get_tilt(close):\n",
    "    \n",
    "    length = len(close)\n",
    "    tilt = np.zeros(length)\n",
    "    \n",
    "    for i in range(length):\n",
    "        if i < 1:\n",
    "            tilt[i] = 0\n",
    "        else :\n",
    "            a = pd.Series(close)[i:i+1].values - pd.Series(close)[i-1:i].values\n",
    "            tilt[i] = a/1\n",
    "    return tilt\n",
    "\n",
    "# ============================================================================\n",
    "# get_rsi\n",
    "# ============================================================================\n",
    "def get_rsi(close, period):\n",
    "    \n",
    "    diff = close.diff()\n",
    "    up, down = diff.copy(), diff.copy()\n",
    "    up[up < 0] = 0\n",
    "    down[down > 0] = 0\n",
    "    \n",
    "    up_sma = up.rolling(window=period, center=False).mean()\n",
    "    down_sma = down.abs().rolling(window=period, center=False).mean()\n",
    "    \n",
    "    rs = up_sma / down_sma\n",
    "    rsi = 100.0 - (100.0 / (1.0 + rs))\n",
    "    \n",
    "    return rsi\n",
    "\n",
    "# ============================================================================\n",
    "# get_rci\n",
    "# ============================================================================\n",
    "def get_rci(close, period):\n",
    "    rank_period = np.arange(period, 0, -1)\n",
    "    length = len(close)\n",
    "    rci = np.zeros(length)\n",
    "    \n",
    "    for i in range(length):\n",
    "        if i < period - 1:\n",
    "            rci[i] = 0\n",
    "        else :\n",
    "            rank_price = pd.Series(close)[i - period + 1: i + 1].rank(method='min', ascending = False).values\n",
    "            rci[i] = np.int32((1 - (6 * sum((rank_period - rank_price)**2)) / (period**3 - period)) * 100)\n",
    "            \n",
    "    return rci\n",
    "\n",
    "# ============================================================================\n",
    "# get_bb\n",
    "# ============================================================================\n",
    "def get_bb(close, sigma):\n",
    "    mean = close.rolling(window=21).mean()\n",
    "    std = close.rolling(window=21).std()\n",
    "    upper = mean + (std * sigma)\n",
    "    lower = mean - (std * sigma)\n",
    "    return upper,lower\n",
    "\n",
    "# ============================================================================\n",
    "# get_momentum\n",
    "# ============================================================================\n",
    "def get_momentum(close, period):\n",
    "    return close - close.shift(period)\n",
    "\n",
    "# ============================================================================\n",
    "# get_sma\n",
    "# ============================================================================\n",
    "def get_sma(close, period):\n",
    "    return list(pd.Series(close).rolling(period).mean())\n",
    "\n",
    "# ============================================================================\n",
    "# get_ema\n",
    "# ============================================================================\n",
    "def get_ema(close, period):\n",
    "    return list(pd.Series(close).ewm(span=period).mean())"
   ]
  },
  {
   "cell_type": "markdown",
   "metadata": {},
   "source": [
    "# 1. Import data<a id='Import_data'></a>"
   ]
  },
  {
   "cell_type": "code",
   "execution_count": 2,
   "metadata": {
    "scrolled": false
   },
   "outputs": [
    {
     "data": {
      "text/markdown": [
       "\n",
       "\n",
       "**▼ Last 3 lines display**"
      ],
      "text/plain": [
       "<IPython.core.display.Markdown object>"
      ]
     },
     "metadata": {},
     "output_type": "display_data"
    },
    {
     "data": {
      "text/html": [
       "<div>\n",
       "<style scoped>\n",
       "    .dataframe tbody tr th:only-of-type {\n",
       "        vertical-align: middle;\n",
       "    }\n",
       "\n",
       "    .dataframe tbody tr th {\n",
       "        vertical-align: top;\n",
       "    }\n",
       "\n",
       "    .dataframe thead th {\n",
       "        text-align: right;\n",
       "    }\n",
       "</style>\n",
       "<table border=\"1\" class=\"dataframe\">\n",
       "  <thead>\n",
       "    <tr style=\"text-align: right;\">\n",
       "      <th></th>\n",
       "      <th>Date</th>\n",
       "      <th>Open</th>\n",
       "      <th>High</th>\n",
       "      <th>Low</th>\n",
       "      <th>Close</th>\n",
       "    </tr>\n",
       "  </thead>\n",
       "  <tbody>\n",
       "    <tr>\n",
       "      <th>12543</th>\n",
       "      <td>2020-01-21 00:00:00</td>\n",
       "      <td>110.175</td>\n",
       "      <td>110.222</td>\n",
       "      <td>109.764</td>\n",
       "      <td>109.856</td>\n",
       "    </tr>\n",
       "    <tr>\n",
       "      <th>12544</th>\n",
       "      <td>2020-01-22 00:00:00</td>\n",
       "      <td>109.857</td>\n",
       "      <td>110.089</td>\n",
       "      <td>109.808</td>\n",
       "      <td>109.828</td>\n",
       "    </tr>\n",
       "    <tr>\n",
       "      <th>12545</th>\n",
       "      <td>2020-01-23 00:00:00</td>\n",
       "      <td>109.837</td>\n",
       "      <td>109.853</td>\n",
       "      <td>109.503</td>\n",
       "      <td>109.506</td>\n",
       "    </tr>\n",
       "  </tbody>\n",
       "</table>\n",
       "</div>"
      ],
      "text/plain": [
       "                      Date     Open     High      Low    Close\n",
       "12543  2020-01-21 00:00:00  110.175  110.222  109.764  109.856\n",
       "12544  2020-01-22 00:00:00  109.857  110.089  109.808  109.828\n",
       "12545  2020-01-23 00:00:00  109.837  109.853  109.503  109.506"
      ]
     },
     "metadata": {},
     "output_type": "display_data"
    }
   ],
   "source": [
    "df= pd.read_csv('./input/usdjpy_d.csv',parse_dates=['Date'])\n",
    "\n",
    "now = datetime.datetime.today()\n",
    "today = now.strftime(\"%Y-%m-%d 00:00:00\")\n",
    "\n",
    "# ********* Enter today *********\n",
    "open = 109.837\n",
    "high = 109.853\n",
    "low = 109.503\n",
    "close = 109.506\n",
    "# *******************************\n",
    "\n",
    "tmp_se = pd.Series([today,open,high,low,close], index=df.columns)    \n",
    "df = df.append(tmp_se, ignore_index=True)\n",
    "\n",
    "printmd('▼ Last 3 lines display')\n",
    "display(df.tail(3))\n",
    "\n",
    "# column name change\n",
    "df.rename(columns={'Date' : 'time'}, inplace=True)\n",
    "df.rename(columns={'Open' : 'open'}, inplace=True)\n",
    "df.rename(columns={'High' : 'high'}, inplace=True)\n",
    "df.rename(columns={'Low' : 'low'}, inplace=True)\n",
    "df.rename(columns={'Close' : 'close'}, inplace=True)\n",
    "\n",
    "df['time'] = pd.to_datetime(df['time'])\n",
    "#print(df.dtypes)\n",
    "\n",
    "# calc target\n",
    "df = df.query('time >= \"2017-01-01\"')"
   ]
  },
  {
   "cell_type": "markdown",
   "metadata": {},
   "source": [
    "# 2. Feature engineering <a id ='Future_engineering'></a>"
   ]
  },
  {
   "cell_type": "code",
   "execution_count": 3,
   "metadata": {
    "scrolled": false
   },
   "outputs": [
    {
     "data": {
      "text/markdown": [
       "\n",
       "\n",
       "**▼ size**"
      ],
      "text/plain": [
       "<IPython.core.display.Markdown object>"
      ]
     },
     "metadata": {},
     "output_type": "display_data"
    },
    {
     "data": {
      "text/plain": [
       "(770, 97)"
      ]
     },
     "metadata": {},
     "output_type": "display_data"
    },
    {
     "data": {
      "text/markdown": [
       "\n",
       "\n",
       "**▼ Last 5 lines display**"
      ],
      "text/plain": [
       "<IPython.core.display.Markdown object>"
      ]
     },
     "metadata": {},
     "output_type": "display_data"
    },
    {
     "data": {
      "text/html": [
       "<div>\n",
       "<style scoped>\n",
       "    .dataframe tbody tr th:only-of-type {\n",
       "        vertical-align: middle;\n",
       "    }\n",
       "\n",
       "    .dataframe tbody tr th {\n",
       "        vertical-align: top;\n",
       "    }\n",
       "\n",
       "    .dataframe thead th {\n",
       "        text-align: right;\n",
       "    }\n",
       "</style>\n",
       "<table border=\"1\" class=\"dataframe\">\n",
       "  <thead>\n",
       "    <tr style=\"text-align: right;\">\n",
       "      <th></th>\n",
       "      <th>time</th>\n",
       "      <th>open</th>\n",
       "      <th>high</th>\n",
       "      <th>low</th>\n",
       "      <th>close</th>\n",
       "      <th>sma5</th>\n",
       "      <th>sma21</th>\n",
       "      <th>ema10</th>\n",
       "      <th>tilt_sma5</th>\n",
       "      <th>tilt_sma21</th>\n",
       "      <th>tilt_ema10</th>\n",
       "      <th>bb1_up</th>\n",
       "      <th>bb1_low</th>\n",
       "      <th>bb2_up</th>\n",
       "      <th>bb2_low</th>\n",
       "      <th>bb3_up</th>\n",
       "      <th>bb3_low</th>\n",
       "      <th>bb1_shrinkage</th>\n",
       "      <th>bb2_shrinkage</th>\n",
       "      <th>bb3_shrinkage</th>\n",
       "      <th>momentum_5</th>\n",
       "      <th>momentum_10</th>\n",
       "      <th>momentum_21</th>\n",
       "      <th>rci9</th>\n",
       "      <th>rci21</th>\n",
       "      <th>rci52</th>\n",
       "      <th>tilt_rci9</th>\n",
       "      <th>tilt_rci21</th>\n",
       "      <th>tilt_rci52</th>\n",
       "      <th>rsi14</th>\n",
       "      <th>tilt_rsi14</th>\n",
       "      <th>day_chg</th>\n",
       "      <th>c_up</th>\n",
       "      <th>c_all_len</th>\n",
       "      <th>c_pil_len</th>\n",
       "      <th>top_bar</th>\n",
       "      <th>low_bar</th>\n",
       "      <th>c_y_b</th>\n",
       "      <th>c_y_dai</th>\n",
       "      <th>c_y_h_b</th>\n",
       "      <th>c_y_y_b</th>\n",
       "      <th>c_y_sg</th>\n",
       "      <th>c_y_ug</th>\n",
       "      <th>c_y_km</th>\n",
       "      <th>c_y_kk</th>\n",
       "      <th>c_i_b</th>\n",
       "      <th>c_i_dai</th>\n",
       "      <th>c_i_y_b</th>\n",
       "      <th>c_i_h_i</th>\n",
       "      <th>c_i_sg</th>\n",
       "      <th>c_i_km</th>\n",
       "      <th>c_i_ug</th>\n",
       "      <th>c_i_kk</th>\n",
       "      <th>c_juji</th>\n",
       "      <th>c_tonbo</th>\n",
       "      <th>c_touba</th>\n",
       "      <th>c_ippon</th>\n",
       "      <th>y1_day_chg</th>\n",
       "      <th>y1_c_all_len</th>\n",
       "      <th>y1_c_pil_len</th>\n",
       "      <th>y1_c_up</th>\n",
       "      <th>y1_top_bar</th>\n",
       "      <th>y1_low_bar</th>\n",
       "      <th>y2_day_chg</th>\n",
       "      <th>y2_c_all_len</th>\n",
       "      <th>y2_c_pil_len</th>\n",
       "      <th>y2_c_up</th>\n",
       "      <th>y2_top_bar</th>\n",
       "      <th>y2_low_bar</th>\n",
       "      <th>y3_day_chg</th>\n",
       "      <th>y3_c_all_len</th>\n",
       "      <th>y3_c_pil_len</th>\n",
       "      <th>y3_c_up</th>\n",
       "      <th>y3_top_bar</th>\n",
       "      <th>y3_low_bar</th>\n",
       "      <th>y4_day_chg</th>\n",
       "      <th>y4_c_all_len</th>\n",
       "      <th>y4_c_pil_len</th>\n",
       "      <th>y4_c_up</th>\n",
       "      <th>y4_top_bar</th>\n",
       "      <th>y4_low_bar</th>\n",
       "      <th>y5_day_chg</th>\n",
       "      <th>y5_c_all_len</th>\n",
       "      <th>y5_c_pil_len</th>\n",
       "      <th>y5_c_up</th>\n",
       "      <th>y5_top_bar</th>\n",
       "      <th>y5_low_bar</th>\n",
       "      <th>ren2_up</th>\n",
       "      <th>ren3_up</th>\n",
       "      <th>ren4_up</th>\n",
       "      <th>ren5_up</th>\n",
       "      <th>ren6_up</th>\n",
       "      <th>ren2_down</th>\n",
       "      <th>ren3_down</th>\n",
       "      <th>ren4_down</th>\n",
       "      <th>ren5_down</th>\n",
       "      <th>ren6_down</th>\n",
       "    </tr>\n",
       "  </thead>\n",
       "  <tbody>\n",
       "    <tr>\n",
       "      <th>12541</th>\n",
       "      <td>2020-01-17</td>\n",
       "      <td>110.178</td>\n",
       "      <td>110.291</td>\n",
       "      <td>110.051</td>\n",
       "      <td>110.149</td>\n",
       "      <td>110.0272</td>\n",
       "      <td>109.305000</td>\n",
       "      <td>109.675572</td>\n",
       "      <td>0.1298</td>\n",
       "      <td>0.030238</td>\n",
       "      <td>0.105206</td>\n",
       "      <td>110.512227</td>\n",
       "      <td>108.097773</td>\n",
       "      <td>110.512227</td>\n",
       "      <td>108.097773</td>\n",
       "      <td>110.512227</td>\n",
       "      <td>108.097773</td>\n",
       "      <td>2.414454</td>\n",
       "      <td>2.414454</td>\n",
       "      <td>2.414454</td>\n",
       "      <td>0.649</td>\n",
       "      <td>2.048</td>\n",
       "      <td>0.635</td>\n",
       "      <td>93.0</td>\n",
       "      <td>39.0</td>\n",
       "      <td>35.0</td>\n",
       "      <td>-2.0</td>\n",
       "      <td>17.0</td>\n",
       "      <td>2.0</td>\n",
       "      <td>59.818731</td>\n",
       "      <td>1.800617</td>\n",
       "      <td>-0.029</td>\n",
       "      <td>0</td>\n",
       "      <td>0.240</td>\n",
       "      <td>0.029</td>\n",
       "      <td>0.113</td>\n",
       "      <td>0.098</td>\n",
       "      <td>0</td>\n",
       "      <td>0</td>\n",
       "      <td>0</td>\n",
       "      <td>0</td>\n",
       "      <td>0</td>\n",
       "      <td>0</td>\n",
       "      <td>0</td>\n",
       "      <td>0</td>\n",
       "      <td>0</td>\n",
       "      <td>0</td>\n",
       "      <td>0</td>\n",
       "      <td>0</td>\n",
       "      <td>0</td>\n",
       "      <td>0</td>\n",
       "      <td>0</td>\n",
       "      <td>0</td>\n",
       "      <td>1</td>\n",
       "      <td>0</td>\n",
       "      <td>0</td>\n",
       "      <td>0</td>\n",
       "      <td>0.291</td>\n",
       "      <td>0.330</td>\n",
       "      <td>0.291</td>\n",
       "      <td>1.0</td>\n",
       "      <td>0.008</td>\n",
       "      <td>0.031</td>\n",
       "      <td>-0.100</td>\n",
       "      <td>0.211</td>\n",
       "      <td>0.100</td>\n",
       "      <td>0.0</td>\n",
       "      <td>0.014</td>\n",
       "      <td>0.097</td>\n",
       "      <td>0.053</td>\n",
       "      <td>0.338</td>\n",
       "      <td>0.053</td>\n",
       "      <td>1.0</td>\n",
       "      <td>0.212</td>\n",
       "      <td>0.073</td>\n",
       "      <td>0.396</td>\n",
       "      <td>0.413</td>\n",
       "      <td>0.396</td>\n",
       "      <td>1.0</td>\n",
       "      <td>0.013</td>\n",
       "      <td>0.004</td>\n",
       "      <td>0.022</td>\n",
       "      <td>0.251</td>\n",
       "      <td>0.022</td>\n",
       "      <td>1.0</td>\n",
       "      <td>0.188</td>\n",
       "      <td>0.041</td>\n",
       "      <td>0</td>\n",
       "      <td>0</td>\n",
       "      <td>0</td>\n",
       "      <td>0</td>\n",
       "      <td>0</td>\n",
       "      <td>0</td>\n",
       "      <td>0</td>\n",
       "      <td>0</td>\n",
       "      <td>0</td>\n",
       "      <td>0</td>\n",
       "    </tr>\n",
       "    <tr>\n",
       "      <th>12542</th>\n",
       "      <td>2020-01-20</td>\n",
       "      <td>110.136</td>\n",
       "      <td>110.218</td>\n",
       "      <td>110.117</td>\n",
       "      <td>110.176</td>\n",
       "      <td>110.0756</td>\n",
       "      <td>109.333619</td>\n",
       "      <td>109.766559</td>\n",
       "      <td>0.0484</td>\n",
       "      <td>0.028619</td>\n",
       "      <td>0.090987</td>\n",
       "      <td>110.595009</td>\n",
       "      <td>108.072229</td>\n",
       "      <td>110.595009</td>\n",
       "      <td>108.072229</td>\n",
       "      <td>110.595009</td>\n",
       "      <td>108.072229</td>\n",
       "      <td>2.522781</td>\n",
       "      <td>2.522781</td>\n",
       "      <td>2.522781</td>\n",
       "      <td>0.242</td>\n",
       "      <td>1.798</td>\n",
       "      <td>0.601</td>\n",
       "      <td>90.0</td>\n",
       "      <td>54.0</td>\n",
       "      <td>40.0</td>\n",
       "      <td>-3.0</td>\n",
       "      <td>15.0</td>\n",
       "      <td>5.0</td>\n",
       "      <td>70.854756</td>\n",
       "      <td>11.036025</td>\n",
       "      <td>0.040</td>\n",
       "      <td>1</td>\n",
       "      <td>0.101</td>\n",
       "      <td>0.040</td>\n",
       "      <td>0.042</td>\n",
       "      <td>0.019</td>\n",
       "      <td>0</td>\n",
       "      <td>0</td>\n",
       "      <td>0</td>\n",
       "      <td>0</td>\n",
       "      <td>0</td>\n",
       "      <td>0</td>\n",
       "      <td>1</td>\n",
       "      <td>0</td>\n",
       "      <td>0</td>\n",
       "      <td>0</td>\n",
       "      <td>0</td>\n",
       "      <td>0</td>\n",
       "      <td>0</td>\n",
       "      <td>0</td>\n",
       "      <td>0</td>\n",
       "      <td>0</td>\n",
       "      <td>1</td>\n",
       "      <td>0</td>\n",
       "      <td>0</td>\n",
       "      <td>1</td>\n",
       "      <td>-0.029</td>\n",
       "      <td>0.240</td>\n",
       "      <td>0.029</td>\n",
       "      <td>0.0</td>\n",
       "      <td>0.113</td>\n",
       "      <td>0.098</td>\n",
       "      <td>0.291</td>\n",
       "      <td>0.330</td>\n",
       "      <td>0.291</td>\n",
       "      <td>1.0</td>\n",
       "      <td>0.008</td>\n",
       "      <td>0.031</td>\n",
       "      <td>-0.100</td>\n",
       "      <td>0.211</td>\n",
       "      <td>0.100</td>\n",
       "      <td>0.0</td>\n",
       "      <td>0.014</td>\n",
       "      <td>0.097</td>\n",
       "      <td>0.053</td>\n",
       "      <td>0.338</td>\n",
       "      <td>0.053</td>\n",
       "      <td>1.0</td>\n",
       "      <td>0.212</td>\n",
       "      <td>0.073</td>\n",
       "      <td>0.396</td>\n",
       "      <td>0.413</td>\n",
       "      <td>0.396</td>\n",
       "      <td>1.0</td>\n",
       "      <td>0.013</td>\n",
       "      <td>0.004</td>\n",
       "      <td>0</td>\n",
       "      <td>0</td>\n",
       "      <td>0</td>\n",
       "      <td>0</td>\n",
       "      <td>0</td>\n",
       "      <td>0</td>\n",
       "      <td>0</td>\n",
       "      <td>0</td>\n",
       "      <td>0</td>\n",
       "      <td>0</td>\n",
       "    </tr>\n",
       "    <tr>\n",
       "      <th>12543</th>\n",
       "      <td>2020-01-21</td>\n",
       "      <td>110.175</td>\n",
       "      <td>110.222</td>\n",
       "      <td>109.764</td>\n",
       "      <td>109.856</td>\n",
       "      <td>110.0492</td>\n",
       "      <td>109.356095</td>\n",
       "      <td>109.782821</td>\n",
       "      <td>-0.0264</td>\n",
       "      <td>0.022476</td>\n",
       "      <td>0.016262</td>\n",
       "      <td>110.637911</td>\n",
       "      <td>108.074279</td>\n",
       "      <td>110.637911</td>\n",
       "      <td>108.074279</td>\n",
       "      <td>110.637911</td>\n",
       "      <td>108.074279</td>\n",
       "      <td>2.563632</td>\n",
       "      <td>2.563632</td>\n",
       "      <td>2.563632</td>\n",
       "      <td>-0.132</td>\n",
       "      <td>1.398</td>\n",
       "      <td>0.472</td>\n",
       "      <td>55.0</td>\n",
       "      <td>60.0</td>\n",
       "      <td>44.0</td>\n",
       "      <td>-35.0</td>\n",
       "      <td>6.0</td>\n",
       "      <td>4.0</td>\n",
       "      <td>69.822673</td>\n",
       "      <td>-1.032083</td>\n",
       "      <td>-0.319</td>\n",
       "      <td>0</td>\n",
       "      <td>0.458</td>\n",
       "      <td>0.319</td>\n",
       "      <td>0.047</td>\n",
       "      <td>0.092</td>\n",
       "      <td>0</td>\n",
       "      <td>0</td>\n",
       "      <td>0</td>\n",
       "      <td>0</td>\n",
       "      <td>0</td>\n",
       "      <td>0</td>\n",
       "      <td>0</td>\n",
       "      <td>0</td>\n",
       "      <td>0</td>\n",
       "      <td>0</td>\n",
       "      <td>0</td>\n",
       "      <td>0</td>\n",
       "      <td>0</td>\n",
       "      <td>0</td>\n",
       "      <td>0</td>\n",
       "      <td>0</td>\n",
       "      <td>0</td>\n",
       "      <td>0</td>\n",
       "      <td>0</td>\n",
       "      <td>0</td>\n",
       "      <td>0.040</td>\n",
       "      <td>0.101</td>\n",
       "      <td>0.040</td>\n",
       "      <td>1.0</td>\n",
       "      <td>0.042</td>\n",
       "      <td>0.019</td>\n",
       "      <td>-0.029</td>\n",
       "      <td>0.240</td>\n",
       "      <td>0.029</td>\n",
       "      <td>0.0</td>\n",
       "      <td>0.113</td>\n",
       "      <td>0.098</td>\n",
       "      <td>0.291</td>\n",
       "      <td>0.330</td>\n",
       "      <td>0.291</td>\n",
       "      <td>1.0</td>\n",
       "      <td>0.008</td>\n",
       "      <td>0.031</td>\n",
       "      <td>-0.100</td>\n",
       "      <td>0.211</td>\n",
       "      <td>0.100</td>\n",
       "      <td>0.0</td>\n",
       "      <td>0.014</td>\n",
       "      <td>0.097</td>\n",
       "      <td>0.053</td>\n",
       "      <td>0.338</td>\n",
       "      <td>0.053</td>\n",
       "      <td>1.0</td>\n",
       "      <td>0.212</td>\n",
       "      <td>0.073</td>\n",
       "      <td>0</td>\n",
       "      <td>0</td>\n",
       "      <td>0</td>\n",
       "      <td>0</td>\n",
       "      <td>0</td>\n",
       "      <td>0</td>\n",
       "      <td>0</td>\n",
       "      <td>0</td>\n",
       "      <td>0</td>\n",
       "      <td>0</td>\n",
       "    </tr>\n",
       "    <tr>\n",
       "      <th>12544</th>\n",
       "      <td>2020-01-22</td>\n",
       "      <td>109.857</td>\n",
       "      <td>110.089</td>\n",
       "      <td>109.808</td>\n",
       "      <td>109.828</td>\n",
       "      <td>110.0374</td>\n",
       "      <td>109.371952</td>\n",
       "      <td>109.791035</td>\n",
       "      <td>-0.0118</td>\n",
       "      <td>0.015857</td>\n",
       "      <td>0.008214</td>\n",
       "      <td>110.669132</td>\n",
       "      <td>108.074772</td>\n",
       "      <td>110.669132</td>\n",
       "      <td>108.074772</td>\n",
       "      <td>110.669132</td>\n",
       "      <td>108.074772</td>\n",
       "      <td>2.594360</td>\n",
       "      <td>2.594360</td>\n",
       "      <td>2.594360</td>\n",
       "      <td>-0.059</td>\n",
       "      <td>0.750</td>\n",
       "      <td>0.333</td>\n",
       "      <td>8.0</td>\n",
       "      <td>66.0</td>\n",
       "      <td>48.0</td>\n",
       "      <td>-47.0</td>\n",
       "      <td>6.0</td>\n",
       "      <td>4.0</td>\n",
       "      <td>70.424784</td>\n",
       "      <td>0.602112</td>\n",
       "      <td>-0.029</td>\n",
       "      <td>0</td>\n",
       "      <td>0.281</td>\n",
       "      <td>0.029</td>\n",
       "      <td>0.232</td>\n",
       "      <td>0.020</td>\n",
       "      <td>0</td>\n",
       "      <td>0</td>\n",
       "      <td>0</td>\n",
       "      <td>0</td>\n",
       "      <td>0</td>\n",
       "      <td>0</td>\n",
       "      <td>0</td>\n",
       "      <td>0</td>\n",
       "      <td>0</td>\n",
       "      <td>0</td>\n",
       "      <td>0</td>\n",
       "      <td>0</td>\n",
       "      <td>0</td>\n",
       "      <td>0</td>\n",
       "      <td>0</td>\n",
       "      <td>0</td>\n",
       "      <td>0</td>\n",
       "      <td>0</td>\n",
       "      <td>1</td>\n",
       "      <td>0</td>\n",
       "      <td>-0.319</td>\n",
       "      <td>0.458</td>\n",
       "      <td>0.319</td>\n",
       "      <td>0.0</td>\n",
       "      <td>0.047</td>\n",
       "      <td>0.092</td>\n",
       "      <td>0.040</td>\n",
       "      <td>0.101</td>\n",
       "      <td>0.040</td>\n",
       "      <td>1.0</td>\n",
       "      <td>0.042</td>\n",
       "      <td>0.019</td>\n",
       "      <td>-0.029</td>\n",
       "      <td>0.240</td>\n",
       "      <td>0.029</td>\n",
       "      <td>0.0</td>\n",
       "      <td>0.113</td>\n",
       "      <td>0.098</td>\n",
       "      <td>0.291</td>\n",
       "      <td>0.330</td>\n",
       "      <td>0.291</td>\n",
       "      <td>1.0</td>\n",
       "      <td>0.008</td>\n",
       "      <td>0.031</td>\n",
       "      <td>-0.100</td>\n",
       "      <td>0.211</td>\n",
       "      <td>0.100</td>\n",
       "      <td>0.0</td>\n",
       "      <td>0.014</td>\n",
       "      <td>0.097</td>\n",
       "      <td>0</td>\n",
       "      <td>0</td>\n",
       "      <td>0</td>\n",
       "      <td>0</td>\n",
       "      <td>0</td>\n",
       "      <td>1</td>\n",
       "      <td>0</td>\n",
       "      <td>0</td>\n",
       "      <td>0</td>\n",
       "      <td>0</td>\n",
       "    </tr>\n",
       "    <tr>\n",
       "      <th>12545</th>\n",
       "      <td>2020-01-23</td>\n",
       "      <td>109.837</td>\n",
       "      <td>109.853</td>\n",
       "      <td>109.503</td>\n",
       "      <td>109.506</td>\n",
       "      <td>109.9030</td>\n",
       "      <td>109.376952</td>\n",
       "      <td>109.739211</td>\n",
       "      <td>-0.1344</td>\n",
       "      <td>0.005000</td>\n",
       "      <td>-0.051825</td>\n",
       "      <td>110.675412</td>\n",
       "      <td>108.078493</td>\n",
       "      <td>110.675412</td>\n",
       "      <td>108.078493</td>\n",
       "      <td>110.675412</td>\n",
       "      <td>108.078493</td>\n",
       "      <td>2.596918</td>\n",
       "      <td>2.596918</td>\n",
       "      <td>2.596918</td>\n",
       "      <td>-0.672</td>\n",
       "      <td>0.026</td>\n",
       "      <td>0.105</td>\n",
       "      <td>-51.0</td>\n",
       "      <td>65.0</td>\n",
       "      <td>51.0</td>\n",
       "      <td>-59.0</td>\n",
       "      <td>-1.0</td>\n",
       "      <td>3.0</td>\n",
       "      <td>73.377704</td>\n",
       "      <td>2.952919</td>\n",
       "      <td>-0.331</td>\n",
       "      <td>0</td>\n",
       "      <td>0.350</td>\n",
       "      <td>0.331</td>\n",
       "      <td>0.016</td>\n",
       "      <td>0.003</td>\n",
       "      <td>0</td>\n",
       "      <td>0</td>\n",
       "      <td>0</td>\n",
       "      <td>0</td>\n",
       "      <td>0</td>\n",
       "      <td>0</td>\n",
       "      <td>0</td>\n",
       "      <td>0</td>\n",
       "      <td>0</td>\n",
       "      <td>0</td>\n",
       "      <td>0</td>\n",
       "      <td>0</td>\n",
       "      <td>0</td>\n",
       "      <td>0</td>\n",
       "      <td>0</td>\n",
       "      <td>0</td>\n",
       "      <td>0</td>\n",
       "      <td>0</td>\n",
       "      <td>0</td>\n",
       "      <td>0</td>\n",
       "      <td>-0.029</td>\n",
       "      <td>0.281</td>\n",
       "      <td>0.029</td>\n",
       "      <td>0.0</td>\n",
       "      <td>0.232</td>\n",
       "      <td>0.020</td>\n",
       "      <td>-0.319</td>\n",
       "      <td>0.458</td>\n",
       "      <td>0.319</td>\n",
       "      <td>0.0</td>\n",
       "      <td>0.047</td>\n",
       "      <td>0.092</td>\n",
       "      <td>0.040</td>\n",
       "      <td>0.101</td>\n",
       "      <td>0.040</td>\n",
       "      <td>1.0</td>\n",
       "      <td>0.042</td>\n",
       "      <td>0.019</td>\n",
       "      <td>-0.029</td>\n",
       "      <td>0.240</td>\n",
       "      <td>0.029</td>\n",
       "      <td>0.0</td>\n",
       "      <td>0.113</td>\n",
       "      <td>0.098</td>\n",
       "      <td>0.291</td>\n",
       "      <td>0.330</td>\n",
       "      <td>0.291</td>\n",
       "      <td>1.0</td>\n",
       "      <td>0.008</td>\n",
       "      <td>0.031</td>\n",
       "      <td>0</td>\n",
       "      <td>0</td>\n",
       "      <td>0</td>\n",
       "      <td>0</td>\n",
       "      <td>0</td>\n",
       "      <td>1</td>\n",
       "      <td>1</td>\n",
       "      <td>0</td>\n",
       "      <td>0</td>\n",
       "      <td>0</td>\n",
       "    </tr>\n",
       "  </tbody>\n",
       "</table>\n",
       "</div>"
      ],
      "text/plain": [
       "            time     open     high      low    close      sma5       sma21  \\\n",
       "12541 2020-01-17  110.178  110.291  110.051  110.149  110.0272  109.305000   \n",
       "12542 2020-01-20  110.136  110.218  110.117  110.176  110.0756  109.333619   \n",
       "12543 2020-01-21  110.175  110.222  109.764  109.856  110.0492  109.356095   \n",
       "12544 2020-01-22  109.857  110.089  109.808  109.828  110.0374  109.371952   \n",
       "12545 2020-01-23  109.837  109.853  109.503  109.506  109.9030  109.376952   \n",
       "\n",
       "            ema10  tilt_sma5  tilt_sma21  tilt_ema10      bb1_up     bb1_low  \\\n",
       "12541  109.675572     0.1298    0.030238    0.105206  110.512227  108.097773   \n",
       "12542  109.766559     0.0484    0.028619    0.090987  110.595009  108.072229   \n",
       "12543  109.782821    -0.0264    0.022476    0.016262  110.637911  108.074279   \n",
       "12544  109.791035    -0.0118    0.015857    0.008214  110.669132  108.074772   \n",
       "12545  109.739211    -0.1344    0.005000   -0.051825  110.675412  108.078493   \n",
       "\n",
       "           bb2_up     bb2_low      bb3_up     bb3_low  bb1_shrinkage  \\\n",
       "12541  110.512227  108.097773  110.512227  108.097773       2.414454   \n",
       "12542  110.595009  108.072229  110.595009  108.072229       2.522781   \n",
       "12543  110.637911  108.074279  110.637911  108.074279       2.563632   \n",
       "12544  110.669132  108.074772  110.669132  108.074772       2.594360   \n",
       "12545  110.675412  108.078493  110.675412  108.078493       2.596918   \n",
       "\n",
       "       bb2_shrinkage  bb3_shrinkage  momentum_5  momentum_10  momentum_21  \\\n",
       "12541       2.414454       2.414454       0.649        2.048        0.635   \n",
       "12542       2.522781       2.522781       0.242        1.798        0.601   \n",
       "12543       2.563632       2.563632      -0.132        1.398        0.472   \n",
       "12544       2.594360       2.594360      -0.059        0.750        0.333   \n",
       "12545       2.596918       2.596918      -0.672        0.026        0.105   \n",
       "\n",
       "       rci9  rci21  rci52  tilt_rci9  tilt_rci21  tilt_rci52      rsi14  \\\n",
       "12541  93.0   39.0   35.0       -2.0        17.0         2.0  59.818731   \n",
       "12542  90.0   54.0   40.0       -3.0        15.0         5.0  70.854756   \n",
       "12543  55.0   60.0   44.0      -35.0         6.0         4.0  69.822673   \n",
       "12544   8.0   66.0   48.0      -47.0         6.0         4.0  70.424784   \n",
       "12545 -51.0   65.0   51.0      -59.0        -1.0         3.0  73.377704   \n",
       "\n",
       "       tilt_rsi14  day_chg  c_up  c_all_len  c_pil_len  top_bar  low_bar  \\\n",
       "12541    1.800617   -0.029     0      0.240      0.029    0.113    0.098   \n",
       "12542   11.036025    0.040     1      0.101      0.040    0.042    0.019   \n",
       "12543   -1.032083   -0.319     0      0.458      0.319    0.047    0.092   \n",
       "12544    0.602112   -0.029     0      0.281      0.029    0.232    0.020   \n",
       "12545    2.952919   -0.331     0      0.350      0.331    0.016    0.003   \n",
       "\n",
       "       c_y_b  c_y_dai  c_y_h_b  c_y_y_b  c_y_sg  c_y_ug  c_y_km  c_y_kk  \\\n",
       "12541      0        0        0        0       0       0       0       0   \n",
       "12542      0        0        0        0       0       0       1       0   \n",
       "12543      0        0        0        0       0       0       0       0   \n",
       "12544      0        0        0        0       0       0       0       0   \n",
       "12545      0        0        0        0       0       0       0       0   \n",
       "\n",
       "       c_i_b  c_i_dai  c_i_y_b  c_i_h_i  c_i_sg  c_i_km  c_i_ug  c_i_kk  \\\n",
       "12541      0        0        0        0       0       0       0       0   \n",
       "12542      0        0        0        0       0       0       0       0   \n",
       "12543      0        0        0        0       0       0       0       0   \n",
       "12544      0        0        0        0       0       0       0       0   \n",
       "12545      0        0        0        0       0       0       0       0   \n",
       "\n",
       "       c_juji  c_tonbo  c_touba  c_ippon  y1_day_chg  y1_c_all_len  \\\n",
       "12541       1        0        0        0       0.291         0.330   \n",
       "12542       1        0        0        1      -0.029         0.240   \n",
       "12543       0        0        0        0       0.040         0.101   \n",
       "12544       0        0        1        0      -0.319         0.458   \n",
       "12545       0        0        0        0      -0.029         0.281   \n",
       "\n",
       "       y1_c_pil_len  y1_c_up  y1_top_bar  y1_low_bar  y2_day_chg  \\\n",
       "12541         0.291      1.0       0.008       0.031      -0.100   \n",
       "12542         0.029      0.0       0.113       0.098       0.291   \n",
       "12543         0.040      1.0       0.042       0.019      -0.029   \n",
       "12544         0.319      0.0       0.047       0.092       0.040   \n",
       "12545         0.029      0.0       0.232       0.020      -0.319   \n",
       "\n",
       "       y2_c_all_len  y2_c_pil_len  y2_c_up  y2_top_bar  y2_low_bar  \\\n",
       "12541         0.211         0.100      0.0       0.014       0.097   \n",
       "12542         0.330         0.291      1.0       0.008       0.031   \n",
       "12543         0.240         0.029      0.0       0.113       0.098   \n",
       "12544         0.101         0.040      1.0       0.042       0.019   \n",
       "12545         0.458         0.319      0.0       0.047       0.092   \n",
       "\n",
       "       y3_day_chg  y3_c_all_len  y3_c_pil_len  y3_c_up  y3_top_bar  \\\n",
       "12541       0.053         0.338         0.053      1.0       0.212   \n",
       "12542      -0.100         0.211         0.100      0.0       0.014   \n",
       "12543       0.291         0.330         0.291      1.0       0.008   \n",
       "12544      -0.029         0.240         0.029      0.0       0.113   \n",
       "12545       0.040         0.101         0.040      1.0       0.042   \n",
       "\n",
       "       y3_low_bar  y4_day_chg  y4_c_all_len  y4_c_pil_len  y4_c_up  \\\n",
       "12541       0.073       0.396         0.413         0.396      1.0   \n",
       "12542       0.097       0.053         0.338         0.053      1.0   \n",
       "12543       0.031      -0.100         0.211         0.100      0.0   \n",
       "12544       0.098       0.291         0.330         0.291      1.0   \n",
       "12545       0.019      -0.029         0.240         0.029      0.0   \n",
       "\n",
       "       y4_top_bar  y4_low_bar  y5_day_chg  y5_c_all_len  y5_c_pil_len  \\\n",
       "12541       0.013       0.004       0.022         0.251         0.022   \n",
       "12542       0.212       0.073       0.396         0.413         0.396   \n",
       "12543       0.014       0.097       0.053         0.338         0.053   \n",
       "12544       0.008       0.031      -0.100         0.211         0.100   \n",
       "12545       0.113       0.098       0.291         0.330         0.291   \n",
       "\n",
       "       y5_c_up  y5_top_bar  y5_low_bar  ren2_up  ren3_up  ren4_up  ren5_up  \\\n",
       "12541      1.0       0.188       0.041        0        0        0        0   \n",
       "12542      1.0       0.013       0.004        0        0        0        0   \n",
       "12543      1.0       0.212       0.073        0        0        0        0   \n",
       "12544      0.0       0.014       0.097        0        0        0        0   \n",
       "12545      1.0       0.008       0.031        0        0        0        0   \n",
       "\n",
       "       ren6_up  ren2_down  ren3_down  ren4_down  ren5_down  ren6_down  \n",
       "12541        0          0          0          0          0          0  \n",
       "12542        0          0          0          0          0          0  \n",
       "12543        0          0          0          0          0          0  \n",
       "12544        0          1          0          0          0          0  \n",
       "12545        0          1          1          0          0          0  "
      ]
     },
     "metadata": {},
     "output_type": "display_data"
    }
   ],
   "source": [
    "# sma/ema\n",
    "df['sma5']= get_sma(df.close,5)\n",
    "df['sma21']= get_sma(df.close,21)\n",
    "df['ema10']= get_ema(df.close,10)\n",
    "\n",
    "# tilt(sma/ema)\n",
    "df['tilt_sma5']= get_tilt(df.sma5)\n",
    "df['tilt_sma21']= get_tilt(df.sma21)\n",
    "df['tilt_ema10']= get_tilt(df.ema10)\n",
    "\n",
    "# BB\n",
    "df['bb1_up'], df['bb1_low'] = get_bb(df.close, 2)\n",
    "df['bb2_up'], df['bb2_low'] = get_bb(df.close, 2)\n",
    "df['bb3_up'], df['bb3_low'] = get_bb(df.close, 2)\n",
    "\n",
    "# Bollinger band contraction\n",
    "df['bb1_shrinkage'] = df['bb1_up'] - df['bb1_low']\n",
    "df['bb2_shrinkage'] = df['bb2_up'] - df['bb2_low']\n",
    "df['bb3_shrinkage'] = df['bb3_up'] - df['bb3_low']\n",
    "\n",
    "# momentum\n",
    "df['momentum_5'] = get_momentum(df.close, 5)\n",
    "df['momentum_10'] = get_momentum(df.close, 10)\n",
    "df['momentum_21'] = get_momentum(df.close, 21)\n",
    "\n",
    "# RCI\n",
    "df['rci9'] = get_rci(df.close,9)\n",
    "df['rci21'] = get_rci(df.close,21)\n",
    "df['rci52'] = get_rci(df.close,52)\n",
    "\n",
    "# tilt(RCI)\n",
    "df['tilt_rci9'] = get_tilt(df.rci9)\n",
    "df['tilt_rci21'] = get_tilt(df.rci21)\n",
    "df['tilt_rci52'] = get_tilt(df.rci52)\n",
    "\n",
    "# RSI\n",
    "df['rsi14'] = get_rsi(df.close,14)\n",
    "df['tilt_rsi14'] = get_tilt(df.rsi14)\n",
    "\n",
    "# Candlestick features\n",
    "df['day_chg'] = df.close - df.open # Daily change\n",
    "df['c_up'] = np.where(df.day_chg >= 0,1,0) # 陽線：1／陰線：0\n",
    "df['c_all_len'] = abs(df.high - df.low) # Candle length(ヒゲ含む)\n",
    "df['c_pil_len'] = np.where(df.day_chg >= 0,df.close - df.open,df.open - df.close) # Candle length\n",
    "df['top_bar'] = np.where(df.day_chg >= 0,df.high - df.close, df.high - df.open) # 上ヒゲの長さ\n",
    "df['low_bar'] = np.where(df.day_chg >= 0,df.open - df.low, df.close - df.low)   # 下ヒゲの長さ\n",
    "\n",
    "# https://east-fx.com/archives/553\n",
    "dic_c = {'c_y_b':'陽の丸坊主',\n",
    "         'c_y_dai':'大陽線',\n",
    "         'c_y_h_b':'陽の大引け坊主',\n",
    "         'c_y_y_b':'陽の寄り付き坊主',\n",
    "         'c_y_sg':'下影陽線',\n",
    "         'c_y_ug':'上影陽線',\n",
    "         'c_y_km':'陽のコマ',\n",
    "         'c_y_kk':'陽のカラカサ',\n",
    "         'c_i_b':'陰の丸坊主',\n",
    "         'c_i_dai':'大陰線',\n",
    "         'c_i_y_b':'陰の寄り付き坊主',\n",
    "         'c_i_h_i':'陰の大引け陰線',\n",
    "         'c_i_sg':'下影陰線',\n",
    "         'c_i_km':'陰のコマ',\n",
    "         'c_i_ug':'上影陰線',\n",
    "         'c_i_kk':'陰のカラカサ',\n",
    "         'c_juji':'十字',\n",
    "         'c_tonbo':'トンボ',\n",
    "         'c_touba':'トウバ',\n",
    "         'c_ippon':'一本線'\n",
    "         }\n",
    "\n",
    "# 陽の丸坊主(ヒゲがなく実体が長い陽線。買い勢力がかなり強い形)\n",
    "df['c_y_b'] = np.where((df.c_up == 1) & (df.top_bar < 0.05) & (df.low_bar < 0.05) & (df.c_pil_len >= 0.4), 1 , 0)\n",
    "# 大陽線(上下ヒゲはあるが実体が長い陽線。買い勢力がかなり強い形。)\n",
    "df['c_y_dai'] = np.where((df.c_up == 1) & (df.top_bar >= 0.05) & (df.low_bar >= 0.05) & (df.c_pil_len >= 0.6), 1 , 0)\n",
    "# 陽の大引け坊主(上ヒゲがなく、下ヒゲがある。買いの勢いがまだまだ強い形。)\n",
    "df['c_y_h_b'] = np.where((df.c_up == 1) & (df.top_bar < 0.05) & (df.low_bar >= 0.10) & (df.c_pil_len >= 0.4), 1 , 0)\n",
    "# 陽の寄り付き坊主(上ヒゲのみの陽線。買い勢力が強いが、上ヒゲが長すぎると天井になる可能性もある形。)\n",
    "df['c_y_y_b'] = np.where((df.c_up == 1) & (df.top_bar >= 0.10) & (df.low_bar < 0.05) & (df.c_pil_len >= 0.4), 1 , 0)\n",
    "# 下影陽線(実体よりも下ヒゲが長い形。一旦売り勢力に攻め込まれてからの戻しの長いヒゲなので、買い勢力が強い。)\n",
    "df['c_y_sg'] = np.where((df.c_up == 1) & (df.low_bar >= 0.40) & (df.low_bar > df.c_pil_len), 1 , 0)\n",
    "# 上影陽線(実体よりも上ヒゲが長い形。買い勢力が売り勢力に押され気味になり上ヒゲになるので、買い勢力が若干弱め。実体が短すぎ場合はトレンド転換の可能性あり。)\n",
    "df['c_y_ug'] = np.where((df.c_up == 1) & (df.top_bar >= 0.40) & (df.top_bar > df.c_pil_len), 1 , 0)\n",
    "# 陽のコマ(保ち合い。売り買いの勢力が拮抗している状態で現れる。陽線の場合は強持ち合いと呼ばれる。トレンド転換の可能性あり。)\n",
    "df['c_y_km'] = np.where((df.c_up == 1) & (df.top_bar < 0.10) & (df.low_bar < 0.10) & (df.c_pil_len < 0.20), 1 , 0)\n",
    "# 陽のカラカサ(下ヒゲが長く、実体がヒゲよりも小さい形。トレンド転換する可能性あり。)\n",
    "df['c_y_kk'] = np.where((df.c_up == 1) & (df.low_bar >= 0.40) & (df.top_bar < 0.05) & (df.c_pil_len < df.low_bar), 1 , 0)\n",
    "\n",
    "# 陰の丸坊主(ヒゲがなく実体が長い陰線。売り勢力がかなり強い形)\n",
    "df['c_i_b'] = np.where((df.c_up == 0) & (df.top_bar < 0.05) & (df.low_bar < 0.05) & (df.c_pil_len >= 0.4), 1 , 0)\n",
    "# 大陰線(上下ヒゲはあるが実体が長い陰線。売り勢力がかなり強い形。)\n",
    "df['c_i_dai'] = np.where((df.c_up == 0) & (df.top_bar >= 0.05) & (df.low_bar >= 0.05) & (df.c_pil_len >= 0.6), 1 , 0)\n",
    "# 陰の寄り付き坊主(上ヒゲがない陰線。実体部分が長いので売り勢力優勢ではあるが、下ヒゲが長すぎるとトレンド転換の可能性あり。)\n",
    "df['c_i_y_b'] = np.where((df.c_up == 0) & (df.top_bar < 0.05) & (df.low_bar >= 0.10) & (df.c_pil_len >= 0.4), 1 , 0)\n",
    "# 陰の大引け陰線(下ヒゲがない形。実体部分が長く売り勢力の勢いも強い。)\n",
    "df['c_i_h_i'] = np.where((df.c_up == 0) & (df.top_bar >= 0.10) & (df.low_bar < 0.05) & (df.c_pil_len >= 0.4), 1 , 0)\n",
    "# 下影陰線(下ヒゲが長く実体がヒゲよりも短い陰線。売りの勢力が少し弱まっている際に出現しやすいので、トレンド転換する可能性あり。)\n",
    "df['c_i_sg'] = np.where((df.c_up == 0) & (df.low_bar >= 0.40) & (df.low_bar > df.c_pil_len), 1 , 0)\n",
    "# 陰のコマ(売り・買い勢力が拮抗している形。陰線の場合は弱持合いと呼ばれている。)\n",
    "df['c_i_km'] = np.where((df.c_up == 0) & (df.top_bar < 0.10) & (df.low_bar < 0.10) & (df.c_pil_len < 0.2), 1 , 0)\n",
    "# 上影陰線(上ヒゲが長く実体がヒゲより短い形。一旦買い勢力に押し戻されてから再度ヒゲをつけて戻しているので、売り勢力が強い。ただ、実体が短すぎるとトレンド転換の可能性もある。)\n",
    "df['c_i_ug'] = np.where((df.c_up == 0) & (df.top_bar >= 0.40) & (df.top_bar > df.c_pil_len), 1 , 0)\n",
    "# 陰のカラカサ(下ヒゲが長く上ヒゲがなく、且つ実体が短い形。)\n",
    "df['c_i_kk'] = np.where((df.c_up == 0) & (df.low_bar >= 0.40) & (df.top_bar < 0.05) & (df.c_pil_len < df.low_bar), 1 , 0)\n",
    "\n",
    "# 十字（天井もしくは底ならトレンド転換の可能性あり。）\n",
    "df['c_juji'] = np.where((df.c_pil_len < 0.1) & (abs(df.top_bar - df.low_bar) <= 0.1) & (df.c_pil_len < 0.1), 1 , 0)\n",
    "# トンボ（天井もしくは底ならトレンド転換の可能性あり。）\n",
    "df['c_tonbo'] = np.where((df.top_bar < 0.05) & (df.low_bar >= 0.2) & (df.c_pil_len < 0.1), 1 , 0)\n",
    "# トウバ(天井もしくは底ならトレンド転換の可能性あり。)\n",
    "df['c_touba'] = np.where((df.low_bar < 0.05) & (df.top_bar >= 0.2) & (df.c_pil_len < 0.1), 1 , 0)\n",
    "# 一本線(継続トレンド転換の可能性あり)\n",
    "df['c_ippon'] = np.where((df.low_bar < 0.05) & (df.top_bar < 0.05) & (df.c_pil_len < 0.1), 1 , 0)\n",
    "\n",
    "# Candlestick features for the last few days\n",
    "df['y1_day_chg'] = df.day_chg.shift(+1)\n",
    "df['y1_c_all_len'] = df.c_all_len.shift(+1)\n",
    "df['y1_c_pil_len'] = df.c_pil_len.shift(+1)\n",
    "df['y1_c_up'] = df.c_up.shift(+1)\n",
    "df['y1_top_bar'] = df.top_bar.shift(+1)\n",
    "df['y1_low_bar'] = df.low_bar.shift(+1)\n",
    "\n",
    "df['y2_day_chg'] = df.day_chg.shift(+2)\n",
    "df['y2_c_all_len'] = df.c_all_len.shift(+2)\n",
    "df['y2_c_pil_len'] = df.c_pil_len.shift(+2)\n",
    "df['y2_c_up'] = df.c_up.shift(+2)\n",
    "df['y2_top_bar'] = df.top_bar.shift(+2)\n",
    "df['y2_low_bar'] = df.low_bar.shift(+2)\n",
    "\n",
    "df['y3_day_chg'] = df.day_chg.shift(+3)\n",
    "df['y3_c_all_len'] = df.c_all_len.shift(+3)\n",
    "df['y3_c_pil_len'] = df.c_pil_len.shift(+3)\n",
    "df['y3_c_up'] = df.c_up.shift(+3)\n",
    "df['y3_top_bar'] = df.top_bar.shift(+3)\n",
    "df['y3_low_bar'] = df.low_bar.shift(+3)\n",
    "\n",
    "df['y4_day_chg'] = df.day_chg.shift(+4)\n",
    "df['y4_c_all_len'] = df.c_all_len.shift(+4)\n",
    "df['y4_c_pil_len'] = df.c_pil_len.shift(+4)\n",
    "df['y4_c_up'] = df.c_up.shift(+4)\n",
    "df['y4_top_bar'] = df.top_bar.shift(+4)\n",
    "df['y4_low_bar'] = df.low_bar.shift(+4)\n",
    "\n",
    "df['y5_day_chg'] = df.day_chg.shift(+5)\n",
    "df['y5_c_all_len'] = df.c_all_len.shift(+5)\n",
    "df['y5_c_pil_len'] = df.c_pil_len.shift(+5)\n",
    "df['y5_c_up'] = df.c_up.shift(+5)\n",
    "df['y5_top_bar'] = df.top_bar.shift(+5)\n",
    "df['y5_low_bar'] = df.low_bar.shift(+5)\n",
    "\n",
    "df['ren2_up'] = np.where((df.c_up == 1) & (df.y1_c_up == 1), 1 , 0)\n",
    "df['ren3_up'] = np.where((df.c_up == 1) & (df.y1_c_up == 1) & (df.y2_c_up == 1), 1 , 0)\n",
    "df['ren4_up'] = np.where((df.c_up == 1) & (df.y1_c_up == 1) & (df.y2_c_up == 1) & (df.y3_c_up == 1), 1 , 0)\n",
    "df['ren5_up'] = np.where((df.c_up == 1) & (df.y1_c_up == 1) & (df.y2_c_up == 1) & (df.y3_c_up == 1) & (df.y4_c_up == 1), 1 , 0)\n",
    "df['ren6_up'] = np.where((df.c_up == 1) & (df.y1_c_up == 1) & (df.y2_c_up == 1) & (df.y3_c_up == 1) & (df.y4_c_up == 1) & (df.y5_c_up == 1), 1 , 0)\n",
    "\n",
    "df['ren2_down'] = np.where((df.c_up == 0) & (df.y1_c_up == 0), 1 , 0)\n",
    "df['ren3_down'] = np.where((df.c_up == 0) & (df.y1_c_up == 0) & (df.y2_c_up == 0), 1 , 0)\n",
    "df['ren4_down'] = np.where((df.c_up == 0) & (df.y1_c_up == 0) & (df.y2_c_up == 0) & (df.y3_c_up == 0), 1 , 0)\n",
    "df['ren5_down'] = np.where((df.c_up == 0) & (df.y1_c_up == 0) & (df.y2_c_up == 0) & (df.y3_c_up == 0) & (df.y4_c_up == 0), 1 , 0)\n",
    "df['ren6_down'] = np.where((df.c_up == 0) & (df.y1_c_up == 0) & (df.y2_c_up == 0) & (df.y3_c_up == 0) & (df.y4_c_up == 0) & (df.y5_c_up == 0), 1 , 0)\n",
    "\n",
    "# test target\n",
    "df = df.query('time >= \"2017-02-01\"')\n",
    "\n",
    "printmd('▼ size')\n",
    "display(df.shape)\n",
    "\n",
    "printmd('▼ Last 5 lines display')\n",
    "display(df.tail(5))"
   ]
  },
  {
   "cell_type": "code",
   "execution_count": 4,
   "metadata": {
    "scrolled": false
   },
   "outputs": [
    {
     "data": {
      "text/markdown": [
       "\n",
       "\n",
       "**▼c_y_b:陽の丸坊主**"
      ],
      "text/plain": [
       "<IPython.core.display.Markdown object>"
      ]
     },
     "metadata": {},
     "output_type": "display_data"
    },
    {
     "name": "stdout",
     "output_type": "stream",
     "text": [
      "0    759\n",
      "1     11\n",
      "Name: c_y_b, dtype: int64\n"
     ]
    },
    {
     "data": {
      "text/markdown": [
       "\n",
       "\n",
       "**▼c_y_dai:大陽線**"
      ],
      "text/plain": [
       "<IPython.core.display.Markdown object>"
      ]
     },
     "metadata": {},
     "output_type": "display_data"
    },
    {
     "name": "stdout",
     "output_type": "stream",
     "text": [
      "0    733\n",
      "1     37\n",
      "Name: c_y_dai, dtype: int64\n"
     ]
    },
    {
     "data": {
      "text/markdown": [
       "\n",
       "\n",
       "**▼c_y_h_b:陽の大引け坊主**"
      ],
      "text/plain": [
       "<IPython.core.display.Markdown object>"
      ]
     },
     "metadata": {},
     "output_type": "display_data"
    },
    {
     "name": "stdout",
     "output_type": "stream",
     "text": [
      "0    759\n",
      "1     11\n",
      "Name: c_y_h_b, dtype: int64\n"
     ]
    },
    {
     "data": {
      "text/markdown": [
       "\n",
       "\n",
       "**▼c_y_y_b:陽の寄り付き坊主**"
      ],
      "text/plain": [
       "<IPython.core.display.Markdown object>"
      ]
     },
     "metadata": {},
     "output_type": "display_data"
    },
    {
     "name": "stdout",
     "output_type": "stream",
     "text": [
      "0    751\n",
      "1     19\n",
      "Name: c_y_y_b, dtype: int64\n"
     ]
    },
    {
     "data": {
      "text/markdown": [
       "\n",
       "\n",
       "**▼c_y_sg:下影陽線**"
      ],
      "text/plain": [
       "<IPython.core.display.Markdown object>"
      ]
     },
     "metadata": {},
     "output_type": "display_data"
    },
    {
     "name": "stdout",
     "output_type": "stream",
     "text": [
      "0    745\n",
      "1     25\n",
      "Name: c_y_sg, dtype: int64\n"
     ]
    },
    {
     "data": {
      "text/markdown": [
       "\n",
       "\n",
       "**▼c_y_ug:上影陽線**"
      ],
      "text/plain": [
       "<IPython.core.display.Markdown object>"
      ]
     },
     "metadata": {},
     "output_type": "display_data"
    },
    {
     "name": "stdout",
     "output_type": "stream",
     "text": [
      "0    757\n",
      "1     13\n",
      "Name: c_y_ug, dtype: int64\n"
     ]
    },
    {
     "data": {
      "text/markdown": [
       "\n",
       "\n",
       "**▼c_y_km:陽のコマ**"
      ],
      "text/plain": [
       "<IPython.core.display.Markdown object>"
      ]
     },
     "metadata": {},
     "output_type": "display_data"
    },
    {
     "name": "stdout",
     "output_type": "stream",
     "text": [
      "0    765\n",
      "1      5\n",
      "Name: c_y_km, dtype: int64\n"
     ]
    },
    {
     "data": {
      "text/markdown": [
       "\n",
       "\n",
       "**▼c_y_kk:陽のカラカサ**"
      ],
      "text/plain": [
       "<IPython.core.display.Markdown object>"
      ]
     },
     "metadata": {},
     "output_type": "display_data"
    },
    {
     "name": "stdout",
     "output_type": "stream",
     "text": [
      "0    766\n",
      "1      4\n",
      "Name: c_y_kk, dtype: int64\n"
     ]
    },
    {
     "data": {
      "text/markdown": [
       "\n",
       "\n",
       "**▼c_i_b:陰の丸坊主**"
      ],
      "text/plain": [
       "<IPython.core.display.Markdown object>"
      ]
     },
     "metadata": {},
     "output_type": "display_data"
    },
    {
     "name": "stdout",
     "output_type": "stream",
     "text": [
      "0    766\n",
      "1      4\n",
      "Name: c_i_b, dtype: int64\n"
     ]
    },
    {
     "data": {
      "text/markdown": [
       "\n",
       "\n",
       "**▼c_i_dai:大陰線**"
      ],
      "text/plain": [
       "<IPython.core.display.Markdown object>"
      ]
     },
     "metadata": {},
     "output_type": "display_data"
    },
    {
     "name": "stdout",
     "output_type": "stream",
     "text": [
      "0    733\n",
      "1     37\n",
      "Name: c_i_dai, dtype: int64\n"
     ]
    },
    {
     "data": {
      "text/markdown": [
       "\n",
       "\n",
       "**▼c_i_y_b:陰の寄り付き坊主**"
      ],
      "text/plain": [
       "<IPython.core.display.Markdown object>"
      ]
     },
     "metadata": {},
     "output_type": "display_data"
    },
    {
     "name": "stdout",
     "output_type": "stream",
     "text": [
      "0    736\n",
      "1     34\n",
      "Name: c_i_y_b, dtype: int64\n"
     ]
    },
    {
     "data": {
      "text/markdown": [
       "\n",
       "\n",
       "**▼c_i_h_i:陰の大引け陰線**"
      ],
      "text/plain": [
       "<IPython.core.display.Markdown object>"
      ]
     },
     "metadata": {},
     "output_type": "display_data"
    },
    {
     "name": "stdout",
     "output_type": "stream",
     "text": [
      "0    756\n",
      "1     14\n",
      "Name: c_i_h_i, dtype: int64\n"
     ]
    },
    {
     "data": {
      "text/markdown": [
       "\n",
       "\n",
       "**▼c_i_sg:下影陰線**"
      ],
      "text/plain": [
       "<IPython.core.display.Markdown object>"
      ]
     },
     "metadata": {},
     "output_type": "display_data"
    },
    {
     "name": "stdout",
     "output_type": "stream",
     "text": [
      "0    742\n",
      "1     28\n",
      "Name: c_i_sg, dtype: int64\n"
     ]
    },
    {
     "data": {
      "text/markdown": [
       "\n",
       "\n",
       "**▼c_i_km:陰のコマ**"
      ],
      "text/plain": [
       "<IPython.core.display.Markdown object>"
      ]
     },
     "metadata": {},
     "output_type": "display_data"
    },
    {
     "name": "stdout",
     "output_type": "stream",
     "text": [
      "0    758\n",
      "1     12\n",
      "Name: c_i_km, dtype: int64\n"
     ]
    },
    {
     "data": {
      "text/markdown": [
       "\n",
       "\n",
       "**▼c_i_ug:上影陰線**"
      ],
      "text/plain": [
       "<IPython.core.display.Markdown object>"
      ]
     },
     "metadata": {},
     "output_type": "display_data"
    },
    {
     "name": "stdout",
     "output_type": "stream",
     "text": [
      "0    749\n",
      "1     21\n",
      "Name: c_i_ug, dtype: int64\n"
     ]
    },
    {
     "data": {
      "text/markdown": [
       "\n",
       "\n",
       "**▼c_i_kk:陰のカラカサ**"
      ],
      "text/plain": [
       "<IPython.core.display.Markdown object>"
      ]
     },
     "metadata": {},
     "output_type": "display_data"
    },
    {
     "name": "stdout",
     "output_type": "stream",
     "text": [
      "0    761\n",
      "1      9\n",
      "Name: c_i_kk, dtype: int64\n"
     ]
    },
    {
     "data": {
      "text/markdown": [
       "\n",
       "\n",
       "**▼c_juji:十字**"
      ],
      "text/plain": [
       "<IPython.core.display.Markdown object>"
      ]
     },
     "metadata": {},
     "output_type": "display_data"
    },
    {
     "name": "stdout",
     "output_type": "stream",
     "text": [
      "0    698\n",
      "1     72\n",
      "Name: c_juji, dtype: int64\n"
     ]
    },
    {
     "data": {
      "text/markdown": [
       "\n",
       "\n",
       "**▼c_tonbo:トンボ**"
      ],
      "text/plain": [
       "<IPython.core.display.Markdown object>"
      ]
     },
     "metadata": {},
     "output_type": "display_data"
    },
    {
     "name": "stdout",
     "output_type": "stream",
     "text": [
      "0    762\n",
      "1      8\n",
      "Name: c_tonbo, dtype: int64\n"
     ]
    },
    {
     "data": {
      "text/markdown": [
       "\n",
       "\n",
       "**▼c_touba:トウバ**"
      ],
      "text/plain": [
       "<IPython.core.display.Markdown object>"
      ]
     },
     "metadata": {},
     "output_type": "display_data"
    },
    {
     "name": "stdout",
     "output_type": "stream",
     "text": [
      "0    764\n",
      "1      6\n",
      "Name: c_touba, dtype: int64\n"
     ]
    },
    {
     "data": {
      "text/markdown": [
       "\n",
       "\n",
       "**▼c_ippon:一本線**"
      ],
      "text/plain": [
       "<IPython.core.display.Markdown object>"
      ]
     },
     "metadata": {},
     "output_type": "display_data"
    },
    {
     "name": "stdout",
     "output_type": "stream",
     "text": [
      "0    768\n",
      "1      2\n",
      "Name: c_ippon, dtype: int64\n"
     ]
    }
   ],
   "source": [
    "# Check number of data of candlestick features\n",
    "for k,v in dic_c.items():\n",
    "    printmd('▼' + str(k) + ':' + str(v))\n",
    "    print(df[k].value_counts())\n",
    "    #tmp_df = df.query(k + '== 1').head(10)\n",
    "    #display(tmp_df[['time','open','high','low','close']])"
   ]
  },
  {
   "cell_type": "markdown",
   "metadata": {},
   "source": [
    "# 3. Data visualization <a id='Data_visualization'></a>"
   ]
  },
  {
   "cell_type": "code",
   "execution_count": 5,
   "metadata": {},
   "outputs": [
    {
     "data": {
      "image/png": "[encoded data removed]",
      "text/plain": [
       "<Figure size 1440x720 with 2 Axes>"
      ]
     },
     "metadata": {
      "needs_background": "light"
     },
     "output_type": "display_data"
    }
   ],
   "source": [
    "plt.rcParams['figure.figsize'] = [20.0, 10.0]\n",
    "plt.rc('figure.subplot', left=0.5, right=0.9, bottom=0.1, top=0.9)\n",
    "fig, (ax1, ax2) = plt.subplots(2,1, gridspec_kw = {'height_ratios':[4, 2]})\n",
    "\n",
    "mpl_finance.candlestick2_ohlc(ax1,opens=df.open, highs=df.high, lows=df.low, closes=df.close, \n",
    "                              width=1,colorup='r', colordown='b')\n",
    "\n",
    "xdate = df.index\n",
    "ax1.xaxis.set_major_locator(ticker.MaxNLocator(6))\n",
    "ax1.grid(b=True, which='major', axis='both')\n",
    "def mydate(x, pos):\n",
    "    try:\n",
    "        return xdate[int(x)]\n",
    "    except IndexError:\n",
    "        return ''\n",
    "\n",
    "ax1.xaxis.set_major_formatter(ticker.FuncFormatter(mydate))\n",
    "ax1.format_xdata = mdates.DateFormatter('%Y-%m-%d')\n",
    "\n",
    "fig.autofmt_xdate()\n",
    "fig.tight_layout()\n",
    "\n",
    "ax2.plot(df.time, df.rsi14, color='b', antialiased=True, label='RSI14')\n",
    "ax2.grid(b=True, which='major', axis='both')\n",
    "\n",
    "plt.legend(loc='lower left',fontsize=18)\n",
    "fig.tight_layout()\n",
    "plt.show()"
   ]
  },
  {
   "cell_type": "markdown",
   "metadata": {},
   "source": [
    "# 4. Setting the objective variable<a id= 'Setting_the_objective_variable'></a>"
   ]
  },
  {
   "cell_type": "code",
   "execution_count": 6,
   "metadata": {},
   "outputs": [
    {
     "data": {
      "text/markdown": [
       "\n",
       "\n",
       "**▼ target（%）**"
      ],
      "text/plain": [
       "<IPython.core.display.Markdown object>"
      ]
     },
     "metadata": {},
     "output_type": "display_data"
    },
    {
     "data": {
      "image/png": "[encoded data removed]",
      "text/plain": [
       "<Figure size 360x360 with 1 Axes>"
      ]
     },
     "metadata": {},
     "output_type": "display_data"
    },
    {
     "data": {
      "text/html": [
       "<div>\n",
       "<style scoped>\n",
       "    .dataframe tbody tr th:only-of-type {\n",
       "        vertical-align: middle;\n",
       "    }\n",
       "\n",
       "    .dataframe tbody tr th {\n",
       "        vertical-align: top;\n",
       "    }\n",
       "\n",
       "    .dataframe thead th {\n",
       "        text-align: right;\n",
       "    }\n",
       "</style>\n",
       "<table border=\"1\" class=\"dataframe\">\n",
       "  <thead>\n",
       "    <tr style=\"text-align: right;\">\n",
       "      <th></th>\n",
       "      <th>target</th>\n",
       "    </tr>\n",
       "  </thead>\n",
       "  <tbody>\n",
       "    <tr>\n",
       "      <th>0</th>\n",
       "      <td>394</td>\n",
       "    </tr>\n",
       "    <tr>\n",
       "      <th>1</th>\n",
       "      <td>376</td>\n",
       "    </tr>\n",
       "  </tbody>\n",
       "</table>\n",
       "</div>"
      ],
      "text/plain": [
       "   target\n",
       "0     394\n",
       "1     376"
      ]
     },
     "metadata": {},
     "output_type": "display_data"
    }
   ],
   "source": [
    "# 翌日終値が当日終値よりも上昇するかを予測\n",
    "df['t1_close'] = df.close.shift(-1)\n",
    "df['t1_diff'] = df['t1_close'] - df['close']\n",
    "df['target'] = np.where(df['t1_diff'] >= 0.01,1,0)\n",
    "\n",
    "printmd('▼ target（%）')\n",
    "per_state = round(df['target'].value_counts() / len(df['target']) * 100,2)\n",
    "values = list(per_state.values)\n",
    "\n",
    "# pie\n",
    "plt.figure(figsize=(5,5))\n",
    "plt.pie(values, labels=list(per_state.index),\n",
    "        wedgeprops={'linewidth': 2,'edgecolor':'white'},\n",
    "        textprops={'color': 'white', 'weight': 'bold'},\n",
    "        counterclock=False,startangle=90,\n",
    "        autopct=lambda p: '{:.1f}%'.format(p) if p >= 2.5 else '')\n",
    "lgnd=plt.legend(bbox_to_anchor=(1.0, 0.25, 1.55, 0.5), loc=\"center left\", borderaxespad=0.)\n",
    "plt.axis('equal')\n",
    "plt.show()\n",
    "\n",
    "display(pd.DataFrame(df['target'].value_counts(),columns=['target']))"
   ]
  },
  {
   "cell_type": "markdown",
   "metadata": {},
   "source": [
    "# 5. Preprocessing<a id ='Preprocessing'></a>"
   ]
  },
  {
   "cell_type": "code",
   "execution_count": 7,
   "metadata": {
    "scrolled": false
   },
   "outputs": [],
   "source": [
    "# データセットの行数、列数を取得\n",
    "split_row = np.int(train_size * df.shape[0])\n",
    "end_row = df.shape[0]\n",
    "\n",
    "# 翌日の予測用を保持\n",
    "X_today_df = df.tail(1)\n",
    "\n",
    "X_all_df = df.drop(['time','t1_close','t1_diff','target'], axis=1)\n",
    "\n",
    "X_columns = X_all_df.columns\n",
    "\n",
    "# 標準化項目リスト\n",
    "enc_norm_col = ['open','high','low','close',\n",
    "                'sma5','sma21','ema10',\n",
    "                'rci9','rci21','rci52',\n",
    "                'tilt_rci9','tilt_rci21','tilt_rci52',\n",
    "                'tilt_sma5','tilt_sma21',\n",
    "                'tilt_ema10',\n",
    "                'rsi14',\n",
    "                'tilt_rsi14',\n",
    "                'bb1_up','bb1_low',\n",
    "                'bb2_up','bb2_low',\n",
    "                'bb3_up','bb3_low',\n",
    "                'bb1_shrinkage','bb2_shrinkage','bb3_shrinkage',\n",
    "                'momentum_5','momentum_10','momentum_21',\n",
    "                'day_chg','c_all_len','c_pil_len','top_bar','low_bar',\n",
    "                'y1_day_chg','y1_c_all_len','y1_c_pil_len','y1_top_bar','y1_low_bar',\n",
    "                'y2_day_chg','y2_c_all_len','y2_c_pil_len','y2_top_bar','y2_low_bar',\n",
    "                'y3_day_chg','y3_c_all_len','y3_c_pil_len','y3_top_bar','y3_low_bar',\n",
    "                'y4_day_chg','y4_c_all_len','y4_c_pil_len','y4_top_bar','y4_low_bar',\n",
    "                'y5_day_chg','y5_c_all_len','y5_c_pil_len','y5_top_bar','y5_low_bar',\n",
    "               ]\n",
    "\n",
    "# 標準化する列名と列番号の辞書\n",
    "dic_norm_col = {}\n",
    "for col_name in enc_norm_col:\n",
    "    dic_norm_col.setdefault(col_name, X_all_df.columns.get_loc(col_name))\n",
    "X_columns = X_all_df.columns\n",
    "\n",
    "# -------------------------------------------------\n",
    "# ndarrayに変換\n",
    "X_all = X_all_df.values\n",
    "y_all = df['target'].values\n",
    "\n",
    "# 訓練用\n",
    "X_train = X_all[:split_row, :]\n",
    "y_train = y_all[:split_row]\n",
    "\n",
    "# テスト用\n",
    "X_test = X_all[split_row+1:end_row-1,:]\n",
    "y_test = y_all[split_row+1:end_row-1]\n",
    "\n",
    "# 翌日の予測用\n",
    "X_today = X_all[end_row - 1:,:]\n",
    "\n",
    "# 標準化\n",
    "for col_name,col_idx in dic_norm_col.items():\n",
    "    stdsc = StandardScaler()\n",
    "    X_train[:,col_idx:col_idx+1] = stdsc.fit_transform(X_train[:,col_idx:col_idx+1])\n",
    "    X_test[:,col_idx:col_idx+1] = stdsc.transform(X_test[:,col_idx:col_idx+1])\n",
    "    X_today[:,col_idx:col_idx+1] = stdsc.transform(X_today[:,col_idx:col_idx+1])\n",
    "    "
   ]
  },
  {
   "cell_type": "markdown",
   "metadata": {},
   "source": [
    "# 6.Modeling<a id='MOdeling'></a>"
   ]
  },
  {
   "cell_type": "markdown",
   "metadata": {},
   "source": [
    "## 6-1. [RandomForestClassifier](https://scikit-learn.org/stable/modules/generated/sklearn.ensemble.RandomForestRegressor.html#sklearn.ensemble.RandomForestRegressor)"
   ]
  },
  {
   "cell_type": "code",
   "execution_count": 8,
   "metadata": {
    "scrolled": false
   },
   "outputs": [
    {
     "data": {
      "image/png": "[encoded data removed]",
      "text/plain": [
       "<Figure size 2880x288 with 1 Axes>"
      ]
     },
     "metadata": {
      "needs_background": "light"
     },
     "output_type": "display_data"
    },
    {
     "data": {
      "text/markdown": [
       "\n",
       "\n",
       "**▼ モデルの評価結果**"
      ],
      "text/plain": [
       "<IPython.core.display.Markdown object>"
      ]
     },
     "metadata": {},
     "output_type": "display_data"
    },
    {
     "name": "stdout",
     "output_type": "stream",
     "text": [
      "正答率（訓練データ） = 64.286%\n",
      "正答率（テストデータ）= 55.263%\n",
      "適合率（Precision※精度) = 67.857%\n",
      "再現率（Recall※検出率) = 24.359%\n",
      "F1値（F1-score） = 35.849%\n"
     ]
    },
    {
     "data": {
      "text/markdown": [
       "\n",
       "\n",
       "**▼ 混同行列**"
      ],
      "text/plain": [
       "<IPython.core.display.Markdown object>"
      ]
     },
     "metadata": {},
     "output_type": "display_data"
    },
    {
     "data": {
      "text/html": [
       "<div>\n",
       "<style scoped>\n",
       "    .dataframe tbody tr th:only-of-type {\n",
       "        vertical-align: middle;\n",
       "    }\n",
       "\n",
       "    .dataframe tbody tr th {\n",
       "        vertical-align: top;\n",
       "    }\n",
       "\n",
       "    .dataframe thead th {\n",
       "        text-align: right;\n",
       "    }\n",
       "</style>\n",
       "<table border=\"1\" class=\"dataframe\">\n",
       "  <thead>\n",
       "    <tr style=\"text-align: right;\">\n",
       "      <th></th>\n",
       "      <th>予測 = 翌日上昇しない</th>\n",
       "      <th>予測 = 翌日上昇する</th>\n",
       "    </tr>\n",
       "  </thead>\n",
       "  <tbody>\n",
       "    <tr>\n",
       "      <th>正解 = 翌日上昇しない</th>\n",
       "      <td>19</td>\n",
       "      <td>59</td>\n",
       "    </tr>\n",
       "    <tr>\n",
       "      <th>正解 =翌日上昇する</th>\n",
       "      <td>9</td>\n",
       "      <td>65</td>\n",
       "    </tr>\n",
       "  </tbody>\n",
       "</table>\n",
       "</div>"
      ],
      "text/plain": [
       "              予測 = 翌日上昇しない  予測 = 翌日上昇する\n",
       "正解 = 翌日上昇しない            19           59\n",
       "正解 =翌日上昇する               9           65"
      ]
     },
     "metadata": {},
     "output_type": "display_data"
    },
    {
     "data": {
      "text/markdown": [
       "\n",
       "\n",
       "**▼ 閾値以上の信頼度でトレードした場合の勝率**"
      ],
      "text/plain": [
       "<IPython.core.display.Markdown object>"
      ]
     },
     "metadata": {},
     "output_type": "display_data"
    },
    {
     "data": {
      "text/html": [
       "<div>\n",
       "<style scoped>\n",
       "    .dataframe tbody tr th:only-of-type {\n",
       "        vertical-align: middle;\n",
       "    }\n",
       "\n",
       "    .dataframe tbody tr th {\n",
       "        vertical-align: top;\n",
       "    }\n",
       "\n",
       "    .dataframe thead th {\n",
       "        text-align: right;\n",
       "    }\n",
       "</style>\n",
       "<table border=\"1\" class=\"dataframe\">\n",
       "  <thead>\n",
       "    <tr style=\"text-align: right;\">\n",
       "      <th></th>\n",
       "      <th>pred</th>\n",
       "      <th>actual</th>\n",
       "      <th>max_prob</th>\n",
       "    </tr>\n",
       "  </thead>\n",
       "  <tbody>\n",
       "    <tr>\n",
       "      <th>23</th>\n",
       "      <td>1</td>\n",
       "      <td>1</td>\n",
       "      <td>0.610525</td>\n",
       "    </tr>\n",
       "    <tr>\n",
       "      <th>34</th>\n",
       "      <td>1</td>\n",
       "      <td>0</td>\n",
       "      <td>0.626952</td>\n",
       "    </tr>\n",
       "    <tr>\n",
       "      <th>39</th>\n",
       "      <td>1</td>\n",
       "      <td>1</td>\n",
       "      <td>0.621997</td>\n",
       "    </tr>\n",
       "    <tr>\n",
       "      <th>48</th>\n",
       "      <td>1</td>\n",
       "      <td>1</td>\n",
       "      <td>0.611608</td>\n",
       "    </tr>\n",
       "    <tr>\n",
       "      <th>51</th>\n",
       "      <td>1</td>\n",
       "      <td>0</td>\n",
       "      <td>0.652229</td>\n",
       "    </tr>\n",
       "    <tr>\n",
       "      <th>52</th>\n",
       "      <td>1</td>\n",
       "      <td>1</td>\n",
       "      <td>0.602076</td>\n",
       "    </tr>\n",
       "    <tr>\n",
       "      <th>53</th>\n",
       "      <td>1</td>\n",
       "      <td>1</td>\n",
       "      <td>0.612784</td>\n",
       "    </tr>\n",
       "    <tr>\n",
       "      <th>57</th>\n",
       "      <td>1</td>\n",
       "      <td>1</td>\n",
       "      <td>0.611608</td>\n",
       "    </tr>\n",
       "    <tr>\n",
       "      <th>99</th>\n",
       "      <td>1</td>\n",
       "      <td>0</td>\n",
       "      <td>0.612397</td>\n",
       "    </tr>\n",
       "    <tr>\n",
       "      <th>104</th>\n",
       "      <td>1</td>\n",
       "      <td>1</td>\n",
       "      <td>0.602076</td>\n",
       "    </tr>\n",
       "  </tbody>\n",
       "</table>\n",
       "</div>"
      ],
      "text/plain": [
       "     pred  actual  max_prob\n",
       "23      1       1  0.610525\n",
       "34      1       0  0.626952\n",
       "39      1       1  0.621997\n",
       "48      1       1  0.611608\n",
       "51      1       0  0.652229\n",
       "52      1       1  0.602076\n",
       "53      1       1  0.612784\n",
       "57      1       1  0.611608\n",
       "99      1       0  0.612397\n",
       "104     1       1  0.602076"
      ]
     },
     "metadata": {},
     "output_type": "display_data"
    },
    {
     "name": "stdout",
     "output_type": "stream",
     "text": [
      "正答率（※閾値指定）=70.588%\n"
     ]
    },
    {
     "data": {
      "text/html": [
       "<div>\n",
       "<style scoped>\n",
       "    .dataframe tbody tr th:only-of-type {\n",
       "        vertical-align: middle;\n",
       "    }\n",
       "\n",
       "    .dataframe tbody tr th {\n",
       "        vertical-align: top;\n",
       "    }\n",
       "\n",
       "    .dataframe thead th {\n",
       "        text-align: right;\n",
       "    }\n",
       "</style>\n",
       "<table border=\"1\" class=\"dataframe\">\n",
       "  <thead>\n",
       "    <tr style=\"text-align: right;\">\n",
       "      <th></th>\n",
       "      <th>time</th>\n",
       "      <th>open</th>\n",
       "      <th>high</th>\n",
       "      <th>low</th>\n",
       "      <th>close</th>\n",
       "      <th>tomorrow_pred</th>\n",
       "      <th>prob0</th>\n",
       "      <th>prob1</th>\n",
       "    </tr>\n",
       "  </thead>\n",
       "  <tbody>\n",
       "    <tr>\n",
       "      <th>0</th>\n",
       "      <td>2020-01-23</td>\n",
       "      <td>109.837</td>\n",
       "      <td>109.853</td>\n",
       "      <td>109.503</td>\n",
       "      <td>109.506</td>\n",
       "      <td>0</td>\n",
       "      <td>0.624618</td>\n",
       "      <td>0.375382</td>\n",
       "    </tr>\n",
       "  </tbody>\n",
       "</table>\n",
       "</div>"
      ],
      "text/plain": [
       "        time     open     high      low    close  tomorrow_pred     prob0  \\\n",
       "0 2020-01-23  109.837  109.853  109.503  109.506              0  0.624618   \n",
       "\n",
       "      prob1  \n",
       "0  0.375382  "
      ]
     },
     "metadata": {},
     "output_type": "display_data"
    },
    {
     "name": "stdout",
     "output_type": "stream",
     "text": [
      "Probability of rising the next day = 37.54%\n"
     ]
    }
   ],
   "source": [
    "from sklearn.ensemble import RandomForestClassifier\n",
    "\n",
    "clf = RandomForestClassifier(n_estimators=10, # 決定木を何個並列に作るのか（通常は、100個とか）多いほうが汎化性能が上がる\n",
    "                             max_depth=2, \n",
    "                             criterion=\"gini\",\n",
    "                             min_samples_leaf=2, \n",
    "                             min_samples_split=2, \n",
    "                             random_state=1234)\n",
    "clf.fit(X_train, y_train)\n",
    "y_train_pred = clf.predict(X_train)\n",
    "y_test_pred = clf.predict(X_test)\n",
    "\n",
    "# 説明変数の重要度を出力する\n",
    "# scikit-learnで算出される重要度は、ある説明変数による不純度の減少量合計である。\n",
    "#print(clf.feature_importances_)\n",
    "pd.DataFrame(clf.feature_importances_, index=X_columns).plot.bar(figsize=(40,4))\n",
    "plt.ylabel(\"Importance\")\n",
    "plt.xlabel(\"Features\")\n",
    "plt.show()\n",
    "\n",
    "printmd('▼ モデルの評価結果')\n",
    "print('正答率（訓練データ） = {:.3f}%'.format(100 * accuracy_score(y_train, y_train_pred)))\n",
    "print('正答率（テストデータ）= {:.3f}%'.format(100 * accuracy_score(y_test, y_test_pred)))\n",
    "# Precision, Recall, F1-scoreを計算\n",
    "precision, recall, f1_score, _ = precision_recall_fscore_support(y_test, y_test_pred)\n",
    "print('適合率（Precision※精度) = {:.3f}%'.format(100 * precision[0]))\n",
    "print('再現率（Recall※検出率) = {:.3f}%'.format(100 * recall[0]))\n",
    "print('F1値（F1-score） = {:.3f}%'.format(100 * f1_score[0]))\n",
    "\n",
    "\n",
    "printmd('▼ 混同行列')\n",
    "conf_mat = pd.DataFrame(confusion_matrix(y_test, y_test_pred), \n",
    "                        index=['正解 = 翌日上昇しない', '正解 =翌日上昇する'], \n",
    "                        columns=['予測 = 翌日上昇しない', '予測 = 翌日上昇する'])\n",
    "display(conf_mat)\n",
    "\n",
    "printmd('▼ 閾値以上の信頼度でトレードした場合の勝率')\n",
    "# 確率取得（上昇しない確率：上昇する確率）\n",
    "prob = clf.predict_proba(X_test)\n",
    "\n",
    "# 閾値を指定\n",
    "max_prob, max_prob_args = [],[]\n",
    "for i in range(len(prob)):\n",
    "    max_prob.append(prob[i].max())\n",
    "    if prob[i].max() > 0.60: # n%以上の確率データで絞る\n",
    "        max_prob_args.append(prob[i].argmax())\n",
    "    else:\n",
    "        max_prob_args.append(-1)\n",
    "a = pd.DataFrame(X_test)\n",
    "a['pred'] = max_prob_args\n",
    "a['actual'] = y_test\n",
    "a['max_prob'] = max_prob\n",
    "b = a[a['pred'] != -1]\n",
    "display(b[['pred','actual','max_prob']].head(10))\n",
    "print('正答率（※閾値指定）={:.3f}%'.format(accuracy_score(b['pred'], b['actual']) * 100))\n",
    "\n",
    "\n",
    "test_csv = X_today_df\n",
    "test_csv['tomorrow_pred'] = clf.predict(X_today)\n",
    "test_csv['prob0'] = clf.predict_proba(X_today)[:,0]\n",
    "test_csv['prob1'] = clf.predict_proba(X_today)[:,1]\n",
    "test_csv = test_csv.reset_index()\n",
    "test_csv = test_csv[['time','open','high','low','close','tomorrow_pred','prob0','prob1']]\n",
    "display(test_csv)\n",
    "\n",
    "print('Probability of rising the next day = {:.2f}%'.format(test_csv.iloc[0,7] * 100))"
   ]
  },
  {
   "cell_type": "markdown",
   "metadata": {},
   "source": [
    "## 6-2. [AdaBoostClassifier](https://scikit-learn.org/stable/modules/generated/sklearn.ensemble.AdaBoostClassifier.html)"
   ]
  },
  {
   "cell_type": "code",
   "execution_count": 9,
   "metadata": {},
   "outputs": [
    {
     "data": {
      "image/png": "[encoded data removed]",
      "text/plain": [
       "<Figure size 2880x288 with 1 Axes>"
      ]
     },
     "metadata": {
      "needs_background": "light"
     },
     "output_type": "display_data"
    },
    {
     "data": {
      "text/markdown": [
       "\n",
       "\n",
       "**▼ モデルの評価結果**"
      ],
      "text/plain": [
       "<IPython.core.display.Markdown object>"
      ]
     },
     "metadata": {},
     "output_type": "display_data"
    },
    {
     "name": "stdout",
     "output_type": "stream",
     "text": [
      "正答率（訓練データ） = 100.000%\n",
      "正答率（テストデータ）= 61.184%\n",
      "適合率（Precision※精度) = 69.388%\n",
      "再現率（Recall※検出率) = 43.590%\n",
      "F1値（F1-score） = 53.543%\n"
     ]
    },
    {
     "data": {
      "text/markdown": [
       "\n",
       "\n",
       "**▼ 混同行列**"
      ],
      "text/plain": [
       "<IPython.core.display.Markdown object>"
      ]
     },
     "metadata": {},
     "output_type": "display_data"
    },
    {
     "data": {
      "text/html": [
       "<div>\n",
       "<style scoped>\n",
       "    .dataframe tbody tr th:only-of-type {\n",
       "        vertical-align: middle;\n",
       "    }\n",
       "\n",
       "    .dataframe tbody tr th {\n",
       "        vertical-align: top;\n",
       "    }\n",
       "\n",
       "    .dataframe thead th {\n",
       "        text-align: right;\n",
       "    }\n",
       "</style>\n",
       "<table border=\"1\" class=\"dataframe\">\n",
       "  <thead>\n",
       "    <tr style=\"text-align: right;\">\n",
       "      <th></th>\n",
       "      <th>予測 = 翌日上昇しない</th>\n",
       "      <th>予測 = 翌日上昇する</th>\n",
       "    </tr>\n",
       "  </thead>\n",
       "  <tbody>\n",
       "    <tr>\n",
       "      <th>正解 = 翌日上昇しない</th>\n",
       "      <td>34</td>\n",
       "      <td>44</td>\n",
       "    </tr>\n",
       "    <tr>\n",
       "      <th>正解 =翌日上昇する</th>\n",
       "      <td>15</td>\n",
       "      <td>59</td>\n",
       "    </tr>\n",
       "  </tbody>\n",
       "</table>\n",
       "</div>"
      ],
      "text/plain": [
       "              予測 = 翌日上昇しない  予測 = 翌日上昇する\n",
       "正解 = 翌日上昇しない            34           44\n",
       "正解 =翌日上昇する              15           59"
      ]
     },
     "metadata": {},
     "output_type": "display_data"
    },
    {
     "data": {
      "text/markdown": [
       "\n",
       "\n",
       "**▼ 閾値以上の信頼度でトレードした場合の勝率**"
      ],
      "text/plain": [
       "<IPython.core.display.Markdown object>"
      ]
     },
     "metadata": {},
     "output_type": "display_data"
    },
    {
     "data": {
      "text/html": [
       "<div>\n",
       "<style scoped>\n",
       "    .dataframe tbody tr th:only-of-type {\n",
       "        vertical-align: middle;\n",
       "    }\n",
       "\n",
       "    .dataframe tbody tr th {\n",
       "        vertical-align: top;\n",
       "    }\n",
       "\n",
       "    .dataframe thead th {\n",
       "        text-align: right;\n",
       "    }\n",
       "</style>\n",
       "<table border=\"1\" class=\"dataframe\">\n",
       "  <thead>\n",
       "    <tr style=\"text-align: right;\">\n",
       "      <th></th>\n",
       "      <th>pred</th>\n",
       "      <th>actual</th>\n",
       "      <th>max_prob</th>\n",
       "    </tr>\n",
       "  </thead>\n",
       "  <tbody>\n",
       "    <tr>\n",
       "      <th>0</th>\n",
       "      <td>0</td>\n",
       "      <td>0</td>\n",
       "      <td>0.517766</td>\n",
       "    </tr>\n",
       "    <tr>\n",
       "      <th>1</th>\n",
       "      <td>0</td>\n",
       "      <td>0</td>\n",
       "      <td>0.525188</td>\n",
       "    </tr>\n",
       "    <tr>\n",
       "      <th>2</th>\n",
       "      <td>0</td>\n",
       "      <td>1</td>\n",
       "      <td>0.501728</td>\n",
       "    </tr>\n",
       "    <tr>\n",
       "      <th>3</th>\n",
       "      <td>0</td>\n",
       "      <td>1</td>\n",
       "      <td>0.521922</td>\n",
       "    </tr>\n",
       "    <tr>\n",
       "      <th>4</th>\n",
       "      <td>1</td>\n",
       "      <td>0</td>\n",
       "      <td>0.500058</td>\n",
       "    </tr>\n",
       "    <tr>\n",
       "      <th>5</th>\n",
       "      <td>0</td>\n",
       "      <td>1</td>\n",
       "      <td>0.519183</td>\n",
       "    </tr>\n",
       "    <tr>\n",
       "      <th>6</th>\n",
       "      <td>1</td>\n",
       "      <td>0</td>\n",
       "      <td>0.506357</td>\n",
       "    </tr>\n",
       "    <tr>\n",
       "      <th>7</th>\n",
       "      <td>0</td>\n",
       "      <td>0</td>\n",
       "      <td>0.506595</td>\n",
       "    </tr>\n",
       "    <tr>\n",
       "      <th>8</th>\n",
       "      <td>1</td>\n",
       "      <td>1</td>\n",
       "      <td>0.508052</td>\n",
       "    </tr>\n",
       "    <tr>\n",
       "      <th>9</th>\n",
       "      <td>1</td>\n",
       "      <td>1</td>\n",
       "      <td>0.533274</td>\n",
       "    </tr>\n",
       "  </tbody>\n",
       "</table>\n",
       "</div>"
      ],
      "text/plain": [
       "   pred  actual  max_prob\n",
       "0     0       0  0.517766\n",
       "1     0       0  0.525188\n",
       "2     0       1  0.501728\n",
       "3     0       1  0.521922\n",
       "4     1       0  0.500058\n",
       "5     0       1  0.519183\n",
       "6     1       0  0.506357\n",
       "7     0       0  0.506595\n",
       "8     1       1  0.508052\n",
       "9     1       1  0.533274"
      ]
     },
     "metadata": {},
     "output_type": "display_data"
    },
    {
     "name": "stdout",
     "output_type": "stream",
     "text": [
      "正答率（※閾値指定）=61.184%\n"
     ]
    },
    {
     "data": {
      "text/html": [
       "<div>\n",
       "<style scoped>\n",
       "    .dataframe tbody tr th:only-of-type {\n",
       "        vertical-align: middle;\n",
       "    }\n",
       "\n",
       "    .dataframe tbody tr th {\n",
       "        vertical-align: top;\n",
       "    }\n",
       "\n",
       "    .dataframe thead th {\n",
       "        text-align: right;\n",
       "    }\n",
       "</style>\n",
       "<table border=\"1\" class=\"dataframe\">\n",
       "  <thead>\n",
       "    <tr style=\"text-align: right;\">\n",
       "      <th></th>\n",
       "      <th>time</th>\n",
       "      <th>open</th>\n",
       "      <th>high</th>\n",
       "      <th>low</th>\n",
       "      <th>close</th>\n",
       "      <th>tomorrow_pred</th>\n",
       "      <th>prob0</th>\n",
       "      <th>prob1</th>\n",
       "    </tr>\n",
       "  </thead>\n",
       "  <tbody>\n",
       "    <tr>\n",
       "      <th>0</th>\n",
       "      <td>2020-01-23</td>\n",
       "      <td>109.837</td>\n",
       "      <td>109.853</td>\n",
       "      <td>109.503</td>\n",
       "      <td>109.506</td>\n",
       "      <td>0</td>\n",
       "      <td>0.54882</td>\n",
       "      <td>0.45118</td>\n",
       "    </tr>\n",
       "  </tbody>\n",
       "</table>\n",
       "</div>"
      ],
      "text/plain": [
       "        time     open     high      low    close  tomorrow_pred    prob0  \\\n",
       "0 2020-01-23  109.837  109.853  109.503  109.506              0  0.54882   \n",
       "\n",
       "     prob1  \n",
       "0  0.45118  "
      ]
     },
     "metadata": {},
     "output_type": "display_data"
    },
    {
     "name": "stdout",
     "output_type": "stream",
     "text": [
      "Probability of rising the next day = 45.12%\n"
     ]
    }
   ],
   "source": [
    "from sklearn.ensemble import AdaBoostClassifier\n",
    "from sklearn.tree import DecisionTreeClassifier\n",
    "\n",
    "clf = AdaBoostClassifier(DecisionTreeClassifier(max_depth=2,min_samples_leaf=2,min_samples_split=2,\n",
    "                                                random_state=1234,criterion=\"gini\"),\n",
    "                         n_estimators=1000, random_state=1234)\n",
    "clf.fit(X_train, y_train)\n",
    "y_train_pred = clf.predict(X_train)\n",
    "y_test_pred = clf.predict(X_test)\n",
    "\n",
    "# 説明変数の重要度を出力する\n",
    "# scikit-learnで算出される重要度は、ある説明変数による不純度の減少量合計である。\n",
    "#print(clf.feature_importances_)\n",
    "pd.DataFrame(clf.feature_importances_, index=X_columns).plot.bar(figsize=(40,4))\n",
    "plt.ylabel(\"Importance\")\n",
    "plt.xlabel(\"Features\")\n",
    "plt.show()\n",
    "\n",
    "\n",
    "printmd('▼ モデルの評価結果')\n",
    "print('正答率（訓練データ） = {:.3f}%'.format(100 * accuracy_score(y_train, y_train_pred)))\n",
    "print('正答率（テストデータ）= {:.3f}%'.format(100 * accuracy_score(y_test, y_test_pred)))\n",
    "# Precision, Recall, F1-scoreを計算\n",
    "precision, recall, f1_score, _ = precision_recall_fscore_support(y_test, y_test_pred)\n",
    "print('適合率（Precision※精度) = {:.3f}%'.format(100 * precision[0]))\n",
    "print('再現率（Recall※検出率) = {:.3f}%'.format(100 * recall[0]))\n",
    "print('F1値（F1-score） = {:.3f}%'.format(100 * f1_score[0]))\n",
    "\n",
    "\n",
    "printmd('▼ 混同行列')\n",
    "conf_mat = pd.DataFrame(confusion_matrix(y_test, y_test_pred), \n",
    "                        index=['正解 = 翌日上昇しない', '正解 =翌日上昇する'], \n",
    "                        columns=['予測 = 翌日上昇しない', '予測 = 翌日上昇する'])\n",
    "display(conf_mat)\n",
    "\n",
    "printmd('▼ 閾値以上の信頼度でトレードした場合の勝率')\n",
    "# 確率取得（上昇しない確率：上昇する確率）\n",
    "prob = clf.predict_proba(X_test)\n",
    "\n",
    "# 閾値を指定\n",
    "max_prob, max_prob_args = [],[]\n",
    "for i in range(len(prob)):\n",
    "    max_prob.append(prob[i].max())\n",
    "    if prob[i].max() > 0.50: # n%以上の確率データで絞る\n",
    "        max_prob_args.append(prob[i].argmax())\n",
    "    else:\n",
    "        max_prob_args.append(-1)\n",
    "a = pd.DataFrame(X_test)\n",
    "a['pred'] = max_prob_args\n",
    "a['actual'] = y_test\n",
    "a['max_prob'] = max_prob\n",
    "b = a[a['pred'] != -1]\n",
    "display(b[['pred','actual','max_prob']].head(10))\n",
    "print('正答率（※閾値指定）={:.3f}%'.format(accuracy_score(b['pred'], b['actual']) * 100))\n",
    "\n",
    "test_csv = X_today_df\n",
    "test_csv['tomorrow_pred'] = clf.predict(X_today)\n",
    "test_csv['prob0'] = clf.predict_proba(X_today)[:,0]\n",
    "test_csv['prob1'] = clf.predict_proba(X_today)[:,1]\n",
    "test_csv = test_csv.reset_index()\n",
    "test_csv = test_csv[['time','open','high','low','close','tomorrow_pred','prob0','prob1']]\n",
    "display(test_csv)\n",
    "\n",
    "print('Probability of rising the next day = {:.2f}%'.format(test_csv.iloc[0,7] * 100))"
   ]
  }
 ],
 "metadata": {
  "kernelspec": {
   "display_name": "Python 3",
   "language": "python",
   "name": "python3"
  },
  "language_info": {
   "codemirror_mode": {
    "name": "ipython",
    "version": 3
   },
   "file_extension": ".py",
   "mimetype": "text/x-python",
   "name": "python",
   "nbconvert_exporter": "python",
   "pygments_lexer": "ipython3",
   "version": "3.7.3"
  }
 },
 "nbformat": 4,
 "nbformat_minor": 2
}
