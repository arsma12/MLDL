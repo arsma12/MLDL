{
 "cells": [
  {
   "cell_type": "code",
   "execution_count": 8,
   "metadata": {},
   "outputs": [
    {
     "name": "stdout",
     "output_type": "stream",
     "text": [
      "ok\n"
     ]
    }
   ],
   "source": [
    "import cv2, os\n",
    "\n",
    "img_last = None #前回の画像\n",
    "no = 0 #画像の枚数\n",
    "save_dir = \"./3_5_6_exfish\" #保存ディレクトリ名\n",
    "os.mkdir(save_dir) #ディレクトリを作成\n",
    "\n",
    "#動画ファイルから入力を開始\n",
    "cap = cv2.VideoCapture(\"3_5_6_fish.mp4\")\n",
    "while True:\n",
    "    #画像を取得\n",
    "    is_ok, frame = cap.read()\n",
    "    if not is_ok: break\n",
    "    frame = cv2.resize(frame, (640,360))\n",
    "    #白黒画像に変換\n",
    "    gray = cv2.cvtColor(frame, cv2.COLOR_BGR2GRAY)\n",
    "    gray = cv2.GaussianBlur(gray,(15,15),0)\n",
    "    img_b = cv2.threshold(gray,127,255,cv2.THRESH_BINARY)[1]\n",
    "    #差分を確認する\n",
    "    if not img_last is None:\n",
    "        frame_diff = cv2.absdiff(img_last, img_b)\n",
    "        cnts = cv2.findContours(frame_diff,cv2.RETR_EXTERNAL,cv2.CHAIN_APPROX_SIMPLE)[0]\n",
    "        \n",
    "        #差分があった領域をファイルに出力\n",
    "        for pt in cnts:\n",
    "            x, y, w, h = cv2.boundingRect(pt)\n",
    "            if w < 100 or w > 500: continue #ノイズを除去\n",
    "            #抽出した領域を画像として保存\n",
    "            imgex = frame[y:y+h,x:x+w]\n",
    "            outfile = save_dir + \"/\" + \"3_5_6_fish_\"+ str(no) + \".jpg\"\n",
    "            cv2.imwrite(outfile, imgex)\n",
    "            no += 1\n",
    "    img_last = img_b\n",
    "\n",
    "cap.release()\n",
    "print(\"ok\")\n"
   ]
  },
  {
   "cell_type": "code",
   "execution_count": null,
   "metadata": {},
   "outputs": [],
   "source": []
  }
 ],
 "metadata": {
  "kernelspec": {
   "display_name": "Python 3",
   "language": "python",
   "name": "python3"
  },
  "language_info": {
   "codemirror_mode": {
    "name": "ipython",
    "version": 3
   },
   "file_extension": ".py",
   "mimetype": "text/x-python",
   "name": "python",
   "nbconvert_exporter": "python",
   "pygments_lexer": "ipython3",
   "version": "3.7.4"
  }
 },
 "nbformat": 4,
 "nbformat_minor": 2
}
