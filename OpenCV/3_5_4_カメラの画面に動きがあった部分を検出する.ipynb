{
 "cells": [
  {
   "cell_type": "code",
   "execution_count": 3,
   "metadata": {},
   "outputs": [],
   "source": [
    "import cv2\n",
    "\n",
    "cap = cv2.VideoCapture(0)\n",
    "img_last = None #前回の画像を記憶する変数\n",
    "green = (0,255,0)\n",
    "\n",
    "while True:\n",
    "    #画像を取得\n",
    "    _, frame = cap.read()\n",
    "    frmae = cv2.resize(frame, (500,300))\n",
    "    #白黒画像に変換\n",
    "    gray = cv2.cvtColor(frame, cv2.COLOR_BGR2GRAY)\n",
    "    gray = cv2.GaussianBlur(gray,(9,9),0)\n",
    "    img_b = cv2.threshold(gray,100,255,cv2.THRESH_BINARY)[1]\n",
    "    #差分を確認する\n",
    "    if img_last is None:\n",
    "        img_last = img_b\n",
    "        continue\n",
    "    frame_diff = cv2.absdiff(img_last, img_b)\n",
    "    cnts = cv2.findContours(frame_diff,cv2.RETR_EXTERNAL,cv2.CHAIN_APPROX_SIMPLE)[0]\n",
    "    #差分があった点を画面に描く\n",
    "    for pt in cnts:\n",
    "        x, y, w, h = cv2.boundingRect(pt)\n",
    "        if w <30 : continue\n",
    "        cv2.rectangle(frame, (x,y),(x+w,y+h),green,2)\n",
    "    \n",
    "    #今回のフレームを保存\n",
    "    img_last = img_b\n",
    "    #画面に表示\n",
    "    cv2.imshow(\"Diff Camera\",frame)\n",
    "    cv2.imshow(\"diff data\",frame_diff)\n",
    "    if cv2.waitKey(1) == 13:break\n",
    "            \n",
    "cap.release()\n",
    "cv2.destroyAllWindows()"
   ]
  },
  {
   "cell_type": "code",
   "execution_count": null,
   "metadata": {},
   "outputs": [],
   "source": []
  }
 ],
 "metadata": {
  "kernelspec": {
   "display_name": "Python 3",
   "language": "python",
   "name": "python3"
  },
  "language_info": {
   "codemirror_mode": {
    "name": "ipython",
    "version": 3
   },
   "file_extension": ".py",
   "mimetype": "text/x-python",
   "name": "python",
   "nbconvert_exporter": "python",
   "pygments_lexer": "ipython3",
   "version": "3.7.4"
  }
 },
 "nbformat": 4,
 "nbformat_minor": 2
}
