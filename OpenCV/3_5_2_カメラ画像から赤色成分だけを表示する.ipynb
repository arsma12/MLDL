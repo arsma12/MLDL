{
 "cells": [
  {
   "cell_type": "code",
   "execution_count": 2,
   "metadata": {},
   "outputs": [],
   "source": [
    "import cv2\n",
    "import numpy as np\n",
    "\n",
    "#Webカメラから入力を開始\n",
    "cap = cv2.VideoCapture(0)\n",
    "while True:\n",
    "    #カメラの画像を読み込む\n",
    "    _, frame = cap.read()\n",
    "    #画像を縮小表示する\n",
    "    frame = cv2.resize(frame, (500,200))\n",
    "    #青と緑の成分を0に（NumPyのインデックスを利用）\n",
    "    frame[:,:,0]=0 #青要素を0\n",
    "    frame[:,:,1]=0 #緑要素を0\n",
    "    #ウインドに画像を出力\n",
    "    cv2.imshow('RED Camera',frame)\n",
    "    # Enterキーが押されたらループを抜ける\n",
    "    if cv2.waitKey(1) == 13: break\n",
    "        \n",
    "cap.release()\n",
    "cv2.destroyAllWindows()"
   ]
  },
  {
   "cell_type": "code",
   "execution_count": null,
   "metadata": {},
   "outputs": [],
   "source": []
  }
 ],
 "metadata": {
  "kernelspec": {
   "display_name": "Python 3",
   "language": "python",
   "name": "python3"
  },
  "language_info": {
   "codemirror_mode": {
    "name": "ipython",
    "version": 3
   },
   "file_extension": ".py",
   "mimetype": "text/x-python",
   "name": "python",
   "nbconvert_exporter": "python",
   "pygments_lexer": "ipython3",
   "version": "3.7.4"
  }
 },
 "nbformat": 4,
 "nbformat_minor": 2
}
