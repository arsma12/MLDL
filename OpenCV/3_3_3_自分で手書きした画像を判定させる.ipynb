{
 "cells": [
  {
   "cell_type": "code",
   "execution_count": 2,
   "metadata": {},
   "outputs": [
    {
     "name": "stdout",
     "output_type": "stream",
     "text": [
      "3_3_3_test1.png=2\n",
      "3_3_3_test2.png=4\n"
     ]
    }
   ],
   "source": [
    "import cv2\n",
    "from sklearn.externals import joblib\n",
    "\n",
    "def predict_digit(filename):\n",
    "    #学習済みデータを読み込む\n",
    "    clf = joblib.load(\"3_3_2_digits.pkl\")\n",
    "    #自分で用意した手書きの画像ファイルを読み込む\n",
    "    my_img = cv2.imread(filename)\n",
    "    #画像データを学習済みデータに合わせる\n",
    "    my_img = cv2.cvtColor(my_img,cv2.COLOR_BGR2GRAY)\n",
    "    my_img = cv2.resize(my_img,(8,8))\n",
    "    my_img = 15 - my_img // 16\n",
    "    #二次元を一次元に変換\n",
    "    my_img = my_img.reshape((-1,64))\n",
    "    #データを予測する\n",
    "    res = clf.predict(my_img)\n",
    "    return res[0]\n",
    "\n",
    "#画像ファイルを指定して実行\n",
    "n = predict_digit(\"3_3_3_test1.png\")\n",
    "print(\"3_3_3_test1.png=\" + str(n))\n",
    "n = predict_digit(\"3_3_3_test2.png\")\n",
    "print(\"3_3_3_test2.png=\" + str(n))"
   ]
  },
  {
   "cell_type": "code",
   "execution_count": null,
   "metadata": {},
   "outputs": [],
   "source": []
  }
 ],
 "metadata": {
  "kernelspec": {
   "display_name": "Python 3",
   "language": "python",
   "name": "python3"
  },
  "language_info": {
   "codemirror_mode": {
    "name": "ipython",
    "version": 3
   },
   "file_extension": ".py",
   "mimetype": "text/x-python",
   "name": "python",
   "nbconvert_exporter": "python",
   "pygments_lexer": "ipython3",
   "version": "3.7.4"
  }
 },
 "nbformat": 4,
 "nbformat_minor": 2
}
