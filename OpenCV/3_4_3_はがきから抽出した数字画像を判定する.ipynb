{
 "cells": [
  {
   "cell_type": "code",
   "execution_count": 10,
   "metadata": {},
   "outputs": [
    {
     "name": "stderr",
     "output_type": "stream",
     "text": [
      "C:\\Users\\arsma\\Anaconda3\\lib\\site-packages\\matplotlib\\text.py:1150: FutureWarning: elementwise comparison failed; returning scalar instead, but in the future will perform elementwise comparison\n",
      "  if s != self._text:\n",
      "C:\\Users\\arsma\\Anaconda3\\lib\\site-packages\\matplotlib\\text.py:1150: FutureWarning: elementwise comparison failed; returning scalar instead, but in the future will perform elementwise comparison\n",
      "  if s != self._text:\n",
      "C:\\Users\\arsma\\Anaconda3\\lib\\site-packages\\matplotlib\\text.py:1150: FutureWarning: elementwise comparison failed; returning scalar instead, but in the future will perform elementwise comparison\n",
      "  if s != self._text:\n"
     ]
    },
    {
     "data": {
      "image/png": "[encoded data removed]",
      "text/plain": [
       "<Figure size 432x288 with 3 Axes>"
      ]
     },
     "metadata": {
      "needs_background": "light"
     },
     "output_type": "display_data"
    }
   ],
   "source": [
    "#from detect_zip import *\n",
    "import cv2\n",
    "import matplotlib.pyplot as plt\n",
    "\n",
    "from sklearn.externals import joblib\n",
    "\n",
    "#はがき画像から郵便番号領域を抽出する関数\n",
    "def detect_zipno(fname):\n",
    "    #画像を読み込む\n",
    "    img = cv2.imread(fname)\n",
    "    #画像のサイズを求める\n",
    "    h,w = img.shape[:2]\n",
    "    #はがき画像の右上のみ抽出する\n",
    "    img = img[0:h//2, w//3:]\n",
    "    \n",
    "    #画像を二値化\n",
    "    gray = cv2.cvtColor(img,cv2.COLOR_BGR2GRAY)\n",
    "    gray = cv2.GaussianBlur(gray, (3,3),0)\n",
    "    im2 = cv2.threshold(gray,140,255,cv2.THRESH_BINARY_INV)[1]\n",
    "    \n",
    "    #輪郭を抽出\n",
    "    cnts = cv2.findContours(im2,cv2.RETR_LIST,cv2.CHAIN_APPROX_SIMPLE)[0]\n",
    "    \n",
    "    #抽出した輪郭を単純なリストに変換\n",
    "    result = []\n",
    "    for pt in cnts:\n",
    "        x,y,w,h = cv2.boundingRect(pt)\n",
    "        #大きすぎる小さすぎる領域を除去\n",
    "        if not(30<w<40):continue\n",
    "        result.append([x,y,w,h])\n",
    "    \n",
    "    #抽出した輪郭が左側から並ぶようソート\n",
    "    result = sorted(result, key=lambda x: x[0])\n",
    "    \n",
    "    #抽出した輪郭が近すぎるものを除去\n",
    "    result2 = []\n",
    "    lastx = -100\n",
    "    for x,y,w,h in result:\n",
    "        if(x-lastx) < 10 : continue\n",
    "        result2.append([x,y,w,h])\n",
    "        lastx =x\n",
    "        \n",
    "    #緑色の枠を描画\n",
    "    for x,y,w,h in result2:\n",
    "        cv2.rectangle(img,(x,y),(x+w,y+h), (0,255,0),3)\n",
    "    return result2, img\n",
    "\n",
    "\n",
    "#学習済み手書きデータを読み込む\n",
    "clf = joblib.load(\"3_3_2_digits.pkl\")\n",
    "\n",
    "#画像から領域を読み込む\n",
    "cnts, img = detect_zipno(\"3_4_2_test2.png\")\n",
    "\n",
    "#読み込んだデータをプロット\n",
    "for i, pt in enumerate(cnts):\n",
    "    x,y,w,h=pt\n",
    "    #枠線の輪郭分だけ小さくする\n",
    "    x += 8\n",
    "    y += 8\n",
    "    w -= 16\n",
    "    h -= 16\n",
    "    #画像データを取り出す\n",
    "    im2 = img[y:y+h,x:x+w]\n",
    "    #データを学習済みデータに合わせる\n",
    "    im2gray=cv2.cvtColor(im2,cv2.COLOR_BGR2GRAY)#グレイスケールに\n",
    "    im2gray=cv2.resize(im2gray,(8,8))#リサイズ\n",
    "    im2gray=15-im2gray//16\n",
    "    im2gray=im2gray.reshape((-1,64))#一次元に変換\n",
    "    \n",
    "    #データ予測する\n",
    "    res=clf.predict(im2gray)\n",
    "    #画面に出力\n",
    "    plt.subplot(1,7,i+1)\n",
    "    plt.imshow(im2)\n",
    "    plt.axis(\"off\")\n",
    "    plt.title(res)\n",
    "\n",
    "plt.show()"
   ]
  }
 ],
 "metadata": {
  "kernelspec": {
   "display_name": "Python 3",
   "language": "python",
   "name": "python3"
  },
  "language_info": {
   "codemirror_mode": {
    "name": "ipython",
    "version": 3
   },
   "file_extension": ".py",
   "mimetype": "text/x-python",
   "name": "python",
   "nbconvert_exporter": "python",
   "pygments_lexer": "ipython3",
   "version": "3.7.4"
  }
 },
 "nbformat": 4,
 "nbformat_minor": 2
}
