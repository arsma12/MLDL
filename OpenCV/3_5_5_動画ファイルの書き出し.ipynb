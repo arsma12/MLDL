{
 "cells": [
  {
   "cell_type": "code",
   "execution_count": 9,
   "metadata": {},
   "outputs": [],
   "source": [
    "import cv2\n",
    "import numpy as np\n",
    "\n",
    "#カメラの入力を開始\n",
    "cap = cv2.VideoCapture(0)\n",
    "#動画書き出し用のオブジェクトを生成\n",
    "fmt = cv2.VideoWriter_fourcc('m','p','4','v')\n",
    "fps = 20.0\n",
    "size = (640,360)\n",
    "writer = cv2.VideoWriter('3_5_5_SampleMovie.m4v',fmt,fps,size)\n",
    "\n",
    "while True:\n",
    "    _, frame = cap.read()\n",
    "    #画像を縮小\n",
    "    frame = cv2.resize(frame,size)\n",
    "    #画像を出力\n",
    "    writer.write(frame)\n",
    "    #ウインドウ上にも表示\n",
    "    cv2.imshow('frame',frame)\n",
    "    #Enterk-が押されたらループを抜ける\n",
    "    if cv2.waitKey(1) == 13 : break\n",
    "\n",
    "writer.release()\n",
    "cap.release()\n",
    "cv2.destroyAllWindows()"
   ]
  },
  {
   "cell_type": "code",
   "execution_count": null,
   "metadata": {},
   "outputs": [],
   "source": []
  }
 ],
 "metadata": {
  "kernelspec": {
   "display_name": "Python 3",
   "language": "python",
   "name": "python3"
  },
  "language_info": {
   "codemirror_mode": {
    "name": "ipython",
    "version": 3
   },
   "file_extension": ".py",
   "mimetype": "text/x-python",
   "name": "python",
   "nbconvert_exporter": "python",
   "pygments_lexer": "ipython3",
   "version": "3.7.4"
  }
 },
 "nbformat": 4,
 "nbformat_minor": 2
}
