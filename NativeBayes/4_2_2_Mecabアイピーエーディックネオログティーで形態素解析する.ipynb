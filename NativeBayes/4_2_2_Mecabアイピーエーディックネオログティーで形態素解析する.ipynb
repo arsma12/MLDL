{
 "cells": [
  {
   "cell_type": "code",
   "execution_count": 1,
   "metadata": {},
   "outputs": [
    {
     "name": "stdout",
     "output_type": "stream",
     "text": [
      "<MeCab.Node; proxy of <Swig Object of type 'MeCab::Node *' at 0x000001C284B16360> >\n"
     ]
    }
   ],
   "source": [
    "import MeCab\n",
    "tagger = MeCab.Tagger(\"-d C:/Users/arsma/mecab-ipadic-neologd/dic/ipadic-neologd\")\n",
    "tagger.parse(\"\")\n",
    "\n",
    "#形態素解析結果をリストで取得\n",
    "result = tagger.parseToNode(\"メイが恋ダンスを踊っている。\")\n",
    "print(result)"
   ]
  }
 ],
 "metadata": {
  "kernelspec": {
   "display_name": "Python 3",
   "language": "python",
   "name": "python3"
  },
  "language_info": {
   "codemirror_mode": {
    "name": "ipython",
    "version": 3
   },
   "file_extension": ".py",
   "mimetype": "text/x-python",
   "name": "python",
   "nbconvert_exporter": "python",
   "pygments_lexer": "ipython3",
   "version": "3.7.3"
  }
 },
 "nbformat": 4,
 "nbformat_minor": 2
}
