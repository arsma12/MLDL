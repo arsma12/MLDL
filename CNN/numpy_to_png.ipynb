{
 "cells": [
  {
   "cell_type": "markdown",
   "metadata": {},
   "source": [
    "# numpy形式の画像データをpng形式の画像として出力する方法"
   ]
  },
  {
   "cell_type": "code",
   "execution_count": 3,
   "metadata": {
    "ExecuteTime": {
     "end_time": "2018-03-30T05:44:34.738010Z",
     "start_time": "2018-03-30T05:44:33.614086Z"
    },
    "scrolled": true
   },
   "outputs": [],
   "source": [
    "from PIL import Image\n",
    "import numpy as np\n",
    "import matplotlib.pyplot as plt\n",
    "from IPython.display import display\n",
    "import glob\n",
    "import os,sys\n",
    "from sklearn.preprocessing import LabelBinarizer\n",
    "\n",
    "dic_katakana = {\"a\":0,\"i\":1,\"u\":2,\"e\":3,\"o\":4,\"ka\":5,\"ki\":6,\"ku\":7,\"ke\":8,\"ko\":9,\"sa\":10,\"si\":11,\"su\":12,\"se\":13,\"so\":14}\n",
    "pixel = 28"
   ]
  },
  {
   "cell_type": "markdown",
   "metadata": {},
   "source": [
    "## データの読み込み"
   ]
  },
  {
   "cell_type": "code",
   "execution_count": 4,
   "metadata": {},
   "outputs": [
    {
     "name": "stdout",
     "output_type": "stream",
     "text": [
      "(3000, 1, 28, 28)\n",
      "(3000, 15)\n"
     ]
    }
   ],
   "source": [
    "train_data = np.load(\"../1_data/train_data.npy\")\n",
    "train_label = np.load(\"../1_data/train_label.npy\")\n",
    "print(train_data.shape)\n",
    "print(train_label.shape)"
   ]
  },
  {
   "cell_type": "markdown",
   "metadata": {},
   "source": [
    "## numpy形式の画像をpng形式で出力する方法"
   ]
  },
  {
   "cell_type": "code",
   "execution_count": 9,
   "metadata": {
    "scrolled": false
   },
   "outputs": [
    {
     "data": {
      "image/png": "[encoded data removed]",
      "text/plain": [
       "<Figure size 432x288 with 1 Axes>"
      ]
     },
     "metadata": {
      "needs_background": "light"
     },
     "output_type": "display_data"
    },
    {
     "name": "stdout",
     "output_type": "stream",
     "text": [
      "<class 'PIL.Image.Image'> <PIL.Image.Image image mode=L size=28x28 at 0x186AEDFB780>\n"
     ]
    }
   ],
   "source": [
    "import matplotlib.pyplot as plt\n",
    "from matplotlib import cm\n",
    "\n",
    "ind = 0\n",
    "\n",
    "# 画像\n",
    "img = train_data[ind,:,:,:,]\n",
    "plt.imshow(img[0,:,:], cmap='gray')\n",
    "plt.show()\n",
    "\n",
    "# ラベル\n",
    "label_int = np.argmax(train_label [ind])\n",
    "for key, value in dic_katakana.items():\n",
    "    if value==label_int:\n",
    "        label_str = key\n",
    "        break\n",
    "\n",
    "# 出力\n",
    "img = Image.fromarray(np.uint8(img.reshape(28,28)))\n",
    "print(type(img), img)\n",
    "img.save(\"%s.png\"%label_str)"
   ]
  },
  {
   "cell_type": "markdown",
   "metadata": {},
   "source": [
    "### 出力したpng形式を読み込んでみる"
   ]
  },
  {
   "cell_type": "code",
   "execution_count": 4,
   "metadata": {
    "scrolled": true
   },
   "outputs": [
    {
     "name": "stdout",
     "output_type": "stream",
     "text": [
      "(1, 1, 28, 28)\n"
     ]
    },
    {
     "data": {
      "image/png": "[encoded data removed]",
      "text/plain": [
       "<Figure size 432x288 with 1 Axes>"
      ]
     },
     "metadata": {
      "needs_background": "light"
     },
     "output_type": "display_data"
    }
   ],
   "source": [
    "# ファイル名\n",
    "fname = \"%s.png\"%label_str\n",
    "\n",
    "# numpy形式に変換\n",
    "num_image = 1\n",
    "channel = 1 # グレースケール\n",
    "data = np.empty((num_image, channel, pixel, pixel))\n",
    "\n",
    "# カタカナ文字\n",
    "label_str = fname.split(\".png\")[0]\n",
    "label_int = dic_katakana[label_str]\n",
    "\n",
    "img_ = Image.open(fname)\n",
    "img_ = np.array(img_).astype(np.float32)\n",
    "data[0, 0, :] = img_\n",
    "\n",
    "print(data.shape)\n",
    "\n",
    "# 読み込んだ画像を表示する\n",
    "plt.imshow(data[0,0,:,:], cmap='gray')\n",
    "plt.show()"
   ]
  },
  {
   "cell_type": "code",
   "execution_count": 5,
   "metadata": {},
   "outputs": [
    {
     "data": {
      "text/plain": [
       "(1, 1, 28, 28)"
      ]
     },
     "execution_count": 5,
     "metadata": {},
     "output_type": "execute_result"
    }
   ],
   "source": [
    "data.shape"
   ]
  },
  {
   "cell_type": "code",
   "execution_count": null,
   "metadata": {},
   "outputs": [],
   "source": []
  }
 ],
 "metadata": {
  "anaconda-cloud": {},
  "kernelspec": {
   "display_name": "Python 3",
   "language": "python",
   "name": "python3"
  },
  "language_info": {
   "codemirror_mode": {
    "name": "ipython",
    "version": 3
   },
   "file_extension": ".py",
   "mimetype": "text/x-python",
   "name": "python",
   "nbconvert_exporter": "python",
   "pygments_lexer": "ipython3",
   "version": "3.7.3"
  }
 },
 "nbformat": 4,
 "nbformat_minor": 1
}
