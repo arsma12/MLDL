{
 "cells": [
  {
   "cell_type": "markdown",
   "metadata": {},
   "source": [
    "# ◆[Question Classification（To find the intent of the Question）](https://www.kaggle.com/ananthu017/question-classification/kernels)\n",
    "### 目的：あらゆる質問の文章の特徴から対応するカテゴリを予測する\n",
    "- 説明変数が文章（TfidfVectorizerでベクトル化）で目的変数をカテゴリとするソフトマックス関数の多クラス分類モデルを構築する\n",
    "###### Create Date：2020/01/08　Author：M.Hasegawa\n",
    "### ────────────────────────────────────────────────────────────────\n",
    "\n",
    "#### 【手順】\n",
    "0. [**Notebook内で利用する関数の定義**](#import_module)\n",
    "1. [**データ読込**](#import_data)\n",
    "2. [**モデル構築と評価**](#modeling)\n",
    "\n",
    "###### ※データセット「Question_Classification_Dataset.csv」（データ数：5,452行5列）\n",
    "\n",
    "|No|項目|説明|型|特記事項|\n",
    "|:---:|:---:|:---:|:---:|:---:|\n",
    "|1|id|識別ID|数値||\n",
    "|2|Questions|質問|カテゴり||\n",
    "|3|Category0|カテゴリ0|カテゴリ|6種類の多クラス分類|\n",
    "|4|Category1|カテゴリ1|カテゴリ|6種類の多クラス分類|\n",
    "|5|Category2|カテゴリ2|カテゴリ|46種類の多クラス分類|"
   ]
  },
  {
   "cell_type": "markdown",
   "metadata": {},
   "source": [
    "## 0. Notebook内で利用する関数の定義<a id='import_module'></a>"
   ]
  },
  {
   "cell_type": "code",
   "execution_count": 1,
   "metadata": {},
   "outputs": [],
   "source": [
    "%matplotlib inline\n",
    "import pandas as pd\n",
    "from sklearn.model_selection import train_test_split\n",
    "from sklearn.svm import SVC\n",
    "from sklearn.feature_extraction.text import TfidfVectorizer\n",
    "from sklearn.metrics import accuracy_score\n",
    "import pickle\n",
    "import os\n",
    "\n",
    "import warnings\n",
    "warnings.filterwarnings('ignore')"
   ]
  },
  {
   "cell_type": "markdown",
   "metadata": {},
   "source": [
    "# 1. データ読込<a id='import_data'><a>"
   ]
  },
  {
   "cell_type": "code",
   "execution_count": 8,
   "metadata": {},
   "outputs": [
    {
     "name": "stdout",
     "output_type": "stream",
     "text": [
      "\n",
      "▼ 行列数表示\n"
     ]
    },
    {
     "data": {
      "text/plain": [
       "(5452, 5)"
      ]
     },
     "metadata": {},
     "output_type": "display_data"
    },
    {
     "name": "stdout",
     "output_type": "stream",
     "text": [
      "\n",
      "▼ 先頭5行表示\n"
     ]
    },
    {
     "data": {
      "text/html": [
       "<div>\n",
       "<style scoped>\n",
       "    .dataframe tbody tr th:only-of-type {\n",
       "        vertical-align: middle;\n",
       "    }\n",
       "\n",
       "    .dataframe tbody tr th {\n",
       "        vertical-align: top;\n",
       "    }\n",
       "\n",
       "    .dataframe thead th {\n",
       "        text-align: right;\n",
       "    }\n",
       "</style>\n",
       "<table border=\"1\" class=\"dataframe\">\n",
       "  <thead>\n",
       "    <tr style=\"text-align: right;\">\n",
       "      <th></th>\n",
       "      <th>Unnamed: 0</th>\n",
       "      <th>Questions</th>\n",
       "      <th>Category0</th>\n",
       "      <th>Category1</th>\n",
       "      <th>Category2</th>\n",
       "    </tr>\n",
       "  </thead>\n",
       "  <tbody>\n",
       "    <tr>\n",
       "      <th>0</th>\n",
       "      <td>0</td>\n",
       "      <td>How did serfdom develop in and then leave Russ...</td>\n",
       "      <td>DESCRIPTION</td>\n",
       "      <td>DESC</td>\n",
       "      <td>manner</td>\n",
       "    </tr>\n",
       "    <tr>\n",
       "      <th>1</th>\n",
       "      <td>1</td>\n",
       "      <td>What films featured the character Popeye Doyle ?</td>\n",
       "      <td>ENTITY</td>\n",
       "      <td>ENTY</td>\n",
       "      <td>cremat</td>\n",
       "    </tr>\n",
       "    <tr>\n",
       "      <th>2</th>\n",
       "      <td>2</td>\n",
       "      <td>How can I find a list of celebrities ' real na...</td>\n",
       "      <td>DESCRIPTION</td>\n",
       "      <td>DESC</td>\n",
       "      <td>manner</td>\n",
       "    </tr>\n",
       "    <tr>\n",
       "      <th>3</th>\n",
       "      <td>3</td>\n",
       "      <td>What fowl grabs the spotlight after the Chines...</td>\n",
       "      <td>ENTITY</td>\n",
       "      <td>ENTY</td>\n",
       "      <td>animal</td>\n",
       "    </tr>\n",
       "    <tr>\n",
       "      <th>4</th>\n",
       "      <td>4</td>\n",
       "      <td>What is the full form of .com ?</td>\n",
       "      <td>ABBREVIATION</td>\n",
       "      <td>ABBR</td>\n",
       "      <td>exp</td>\n",
       "    </tr>\n",
       "  </tbody>\n",
       "</table>\n",
       "</div>"
      ],
      "text/plain": [
       "   Unnamed: 0                                          Questions  \\\n",
       "0           0  How did serfdom develop in and then leave Russ...   \n",
       "1           1   What films featured the character Popeye Doyle ?   \n",
       "2           2  How can I find a list of celebrities ' real na...   \n",
       "3           3  What fowl grabs the spotlight after the Chines...   \n",
       "4           4                    What is the full form of .com ?   \n",
       "\n",
       "      Category0 Category1 Category2  \n",
       "0   DESCRIPTION      DESC    manner  \n",
       "1        ENTITY      ENTY    cremat  \n",
       "2   DESCRIPTION      DESC    manner  \n",
       "3        ENTITY      ENTY    animal  \n",
       "4  ABBREVIATION      ABBR       exp  "
      ]
     },
     "metadata": {},
     "output_type": "display_data"
    },
    {
     "name": "stdout",
     "output_type": "stream",
     "text": [
      "\n",
      "▼ 各カテゴリの種類\n",
      "\n",
      "Category0= ['DESCRIPTION' 'ENTITY' 'ABBREVIATION' 'HUMAN' 'NUMERIC' 'LOCATION']\n",
      "\n",
      "Category1= ['DESC' 'ENTY' 'ABBR' 'HUM' 'NUM' 'LOC']\n",
      "\n",
      "Category2= ['manner' 'cremat' 'animal' 'exp' 'ind' 'gr' 'title' 'def' 'date' 'reason'\n",
      " 'event' 'state' 'desc' 'count' 'other' 'letter' 'religion' 'food'\n",
      " 'country' 'color' 'termeq' 'city' 'body' 'dismed' 'mount' 'money'\n",
      " 'product' 'period' 'substance' 'sport' 'plant' 'techmeth' 'volsize'\n",
      " 'instru' 'abb' 'speed' 'word' 'lang' 'perc' 'code' 'dist' 'temp' 'symbol'\n",
      " 'ord' 'veh' 'weight' 'currency']\n"
     ]
    }
   ],
   "source": [
    "df= pd.read_csv('./Question_Classification_Dataset.csv')\n",
    "\n",
    "print(\"\\n▼ 行列数表示\")\n",
    "display(df.shape)\n",
    "\n",
    "print(\"\\n▼ 先頭5行表示\")\n",
    "display(df.head(5))\n",
    "\n",
    "#print(\"\\n▼ 基本統計量\")\n",
    "#display(df.describe())\n",
    "\n",
    "#print('\\n▼ 欠損データ確認')\n",
    "#display(pd.DataFrame(df.isnull().sum()[df.isnull().sum()>0],columns=['Missing num']))\n",
    "\n",
    "# 識別IDを除外\n",
    "qn_df = df.iloc[:,1:]\n",
    "\n",
    "print('\\n▼ 各カテゴリの種類')\n",
    "print('\\nCategory0=',qn_df['Category0'].unique())\n",
    "print('\\nCategory1=',qn_df['Category1'].unique())\n",
    "print('\\nCategory2=',qn_df['Category2'].unique())"
   ]
  },
  {
   "cell_type": "markdown",
   "metadata": {},
   "source": [
    "# 2. モデル構築と評価<a id='modeling'></a>\n",
    "## 2-1.Category0の予測"
   ]
  },
  {
   "cell_type": "code",
   "execution_count": 14,
   "metadata": {
    "scrolled": false
   },
   "outputs": [
    {
     "name": "stdout",
     "output_type": "stream",
     "text": [
      "カテゴリ0 正答率= 0.8551787351054079\n",
      "カテゴリ0 正答率（※閾値指定）= 0.9720744680851063\n"
     ]
    }
   ],
   "source": [
    "# pd.factorizeでカテゴリ0を数値に変換\n",
    "qn_df0 = qn_df[['Questions', 'Category0']]\n",
    "qn_df0['Category0 Vectors'] = pd.factorize(qn_df0['Category0'])[0]\n",
    "\n",
    "X = qn_df0['Questions']         # 説明変数（文字列の質問）\n",
    "y = qn_df0['Category0 Vectors'] # 目的変数（数値化したカテゴリ0）\n",
    "\n",
    "X_train0, X_test0, y_train0, y_test0 = train_test_split(X,y,test_size=0.2, random_state=1234)\n",
    "\n",
    "# 説明変数の文章をベクトル化\n",
    "vect = TfidfVectorizer(ngram_range = (1,2)).fit(qn_df0['Questions'])\n",
    "X_train0_vector = vect.transform(X_train0)\n",
    "X_test0_vector = vect.transform(X_test0)\n",
    "\n",
    "#print('\\nX_train=',X_train.shape)            # ベクトル化前\n",
    "#print('\\ntrain_vector=',train_vector.shape)  # ベクトル化後\n",
    "\n",
    "# モデル生成、学習、予測、評価\n",
    "model0 = SVC(kernel='linear', probability = True)\n",
    "model0.fit(X_train0_vector, y_train0)\n",
    "y_test0_pred = model0.predict(X_test0_vector)\n",
    "print('カテゴリ0 正答率=',accuracy_score(y_test0_pred, y_test0))\n",
    "\n",
    "# 閾値を適用\n",
    "max_prob, max_prob_args = [],[]\n",
    "prob = model0.predict_proba(X_test0_vector)\n",
    "for i in range(len(prob)):\n",
    "    max_prob.append(prob[i].max()) # 予測確率の最大値\n",
    "    if prob[i].max() > 0.8:\n",
    "        max_prob_args.append(prob[i].argmax()) # 80%より高い予測確率の場合、予測したカテゴリ0の数値を設定\n",
    "    else:\n",
    "        max_prob_args.append(-1) # うまく予測できなかった場合、-1を設定\n",
    "a = pd.DataFrame(X_test0)\n",
    "a['pred'] = max_prob_args # 予測したカテゴリ0（数値）※予測確率が低い場合は-1が設定されている\n",
    "a['actual'] = y_test0     # 実際のカテゴリ0（数値）\n",
    "a['max_prob'] = max_prob  # 予測確率\n",
    "b = a[a['pred'] != -1]    # 予測が-1の行を除外する\n",
    "\n",
    "print('カテゴリ0 正答率（※閾値指定）=',accuracy_score(b['pred'], b['actual']))"
   ]
  },
  {
   "cell_type": "markdown",
   "metadata": {},
   "source": [
    "## 2-2.Category1の予測"
   ]
  },
  {
   "cell_type": "code",
   "execution_count": 16,
   "metadata": {},
   "outputs": [
    {
     "name": "stdout",
     "output_type": "stream",
     "text": [
      "カテゴリ1 正答率= 0.8386801099908341\n",
      "カテゴリ1 正答率（※閾値指定）= 0.9712041884816754\n"
     ]
    }
   ],
   "source": [
    "# pd.factorizeでカテゴリ1を数値\n",
    "qn_df1 = qn_df[['Questions', 'Category1']]\n",
    "qn_df1['Category1 Vectors'] = pd.factorize(qn_df1['Category1'])[0]\n",
    "\n",
    "X = qn_df1['Questions']         # 説明変数（文字列の質問）\n",
    "y = qn_df1['Category1 Vectors']  # 目的変数（数値化したカテゴリ1）\n",
    "\n",
    "X_train1, X_test1, y_train1, y_test1 = train_test_split(X,y, test_size=0.2, random_state=2345)\n",
    "\n",
    "# 説明変数の文章をベクトル化\n",
    "X_train1_vector = vect.transform(X_train1)\n",
    "X_test1_vector = vect.transform(X_test1)\n",
    "\n",
    "# モデル構築、学習、予測、評価\n",
    "model1 = SVC(kernel='linear', probability = True)\n",
    "model1.fit(X_train1_vector, y_train1)\n",
    "y_test1_pred = model1.predict(X_test1_vector)\n",
    "print('カテゴリ1 正答率=',accuracy_score(y_test1_pred, y_test1))\n",
    "\n",
    "max_prob, max_prob_args = [],[]\n",
    "prob = model1.predict_proba(X_test1_vector)\n",
    "for i in range(len(prob)):\n",
    "    max_prob.append(prob[i].max())\n",
    "    if prob[i].max() > 0.8:\n",
    "        max_prob_args.append(prob[i].argmax())\n",
    "    else:\n",
    "        max_prob_args.append(-1)\n",
    "a = pd.DataFrame(X_test1)\n",
    "a['pred'] = max_prob_args\n",
    "a['actual'] = y_test1\n",
    "a['max_prob'] = max_prob\n",
    "b = a[a['pred'] != -1]\n",
    "\n",
    "print('カテゴリ1 正答率（※閾値指定）=',accuracy_score(b['pred'], b['actual']))"
   ]
  },
  {
   "cell_type": "markdown",
   "metadata": {},
   "source": [
    "## 2-3.Category2の予測"
   ]
  },
  {
   "cell_type": "code",
   "execution_count": 17,
   "metadata": {},
   "outputs": [
    {
     "name": "stdout",
     "output_type": "stream",
     "text": [
      "カテゴリ2 正答率= 0.7121906507791017\n",
      "カテゴリ2 正答率（※閾値指定）= 0.9725158562367865\n"
     ]
    }
   ],
   "source": [
    "# pd.factorizeでカテゴリ2を数値に変換\n",
    "qn_df2 = qn_df[['Questions', 'Category2']]\n",
    "qn_df2['Category2 Vectors'] = pd.factorize(qn_df2['Category2'])[0]\n",
    "\n",
    "X = qn_df2['Questions']         # 説明変数（文字列の質問）\n",
    "y = qn_df2['Category2 Vectors']  # 目的変数（ベクトル化したカテゴリ2）\n",
    "\n",
    "X_train2, X_test2, y_train2, y_test2 = train_test_split(X,y, test_size=0.2, random_state=3456)\n",
    "\n",
    "# 説明変数をベクトル化\n",
    "X_train2_vector = vect.transform(X_train2)\n",
    "X_test2_vector = vect.transform(X_test2)\n",
    "\n",
    "# モデル構築、学習、予測、評価\n",
    "model2 = SVC(kernel='linear', probability = True)\n",
    "model2.fit(X_train2_vector, y_train2)\n",
    "y_test2_pred = model2.predict(X_test2_vector)\n",
    "print('カテゴリ2 正答率=',accuracy_score(y_test2_pred, y_test2))\n",
    "\n",
    "# 閾値を指定\n",
    "max_prob, max_prob_args = [],[]\n",
    "prob = model2.predict_proba(X_test2_vector)\n",
    "for i in range(len(prob)):\n",
    "    max_prob.append(prob[i].max())\n",
    "    if prob[i].max() > 0.8:\n",
    "        max_prob_args.append(prob[i].argmax())\n",
    "    else:\n",
    "        max_prob_args.append(-1)\n",
    "a = pd.DataFrame(X_test2)\n",
    "a['pred'] = max_prob_args\n",
    "a['actual'] = y_test2\n",
    "a['max_prob'] = max_prob\n",
    "b = a[a['pred'] != -1]\n",
    "\n",
    "print('カテゴリ2 正答率（※閾値指定）=',accuracy_score(b['pred'], b['actual']))"
   ]
  },
  {
   "cell_type": "markdown",
   "metadata": {},
   "source": [
    "## Appendix.カテゴリと数値の辞書"
   ]
  },
  {
   "cell_type": "code",
   "execution_count": 6,
   "metadata": {},
   "outputs": [
    {
     "name": "stdout",
     "output_type": "stream",
     "text": [
      "\n",
      "▼dict_cat0= {'DESCRIPTION': 0, 'ENTITY': 1, 'ABBREVIATION': 2, 'HUMAN': 3, 'NUMERIC': 4, 'LOCATION': 5}\n",
      "\n",
      "▼dict_cat1= {'DESC': 0, 'ENTY': 1, 'ABBR': 2, 'HUM': 3, 'NUM': 4, 'LOC': 5}\n",
      "\n",
      "▼dict_cat2= {'manner': 0, 'cremat': 1, 'animal': 2, 'exp': 3, 'ind': 4, 'gr': 5, 'title': 6, 'def': 7, 'date': 8, 'reason': 9, 'event': 10, 'state': 11, 'desc': 12, 'count': 13, 'other': 14, 'letter': 15, 'religion': 16, 'food': 17, 'country': 18, 'color': 19, 'termeq': 20, 'city': 21, 'body': 22, 'dismed': 23, 'mount': 24, 'money': 25, 'product': 26, 'period': 27, 'substance': 28, 'sport': 29, 'plant': 30, 'techmeth': 31, 'volsize': 32, 'instru': 33, 'abb': 34, 'speed': 35, 'word': 36, 'lang': 37, 'perc': 38, 'code': 39, 'dist': 40, 'temp': 41, 'symbol': 42, 'ord': 43, 'veh': 44, 'weight': 45, 'currency': 46}\n"
     ]
    }
   ],
   "source": [
    "dict_cat0 = {}\n",
    "for val in qn_df0['Category0'].unique():\n",
    "    dict_cat0[val] = qn_df0[qn_df0['Category0'] == val]['Category0 Vectors'].unique()[0]\n",
    "print('\\n▼dict_cat0=',dict_cat0)\n",
    "\n",
    "dict_cat1 = {}\n",
    "for val in qn_df1['Category1'].unique():\n",
    "    dict_cat1[val] = qn_df1[qn_df1['Category1'] == val]['Category1 Vectors'].unique()[0]\n",
    "print('\\n▼dict_cat1=',dict_cat1)\n",
    "\n",
    "dict_cat2 = {}\n",
    "for val in qn_df2['Category2'].unique():\n",
    "    dict_cat2[val] = qn_df2[qn_df2['Category2'] == val]['Category2 Vectors'].unique()[0]\n",
    "print('\\n▼dict_cat2=',dict_cat2)\n"
   ]
  }
 ],
 "metadata": {
  "kernelspec": {
   "display_name": "Python 3",
   "language": "python",
   "name": "python3"
  },
  "language_info": {
   "codemirror_mode": {
    "name": "ipython",
    "version": 3
   },
   "file_extension": ".py",
   "mimetype": "text/x-python",
   "name": "python",
   "nbconvert_exporter": "python",
   "pygments_lexer": "ipython3",
   "version": "3.7.3"
  }
 },
 "nbformat": 4,
 "nbformat_minor": 2
}
