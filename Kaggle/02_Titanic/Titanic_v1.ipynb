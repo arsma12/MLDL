{
 "cells": [
  {
   "cell_type": "markdown",
   "metadata": {},
   "source": [
    "## Kaggleのデータセットを用いてモデルを構築する\n",
    "\n",
    "### 目的：タイタニック号の乗客のデータから、生存率を予測する\n",
    "#### Titanic: Machine Learning from Disaster」URL:https://www.kaggle.com/anderas/car-consume\n",
    "\n",
    "#### ※利用するデータ\n",
    "- 「train.csv」（学習データ数：891行12列）\n",
    "- 「test.csv」（テストデータ数：418行11列 ※Survived列がない）\n",
    "\n",
    "| 列 | 項目 | 項目名 | 欠損有無 | 利用有無 |\n",
    "| :--- | :--- | :--- | :---: | :---: |\n",
    "|  1 | PassengerId |識別ID | - | - |\n",
    "|  2 | Survived | 生存有無 | - | ○ |\n",
    "|  3 | Pclass | チケットクラス | - | ○ |\n",
    "|  4 | Name | 名前 | - | - |\n",
    "|  5 | Sex | 性別 | - | ○ |\n",
    "|  6 | Age | 年齢 | 欠損あり | ○ |\n",
    "|  7 | SibSp | タイタニック号に乗る兄弟/配偶者の数 | - | ○ |\n",
    "|  8 | Parch | タイタニック号に乗る親/子供の数 | - | ○ |\n",
    "|  9 | Ticket | チケット | - | - |\n",
    "| 10 | Fare | 旅客運賃 | 欠損あり | ○ |\n",
    "| 11 | Cabin | 客室番号 | 欠損あり | - |\n",
    "| 12 | Embarked| 乗船港 C =シェルブール、Q =クイーンズタウン、S =サザンプトン | 欠損あり | ○ |"
   ]
  },
  {
   "cell_type": "code",
   "execution_count": 262,
   "metadata": {},
   "outputs": [
    {
     "name": "stdout",
     "output_type": "stream",
     "text": [
      "\n",
      "▼ データ数確認\n",
      "train data shape ---------> (891, 12)\n",
      "test data shape  ---------> (418, 11)\n",
      "\n",
      "▼ 生存率平均\n",
      "0.3838383838383838\n",
      "\n",
      "▼ 項目データ\n",
      "<class 'pandas.core.frame.DataFrame'>\n",
      "RangeIndex: 1300 entries, 0 to 1299\n",
      "Data columns (total 14 columns):\n",
      "PassengerId       1300 non-null int64\n",
      "Survived          1300 non-null int64\n",
      "Pclass            1300 non-null int64\n",
      "Name              1300 non-null object\n",
      "Sex               1300 non-null object\n",
      "Age               1300 non-null float64\n",
      "SibSp             1300 non-null int64\n",
      "Parch             1300 non-null int64\n",
      "Ticket            1300 non-null object\n",
      "Fare              1300 non-null float64\n",
      "tag               1300 non-null object\n",
      "honorific         1300 non-null object\n",
      "FamilySize        1300 non-null int64\n",
      "FamilySize_bin    1300 non-null object\n",
      "dtypes: float64(2), int64(6), object(6)\n",
      "memory usage: 142.3+ KB\n",
      "None\n",
      "\n",
      "▼ 欠損データ確認\n",
      "Age          263\n",
      "Fare           1\n",
      "Cabin       1014\n",
      "Embarked       2\n",
      "dtype: int64\n",
      "\n",
      "▼ 欠損データ確認\n",
      "Series([], dtype: int64)\n",
      "\n",
      "▼ データ確認\n",
      "   PassengerId  Survived  Pclass  \\\n",
      "0            1         0       3   \n",
      "1            2         1       1   \n",
      "2            3         1       3   \n",
      "3            4         1       1   \n",
      "4            5         0       3   \n",
      "\n",
      "                                                Name     Sex   Age  SibSp  \\\n",
      "0                            Braund, Mr. Owen Harris    male  22.0      1   \n",
      "1  Cumings, Mrs. John Bradley (Florence Briggs Th...  female  38.0      1   \n",
      "2                             Heikkinen, Miss. Laina  female  26.0      0   \n",
      "3       Futrelle, Mrs. Jacques Heath (Lily May Peel)  female  35.0      1   \n",
      "4                           Allen, Mr. William Henry    male  35.0      0   \n",
      "\n",
      "   Parch     Fare    tag  \n",
      "0      0   7.2500  train  \n",
      "1      0  71.2833  train  \n",
      "2      0   7.9250  train  \n",
      "3      0  53.1000  train  \n",
      "4      0   8.0500  train  \n"
     ]
    }
   ],
   "source": [
    "%matplotlib inline\n",
    "import pandas as pd\n",
    "import numpy as np\n",
    "import seaborn as sns\n",
    "import matplotlib.pyplot as plt\n",
    "from sklearn.preprocessing import StandardScaler\n",
    "from sklearn.linear_model import SGDClassifier\n",
    "from sklearn.metrics import log_loss, accuracy_score, confusion_matrix,precision_recall_fscore_support\n",
    "from sklearn.metrics import accuracy_score, precision_recall_fscore_support, confusion_matrix\n",
    "import warnings\n",
    "from collections import Counter\n",
    "\n",
    "# ============================================================================\n",
    "# 関数：各データの件数を確認するグラフ\n",
    "# 引数：データフレーム、データ名,グラフの横幅、縦幅、降順ソート指定\n",
    "# ============================================================================\n",
    "def show_state_count_plot(p_df, col_name, w, h, sort_flg=False):\n",
    "    plt.figure(figsize=(w,h))\n",
    "    if(sort_flg):\n",
    "        print(\"\\n▼ \" + str(col_name) + \"別の生存数と死亡数（降順）\")\n",
    "        ax = sns.countplot(p_df[col_name],hue=p_df['Survived'],order = p_df[col_name].value_counts().index)\n",
    "    else:\n",
    "        print(\"\\n▼ \" + str(col_name) + \"別の生存数と死亡数 \")\n",
    "        ax = sns.countplot(p_df[col_name],hue=p_df['Survived'])\n",
    "        \n",
    "    ax.set_title(\"Count by \" + str(col_name))\n",
    "    ax.set_xlabel(col_name)\n",
    "    ax.set_ylabel(\"Count\")\n",
    "    plt.legend()\n",
    "    plt.show()\n",
    "\n",
    "# ============================================================================\n",
    "# 関数：各データの成功率を確認するグラフ\n",
    "# 引数：データフレーム、データ名,グラフの横幅、縦幅、降順ソート有無\n",
    "# ============================================================================\n",
    "def show_s_rate_barplot(p_df, col_name, w, h, sort_flg=False):\n",
    "    s_rate = pd.DataFrame(p_df['Survived'].groupby(p_df[col_name]).mean())\n",
    "    s_rate.reset_index(inplace = True) # index振り直し\n",
    "    if(sort_flg):\n",
    "        s_rate = s_rate.sort_values('Survived', ascending=False)\n",
    "        print(\"\\n▼ \" + str(col_name) + \"別の生存率（降順）\")\n",
    "    else:\n",
    "        print(\"\\n▼ \" + str(col_name) + \"別の生存率\")\n",
    "    plt.figure(figsize=(w,h))\n",
    "    ax = sns.barplot(x=col_name, y=\"Survived\", data=s_rate)\n",
    "    ax.set_title(\"Survived rate by \" + str(col_name))\n",
    "    ax.set_xlabel(col_name)\n",
    "    ax.set_ylabel(\"Ratio\")\n",
    "    plt.show()\n",
    "    \n",
    "# ****************************************************************************\n",
    "# ◆ 1.データ読込\n",
    "# ****************************************************************************\n",
    "train = pd.read_csv('./train.csv')\n",
    "test = pd.read_csv('./test.csv')\n",
    "\n",
    "print('\\n▼ データ数確認')\n",
    "print('train data shape ---------> ' + str(train.shape))\n",
    "print('test data shape  ---------> ' + str(test.shape))\n",
    "\n",
    "print('\\n▼ 生存率平均')\n",
    "print(train['Survived'].mean())\n",
    "\n",
    "print('\\n▼ 項目データ')\n",
    "print(all_df.info())\n",
    "\n",
    "# 学習データとテストデータのマージ\n",
    "train_tmp = train\n",
    "test_tmp = test\n",
    "train_tmp['tag'] = 'train'\n",
    "test_tmp['tag'] = 'test'\n",
    "test_tmp['Survived'] = 9   #仮置き\n",
    "all_df = pd.concat([train_tmp,test_tmp],axis=0,sort=False).reset_index(drop=True)\n",
    "\n",
    "print(\"\\n▼ 欠損データ確認\")\n",
    "print(all_df.isnull().sum()[all_df.isnull().sum()>0])\n",
    "\n",
    "# 欠損値の補完\n",
    "all_df['Age'] = all_df['Age'].fillna(all_df['Age'].median()) # 中央値\n",
    "all_df['Fare'] = all_df['Fare'].fillna(all_df['Fare'].median()) # 中央値\n",
    "\n",
    "# 欠損項目除外\n",
    "all_df = all_df.drop(['Cabin'], axis=1)\n",
    "all_df = all_df.drop(['Embarked'], axis=1)\n",
    "\n",
    "# 不要項目除外\n",
    "all_df = all_df.drop(['Ticket'], axis=1)\n",
    "\n",
    "print(\"\\n▼ 欠損データ確認\")\n",
    "print(all_df.isnull().sum()[all_df.isnull().sum()>0])\n",
    "\n",
    "print('\\n▼ データ確認')\n",
    "print(all_df.head())\n"
   ]
  },
  {
   "cell_type": "code",
   "execution_count": 263,
   "metadata": {},
   "outputs": [
    {
     "name": "stdout",
     "output_type": "stream",
     "text": [
      "\n",
      "▼ Pclass別の生存率\n"
     ]
    },
    {
     "data": {
      "image/png": "[encoded data removed]",
      "text/plain": [
       "<Figure size 288x288 with 1 Axes>"
      ]
     },
     "metadata": {
      "needs_background": "light"
     },
     "output_type": "display_data"
    },
    {
     "name": "stdout",
     "output_type": "stream",
     "text": [
      "\n",
      "▼ Pclass別の生存数と死亡数 \n"
     ]
    },
    {
     "data": {
      "image/png": "[encoded data removed]",
      "text/plain": [
       "<Figure size 360x288 with 1 Axes>"
      ]
     },
     "metadata": {
      "needs_background": "light"
     },
     "output_type": "display_data"
    },
    {
     "name": "stdout",
     "output_type": "stream",
     "text": [
      "\n",
      "▼ 学習データとテストデータのPclassの乗客数の分布に大きな偏りはない\n",
      "tag         test     train\n",
      "Pclass                    \n",
      "1       0.255981  0.242424\n",
      "2       0.222488  0.206510\n",
      "3       0.521531  0.551066\n",
      "\n",
      "→ 結論：Pclassはダミー変換して利用する\n"
     ]
    }
   ],
   "source": [
    "# ------------------------------------------------\n",
    "# 2-1.Pclassの確認\n",
    "# ------------------------------------------------\n",
    "train = all_df.query(\"tag == 'train'\")\n",
    "\n",
    "# Pclass別の生存率\n",
    "show_s_rate_barplot(train,\"Pclass\",4,4)\n",
    "\n",
    "# Pclass別の生存数カウント\n",
    "show_state_count_plot(train,\"Pclass\",5,4)\n",
    "\n",
    "# Pclassの分布\n",
    "print(\"\\n▼ 学習データとテストデータのPclassの乗客数の分布に大きな偏りはない\")\n",
    "print(pd.crosstab(all_df['Pclass'],all_df['tag'],normalize='columns'))\n",
    "\n",
    "print(\"\\n→ 結論：Pclassはダミー変換して利用する\")"
   ]
  },
  {
   "cell_type": "code",
   "execution_count": 264,
   "metadata": {},
   "outputs": [
    {
     "name": "stdout",
     "output_type": "stream",
     "text": [
      "\n",
      "▼ 学習データとテストデータの敬称を比較\n",
      "tag           test  train\n",
      "honorific                \n",
      "Capt             0      1\n",
      "Col              2      2\n",
      "Don              0      1\n",
      "Dona             1      0\n",
      "Dr               1      7\n",
      "Jonkheer         0      1\n",
      "Lady             0      1\n",
      "Major            0      2\n",
      "Master          21     40\n",
      "Miss            78    182\n",
      "Mlle             0      2\n",
      "Mme              0      1\n",
      "Mr             240    517\n",
      "Mrs             72    125\n",
      "Ms               1      1\n",
      "Rev              2      6\n",
      "Sir              0      1\n",
      "the Countess     0      1\n",
      "\n",
      "→学習データにしか現れない敬称を除外する\n",
      "['Capt', 'Don', 'Jonkheer', 'Lady', 'Major', 'Mile', 'Mme', 'Sir', 'the Countess']\n",
      "\n",
      "▼ honorific別の生存率（降順）\n"
     ]
    },
    {
     "data": {
      "image/png": "[encoded data removed]",
      "text/plain": [
       "<Figure size 504x360 with 1 Axes>"
      ]
     },
     "metadata": {
      "needs_background": "light"
     },
     "output_type": "display_data"
    },
    {
     "name": "stdout",
     "output_type": "stream",
     "text": [
      "\n",
      "▼ honorific別の生存数と死亡数（降順）\n"
     ]
    },
    {
     "data": {
      "image/png": "[encoded data removed]",
      "text/plain": [
       "<Figure size 576x360 with 1 Axes>"
      ]
     },
     "metadata": {
      "needs_background": "light"
     },
     "output_type": "display_data"
    },
    {
     "name": "stdout",
     "output_type": "stream",
     "text": [
      "\n",
      "▼ 敬称別の生存率とレコード数\n",
      "               mean  count\n",
      "honorific                 \n",
      "Master     0.575000     40\n",
      "Miss       0.702703    185\n",
      "Mr         0.156673    517\n",
      "Mrs        0.792000    125\n",
      "Rare       0.266667     15\n",
      "\n",
      "→ 結論：Nameは除外し、honorificをダミー変換して利用する\n"
     ]
    }
   ],
   "source": [
    "# ------------------------------------------------\n",
    "# 2-2.Nameの確認\n",
    "# ------------------------------------------------\n",
    "train = all_df.query(\"tag == 'train'\")\n",
    "\n",
    "print(\"\\n▼ 学習データとテストデータの敬称を比較\")\n",
    "all_df['honorific'] = all_df['Name'].map(lambda x: x.split(', ')[1].split('. ')[0])\n",
    "print(pd.crosstab(all_df['honorific'],all_df['tag']) )\n",
    "\n",
    "print(\"\\n→学習データにしか現れない敬称を除外する\")\n",
    "only_train_honorific = ['Capt','Don','Jonkheer','Lady','Major','Mile','Mme','Sir','the Countess']\n",
    "print(only_train_honorific)\n",
    "\n",
    "# レコード除外\n",
    "all_df = all_df[~all_df['honorific'].isin(only_train_honorific) ].reset_index(drop=True)\n",
    "\n",
    "# 敬称を統合し、ダミー変換する\n",
    "all_df['honorific'].replace(['Col','Dr', 'Rev'], 'Rare',inplace=True) #少数派の敬称を統合\n",
    "all_df['honorific'].replace('Mlle', 'Miss',inplace=True) #Missに統合\n",
    "all_df['honorific'].replace('Ms', 'Miss',inplace=True) #Missに統合\n",
    "\n",
    "# 再取得\n",
    "train = all_df.query(\"tag == 'train'\")\n",
    "\n",
    "# 学習データでのグラフ表示\n",
    "show_s_rate_barplot(train,\"honorific\",7,5, True)\n",
    "show_state_count_plot(train,\"honorific\",8,5, True)\n",
    "\n",
    "print(\"\\n▼ 敬称別の生存率とレコード数\")\n",
    "print(train['Survived'].groupby(train['honorific']).agg(['mean','count']))\n",
    "\n",
    "print(\"\\n→ 結論：Nameは除外し、honorificをダミー変換して利用する\")"
   ]
  },
  {
   "cell_type": "code",
   "execution_count": 265,
   "metadata": {},
   "outputs": [
    {
     "name": "stdout",
     "output_type": "stream",
     "text": [
      "\n",
      "▼ Fare(運賃)をSurvivedに分けて分布を確認\n"
     ]
    },
    {
     "data": {
      "image/png": "[encoded data removed]",
      "text/plain": [
       "<Figure size 432x288 with 1 Axes>"
      ]
     },
     "metadata": {
      "needs_background": "light"
     },
     "output_type": "display_data"
    },
    {
     "name": "stdout",
     "output_type": "stream",
     "text": [
      "歪度: 4.793762193666624\n",
      "\n",
      "▼ 分布が歪んでいるためFareを対数変換して再度分布を確認\n"
     ]
    },
    {
     "data": {
      "image/png": "[encoded data removed]",
      "text/plain": [
       "<Figure size 432x288 with 1 Axes>"
      ]
     },
     "metadata": {
      "needs_background": "light"
     },
     "output_type": "display_data"
    },
    {
     "name": "stdout",
     "output_type": "stream",
     "text": [
      "\n",
      "→ 結論：Fareは、標準化して利用する\n"
     ]
    }
   ],
   "source": [
    "# ------------------------------------------------\n",
    "# 2-3.Fare(運賃)の確認\n",
    "# ------------------------------------------------\n",
    "print(\"\\n▼ Fare(運賃)をSurvivedに分けて分布を確認\")\n",
    "# Fareの分布\n",
    "sns.distplot(train[train['Survived']==1]['Fare'],kde=False,rug=False,bins=10,label='Survived')\n",
    "sns.distplot(train[train['Survived']==0]['Fare'],kde=False,rug=False,bins=10,label='Death')\n",
    "plt.legend()\n",
    "plt.show()\n",
    "\n",
    "#歪度（わいど）\n",
    "print(\"歪度:\", train['Fare'].skew())\n",
    "\n",
    "print(\"\\n▼ 分布が歪んでいるためFareを対数変換して再度分布を確認\")\n",
    "sns.distplot(np.log1p(train[train['Survived']==1]['Fare']),kde=False,rug=False,bins=10,label='Survived')\n",
    "sns.distplot(np.log1p(train[train['Survived']==0]['Fare']),kde=False,rug=False,bins=10,label='Death')\n",
    "plt.legend()\n",
    "plt.show()\n",
    "\n",
    "print(\"\\n→ 結論：Fareは、標準化して利用する\")"
   ]
  },
  {
   "cell_type": "code",
   "execution_count": 266,
   "metadata": {},
   "outputs": [
    {
     "data": {
      "image/png": "[encoded data removed]",
      "text/plain": [
       "<Figure size 432x288 with 1 Axes>"
      ]
     },
     "metadata": {
      "needs_background": "light"
     },
     "output_type": "display_data"
    },
    {
     "name": "stdout",
     "output_type": "stream",
     "text": [
      "\n",
      "→ 0～20歳までの分布に差が大きく、子供は生き残りやすかったといえる。\n",
      "  結論：Ageは、標準化して利用する\n"
     ]
    }
   ],
   "source": [
    "# ------------------------------------------------\n",
    "# 2-4.Age(年齢)の確認\n",
    "# ------------------------------------------------\n",
    "# Ageの分布\n",
    "sns.distplot(train_age_omit[train_age_omit['Survived']==1]['Age'],kde=True,rug=False,bins=10,label='Survived') #生存者の分布\n",
    "sns.distplot(train_age_omit[train_age_omit['Survived']==0]['Age'],kde=True,rug=False,bins=10,label='Death') #死者の分布\n",
    "plt.legend()\n",
    "plt.show()\n",
    "\n",
    "print(\"\\n→ 0～20歳までの分布に差が大きく、子供は生き残りやすかったといえる。\")\n",
    "print(\"  結論：Ageは、標準化して利用する\")"
   ]
  },
  {
   "cell_type": "code",
   "execution_count": 267,
   "metadata": {},
   "outputs": [
    {
     "name": "stdout",
     "output_type": "stream",
     "text": [
      "\n",
      "▼ FamilySize別の生存率\n"
     ]
    },
    {
     "data": {
      "image/png": "[encoded data removed]",
      "text/plain": [
       "<Figure size 432x288 with 1 Axes>"
      ]
     },
     "metadata": {
      "needs_background": "light"
     },
     "output_type": "display_data"
    },
    {
     "name": "stdout",
     "output_type": "stream",
     "text": [
      "\n",
      "▼ FamilySize別の生存数と死亡数 \n"
     ]
    },
    {
     "data": {
      "image/png": "[encoded data removed]",
      "text/plain": [
       "<Figure size 432x288 with 1 Axes>"
      ]
     },
     "metadata": {
      "needs_background": "light"
     },
     "output_type": "display_data"
    },
    {
     "name": "stdout",
     "output_type": "stream",
     "text": [
      "\n",
      "→単身者は死亡率が高く、2人～4人の家族の生存率は高く、5人以上は死亡率が高い。\n",
      "\n",
      "▼ FamilySize_bin別の生存率\n"
     ]
    },
    {
     "data": {
      "image/png": "[encoded data removed]",
      "text/plain": [
       "<Figure size 360x288 with 1 Axes>"
      ]
     },
     "metadata": {
      "needs_background": "light"
     },
     "output_type": "display_data"
    },
    {
     "name": "stdout",
     "output_type": "stream",
     "text": [
      "\n",
      "→ 結論：Parch、SibSp、FamilySizeを除外し、FamilySize_binをダミー変換して利用する\n"
     ]
    }
   ],
   "source": [
    "# ------------------------------------------------\n",
    "# 2-5.同乗者数（Parch、SibSp）の確認\n",
    "# ------------------------------------------------\n",
    "# 家族数 = Parch + SibSp + 1\n",
    "all_df['FamilySize'] = all_df['Parch'] + all_df['SibSp'] + 1 #ALLデータ\n",
    "\n",
    "train = all_df.query(\"tag == 'train'\")\n",
    "\n",
    "# 家族数ごとの分布を確認\n",
    "show_s_rate_barplot(train,\"FamilySize\",6,4)\n",
    "show_state_count_plot(train,\"FamilySize\",6,4)\n",
    "\n",
    "print(\"\\n→単身者は死亡率が高く、2人～4人の家族の生存率は高く、5人以上は死亡率が高い。\")\n",
    "\n",
    "# FamilySizeを離散化\n",
    "all_df['FamilySize_bin'] = 'big'\n",
    "all_df.loc[all_df['FamilySize']==1,'FamilySize_bin'] = 'alone'\n",
    "all_df.loc[(all_df['FamilySize']>=2) & (all_df['FamilySize']<=4),'FamilySize_bin'] = 'small'\n",
    "all_df.loc[(all_df['FamilySize']>=5) & (all_df['FamilySize']<=7),'FamilySize_bin'] = 'mediam'\n",
    "\n",
    "# FamilySizeを離散化したときの生存率\n",
    "train = all_df.query(\"tag == 'train'\")\n",
    "show_s_rate_barplot(train,\"FamilySize_bin\",5,4)\n",
    "\n",
    "print(\"\\n→ 結論：Parch、SibSp、FamilySizeを除外し、FamilySize_binをダミー変換して利用する\")"
   ]
  },
  {
   "cell_type": "code",
   "execution_count": 270,
   "metadata": {},
   "outputs": [
    {
     "name": "stdout",
     "output_type": "stream",
     "text": [
      "<class 'pandas.core.frame.DataFrame'>\n",
      "Int64Index: 882 entries, 0 to 881\n",
      "Data columns (total 17 columns):\n",
      "Survived                 882 non-null int64\n",
      "Age                      882 non-null float64\n",
      "Fare                     882 non-null float64\n",
      "Pclass_1                 882 non-null uint8\n",
      "Pclass_2                 882 non-null uint8\n",
      "Pclass_3                 882 non-null uint8\n",
      "Sex_female               882 non-null uint8\n",
      "Sex_male                 882 non-null uint8\n",
      "honorific_Master         882 non-null uint8\n",
      "honorific_Miss           882 non-null uint8\n",
      "honorific_Mr             882 non-null uint8\n",
      "honorific_Mrs            882 non-null uint8\n",
      "honorific_Rare           882 non-null uint8\n",
      "FamilySize_bin_alone     882 non-null uint8\n",
      "FamilySize_bin_big       882 non-null uint8\n",
      "FamilySize_bin_mediam    882 non-null uint8\n",
      "FamilySize_bin_small     882 non-null uint8\n",
      "dtypes: float64(2), int64(1), uint8(14)\n",
      "memory usage: 39.6 KB\n",
      "None\n",
      "\n",
      "▼ 先頭5行表示\n",
      "   Survived       Age      Fare  Pclass_1  Pclass_2  Pclass_3  Sex_female  \\\n",
      "0         0 -0.557494 -0.498077         0         0         1           0   \n",
      "1         1  0.679867  0.786910         1         0         0           1   \n",
      "2         1 -0.248153 -0.484532         0         0         1           1   \n",
      "3         1  0.447862  0.422017         1         0         0           1   \n",
      "4         0  0.447862 -0.482023         0         0         1           0   \n",
      "\n",
      "   Sex_male  honorific_Master  honorific_Miss  honorific_Mr  honorific_Mrs  \\\n",
      "0         1                 0               0             1              0   \n",
      "1         0                 0               0             0              1   \n",
      "2         0                 0               1             0              0   \n",
      "3         0                 0               0             0              1   \n",
      "4         1                 0               0             1              0   \n",
      "\n",
      "   honorific_Rare  FamilySize_bin_alone  FamilySize_bin_big  \\\n",
      "0               0                     0                   0   \n",
      "1               0                     0                   0   \n",
      "2               0                     1                   0   \n",
      "3               0                     0                   0   \n",
      "4               0                     1                   0   \n",
      "\n",
      "   FamilySize_bin_mediam  FamilySize_bin_small  \n",
      "0                      0                     1  \n",
      "1                      0                     1  \n",
      "2                      0                     0  \n",
      "3                      0                     1  \n",
      "4                      0                     0  \n"
     ]
    }
   ],
   "source": [
    "# ------------------------------------------------\n",
    "# 2-2.ダミー変換\n",
    "# ------------------------------------------------\n",
    "\n",
    "# 訓練データを利用\n",
    "train = all_df.query(\"tag == 'train'\")\n",
    "\n",
    "# 抽出元の不要な項目を削除\n",
    "train = train.drop(['PassengerId','Name','Parch','SibSp','FamilySize','tag'], axis=1)\n",
    "\n",
    "# one-hot-encoding\n",
    "train = pd.get_dummies(train, columns=['Pclass','Sex','honorific','FamilySize_bin'])\n",
    "\n",
    "# ------------------------------------------------\n",
    "# 2-6.データ標準化\n",
    "# ------------------------------------------------\n",
    "scaler = StandardScaler()\n",
    "train['Fare'] = scaler.fit_transform(train.loc[:, ['Fare']])\n",
    "train['Age'] = scaler.fit_transform(train.loc[:, ['Age']])\n",
    "\n",
    "\n",
    "print(train.info())\n",
    "\n",
    "\n",
    "print(\"\\n▼ 先頭5行表示\")\n",
    "print(train.head(5))\n",
    "\n",
    "#print(\"\\n▼ 基本統計量\")\n",
    "#print(df_d.describe())\n",
    "\n"
   ]
  },
  {
   "cell_type": "code",
   "execution_count": 271,
   "metadata": {},
   "outputs": [],
   "source": [
    "# ****************************************************************************\n",
    "# ◆ 3.モデル作成\n",
    "# ****************************************************************************\n",
    "X = train.drop('Survived', axis=1).values # 説明変数\n",
    "y = train['Survived'].values              # 目的変数\n",
    "\n",
    "# ロジスティック回帰モデル生成\n",
    "clf = SGDClassifier(loss='log',           # ロジスティック回帰を指定\n",
    "                    penalty='none',       # 正則化を入れる場合はL1､L2→Day2で実施\n",
    "                    max_iter=10000,       # 繰り返し計算時の強制的終了値、誤差が収束すれば利用しない。\n",
    "                    fit_intercept=True,   # 切片を有効にするかどうか\n",
    "                    random_state=1234,    # 乱数のシード\n",
    "                    tol=1e-3              # 収束する誤差の指定\n",
    "                   )\n",
    "\n",
    "# 学習\n",
    "clf.fit(X, y)\n",
    "\n",
    "#print('w0 = {:.3f}'.format(clf.intercept_[0]))\n",
    "\n",
    "# リストへ変換\n",
    "list_f = list(train.drop('Survived', axis=1).columns)\n",
    "list_w = np.reshape(clf.coef_[0], -1).tolist()"
   ]
  },
  {
   "cell_type": "code",
   "execution_count": 209,
   "metadata": {},
   "outputs": [
    {
     "name": "stdout",
     "output_type": "stream",
     "text": [
      "\n",
      "▼ 回帰係数を表示（絶対値の降順：Top30）\n",
      "                  feature      weight\n",
      "0    FamilySize_bin_alone  310.280552\n",
      "1        honorific_Master  303.712214\n",
      "2                Pclass_1  290.161839\n",
      "3            honorific_Mr -272.033790\n",
      "4   FamilySize_bin_mediam -241.170696\n",
      "5           honorific_Mrs  215.184483\n",
      "6                Pclass_3 -192.937420\n",
      "7    FamilySize_bin_small  156.783918\n",
      "8      FamilySize_bin_big -147.797071\n",
      "9              Sex_female  142.283195\n",
      "10         honorific_Miss  -89.543240\n",
      "11         honorific_Rare  -79.222963\n",
      "12              tag_train   78.096703\n",
      "13               Sex_male  -64.186492\n",
      "14               Pclass_2  -19.127717\n",
      "15                    Age  -10.626200\n",
      "16                   Fare    1.051123\n"
     ]
    },
    {
     "data": {
      "image/png": "[encoded data removed]",
      "text/plain": [
       "<Figure size 576x576 with 1 Axes>"
      ]
     },
     "metadata": {
      "needs_background": "light"
     },
     "output_type": "display_data"
    }
   ],
   "source": [
    "# ------------------------------------------------\n",
    "# 3-1.重みを表示  \n",
    "# ------------------------------------------------\n",
    "list_df = pd.DataFrame(columns=['feature','weight','abs_w'])\n",
    "for i, feature in enumerate(list_f):\n",
    "    #print(feature.ljust(30, ' ') + \"---->   w{:.0f} = {:.3f}\".format(i + 1, list_w[i]))\n",
    "    list_df = list_df.append( pd.Series([feature,list_w[i],abs(list_w[i])],index=list_df.columns), ignore_index=True)\n",
    "\n",
    "# 絶対値の降順ソートトップ30\n",
    "print(\"\\n▼ 回帰係数を表示（絶対値の降順：Top30）\")\n",
    "list_df = list_df.sort_values('abs_w', ascending=False)\n",
    "list_df.reset_index(drop=True,inplace=True)\n",
    "list_df = list_df.drop('abs_w', axis=1)\n",
    "list_head = list_df.head(30)\n",
    "print(list_head)\n",
    "\n",
    "# グラフで表示\n",
    "plt.figure(figsize=(8, 8))\n",
    "plt.barh(np.arange(len(list_head['feature']))[::-1], list_head['weight'], align='center')\n",
    "plt.yticks(np.arange(len(list_head['feature']))[::-1], list_head['feature'])\n",
    "plt.title('Rotated Bar Chart')\n",
    "plt.xlabel('weight')\n",
    "plt.ylabel('X')\n",
    "plt.grid()\n",
    "plt.show()"
   ]
  },
  {
   "cell_type": "code",
   "execution_count": 272,
   "metadata": {},
   "outputs": [
    {
     "name": "stdout",
     "output_type": "stream",
     "text": [
      "\n",
      "▼ モデルの評価結果\n",
      "対数尤度 = -6.109\n",
      "正答率 = 82.313%\n",
      "適合率（Precision※精度) = 82.255%\n",
      "再現率（Recall※検出率) = 91.009%\n",
      "F1値（F1-score） = 86.411%\n",
      "\n",
      "▼ 混同行列\n"
     ]
    },
    {
     "data": {
      "text/html": [
       "<div>\n",
       "<style scoped>\n",
       "    .dataframe tbody tr th:only-of-type {\n",
       "        vertical-align: middle;\n",
       "    }\n",
       "\n",
       "    .dataframe tbody tr th {\n",
       "        vertical-align: top;\n",
       "    }\n",
       "\n",
       "    .dataframe thead th {\n",
       "        text-align: right;\n",
       "    }\n",
       "</style>\n",
       "<table border=\"1\" class=\"dataframe\">\n",
       "  <thead>\n",
       "    <tr style=\"text-align: right;\">\n",
       "      <th></th>\n",
       "      <th>予測 = 資金調達失敗</th>\n",
       "      <th>予測 = 資金調達成功</th>\n",
       "    </tr>\n",
       "  </thead>\n",
       "  <tbody>\n",
       "    <tr>\n",
       "      <th>正解 = 資金調達失敗</th>\n",
       "      <td>496</td>\n",
       "      <td>49</td>\n",
       "    </tr>\n",
       "    <tr>\n",
       "      <th>正解 = 資金調達成功</th>\n",
       "      <td>107</td>\n",
       "      <td>230</td>\n",
       "    </tr>\n",
       "  </tbody>\n",
       "</table>\n",
       "</div>"
      ],
      "text/plain": [
       "             予測 = 資金調達失敗  予測 = 資金調達成功\n",
       "正解 = 資金調達失敗          496           49\n",
       "正解 = 資金調達成功          107          230"
      ]
     },
     "execution_count": 272,
     "metadata": {},
     "output_type": "execute_result"
    }
   ],
   "source": [
    "# ****************************************************************************\n",
    "# ◆ 4.モデル評価\n",
    "# ****************************************************************************\n",
    "\n",
    "# ラベルを予測\n",
    "y_est = clf.predict(X)\n",
    "\n",
    "print('\\n▼ モデルの評価結果')\n",
    "\n",
    "# 対数尤度を表示\n",
    "print('対数尤度 = {:.3f}'.format(- log_loss(y, y_est)))\n",
    "\n",
    "# 正答率を表示\n",
    "print('正答率 = {:.3f}%'.format(100 * accuracy_score(y, y_est)))\n",
    "\n",
    "# Precision, Recall, F1-scoreを計算\n",
    "precision, recall, f1_score, _ = precision_recall_fscore_support(y, y_est)\n",
    "\n",
    "# 成功に関するPrecision, Recall, F1-scoreを表示\n",
    "print('適合率（Precision※精度) = {:.3f}%'.format(100 * precision[0]))\n",
    "print('再現率（Recall※検出率) = {:.3f}%'.format(100 * recall[0]))\n",
    "print('F1値（F1-score） = {:.3f}%'.format(100 * f1_score[0]))\n",
    "\n",
    "# 予測値と正解のクロス集計\n",
    "print('\\n▼ 混同行列')\n",
    "conf_mat = pd.DataFrame(confusion_matrix(y, y_est), \n",
    "                        index=['正解 = 資金調達失敗', '正解 = 資金調達成功'], \n",
    "                        columns=['予測 = 資金調達失敗', '予測 = 資金調達成功'])\n",
    "\n",
    "conf_mat"
   ]
  },
  {
   "cell_type": "code",
   "execution_count": null,
   "metadata": {},
   "outputs": [],
   "source": []
  }
 ],
 "metadata": {
  "kernelspec": {
   "display_name": "Python 3",
   "language": "python",
   "name": "python3"
  },
  "language_info": {
   "codemirror_mode": {
    "name": "ipython",
    "version": 3
   },
   "file_extension": ".py",
   "mimetype": "text/x-python",
   "name": "python",
   "nbconvert_exporter": "python",
   "pygments_lexer": "ipython3",
   "version": "3.7.3"
  }
 },
 "nbformat": 4,
 "nbformat_minor": 2
}
