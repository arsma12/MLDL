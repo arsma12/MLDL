{
 "cells": [
  {
   "cell_type": "markdown",
   "metadata": {
    "_uuid": "5adae90bcaed7a0bf4725a7c82fa216e8099f7bd"
   },
   "source": [
    "# ◆Titanic: Machine Learning from Disaster\n",
    "### 目的：タイタニック号の乗客のデータから、生存予測をする\n",
    "### 目的変数をSurvivedとする二値分類問題を予測するML、NNおよびアンサンブル学習モデルを構築する\n",
    "- kaggle URL:https://www.kaggle.com/c/titanic/data\n",
    "- Create Date：2020/01/16　Author：M.Hasegawa\n",
    "### ────────────────────────────────────────────────────────────────\n"
   ]
  },
  {
   "cell_type": "markdown",
   "metadata": {
    "_uuid": "4c2e8b8de8ae6e359fa4444d4bbfc71c29ae69e8"
   },
   "source": [
    "![](https://i.ytimg.com/vi/yuMNWt6S0ZA/maxresdefault.jpg)"
   ]
  },
  {
   "cell_type": "markdown",
   "metadata": {
    "_uuid": "4b769c38c95203eec1bf873f53e274c0645809a2"
   },
   "source": [
    "## 目次"
   ]
  },
  {
   "cell_type": "markdown",
   "metadata": {
    "_uuid": "667e2cbfdd156e92fb2c7d7b811ade81a0d6c667"
   },
   "source": [
    "1. [**データ読込**](#data_exploration)\n",
    "2. [**特徴量エンジニアリング**](#fe)\n",
    "3. [**モデル評価**](#trymodels)\n",
    "4. [**交差検証法にて最適なモデルを見つける**](#choose)\n",
    "5. [**アンサンブル学習**](#ensembling)\n",
    "6. [**予測結果出力**](#submission)\n",
    "7. [**Results**](#results)  \n"
   ]
  },
  {
   "cell_type": "markdown",
   "metadata": {
    "_uuid": "36ce2f5c196e4773aff267a85a1a908b92c6168f"
   },
   "source": [
    "## 0.Notebook内で利用する関数の定義"
   ]
  },
  {
   "cell_type": "code",
   "execution_count": 1,
   "metadata": {
    "_cell_guid": "b1076dfc-b9ad-4769-8c92-a6c4dae69d19",
    "_uuid": "8f2839f25d086af736a60e9eeb907d3b93b6e0e5"
   },
   "outputs": [
    {
     "name": "stderr",
     "output_type": "stream",
     "text": [
      "Using TensorFlow backend.\n"
     ]
    }
   ],
   "source": [
    "import pydot\n",
    "import pandas as pd\n",
    "import numpy as np\n",
    "import seaborn as sns\n",
    "sns.set()\n",
    "\n",
    "%matplotlib inline\n",
    "import matplotlib\n",
    "import matplotlib.pyplot as plt\n",
    "\n",
    "# Ignore warnings\n",
    "import warnings\n",
    "warnings.filterwarnings('ignore')\n",
    "\n",
    "import sklearn\n",
    "from sklearn import metrics\n",
    "from sklearn.svm import SVC\n",
    "from sklearn.linear_model import LogisticRegression\n",
    "from sklearn.ensemble import RandomForestClassifier\n",
    "from sklearn.tree import export_graphviz, DecisionTreeClassifier\n",
    "from sklearn.preprocessing import StandardScaler\n",
    "from sklearn.model_selection import cross_val_score, train_test_split\n",
    "from sklearn.exceptions import NotFittedError\n",
    "\n",
    "import keras\n",
    "from keras.models import Sequential\n",
    "from keras.layers import Dense, Dropout\n",
    "from keras import optimizers\n",
    "from keras.wrappers.scikit_learn import KerasClassifier\n",
    "\n",
    "from IPython.display import display\n",
    "\n",
    "path_train = './input/train.csv'\n",
    "path_test = './input/test.csv'\n",
    "\n",
    "def display_confusion_matrix(target, prediction, score=None):\n",
    "    cm = metrics.confusion_matrix(target, prediction)\n",
    "    plt.figure(figsize=(4,4))\n",
    "    sns.heatmap(cm, annot=True, fmt=\".3f\", linewidths=.5, square=True, cmap='Blues_r')\n",
    "    plt.ylabel('Actual label')\n",
    "    plt.xlabel('Predicted label')\n",
    "    if score:\n",
    "        score_title = 'Accuracy Score: {0}'.format(round(score, 5))\n",
    "        plt.title(score_title, size = 14)\n",
    "    classification_report = pd.DataFrame.from_dict(metrics.classification_report(target, prediction, output_dict=True),\n",
    "                                                   orient='index')\n",
    "    display(classification_report.round(2))\n",
    "    \n",
    "\n",
    "        \n",
    "def draw_missing_data_table(df):\n",
    "    total = df.isnull().sum().sort_values(ascending=False)\n",
    "    percent = (df.isnull().sum()/df.isnull().count()).sort_values(ascending=False)\n",
    "    missing_data = pd.concat([total, percent], axis=1, keys=['Total', 'Percent'])\n",
    "    return missing_data.query('Total > 0')"
   ]
  },
  {
   "cell_type": "markdown",
   "metadata": {
    "_uuid": "789084c52a3741a4bdab8c1feff3bbf81be5fc8d"
   },
   "source": [
    "## 1.データ読込<a id=\"data_exploration\"></a>"
   ]
  },
  {
   "cell_type": "code",
   "execution_count": 2,
   "metadata": {
    "_uuid": "87e46869bf36e52e65b540541789129ee6aed3d8"
   },
   "outputs": [
    {
     "data": {
      "text/html": [
       "<div>\n",
       "<style scoped>\n",
       "    .dataframe tbody tr th:only-of-type {\n",
       "        vertical-align: middle;\n",
       "    }\n",
       "\n",
       "    .dataframe tbody tr th {\n",
       "        vertical-align: top;\n",
       "    }\n",
       "\n",
       "    .dataframe thead th {\n",
       "        text-align: right;\n",
       "    }\n",
       "</style>\n",
       "<table border=\"1\" class=\"dataframe\">\n",
       "  <thead>\n",
       "    <tr style=\"text-align: right;\">\n",
       "      <th></th>\n",
       "      <th>PassengerId</th>\n",
       "      <th>Survived</th>\n",
       "      <th>Pclass</th>\n",
       "      <th>Name</th>\n",
       "      <th>Sex</th>\n",
       "      <th>Age</th>\n",
       "      <th>SibSp</th>\n",
       "      <th>Parch</th>\n",
       "      <th>Ticket</th>\n",
       "      <th>Fare</th>\n",
       "      <th>Cabin</th>\n",
       "      <th>Embarked</th>\n",
       "    </tr>\n",
       "  </thead>\n",
       "  <tbody>\n",
       "    <tr>\n",
       "      <th>0</th>\n",
       "      <td>1</td>\n",
       "      <td>0</td>\n",
       "      <td>3</td>\n",
       "      <td>Braund, Mr. Owen Harris</td>\n",
       "      <td>male</td>\n",
       "      <td>22.0</td>\n",
       "      <td>1</td>\n",
       "      <td>0</td>\n",
       "      <td>A/5 21171</td>\n",
       "      <td>7.2500</td>\n",
       "      <td>NaN</td>\n",
       "      <td>S</td>\n",
       "    </tr>\n",
       "    <tr>\n",
       "      <th>1</th>\n",
       "      <td>2</td>\n",
       "      <td>1</td>\n",
       "      <td>1</td>\n",
       "      <td>Cumings, Mrs. John Bradley (Florence Briggs Th...</td>\n",
       "      <td>female</td>\n",
       "      <td>38.0</td>\n",
       "      <td>1</td>\n",
       "      <td>0</td>\n",
       "      <td>PC 17599</td>\n",
       "      <td>71.2833</td>\n",
       "      <td>C85</td>\n",
       "      <td>C</td>\n",
       "    </tr>\n",
       "    <tr>\n",
       "      <th>2</th>\n",
       "      <td>3</td>\n",
       "      <td>1</td>\n",
       "      <td>3</td>\n",
       "      <td>Heikkinen, Miss. Laina</td>\n",
       "      <td>female</td>\n",
       "      <td>26.0</td>\n",
       "      <td>0</td>\n",
       "      <td>0</td>\n",
       "      <td>STON/O2. 3101282</td>\n",
       "      <td>7.9250</td>\n",
       "      <td>NaN</td>\n",
       "      <td>S</td>\n",
       "    </tr>\n",
       "    <tr>\n",
       "      <th>3</th>\n",
       "      <td>4</td>\n",
       "      <td>1</td>\n",
       "      <td>1</td>\n",
       "      <td>Futrelle, Mrs. Jacques Heath (Lily May Peel)</td>\n",
       "      <td>female</td>\n",
       "      <td>35.0</td>\n",
       "      <td>1</td>\n",
       "      <td>0</td>\n",
       "      <td>113803</td>\n",
       "      <td>53.1000</td>\n",
       "      <td>C123</td>\n",
       "      <td>S</td>\n",
       "    </tr>\n",
       "    <tr>\n",
       "      <th>4</th>\n",
       "      <td>5</td>\n",
       "      <td>0</td>\n",
       "      <td>3</td>\n",
       "      <td>Allen, Mr. William Henry</td>\n",
       "      <td>male</td>\n",
       "      <td>35.0</td>\n",
       "      <td>0</td>\n",
       "      <td>0</td>\n",
       "      <td>373450</td>\n",
       "      <td>8.0500</td>\n",
       "      <td>NaN</td>\n",
       "      <td>S</td>\n",
       "    </tr>\n",
       "  </tbody>\n",
       "</table>\n",
       "</div>"
      ],
      "text/plain": [
       "   PassengerId  Survived  Pclass  \\\n",
       "0            1         0       3   \n",
       "1            2         1       1   \n",
       "2            3         1       3   \n",
       "3            4         1       1   \n",
       "4            5         0       3   \n",
       "\n",
       "                                                Name     Sex   Age  SibSp  \\\n",
       "0                            Braund, Mr. Owen Harris    male  22.0      1   \n",
       "1  Cumings, Mrs. John Bradley (Florence Briggs Th...  female  38.0      1   \n",
       "2                             Heikkinen, Miss. Laina  female  26.0      0   \n",
       "3       Futrelle, Mrs. Jacques Heath (Lily May Peel)  female  35.0      1   \n",
       "4                           Allen, Mr. William Henry    male  35.0      0   \n",
       "\n",
       "   Parch            Ticket     Fare Cabin Embarked  \n",
       "0      0         A/5 21171   7.2500   NaN        S  \n",
       "1      0          PC 17599  71.2833   C85        C  \n",
       "2      0  STON/O2. 3101282   7.9250   NaN        S  \n",
       "3      0            113803  53.1000  C123        S  \n",
       "4      0            373450   8.0500   NaN        S  "
      ]
     },
     "metadata": {},
     "output_type": "display_data"
    },
    {
     "data": {
      "text/html": [
       "<div>\n",
       "<style scoped>\n",
       "    .dataframe tbody tr th:only-of-type {\n",
       "        vertical-align: middle;\n",
       "    }\n",
       "\n",
       "    .dataframe tbody tr th {\n",
       "        vertical-align: top;\n",
       "    }\n",
       "\n",
       "    .dataframe thead th {\n",
       "        text-align: right;\n",
       "    }\n",
       "</style>\n",
       "<table border=\"1\" class=\"dataframe\">\n",
       "  <thead>\n",
       "    <tr style=\"text-align: right;\">\n",
       "      <th></th>\n",
       "      <th>PassengerId</th>\n",
       "      <th>Survived</th>\n",
       "      <th>Pclass</th>\n",
       "      <th>Age</th>\n",
       "      <th>SibSp</th>\n",
       "      <th>Parch</th>\n",
       "      <th>Fare</th>\n",
       "    </tr>\n",
       "  </thead>\n",
       "  <tbody>\n",
       "    <tr>\n",
       "      <th>count</th>\n",
       "      <td>891.000000</td>\n",
       "      <td>891.000000</td>\n",
       "      <td>891.000000</td>\n",
       "      <td>714.000000</td>\n",
       "      <td>891.000000</td>\n",
       "      <td>891.000000</td>\n",
       "      <td>891.000000</td>\n",
       "    </tr>\n",
       "    <tr>\n",
       "      <th>mean</th>\n",
       "      <td>446.000000</td>\n",
       "      <td>0.383838</td>\n",
       "      <td>2.308642</td>\n",
       "      <td>29.699118</td>\n",
       "      <td>0.523008</td>\n",
       "      <td>0.381594</td>\n",
       "      <td>32.204208</td>\n",
       "    </tr>\n",
       "    <tr>\n",
       "      <th>std</th>\n",
       "      <td>257.353842</td>\n",
       "      <td>0.486592</td>\n",
       "      <td>0.836071</td>\n",
       "      <td>14.526497</td>\n",
       "      <td>1.102743</td>\n",
       "      <td>0.806057</td>\n",
       "      <td>49.693429</td>\n",
       "    </tr>\n",
       "    <tr>\n",
       "      <th>min</th>\n",
       "      <td>1.000000</td>\n",
       "      <td>0.000000</td>\n",
       "      <td>1.000000</td>\n",
       "      <td>0.420000</td>\n",
       "      <td>0.000000</td>\n",
       "      <td>0.000000</td>\n",
       "      <td>0.000000</td>\n",
       "    </tr>\n",
       "    <tr>\n",
       "      <th>25%</th>\n",
       "      <td>223.500000</td>\n",
       "      <td>0.000000</td>\n",
       "      <td>2.000000</td>\n",
       "      <td>20.125000</td>\n",
       "      <td>0.000000</td>\n",
       "      <td>0.000000</td>\n",
       "      <td>7.910400</td>\n",
       "    </tr>\n",
       "    <tr>\n",
       "      <th>50%</th>\n",
       "      <td>446.000000</td>\n",
       "      <td>0.000000</td>\n",
       "      <td>3.000000</td>\n",
       "      <td>28.000000</td>\n",
       "      <td>0.000000</td>\n",
       "      <td>0.000000</td>\n",
       "      <td>14.454200</td>\n",
       "    </tr>\n",
       "    <tr>\n",
       "      <th>75%</th>\n",
       "      <td>668.500000</td>\n",
       "      <td>1.000000</td>\n",
       "      <td>3.000000</td>\n",
       "      <td>38.000000</td>\n",
       "      <td>1.000000</td>\n",
       "      <td>0.000000</td>\n",
       "      <td>31.000000</td>\n",
       "    </tr>\n",
       "    <tr>\n",
       "      <th>max</th>\n",
       "      <td>891.000000</td>\n",
       "      <td>1.000000</td>\n",
       "      <td>3.000000</td>\n",
       "      <td>80.000000</td>\n",
       "      <td>8.000000</td>\n",
       "      <td>6.000000</td>\n",
       "      <td>512.329200</td>\n",
       "    </tr>\n",
       "  </tbody>\n",
       "</table>\n",
       "</div>"
      ],
      "text/plain": [
       "       PassengerId    Survived      Pclass         Age       SibSp  \\\n",
       "count   891.000000  891.000000  891.000000  714.000000  891.000000   \n",
       "mean    446.000000    0.383838    2.308642   29.699118    0.523008   \n",
       "std     257.353842    0.486592    0.836071   14.526497    1.102743   \n",
       "min       1.000000    0.000000    1.000000    0.420000    0.000000   \n",
       "25%     223.500000    0.000000    2.000000   20.125000    0.000000   \n",
       "50%     446.000000    0.000000    3.000000   28.000000    0.000000   \n",
       "75%     668.500000    1.000000    3.000000   38.000000    1.000000   \n",
       "max     891.000000    1.000000    3.000000   80.000000    8.000000   \n",
       "\n",
       "            Parch        Fare  \n",
       "count  891.000000  891.000000  \n",
       "mean     0.381594   32.204208  \n",
       "std      0.806057   49.693429  \n",
       "min      0.000000    0.000000  \n",
       "25%      0.000000    7.910400  \n",
       "50%      0.000000   14.454200  \n",
       "75%      0.000000   31.000000  \n",
       "max      6.000000  512.329200  "
      ]
     },
     "metadata": {},
     "output_type": "display_data"
    },
    {
     "name": "stdout",
     "output_type": "stream",
     "text": [
      "<class 'pandas.core.frame.DataFrame'>\n",
      "RangeIndex: 891 entries, 0 to 890\n",
      "Data columns (total 12 columns):\n",
      "PassengerId    891 non-null int64\n",
      "Survived       891 non-null int64\n",
      "Pclass         891 non-null int64\n",
      "Name           891 non-null object\n",
      "Sex            891 non-null object\n",
      "Age            714 non-null float64\n",
      "SibSp          891 non-null int64\n",
      "Parch          891 non-null int64\n",
      "Ticket         891 non-null object\n",
      "Fare           891 non-null float64\n",
      "Cabin          204 non-null object\n",
      "Embarked       889 non-null object\n",
      "dtypes: float64(2), int64(5), object(5)\n",
      "memory usage: 83.6+ KB\n"
     ]
    },
    {
     "data": {
      "text/plain": [
       "None"
      ]
     },
     "metadata": {},
     "output_type": "display_data"
    },
    {
     "data": {
      "text/html": [
       "<div>\n",
       "<style scoped>\n",
       "    .dataframe tbody tr th:only-of-type {\n",
       "        vertical-align: middle;\n",
       "    }\n",
       "\n",
       "    .dataframe tbody tr th {\n",
       "        vertical-align: top;\n",
       "    }\n",
       "\n",
       "    .dataframe thead th {\n",
       "        text-align: right;\n",
       "    }\n",
       "</style>\n",
       "<table border=\"1\" class=\"dataframe\">\n",
       "  <thead>\n",
       "    <tr style=\"text-align: right;\">\n",
       "      <th></th>\n",
       "      <th>Total</th>\n",
       "      <th>Percent</th>\n",
       "    </tr>\n",
       "  </thead>\n",
       "  <tbody>\n",
       "    <tr>\n",
       "      <th>Cabin</th>\n",
       "      <td>687</td>\n",
       "      <td>0.771044</td>\n",
       "    </tr>\n",
       "    <tr>\n",
       "      <th>Age</th>\n",
       "      <td>177</td>\n",
       "      <td>0.198653</td>\n",
       "    </tr>\n",
       "    <tr>\n",
       "      <th>Embarked</th>\n",
       "      <td>2</td>\n",
       "      <td>0.002245</td>\n",
       "    </tr>\n",
       "  </tbody>\n",
       "</table>\n",
       "</div>"
      ],
      "text/plain": [
       "          Total   Percent\n",
       "Cabin       687  0.771044\n",
       "Age         177  0.198653\n",
       "Embarked      2  0.002245"
      ]
     },
     "metadata": {},
     "output_type": "display_data"
    }
   ],
   "source": [
    "train_df_raw = pd.read_csv(path_train)\n",
    "\n",
    "display(train_df_raw.head())\n",
    "display(train_df_raw.describe())\n",
    "display(train_df_raw.info())\n",
    "display(draw_missing_data_table(train_df_raw))"
   ]
  },
  {
   "cell_type": "markdown",
   "metadata": {
    "_uuid": "b549fc22c8c19a09c1d347c101a337fabf79562a"
   },
   "source": [
    "運賃と性別から適切な乗船港を選択する"
   ]
  },
  {
   "cell_type": "code",
   "execution_count": 3,
   "metadata": {
    "_uuid": "3ca9ea1a78543bed5ccd2f931747bdc5a97f9c2f"
   },
   "outputs": [
    {
     "data": {
      "image/png": "[encoded data removed]",
      "text/plain": [
       "<Figure size 360x216 with 1 Axes>"
      ]
     },
     "metadata": {
      "needs_background": "light"
     },
     "output_type": "display_data"
    },
    {
     "data": {
      "text/html": [
       "<div>\n",
       "<style scoped>\n",
       "    .dataframe tbody tr th:only-of-type {\n",
       "        vertical-align: middle;\n",
       "    }\n",
       "\n",
       "    .dataframe tbody tr th {\n",
       "        vertical-align: top;\n",
       "    }\n",
       "\n",
       "    .dataframe thead th {\n",
       "        text-align: right;\n",
       "    }\n",
       "</style>\n",
       "<table border=\"1\" class=\"dataframe\">\n",
       "  <thead>\n",
       "    <tr style=\"text-align: right;\">\n",
       "      <th></th>\n",
       "      <th>PassengerId</th>\n",
       "      <th>Survived</th>\n",
       "      <th>Pclass</th>\n",
       "      <th>Name</th>\n",
       "      <th>Sex</th>\n",
       "      <th>Age</th>\n",
       "      <th>SibSp</th>\n",
       "      <th>Parch</th>\n",
       "      <th>Ticket</th>\n",
       "      <th>Fare</th>\n",
       "      <th>Cabin</th>\n",
       "      <th>Embarked</th>\n",
       "    </tr>\n",
       "  </thead>\n",
       "  <tbody>\n",
       "    <tr>\n",
       "      <th>61</th>\n",
       "      <td>62</td>\n",
       "      <td>1</td>\n",
       "      <td>1</td>\n",
       "      <td>Icard, Miss. Amelie</td>\n",
       "      <td>female</td>\n",
       "      <td>38.0</td>\n",
       "      <td>0</td>\n",
       "      <td>0</td>\n",
       "      <td>113572</td>\n",
       "      <td>80.0</td>\n",
       "      <td>B28</td>\n",
       "      <td>NaN</td>\n",
       "    </tr>\n",
       "    <tr>\n",
       "      <th>829</th>\n",
       "      <td>830</td>\n",
       "      <td>1</td>\n",
       "      <td>1</td>\n",
       "      <td>Stone, Mrs. George Nelson (Martha Evelyn)</td>\n",
       "      <td>female</td>\n",
       "      <td>62.0</td>\n",
       "      <td>0</td>\n",
       "      <td>0</td>\n",
       "      <td>113572</td>\n",
       "      <td>80.0</td>\n",
       "      <td>B28</td>\n",
       "      <td>NaN</td>\n",
       "    </tr>\n",
       "  </tbody>\n",
       "</table>\n",
       "</div>"
      ],
      "text/plain": [
       "     PassengerId  Survived  Pclass                                       Name  \\\n",
       "61            62         1       1                        Icard, Miss. Amelie   \n",
       "829          830         1       1  Stone, Mrs. George Nelson (Martha Evelyn)   \n",
       "\n",
       "        Sex   Age  SibSp  Parch  Ticket  Fare Cabin Embarked  \n",
       "61   female  38.0      0      0  113572  80.0   B28      NaN  \n",
       "829  female  62.0      0      0  113572  80.0   B28      NaN  "
      ]
     },
     "metadata": {},
     "output_type": "display_data"
    }
   ],
   "source": [
    "# catplotは質的変数(カテゴリカル変数)と量的変数の関係を上手く描画するためのインターフェイス\n",
    "figure, axes = plt.subplots(1,1,figsize=(5, 3))\n",
    "plot = sns.catplot(x=\"Embarked\", y=\"Fare\", hue=\"Sex\", data=train_df_raw, palette=('Set1'), kind=\"bar\", ax=axes)\n",
    "plt.close(plot.fig)\n",
    "plt.show()\n",
    "\n",
    "# EmbarkedがNaNデータ2件を表示\n",
    "display(train_df_raw[train_df_raw['Embarked'].isnull()])"
   ]
  },
  {
   "cell_type": "markdown",
   "metadata": {
    "_uuid": "6fd2b4d803d33cfdc40c779a9b399a60ad50828c"
   },
   "source": [
    "両方の乗客は、チケットの運賃として80ドルを支払った女性です。さらに、彼らは同じチケットと客室なので、おそらく乗船港だと考えられます！上記の分布によると、シェルブール（C）です。これらの2つの欠損値は、後ほど置き換えます。"
   ]
  },
  {
   "cell_type": "code",
   "execution_count": 4,
   "metadata": {
    "_uuid": "191dd9ee84b0dcdd283b71bfc53e84f8d49f60da"
   },
   "outputs": [
    {
     "data": {
      "image/png": "[encoded data removed]",
      "text/plain": [
       "<Figure size 1440x1080 with 6 Axes>"
      ]
     },
     "metadata": {
      "needs_background": "light"
     },
     "output_type": "display_data"
    }
   ],
   "source": [
    "# 数値項目の説明変数についてヒストグラムを確認する\n",
    "train_df_raw.drop(['PassengerId'], 1).hist(bins=50, figsize=(20,15))\n",
    "plt.show()"
   ]
  },
  {
   "cell_type": "markdown",
   "metadata": {
    "_uuid": "c86c5e54aeeb83b785747f2cdd7d276a694b691c"
   },
   "source": [
    "## 2. 特徴量エンジニアリング<a id=\"fe\"></a>"
   ]
  },
  {
   "cell_type": "code",
   "execution_count": 5,
   "metadata": {
    "_uuid": "e1cfd800c2f51bbb7a04f1c390e8f5647ef7becf"
   },
   "outputs": [],
   "source": [
    "def preprocess_data(df):\n",
    "    \n",
    "    p_df = df\n",
    "        \n",
    "    ########## 欠損値の補完 ##########\n",
    "    \n",
    "    # 乗船港をC(シェルブール)に補完\n",
    "    p_df['Embarked'].fillna('C', inplace=True)\n",
    "    \n",
    "    # 同じクラス性別家族の平均年齢で補完\n",
    "    p_df['Age'] = p_df.groupby(['Pclass','Sex','Parch','SibSp'])['Age'].transform(lambda x: x.fillna(x.mean()))\n",
    "    p_df['Age'] = p_df.groupby(['Pclass','Sex','Parch'])['Age'].transform(lambda x: x.fillna(x.mean()))\n",
    "    p_df['Age'] = p_df.groupby(['Pclass','Sex'])['Age'].transform(lambda x: x.fillna(x.mean()))\n",
    "    \n",
    "    # 欠損している運賃値と客室の欠落値を置換する\n",
    "    p_df['Fare'] = p_df['Fare'].interpolate() # pandasで欠損値NaNを前後の値から補間するinterpolate\n",
    "    p_df['Cabin'].fillna('U', inplace=True)\n",
    "    \n",
    "    ########## 特徴量エンジニアリング ##########\n",
    "    \n",
    "    # 名前から敬称を作成\n",
    "    p_df['Title'] = pd.Series((name.split('.')[0].split(',')[1].strip() for name in train_df_raw['Name']), \n",
    "                              index=train_df_raw.index)\n",
    "    p_df['Title'] = p_df['Title'].replace(['Lady', 'the Countess','Countess','Capt', \n",
    "                                           'Col','Don', 'Dr', 'Major', 'Rev', 'Sir', \n",
    "                                           'Jonkheer', 'Dona'], 'Rare')\n",
    "    p_df['Title'] = p_df['Title'].replace(['Mlle', 'Ms'], 'Miss')\n",
    "    p_df['Title'] = p_df['Title'].replace('Mme', 'Mrs')\n",
    "    p_df['Title'] = p_df['Title'].map({\"Mr\": 1, \"Miss\": 2, \"Mrs\": 3, \"Master\": 4, \"Rare\": 5})\n",
    "    \n",
    "    # 同じタイトルを持つ乗客の平均年齢で年齢欠損値を埋める\n",
    "    p_df['Age'] = p_df.groupby(['Title'])['Age'].transform(lambda x: x.fillna(x.mean()))\n",
    "\n",
    "    # カテゴリ変数を数値変数に変換する\n",
    "    p_df['Sex'] = p_df['Sex'].map({'male': 0, 'female': 1})\n",
    "    p_df['Embarked'] = p_df['Embarked'].map({'S': 0, 'C': 1, 'Q': 2})\n",
    "    \n",
    "    # FamillySize、IsAlone、IsChildおよびMother列を作成する\n",
    "    p_df['FamillySize'] = p_df['SibSp'] + p_df['Parch'] + 1\n",
    "    p_df['FamillySize'][p_df['FamillySize'].between(1, 5, inclusive=False)] = 2\n",
    "    p_df['FamillySize'][p_df['FamillySize']>5] = 3\n",
    "    p_df['IsAlone'] = np.where(p_df['FamillySize']!=1, 0, 1)\n",
    "    p_df['IsChild'] = p_df['Age'] < 18\n",
    "    p_df['IsChild'] = p_df['IsChild'].astype(int)\n",
    "    \n",
    "    # 船のデッキに対応する文字のみが含まれるように客室の列を変更\n",
    "    p_df['Cabin'] = p_df['Cabin'].str[:1]\n",
    "    p_df['Cabin'] = p_df['Cabin'].map({cabin: p for p, cabin in enumerate(set(cab for cab in p_df['Cabin']))})\n",
    "    \n",
    "    # 同じチケットを持つ他の乗客が生き残った場合は1に設定され、それ以外の場合は0に設定されるチケットサバイバー列を作成\n",
    "    p_df['TicketSurvivor'] = pd.Series(0, index=p_df.index)\n",
    "    tickets = p_df['Ticket'].value_counts().to_dict()\n",
    "    for t, occ in tickets.items():\n",
    "        if occ != 1:\n",
    "            table = train_df_raw['Survived'][train_df_raw['Ticket'] == t]\n",
    "            if sum(table) != 0:\n",
    "                p_df['TicketSurvivor'][p_df['Ticket'] == t] = 1\n",
    "    \n",
    "    # 抽出元の列を削除\n",
    "    p_df = p_df.drop(['Name', 'Ticket', 'PassengerId'], 1)    \n",
    "    \n",
    "    return p_df"
   ]
  },
  {
   "cell_type": "code",
   "execution_count": 6,
   "metadata": {
    "_uuid": "5938ee5f0e21505fe0766caceab370c3be0cfd3f",
    "scrolled": true
   },
   "outputs": [
    {
     "data": {
      "text/html": [
       "<div>\n",
       "<style scoped>\n",
       "    .dataframe tbody tr th:only-of-type {\n",
       "        vertical-align: middle;\n",
       "    }\n",
       "\n",
       "    .dataframe tbody tr th {\n",
       "        vertical-align: top;\n",
       "    }\n",
       "\n",
       "    .dataframe thead th {\n",
       "        text-align: right;\n",
       "    }\n",
       "</style>\n",
       "<table border=\"1\" class=\"dataframe\">\n",
       "  <thead>\n",
       "    <tr style=\"text-align: right;\">\n",
       "      <th></th>\n",
       "      <th>Pclass</th>\n",
       "      <th>Sex</th>\n",
       "      <th>Age</th>\n",
       "      <th>SibSp</th>\n",
       "      <th>Parch</th>\n",
       "      <th>Fare</th>\n",
       "      <th>Cabin</th>\n",
       "      <th>Embarked</th>\n",
       "      <th>Title</th>\n",
       "      <th>FamillySize</th>\n",
       "      <th>IsAlone</th>\n",
       "      <th>IsChild</th>\n",
       "      <th>TicketSurvivor</th>\n",
       "    </tr>\n",
       "  </thead>\n",
       "  <tbody>\n",
       "    <tr>\n",
       "      <th>331</th>\n",
       "      <td>-1.566107</td>\n",
       "      <td>-0.737695</td>\n",
       "      <td>1.181540</td>\n",
       "      <td>-0.474545</td>\n",
       "      <td>-0.473674</td>\n",
       "      <td>-0.074583</td>\n",
       "      <td>-1.429251</td>\n",
       "      <td>-0.571933</td>\n",
       "      <td>-0.707550</td>\n",
       "      <td>-0.670389</td>\n",
       "      <td>0.811922</td>\n",
       "      <td>-0.405840</td>\n",
       "      <td>-0.596795</td>\n",
       "    </tr>\n",
       "    <tr>\n",
       "      <th>733</th>\n",
       "      <td>-0.369365</td>\n",
       "      <td>-0.737695</td>\n",
       "      <td>-0.483367</td>\n",
       "      <td>-0.474545</td>\n",
       "      <td>-0.473674</td>\n",
       "      <td>-0.386671</td>\n",
       "      <td>0.509786</td>\n",
       "      <td>-0.571933</td>\n",
       "      <td>-0.707550</td>\n",
       "      <td>-0.670389</td>\n",
       "      <td>0.811922</td>\n",
       "      <td>-0.405840</td>\n",
       "      <td>-0.596795</td>\n",
       "    </tr>\n",
       "    <tr>\n",
       "      <th>382</th>\n",
       "      <td>0.827377</td>\n",
       "      <td>-0.737695</td>\n",
       "      <td>0.182596</td>\n",
       "      <td>-0.474545</td>\n",
       "      <td>-0.473674</td>\n",
       "      <td>-0.488854</td>\n",
       "      <td>0.509786</td>\n",
       "      <td>-0.571933</td>\n",
       "      <td>-0.707550</td>\n",
       "      <td>-0.670389</td>\n",
       "      <td>0.811922</td>\n",
       "      <td>-0.405840</td>\n",
       "      <td>-0.596795</td>\n",
       "    </tr>\n",
       "    <tr>\n",
       "      <th>704</th>\n",
       "      <td>0.827377</td>\n",
       "      <td>-0.737695</td>\n",
       "      <td>-0.261380</td>\n",
       "      <td>0.432793</td>\n",
       "      <td>-0.473674</td>\n",
       "      <td>-0.490280</td>\n",
       "      <td>0.509786</td>\n",
       "      <td>-0.571933</td>\n",
       "      <td>-0.707550</td>\n",
       "      <td>0.668886</td>\n",
       "      <td>-1.231645</td>\n",
       "      <td>-0.405840</td>\n",
       "      <td>-0.596795</td>\n",
       "    </tr>\n",
       "    <tr>\n",
       "      <th>813</th>\n",
       "      <td>0.827377</td>\n",
       "      <td>1.355574</td>\n",
       "      <td>-1.741297</td>\n",
       "      <td>3.154809</td>\n",
       "      <td>2.008933</td>\n",
       "      <td>-0.018709</td>\n",
       "      <td>0.509786</td>\n",
       "      <td>-0.571933</td>\n",
       "      <td>0.263832</td>\n",
       "      <td>2.008162</td>\n",
       "      <td>-1.231645</td>\n",
       "      <td>2.464027</td>\n",
       "      <td>-0.596795</td>\n",
       "    </tr>\n",
       "  </tbody>\n",
       "</table>\n",
       "</div>"
      ],
      "text/plain": [
       "       Pclass       Sex       Age     SibSp     Parch      Fare     Cabin  \\\n",
       "331 -1.566107 -0.737695  1.181540 -0.474545 -0.473674 -0.074583 -1.429251   \n",
       "733 -0.369365 -0.737695 -0.483367 -0.474545 -0.473674 -0.386671  0.509786   \n",
       "382  0.827377 -0.737695  0.182596 -0.474545 -0.473674 -0.488854  0.509786   \n",
       "704  0.827377 -0.737695 -0.261380  0.432793 -0.473674 -0.490280  0.509786   \n",
       "813  0.827377  1.355574 -1.741297  3.154809  2.008933 -0.018709  0.509786   \n",
       "\n",
       "     Embarked     Title  FamillySize   IsAlone   IsChild  TicketSurvivor  \n",
       "331 -0.571933 -0.707550    -0.670389  0.811922 -0.405840       -0.596795  \n",
       "733 -0.571933 -0.707550    -0.670389  0.811922 -0.405840       -0.596795  \n",
       "382 -0.571933 -0.707550    -0.670389  0.811922 -0.405840       -0.596795  \n",
       "704 -0.571933 -0.707550     0.668886 -1.231645 -0.405840       -0.596795  \n",
       "813 -0.571933  0.263832     2.008162 -1.231645  2.464027       -0.596795  "
      ]
     },
     "execution_count": 6,
     "metadata": {},
     "output_type": "execute_result"
    }
   ],
   "source": [
    "# 訓練データセットを2つのデータセットに分割して、機械学習モデルのパフォーマンスを評価する\n",
    "train_df = train_df_raw.copy()\n",
    "X = train_df.drop(['Survived'], 1)\n",
    "Y = train_df['Survived']\n",
    "\n",
    "X = preprocess_data(X)\n",
    "sc = StandardScaler()\n",
    "X = pd.DataFrame(sc.fit_transform(X.values), index=X.index, columns=X.columns)\n",
    "    \n",
    "X_train, X_test, Y_train, Y_test = train_test_split(X, Y, test_size=0.2, random_state=42)\n",
    "X_train.head()\n"
   ]
  },
  {
   "cell_type": "markdown",
   "metadata": {
    "_uuid": "75a781ff2a645d7a68489debed35e4e8e71a5b7e"
   },
   "source": [
    "## 3. モデル評価<a id=\"trymodels\"></a>"
   ]
  },
  {
   "cell_type": "markdown",
   "metadata": {
    "_uuid": "7b2b9905f1c16b2f6b3ac529b99e12c6b1c9bc5c"
   },
   "source": [
    "### **3.1 ロジスティック回帰**"
   ]
  },
  {
   "cell_type": "code",
   "execution_count": 7,
   "metadata": {
    "_uuid": "2bf8ea63bf50087b31df2ee3fc3d20456852e29d"
   },
   "outputs": [
    {
     "data": {
      "text/html": [
       "<div>\n",
       "<style scoped>\n",
       "    .dataframe tbody tr th:only-of-type {\n",
       "        vertical-align: middle;\n",
       "    }\n",
       "\n",
       "    .dataframe tbody tr th {\n",
       "        vertical-align: top;\n",
       "    }\n",
       "\n",
       "    .dataframe thead th {\n",
       "        text-align: right;\n",
       "    }\n",
       "</style>\n",
       "<table border=\"1\" class=\"dataframe\">\n",
       "  <thead>\n",
       "    <tr style=\"text-align: right;\">\n",
       "      <th></th>\n",
       "      <th>precision</th>\n",
       "      <th>recall</th>\n",
       "      <th>f1-score</th>\n",
       "      <th>support</th>\n",
       "    </tr>\n",
       "  </thead>\n",
       "  <tbody>\n",
       "    <tr>\n",
       "      <th>0</th>\n",
       "      <td>0.84</td>\n",
       "      <td>0.88</td>\n",
       "      <td>0.86</td>\n",
       "      <td>105</td>\n",
       "    </tr>\n",
       "    <tr>\n",
       "      <th>1</th>\n",
       "      <td>0.81</td>\n",
       "      <td>0.77</td>\n",
       "      <td>0.79</td>\n",
       "      <td>74</td>\n",
       "    </tr>\n",
       "    <tr>\n",
       "      <th>macro avg</th>\n",
       "      <td>0.83</td>\n",
       "      <td>0.82</td>\n",
       "      <td>0.83</td>\n",
       "      <td>179</td>\n",
       "    </tr>\n",
       "    <tr>\n",
       "      <th>micro avg</th>\n",
       "      <td>0.83</td>\n",
       "      <td>0.83</td>\n",
       "      <td>0.83</td>\n",
       "      <td>179</td>\n",
       "    </tr>\n",
       "    <tr>\n",
       "      <th>weighted avg</th>\n",
       "      <td>0.83</td>\n",
       "      <td>0.83</td>\n",
       "      <td>0.83</td>\n",
       "      <td>179</td>\n",
       "    </tr>\n",
       "  </tbody>\n",
       "</table>\n",
       "</div>"
      ],
      "text/plain": [
       "              precision  recall  f1-score  support\n",
       "0                  0.84    0.88      0.86      105\n",
       "1                  0.81    0.77      0.79       74\n",
       "macro avg          0.83    0.82      0.83      179\n",
       "micro avg          0.83    0.83      0.83      179\n",
       "weighted avg       0.83    0.83      0.83      179"
      ]
     },
     "metadata": {},
     "output_type": "display_data"
    },
    {
     "data": {
      "image/png": "[encoded data removed]",
      "text/plain": [
       "<Figure size 288x288 with 2 Axes>"
      ]
     },
     "metadata": {
      "needs_background": "light"
     },
     "output_type": "display_data"
    }
   ],
   "source": [
    "lg = LogisticRegression(solver='lbfgs', random_state=42)\n",
    "lg.fit(X_train, Y_train)\n",
    "logistic_prediction = lg.predict(X_test)\n",
    "\n",
    "# 予測データと真の応答の間の誤差を計算し、混同行列に表示\n",
    "score = metrics.accuracy_score(Y_test, logistic_prediction)\n",
    "display_confusion_matrix(Y_test, logistic_prediction, score=score)"
   ]
  },
  {
   "cell_type": "markdown",
   "metadata": {
    "_uuid": "dd2b871e06a3fbb2bf367c4a59227883c51f94db"
   },
   "source": [
    "### **3.2 決定木**"
   ]
  },
  {
   "cell_type": "code",
   "execution_count": 8,
   "metadata": {
    "_uuid": "e210227806175d3fec8fb54c7398693af57e19cb"
   },
   "outputs": [
    {
     "data": {
      "text/html": [
       "<div>\n",
       "<style scoped>\n",
       "    .dataframe tbody tr th:only-of-type {\n",
       "        vertical-align: middle;\n",
       "    }\n",
       "\n",
       "    .dataframe tbody tr th {\n",
       "        vertical-align: top;\n",
       "    }\n",
       "\n",
       "    .dataframe thead th {\n",
       "        text-align: right;\n",
       "    }\n",
       "</style>\n",
       "<table border=\"1\" class=\"dataframe\">\n",
       "  <thead>\n",
       "    <tr style=\"text-align: right;\">\n",
       "      <th></th>\n",
       "      <th>precision</th>\n",
       "      <th>recall</th>\n",
       "      <th>f1-score</th>\n",
       "      <th>support</th>\n",
       "    </tr>\n",
       "  </thead>\n",
       "  <tbody>\n",
       "    <tr>\n",
       "      <th>0</th>\n",
       "      <td>0.87</td>\n",
       "      <td>0.87</td>\n",
       "      <td>0.87</td>\n",
       "      <td>105</td>\n",
       "    </tr>\n",
       "    <tr>\n",
       "      <th>1</th>\n",
       "      <td>0.81</td>\n",
       "      <td>0.81</td>\n",
       "      <td>0.81</td>\n",
       "      <td>74</td>\n",
       "    </tr>\n",
       "    <tr>\n",
       "      <th>macro avg</th>\n",
       "      <td>0.84</td>\n",
       "      <td>0.84</td>\n",
       "      <td>0.84</td>\n",
       "      <td>179</td>\n",
       "    </tr>\n",
       "    <tr>\n",
       "      <th>micro avg</th>\n",
       "      <td>0.84</td>\n",
       "      <td>0.84</td>\n",
       "      <td>0.84</td>\n",
       "      <td>179</td>\n",
       "    </tr>\n",
       "    <tr>\n",
       "      <th>weighted avg</th>\n",
       "      <td>0.84</td>\n",
       "      <td>0.84</td>\n",
       "      <td>0.84</td>\n",
       "      <td>179</td>\n",
       "    </tr>\n",
       "  </tbody>\n",
       "</table>\n",
       "</div>"
      ],
      "text/plain": [
       "              precision  recall  f1-score  support\n",
       "0                  0.87    0.87      0.87      105\n",
       "1                  0.81    0.81      0.81       74\n",
       "macro avg          0.84    0.84      0.84      179\n",
       "micro avg          0.84    0.84      0.84      179\n",
       "weighted avg       0.84    0.84      0.84      179"
      ]
     },
     "metadata": {},
     "output_type": "display_data"
    },
    {
     "data": {
      "image/png": "[encoded data removed]",
      "text/plain": [
       "<Figure size 288x288 with 2 Axes>"
      ]
     },
     "metadata": {
      "needs_background": "light"
     },
     "output_type": "display_data"
    }
   ],
   "source": [
    "dt = DecisionTreeClassifier(min_samples_split=15, min_samples_leaf=20, random_state=42)\n",
    "dt.fit(X_train, Y_train)\n",
    "dt_prediction = dt.predict(X_test)\n",
    "\n",
    "score = metrics.accuracy_score(Y_test, dt_prediction)\n",
    "display_confusion_matrix(Y_test, dt_prediction, score=score)"
   ]
  },
  {
   "cell_type": "code",
   "execution_count": 25,
   "metadata": {
    "_uuid": "c2a344ec6566d6839fbd0351c9285bfcffc2f9d9"
   },
   "outputs": [],
   "source": [
    "with open(\"dt.dot\", 'w') as f:\n",
    "    export_graphviz(dt, out_file=f, feature_names=X_test.columns)\n",
    "try:\n",
    "    subprocess.check_call([\"dot\", \"-Tpng\", \"dt.dot\", \"-o\", \"dt.png\"])\n",
    "except:\n",
    "     exit(\"Could not run dot, ie graphviz, to produce visualization\")\n",
    "        \n",
    "! dot -Tpng dt.dot > dt.png"
   ]
  },
  {
   "cell_type": "markdown",
   "metadata": {
    "_uuid": "67ec7b6b647ef967313f9271c3c2fd0fa553d97a"
   },
   "source": [
    "![title](dt.png)"
   ]
  },
  {
   "cell_type": "markdown",
   "metadata": {
    "_uuid": "60e4d7b8c520451c78acfc54b95fca1c73b97939"
   },
   "source": [
    "### **3.3 SVM**"
   ]
  },
  {
   "cell_type": "code",
   "execution_count": 10,
   "metadata": {
    "_uuid": "43c753fa14b629fc237a5bada5bd2c13fe952de8"
   },
   "outputs": [
    {
     "data": {
      "text/html": [
       "<div>\n",
       "<style scoped>\n",
       "    .dataframe tbody tr th:only-of-type {\n",
       "        vertical-align: middle;\n",
       "    }\n",
       "\n",
       "    .dataframe tbody tr th {\n",
       "        vertical-align: top;\n",
       "    }\n",
       "\n",
       "    .dataframe thead th {\n",
       "        text-align: right;\n",
       "    }\n",
       "</style>\n",
       "<table border=\"1\" class=\"dataframe\">\n",
       "  <thead>\n",
       "    <tr style=\"text-align: right;\">\n",
       "      <th></th>\n",
       "      <th>precision</th>\n",
       "      <th>recall</th>\n",
       "      <th>f1-score</th>\n",
       "      <th>support</th>\n",
       "    </tr>\n",
       "  </thead>\n",
       "  <tbody>\n",
       "    <tr>\n",
       "      <th>0</th>\n",
       "      <td>0.83</td>\n",
       "      <td>0.92</td>\n",
       "      <td>0.87</td>\n",
       "      <td>105</td>\n",
       "    </tr>\n",
       "    <tr>\n",
       "      <th>1</th>\n",
       "      <td>0.87</td>\n",
       "      <td>0.73</td>\n",
       "      <td>0.79</td>\n",
       "      <td>74</td>\n",
       "    </tr>\n",
       "    <tr>\n",
       "      <th>macro avg</th>\n",
       "      <td>0.85</td>\n",
       "      <td>0.83</td>\n",
       "      <td>0.83</td>\n",
       "      <td>179</td>\n",
       "    </tr>\n",
       "    <tr>\n",
       "      <th>micro avg</th>\n",
       "      <td>0.84</td>\n",
       "      <td>0.84</td>\n",
       "      <td>0.84</td>\n",
       "      <td>179</td>\n",
       "    </tr>\n",
       "    <tr>\n",
       "      <th>weighted avg</th>\n",
       "      <td>0.85</td>\n",
       "      <td>0.84</td>\n",
       "      <td>0.84</td>\n",
       "      <td>179</td>\n",
       "    </tr>\n",
       "  </tbody>\n",
       "</table>\n",
       "</div>"
      ],
      "text/plain": [
       "              precision  recall  f1-score  support\n",
       "0                  0.83    0.92      0.87      105\n",
       "1                  0.87    0.73      0.79       74\n",
       "macro avg          0.85    0.83      0.83      179\n",
       "micro avg          0.84    0.84      0.84      179\n",
       "weighted avg       0.85    0.84      0.84      179"
      ]
     },
     "metadata": {},
     "output_type": "display_data"
    },
    {
     "data": {
      "image/png": "[encoded data removed]",
      "text/plain": [
       "<Figure size 288x288 with 2 Axes>"
      ]
     },
     "metadata": {
      "needs_background": "light"
     },
     "output_type": "display_data"
    }
   ],
   "source": [
    "svm = SVC(gamma='auto', random_state=42)\n",
    "svm.fit(X_train, Y_train)\n",
    "svm_prediction = svm.predict(X_test)\n",
    "\n",
    "score = metrics.accuracy_score(Y_test, svm_prediction)\n",
    "display_confusion_matrix(Y_test, svm_prediction, score=score)"
   ]
  },
  {
   "cell_type": "markdown",
   "metadata": {
    "_uuid": "900ba37b054acf86ada7c3405e5ca80f75c006c6"
   },
   "source": [
    "### **3.4 ランダムフォレスト**"
   ]
  },
  {
   "cell_type": "code",
   "execution_count": 11,
   "metadata": {
    "_uuid": "cf210ec43c5ada014f3d666d84c8227b10fa7291"
   },
   "outputs": [
    {
     "data": {
      "text/html": [
       "<div>\n",
       "<style scoped>\n",
       "    .dataframe tbody tr th:only-of-type {\n",
       "        vertical-align: middle;\n",
       "    }\n",
       "\n",
       "    .dataframe tbody tr th {\n",
       "        vertical-align: top;\n",
       "    }\n",
       "\n",
       "    .dataframe thead th {\n",
       "        text-align: right;\n",
       "    }\n",
       "</style>\n",
       "<table border=\"1\" class=\"dataframe\">\n",
       "  <thead>\n",
       "    <tr style=\"text-align: right;\">\n",
       "      <th></th>\n",
       "      <th>precision</th>\n",
       "      <th>recall</th>\n",
       "      <th>f1-score</th>\n",
       "      <th>support</th>\n",
       "    </tr>\n",
       "  </thead>\n",
       "  <tbody>\n",
       "    <tr>\n",
       "      <th>0</th>\n",
       "      <td>0.86</td>\n",
       "      <td>0.91</td>\n",
       "      <td>0.89</td>\n",
       "      <td>105</td>\n",
       "    </tr>\n",
       "    <tr>\n",
       "      <th>1</th>\n",
       "      <td>0.87</td>\n",
       "      <td>0.80</td>\n",
       "      <td>0.83</td>\n",
       "      <td>74</td>\n",
       "    </tr>\n",
       "    <tr>\n",
       "      <th>macro avg</th>\n",
       "      <td>0.87</td>\n",
       "      <td>0.86</td>\n",
       "      <td>0.86</td>\n",
       "      <td>179</td>\n",
       "    </tr>\n",
       "    <tr>\n",
       "      <th>micro avg</th>\n",
       "      <td>0.87</td>\n",
       "      <td>0.87</td>\n",
       "      <td>0.87</td>\n",
       "      <td>179</td>\n",
       "    </tr>\n",
       "    <tr>\n",
       "      <th>weighted avg</th>\n",
       "      <td>0.87</td>\n",
       "      <td>0.87</td>\n",
       "      <td>0.86</td>\n",
       "      <td>179</td>\n",
       "    </tr>\n",
       "  </tbody>\n",
       "</table>\n",
       "</div>"
      ],
      "text/plain": [
       "              precision  recall  f1-score  support\n",
       "0                  0.86    0.91      0.89      105\n",
       "1                  0.87    0.80      0.83       74\n",
       "macro avg          0.87    0.86      0.86      179\n",
       "micro avg          0.87    0.87      0.87      179\n",
       "weighted avg       0.87    0.87      0.86      179"
      ]
     },
     "metadata": {},
     "output_type": "display_data"
    },
    {
     "data": {
      "image/png": "[encoded data removed]",
      "text/plain": [
       "<Figure size 288x288 with 2 Axes>"
      ]
     },
     "metadata": {
      "needs_background": "light"
     },
     "output_type": "display_data"
    }
   ],
   "source": [
    "rf = RandomForestClassifier(n_estimators=200, random_state=42)\n",
    "rf.fit(X_train, Y_train)\n",
    "rf_prediction = rf.predict(X_test)\n",
    "\n",
    "score = metrics.accuracy_score(Y_test, rf_prediction)\n",
    "display_confusion_matrix(Y_test, rf_prediction, score=score)"
   ]
  },
  {
   "cell_type": "markdown",
   "metadata": {
    "_uuid": "6f15e098541b4ce5c2e21331fb18d0afa39d8535"
   },
   "source": [
    "### **3.5 ニューラルネットワーク**"
   ]
  },
  {
   "cell_type": "markdown",
   "metadata": {
    "_uuid": "a95defc65c4ffe5a5c493f32803bc81d6b5ac8e0"
   },
   "source": [
    "ニューラルネットワークは、標準的な機械学習よりも複雑で強力なアルゴリズムであり、ディープラーニングモデルに属します。ニューラルネットワークを構築するには、Kerasを使用します。Kerasは、テンソルフロー用の高レベルAPIです。"
   ]
  },
  {
   "cell_type": "code",
   "execution_count": 21,
   "metadata": {
    "_uuid": "49788e798f8d64f6196cdbb5e962e603f114783c"
   },
   "outputs": [
    {
     "data": {
      "text/html": [
       "<div>\n",
       "<style scoped>\n",
       "    .dataframe tbody tr th:only-of-type {\n",
       "        vertical-align: middle;\n",
       "    }\n",
       "\n",
       "    .dataframe tbody tr th {\n",
       "        vertical-align: top;\n",
       "    }\n",
       "\n",
       "    .dataframe thead th {\n",
       "        text-align: right;\n",
       "    }\n",
       "</style>\n",
       "<table border=\"1\" class=\"dataframe\">\n",
       "  <thead>\n",
       "    <tr style=\"text-align: right;\">\n",
       "      <th></th>\n",
       "      <th>precision</th>\n",
       "      <th>recall</th>\n",
       "      <th>f1-score</th>\n",
       "      <th>support</th>\n",
       "    </tr>\n",
       "  </thead>\n",
       "  <tbody>\n",
       "    <tr>\n",
       "      <th>0</th>\n",
       "      <td>0.84</td>\n",
       "      <td>0.93</td>\n",
       "      <td>0.88</td>\n",
       "      <td>105</td>\n",
       "    </tr>\n",
       "    <tr>\n",
       "      <th>1</th>\n",
       "      <td>0.89</td>\n",
       "      <td>0.74</td>\n",
       "      <td>0.81</td>\n",
       "      <td>74</td>\n",
       "    </tr>\n",
       "    <tr>\n",
       "      <th>macro avg</th>\n",
       "      <td>0.86</td>\n",
       "      <td>0.84</td>\n",
       "      <td>0.85</td>\n",
       "      <td>179</td>\n",
       "    </tr>\n",
       "    <tr>\n",
       "      <th>micro avg</th>\n",
       "      <td>0.85</td>\n",
       "      <td>0.85</td>\n",
       "      <td>0.85</td>\n",
       "      <td>179</td>\n",
       "    </tr>\n",
       "    <tr>\n",
       "      <th>weighted avg</th>\n",
       "      <td>0.86</td>\n",
       "      <td>0.85</td>\n",
       "      <td>0.85</td>\n",
       "      <td>179</td>\n",
       "    </tr>\n",
       "  </tbody>\n",
       "</table>\n",
       "</div>"
      ],
      "text/plain": [
       "              precision  recall  f1-score  support\n",
       "0                  0.84    0.93      0.88      105\n",
       "1                  0.89    0.74      0.81       74\n",
       "macro avg          0.86    0.84      0.85      179\n",
       "micro avg          0.85    0.85      0.85      179\n",
       "weighted avg       0.86    0.85      0.85      179"
      ]
     },
     "metadata": {},
     "output_type": "display_data"
    },
    {
     "data": {
      "image/png": "[encoded data removed]",
      "text/plain": [
       "<Figure size 288x288 with 2 Axes>"
      ]
     },
     "metadata": {
      "needs_background": "light"
     },
     "output_type": "display_data"
    }
   ],
   "source": [
    "def build_nn(optimizer='adam'):\n",
    "    \n",
    "    nn = Sequential()\n",
    "    \n",
    "    # https://keras.io/ja/layers/core/\n",
    "    nn.add(Dense(units=32, kernel_initializer='glorot_uniform', activation='relu', input_shape=(13,)))\n",
    "    nn.add(Dense(units=64, kernel_initializer='glorot_uniform', activation='relu'))\n",
    "    nn.add(Dropout(rate=0.5))\n",
    "    nn.add(Dense(units=64, kernel_initializer='glorot_uniform', activation='relu'))\n",
    "    nn.add(Dropout(rate=0.5))\n",
    "    nn.add(Dense(units=1, kernel_initializer='glorot_uniform', activation='sigmoid'))\n",
    "    \n",
    "    # コンパイル\n",
    "    nn.compile(optimizer=optimizer, loss='binary_crossentropy', metrics=['accuracy'])\n",
    "    \n",
    "    return nn\n",
    "\n",
    "# オプティマイザ生成\n",
    "opt = optimizers.Adam(lr=0.001)\n",
    "nn = build_nn(opt)\n",
    "\n",
    "# ニューラルネットワーク学習\n",
    "history = nn.fit(X_train, Y_train, batch_size=16\n",
    "                  , epochs=30\n",
    "                  , validation_data=(X_test, Y_test)\n",
    "                  ,verbose=0# ログを非表示\n",
    "                 )\n",
    "\n",
    "# 予測\n",
    "nn_prediction = nn.predict(X_test)\n",
    "nn_prediction = (nn_prediction > 0.5) # 確率をバイナリ出力に変換\n",
    "\n",
    "# 予測データと真の応答の間の誤差を計算し、混同行列に表示\n",
    "score = metrics.accuracy_score(Y_test, nn_prediction)\n",
    "display_confusion_matrix(Y_test, nn_prediction, score=score)"
   ]
  },
  {
   "cell_type": "markdown",
   "metadata": {
    "_uuid": "70d6befb811b652a224f94d6cdb463973d596eb8"
   },
   "source": [
    "## **4. 交差検証法にて最適なモデルを見つける** <a id=\"choose\"></a>"
   ]
  },
  {
   "cell_type": "code",
   "execution_count": 23,
   "metadata": {
    "_uuid": "26ef433d5b364a740465a893328f0c1f2be1d4f6"
   },
   "outputs": [
    {
     "data": {
      "text/html": [
       "<div>\n",
       "<style scoped>\n",
       "    .dataframe tbody tr th:only-of-type {\n",
       "        vertical-align: middle;\n",
       "    }\n",
       "\n",
       "    .dataframe tbody tr th {\n",
       "        vertical-align: top;\n",
       "    }\n",
       "\n",
       "    .dataframe thead th {\n",
       "        text-align: right;\n",
       "    }\n",
       "</style>\n",
       "<table border=\"1\" class=\"dataframe\">\n",
       "  <thead>\n",
       "    <tr style=\"text-align: right;\">\n",
       "      <th></th>\n",
       "      <th>lg</th>\n",
       "      <th>dt</th>\n",
       "      <th>svm</th>\n",
       "      <th>rf</th>\n",
       "      <th>ann</th>\n",
       "    </tr>\n",
       "  </thead>\n",
       "  <tbody>\n",
       "    <tr>\n",
       "      <th>Mean_accuracy</th>\n",
       "      <td>0.832952</td>\n",
       "      <td>0.823129</td>\n",
       "      <td>0.835690</td>\n",
       "      <td>0.817773</td>\n",
       "      <td>0.842684</td>\n",
       "    </tr>\n",
       "    <tr>\n",
       "      <th>Variance</th>\n",
       "      <td>0.062118</td>\n",
       "      <td>0.047787</td>\n",
       "      <td>0.056003</td>\n",
       "      <td>0.056971</td>\n",
       "      <td>0.048321</td>\n",
       "    </tr>\n",
       "  </tbody>\n",
       "</table>\n",
       "</div>"
      ],
      "text/plain": [
       "                     lg        dt       svm        rf       ann\n",
       "Mean_accuracy  0.832952  0.823129  0.835690  0.817773  0.842684\n",
       "Variance       0.062118  0.047787  0.056003  0.056971  0.048321"
      ]
     },
     "metadata": {},
     "output_type": "display_data"
    },
    {
     "data": {
      "image/png": "[encoded data removed]",
      "text/plain": [
       "<Figure size 720x432 with 1 Axes>"
      ]
     },
     "metadata": {
      "needs_background": "light"
     },
     "output_type": "display_data"
    }
   ],
   "source": [
    "n_folds = 10\n",
    "cv_score_lg = cross_val_score(estimator=lg, X=X_train, y=Y_train, cv=n_folds, n_jobs=-1)\n",
    "cv_score_dt = cross_val_score(estimator=dt, X=X_train, y=Y_train, cv=n_folds, n_jobs=-1)\n",
    "cv_score_svm = cross_val_score(estimator=svm, X=X_train, y=Y_train, cv=n_folds, n_jobs=-1)\n",
    "cv_score_rf = cross_val_score(estimator=rf, X=X_train, y=Y_train, cv=n_folds, n_jobs=-1)\n",
    "# https://keras.io/ja/scikit-learn-api/\n",
    "cv_score_ann = cross_val_score(estimator=KerasClassifier(build_fn=build_nn, \n",
    "                                                         batch_size=16, \n",
    "                                                         epochs=20, \n",
    "                                                         verbose=0),\n",
    "                                 X=X_train, y=Y_train, cv=n_folds, n_jobs=-1)\n",
    "\n",
    "cv_result = {'lg': cv_score_lg, 'dt': cv_score_dt, 'svm': cv_score_svm, 'rf': cv_score_rf, 'ann': cv_score_ann}\n",
    "cv_data = {model: [score.mean(), score.std()] for model, score in cv_result.items()}\n",
    "cv_df = pd.DataFrame(cv_data, index=['Mean_accuracy', 'Variance'])\n",
    "display(cv_df)\n",
    "\n",
    "plt.figure(figsize=(10,6))\n",
    "plt.plot(cv_result['lg'])\n",
    "plt.plot(cv_result['dt'])\n",
    "plt.plot(cv_result['svm'])\n",
    "plt.plot(cv_result['rf'])\n",
    "plt.plot(cv_result['ann'])\n",
    "plt.title('Models Accuracy')\n",
    "plt.ylabel('Accuracy')\n",
    "plt.xlabel('Trained fold')\n",
    "plt.xticks([k for k in range(n_folds)])\n",
    "plt.legend(['logreg', 'tree', 'randomforest', 'ann', 'svm'], loc='upper left')\n",
    "plt.show()"
   ]
  },
  {
   "cell_type": "markdown",
   "metadata": {
    "_uuid": "03a8e420074894ddc65db54085e8e0676ad1cbd6"
   },
   "source": [
    "## **5. アンサンブル学習** <a id=\"ensembling\"></a>"
   ]
  },
  {
   "cell_type": "code",
   "execution_count": 16,
   "metadata": {
    "_uuid": "6fd1ab52ab83a9df854c703825784c9f05916f56"
   },
   "outputs": [],
   "source": [
    "class EsemblingClassifier:\n",
    "    \n",
    "    def __init__(self, verbose=True):\n",
    "        # コンストラクタ\n",
    "        self.ann = build_nn(optimizer=optimizers.Adam(lr=0.001))\n",
    "        self.rf = RandomForestClassifier(n_estimators=300, max_depth=11, random_state=42)\n",
    "        self.svm = SVC(random_state=42)\n",
    "        self.trained = False\n",
    "        self.verbose = verbose\n",
    "        \n",
    "    def fit(self, X, y):\n",
    "        # 学習\n",
    "        if self.verbose:\n",
    "            print('-------- Fitting models --------')\n",
    "        self.ann.fit(X, y, epochs=30, batch_size=16, verbose=0)\n",
    "        self.rf.fit(X, y)\n",
    "        self.svm.fit(X, y)\n",
    "        self.trained = True\n",
    "    \n",
    "    def predict(self, X):\n",
    "        # 予測\n",
    "        if self.trained == False:\n",
    "            raise NotFittedError('Please train the classifier before making a prediction')\n",
    "        if self.verbose:\n",
    "            print('-------- Making and combining predictions --------')\n",
    "        predictions = list()\n",
    "        pred_ann = self.ann.predict(X)\n",
    "        pred_ann = (pred_ann > 0.5)*1\n",
    "        pred_rf = self.rf.predict(X)\n",
    "        pred_svm = self.svm.predict(X)\n",
    "        for n in range(len(pred_ann)):\n",
    "            combined = pred_ann[n] + pred_rf[n] + pred_svm[n]\n",
    "            p = 0 if combined == 1 or combined == 0 else 1\n",
    "            predictions.append(p)\n",
    "        return predictions"
   ]
  },
  {
   "cell_type": "code",
   "execution_count": 17,
   "metadata": {
    "_uuid": "c5534134e1818af1b94b8361aaad33845d91457b"
   },
   "outputs": [
    {
     "name": "stdout",
     "output_type": "stream",
     "text": [
      "-------- Fitting models --------\n",
      "-------- Making and combining predictions --------\n"
     ]
    },
    {
     "data": {
      "text/html": [
       "<div>\n",
       "<style scoped>\n",
       "    .dataframe tbody tr th:only-of-type {\n",
       "        vertical-align: middle;\n",
       "    }\n",
       "\n",
       "    .dataframe tbody tr th {\n",
       "        vertical-align: top;\n",
       "    }\n",
       "\n",
       "    .dataframe thead th {\n",
       "        text-align: right;\n",
       "    }\n",
       "</style>\n",
       "<table border=\"1\" class=\"dataframe\">\n",
       "  <thead>\n",
       "    <tr style=\"text-align: right;\">\n",
       "      <th></th>\n",
       "      <th>precision</th>\n",
       "      <th>recall</th>\n",
       "      <th>f1-score</th>\n",
       "      <th>support</th>\n",
       "    </tr>\n",
       "  </thead>\n",
       "  <tbody>\n",
       "    <tr>\n",
       "      <th>0</th>\n",
       "      <td>0.84</td>\n",
       "      <td>0.93</td>\n",
       "      <td>0.89</td>\n",
       "      <td>105</td>\n",
       "    </tr>\n",
       "    <tr>\n",
       "      <th>1</th>\n",
       "      <td>0.89</td>\n",
       "      <td>0.76</td>\n",
       "      <td>0.82</td>\n",
       "      <td>74</td>\n",
       "    </tr>\n",
       "    <tr>\n",
       "      <th>macro avg</th>\n",
       "      <td>0.87</td>\n",
       "      <td>0.85</td>\n",
       "      <td>0.85</td>\n",
       "      <td>179</td>\n",
       "    </tr>\n",
       "    <tr>\n",
       "      <th>micro avg</th>\n",
       "      <td>0.86</td>\n",
       "      <td>0.86</td>\n",
       "      <td>0.86</td>\n",
       "      <td>179</td>\n",
       "    </tr>\n",
       "    <tr>\n",
       "      <th>weighted avg</th>\n",
       "      <td>0.86</td>\n",
       "      <td>0.86</td>\n",
       "      <td>0.86</td>\n",
       "      <td>179</td>\n",
       "    </tr>\n",
       "  </tbody>\n",
       "</table>\n",
       "</div>"
      ],
      "text/plain": [
       "              precision  recall  f1-score  support\n",
       "0                  0.84    0.93      0.89      105\n",
       "1                  0.89    0.76      0.82       74\n",
       "macro avg          0.87    0.85      0.85      179\n",
       "micro avg          0.86    0.86      0.86      179\n",
       "weighted avg       0.86    0.86      0.86      179"
      ]
     },
     "metadata": {},
     "output_type": "display_data"
    },
    {
     "data": {
      "image/png": "[encoded data removed]",
      "text/plain": [
       "<Figure size 288x288 with 2 Axes>"
      ]
     },
     "metadata": {
      "needs_background": "light"
     },
     "output_type": "display_data"
    }
   ],
   "source": [
    "ens = EsemblingClassifier()\n",
    "ens.fit(X_train, Y_train)\n",
    "ens_prediction = ens.predict(X_test)\n",
    "score = metrics.accuracy_score(Y_test, ens_prediction)\n",
    "display_confusion_matrix(Y_test, ens_prediction, score=score)"
   ]
  },
  {
   "cell_type": "markdown",
   "metadata": {
    "_uuid": "06c3acf429d8d09968c07e8c1c06f88875bb62db"
   },
   "source": [
    "## **6. 予測結果出力** <a id=\"submission\"></a>"
   ]
  },
  {
   "cell_type": "code",
   "execution_count": 18,
   "metadata": {
    "_uuid": "962229f11da6b327557f53e048f0a55068f6dc4a"
   },
   "outputs": [
    {
     "data": {
      "text/html": [
       "<div>\n",
       "<style scoped>\n",
       "    .dataframe tbody tr th:only-of-type {\n",
       "        vertical-align: middle;\n",
       "    }\n",
       "\n",
       "    .dataframe tbody tr th {\n",
       "        vertical-align: top;\n",
       "    }\n",
       "\n",
       "    .dataframe thead th {\n",
       "        text-align: right;\n",
       "    }\n",
       "</style>\n",
       "<table border=\"1\" class=\"dataframe\">\n",
       "  <thead>\n",
       "    <tr style=\"text-align: right;\">\n",
       "      <th></th>\n",
       "      <th>Pclass</th>\n",
       "      <th>Sex</th>\n",
       "      <th>Age</th>\n",
       "      <th>SibSp</th>\n",
       "      <th>Parch</th>\n",
       "      <th>Fare</th>\n",
       "      <th>Cabin</th>\n",
       "      <th>Embarked</th>\n",
       "      <th>Title</th>\n",
       "      <th>FamillySize</th>\n",
       "      <th>IsAlone</th>\n",
       "      <th>IsChild</th>\n",
       "      <th>TicketSurvivor</th>\n",
       "    </tr>\n",
       "  </thead>\n",
       "  <tbody>\n",
       "    <tr>\n",
       "      <th>0</th>\n",
       "      <td>0.873482</td>\n",
       "      <td>-0.755929</td>\n",
       "      <td>0.376278</td>\n",
       "      <td>-0.499470</td>\n",
       "      <td>-0.400248</td>\n",
       "      <td>-0.497185</td>\n",
       "      <td>0.472688</td>\n",
       "      <td>2.243165</td>\n",
       "      <td>-0.756787</td>\n",
       "      <td>-0.664957</td>\n",
       "      <td>0.807573</td>\n",
       "      <td>-0.347338</td>\n",
       "      <td>-0.3253</td>\n",
       "    </tr>\n",
       "    <tr>\n",
       "      <th>1</th>\n",
       "      <td>0.873482</td>\n",
       "      <td>1.322876</td>\n",
       "      <td>1.340981</td>\n",
       "      <td>0.616992</td>\n",
       "      <td>-0.400248</td>\n",
       "      <td>-0.512048</td>\n",
       "      <td>0.472688</td>\n",
       "      <td>-0.677841</td>\n",
       "      <td>1.245346</td>\n",
       "      <td>0.731787</td>\n",
       "      <td>-1.238278</td>\n",
       "      <td>-0.347338</td>\n",
       "      <td>-0.3253</td>\n",
       "    </tr>\n",
       "    <tr>\n",
       "      <th>2</th>\n",
       "      <td>-0.315819</td>\n",
       "      <td>-0.755929</td>\n",
       "      <td>2.498625</td>\n",
       "      <td>-0.499470</td>\n",
       "      <td>-0.400248</td>\n",
       "      <td>-0.463874</td>\n",
       "      <td>0.472688</td>\n",
       "      <td>2.243165</td>\n",
       "      <td>0.244279</td>\n",
       "      <td>-0.664957</td>\n",
       "      <td>0.807573</td>\n",
       "      <td>-0.347338</td>\n",
       "      <td>-0.3253</td>\n",
       "    </tr>\n",
       "    <tr>\n",
       "      <th>3</th>\n",
       "      <td>0.873482</td>\n",
       "      <td>-0.755929</td>\n",
       "      <td>-0.202543</td>\n",
       "      <td>-0.499470</td>\n",
       "      <td>-0.400248</td>\n",
       "      <td>-0.482248</td>\n",
       "      <td>0.472688</td>\n",
       "      <td>-0.677841</td>\n",
       "      <td>1.245346</td>\n",
       "      <td>-0.664957</td>\n",
       "      <td>0.807573</td>\n",
       "      <td>-0.347338</td>\n",
       "      <td>-0.3253</td>\n",
       "    </tr>\n",
       "    <tr>\n",
       "      <th>4</th>\n",
       "      <td>0.873482</td>\n",
       "      <td>1.322876</td>\n",
       "      <td>-0.588425</td>\n",
       "      <td>0.616992</td>\n",
       "      <td>0.619896</td>\n",
       "      <td>-0.417269</td>\n",
       "      <td>0.472688</td>\n",
       "      <td>-0.677841</td>\n",
       "      <td>-0.756787</td>\n",
       "      <td>0.731787</td>\n",
       "      <td>-1.238278</td>\n",
       "      <td>-0.347338</td>\n",
       "      <td>-0.3253</td>\n",
       "    </tr>\n",
       "  </tbody>\n",
       "</table>\n",
       "</div>"
      ],
      "text/plain": [
       "     Pclass       Sex       Age     SibSp     Parch      Fare     Cabin  \\\n",
       "0  0.873482 -0.755929  0.376278 -0.499470 -0.400248 -0.497185  0.472688   \n",
       "1  0.873482  1.322876  1.340981  0.616992 -0.400248 -0.512048  0.472688   \n",
       "2 -0.315819 -0.755929  2.498625 -0.499470 -0.400248 -0.463874  0.472688   \n",
       "3  0.873482 -0.755929 -0.202543 -0.499470 -0.400248 -0.482248  0.472688   \n",
       "4  0.873482  1.322876 -0.588425  0.616992  0.619896 -0.417269  0.472688   \n",
       "\n",
       "   Embarked     Title  FamillySize   IsAlone   IsChild  TicketSurvivor  \n",
       "0  2.243165 -0.756787    -0.664957  0.807573 -0.347338         -0.3253  \n",
       "1 -0.677841  1.245346     0.731787 -1.238278 -0.347338         -0.3253  \n",
       "2  2.243165  0.244279    -0.664957  0.807573 -0.347338         -0.3253  \n",
       "3 -0.677841  1.245346    -0.664957  0.807573 -0.347338         -0.3253  \n",
       "4 -0.677841 -0.756787     0.731787 -1.238278 -0.347338         -0.3253  "
      ]
     },
     "execution_count": 18,
     "metadata": {},
     "output_type": "execute_result"
    }
   ],
   "source": [
    "test_df_raw = pd.read_csv(path_test)\n",
    "test = test_df_raw.copy()\n",
    "test = preprocess_data(test)\n",
    "test = pd.DataFrame(sc.fit_transform(test.values), index=test.index, columns=test.columns)\n",
    "test.head()"
   ]
  },
  {
   "cell_type": "code",
   "execution_count": 19,
   "metadata": {
    "_kg_hide-output": false,
    "_uuid": "499d60687a2a8ce30edbdf17e2f3ed89d7d9e7bc"
   },
   "outputs": [
    {
     "name": "stdout",
     "output_type": "stream",
     "text": [
      "-------- Fitting models --------\n",
      "-------- Making and combining predictions --------\n"
     ]
    }
   ],
   "source": [
    "# アンサンブル学習\n",
    "model_test = EsemblingClassifier()\n",
    "model_test.fit(X, Y)\n",
    "\n",
    "# テストデータ予測\n",
    "prediction = model_test.predict(test)\n",
    "\n",
    "result_df = test_df_raw.copy()\n",
    "result_df['Survived'] = prediction\n",
    "result_df.to_csv('submission.csv', columns=['PassengerId', 'Survived'], index=False)"
   ]
  },
  {
   "cell_type": "code",
   "execution_count": 20,
   "metadata": {
    "_uuid": "2ed93ead5811df4092719d4f068dd714c8267cfe"
   },
   "outputs": [
    {
     "data": {
      "text/html": [
       "<div>\n",
       "<style scoped>\n",
       "    .dataframe tbody tr th:only-of-type {\n",
       "        vertical-align: middle;\n",
       "    }\n",
       "\n",
       "    .dataframe tbody tr th {\n",
       "        vertical-align: top;\n",
       "    }\n",
       "\n",
       "    .dataframe thead th {\n",
       "        text-align: right;\n",
       "    }\n",
       "</style>\n",
       "<table border=\"1\" class=\"dataframe\">\n",
       "  <thead>\n",
       "    <tr style=\"text-align: right;\">\n",
       "      <th></th>\n",
       "      <th>PassengerId</th>\n",
       "      <th>Survived</th>\n",
       "    </tr>\n",
       "  </thead>\n",
       "  <tbody>\n",
       "    <tr>\n",
       "      <th>0</th>\n",
       "      <td>892</td>\n",
       "      <td>0</td>\n",
       "    </tr>\n",
       "    <tr>\n",
       "      <th>1</th>\n",
       "      <td>893</td>\n",
       "      <td>0</td>\n",
       "    </tr>\n",
       "    <tr>\n",
       "      <th>2</th>\n",
       "      <td>894</td>\n",
       "      <td>0</td>\n",
       "    </tr>\n",
       "    <tr>\n",
       "      <th>3</th>\n",
       "      <td>895</td>\n",
       "      <td>0</td>\n",
       "    </tr>\n",
       "    <tr>\n",
       "      <th>4</th>\n",
       "      <td>896</td>\n",
       "      <td>0</td>\n",
       "    </tr>\n",
       "    <tr>\n",
       "      <th>5</th>\n",
       "      <td>897</td>\n",
       "      <td>0</td>\n",
       "    </tr>\n",
       "    <tr>\n",
       "      <th>6</th>\n",
       "      <td>898</td>\n",
       "      <td>1</td>\n",
       "    </tr>\n",
       "    <tr>\n",
       "      <th>7</th>\n",
       "      <td>899</td>\n",
       "      <td>0</td>\n",
       "    </tr>\n",
       "    <tr>\n",
       "      <th>8</th>\n",
       "      <td>900</td>\n",
       "      <td>1</td>\n",
       "    </tr>\n",
       "    <tr>\n",
       "      <th>9</th>\n",
       "      <td>901</td>\n",
       "      <td>0</td>\n",
       "    </tr>\n",
       "  </tbody>\n",
       "</table>\n",
       "</div>"
      ],
      "text/plain": [
       "   PassengerId  Survived\n",
       "0          892         0\n",
       "1          893         0\n",
       "2          894         0\n",
       "3          895         0\n",
       "4          896         0\n",
       "5          897         0\n",
       "6          898         1\n",
       "7          899         0\n",
       "8          900         1\n",
       "9          901         0"
      ]
     },
     "execution_count": 20,
     "metadata": {},
     "output_type": "execute_result"
    }
   ],
   "source": [
    "result_df[['PassengerId', 'Survived']].head(10)"
   ]
  },
  {
   "cell_type": "markdown",
   "metadata": {},
   "source": [
    "結果：0.78947"
   ]
  }
 ],
 "metadata": {
  "kernelspec": {
   "display_name": "Python 3",
   "language": "python",
   "name": "python3"
  },
  "language_info": {
   "codemirror_mode": {
    "name": "ipython",
    "version": 3
   },
   "file_extension": ".py",
   "mimetype": "text/x-python",
   "name": "python",
   "nbconvert_exporter": "python",
   "pygments_lexer": "ipython3",
   "version": "3.7.3"
  }
 },
 "nbformat": 4,
 "nbformat_minor": 1
}
