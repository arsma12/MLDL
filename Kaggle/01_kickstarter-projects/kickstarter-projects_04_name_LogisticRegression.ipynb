{
 "cells": [
  {
   "cell_type": "markdown",
   "metadata": {
    "_uuid": "83e92e96c1b2693175187f170e874f80811b915b"
   },
   "source": [
    "# ◆Kickstarter Projects\n",
    "### 目的：クラウドファンディングが成功するかを名称のみで予測する\n",
    "### 目的変数をstate（成功 or 失敗）とする二値分類の予測モデルを構築する\n",
    "- kaggle URL:https://www.kaggle.com/kemical/kickstarter-projects\n",
    "- Create Date：2020/01/17　Author：M.Hasegawa\n",
    "### ────────────────────────────────────────────────────────────────\n",
    "\n",
    "### 【手順】\n",
    "\n",
    "#### 0.Notebook内で利用する関数の定義\n",
    "\n",
    "#### 1.データ読込\n",
    "- 欠損項目を確認する\n",
    "\n",
    "#### 2.データ前処理\n",
    "- CountVectorizer（出現する単語のカウントを特徴量にする手法）\n",
    "\n",
    "#### 3.モデル生成\n",
    "- SVM Classifier\n",
    "\n",
    "#### 4.モデル評価\n",
    "- 混同行列を作成し、Accuracy、Recall、Precisionを求める\n",
    "\n",
    "#### ※データセット\n",
    "- 「spam.csv」（データ数：378661, 2）\n",
    "\n",
    "| 列 | 項目 | 項目名 | 欠損有無 | 利用有無 |\n",
    "| :--- | :--- | :--- | :---: | :---: |\n",
    "|  1 | state→label |failed or successful | - | ○ |\n",
    "|  2 | name→text | project name | - | ○ |"
   ]
  },
  {
   "cell_type": "markdown",
   "metadata": {
    "_uuid": "7e07c8e4ca9941fa0b409bbc48c79f4b432c9832"
   },
   "source": [
    "## Imports"
   ]
  },
  {
   "cell_type": "code",
   "execution_count": 1,
   "metadata": {
    "_cell_guid": "b1076dfc-b9ad-4769-8c92-a6c4dae69d19",
    "_uuid": "8f2839f25d086af736a60e9eeb907d3b93b6e0e5"
   },
   "outputs": [],
   "source": [
    "%matplotlib inline\n",
    "\n",
    "import numpy as np \n",
    "import pandas as pd \n",
    "import seaborn as sns\n",
    "import matplotlib.pyplot as plt\n",
    "from collections             import Counter\n",
    "from sklearn.svm             import SVC\n",
    "from IPython.display         import Markdown, display\n",
    "from sklearn.pipeline        import Pipeline\n",
    "from sklearn.model_selection import GridSearchCV\n",
    "from sklearn.metrics         import classification_report, confusion_matrix, accuracy_score\n",
    "from sklearn                 import feature_extraction, model_selection, naive_bayes, metrics, svm\n",
    "from sklearn.model_selection import train_test_split\n",
    "from sklearn.linear_model    import SGDClassifier\n",
    "from sklearn.feature_extraction.text import CountVectorizer\n",
    "\n",
    "import warnings\n",
    "warnings.filterwarnings('ignore')\n",
    "\n",
    "# ****************************************************************************\n",
    "# 設定値\n",
    "# ****************************************************************************\n",
    "\n",
    "# ▼件数絞込用（時間がかかりすぎるため）\n",
    "squeeze_num = 100 # ※1以上の場合有効\n",
    "\n",
    "# ============================================================================\n",
    "# MarkDown記法\n",
    "# ============================================================================\n",
    "def printmd(string):\n",
    "    display(Markdown('\\n\\n**' + string + '**'))"
   ]
  },
  {
   "cell_type": "markdown",
   "metadata": {
    "_uuid": "082306c6380a6bc0a2d1aa16843ab4200f011ebe"
   },
   "source": [
    "# 1. Explanatory Data Analysis"
   ]
  },
  {
   "cell_type": "code",
   "execution_count": 2,
   "metadata": {
    "_uuid": "5654c4b08e286b2833bc03d056878325041c75c9"
   },
   "outputs": [
    {
     "data": {
      "text/markdown": [
       "\n",
       "\n",
       "**▼サイズ**"
      ],
      "text/plain": [
       "<IPython.core.display.Markdown object>"
      ]
     },
     "metadata": {},
     "output_type": "display_data"
    },
    {
     "name": "stdout",
     "output_type": "stream",
     "text": [
      "(378661, 2)\n"
     ]
    },
    {
     "data": {
      "text/markdown": [
       "\n",
       "\n",
       "**▼先頭3行**"
      ],
      "text/plain": [
       "<IPython.core.display.Markdown object>"
      ]
     },
     "metadata": {},
     "output_type": "display_data"
    },
    {
     "data": {
      "text/html": [
       "<div>\n",
       "<style scoped>\n",
       "    .dataframe tbody tr th:only-of-type {\n",
       "        vertical-align: middle;\n",
       "    }\n",
       "\n",
       "    .dataframe tbody tr th {\n",
       "        vertical-align: top;\n",
       "    }\n",
       "\n",
       "    .dataframe thead th {\n",
       "        text-align: right;\n",
       "    }\n",
       "</style>\n",
       "<table border=\"1\" class=\"dataframe\">\n",
       "  <thead>\n",
       "    <tr style=\"text-align: right;\">\n",
       "      <th></th>\n",
       "      <th>text</th>\n",
       "      <th>label</th>\n",
       "    </tr>\n",
       "  </thead>\n",
       "  <tbody>\n",
       "    <tr>\n",
       "      <th>0</th>\n",
       "      <td>The Songs of Adelaide &amp; Abullah</td>\n",
       "      <td>failed</td>\n",
       "    </tr>\n",
       "    <tr>\n",
       "      <th>1</th>\n",
       "      <td>Greeting From Earth: ZGAC Arts Capsule For ET</td>\n",
       "      <td>failed</td>\n",
       "    </tr>\n",
       "    <tr>\n",
       "      <th>2</th>\n",
       "      <td>Where is Hank?</td>\n",
       "      <td>failed</td>\n",
       "    </tr>\n",
       "  </tbody>\n",
       "</table>\n",
       "</div>"
      ],
      "text/plain": [
       "                                            text   label\n",
       "0                The Songs of Adelaide & Abullah  failed\n",
       "1  Greeting From Earth: ZGAC Arts Capsule For ET  failed\n",
       "2                                 Where is Hank?  failed"
      ]
     },
     "metadata": {},
     "output_type": "display_data"
    },
    {
     "data": {
      "text/markdown": [
       "\n",
       "\n",
       "**▼基本統計量**"
      ],
      "text/plain": [
       "<IPython.core.display.Markdown object>"
      ]
     },
     "metadata": {},
     "output_type": "display_data"
    },
    {
     "data": {
      "text/html": [
       "<div>\n",
       "<style scoped>\n",
       "    .dataframe tbody tr th:only-of-type {\n",
       "        vertical-align: middle;\n",
       "    }\n",
       "\n",
       "    .dataframe tbody tr th {\n",
       "        vertical-align: top;\n",
       "    }\n",
       "\n",
       "    .dataframe thead th {\n",
       "        text-align: right;\n",
       "    }\n",
       "</style>\n",
       "<table border=\"1\" class=\"dataframe\">\n",
       "  <thead>\n",
       "    <tr style=\"text-align: right;\">\n",
       "      <th></th>\n",
       "      <th>text</th>\n",
       "      <th>label</th>\n",
       "    </tr>\n",
       "  </thead>\n",
       "  <tbody>\n",
       "    <tr>\n",
       "      <th>count</th>\n",
       "      <td>378657</td>\n",
       "      <td>378661</td>\n",
       "    </tr>\n",
       "    <tr>\n",
       "      <th>unique</th>\n",
       "      <td>375764</td>\n",
       "      <td>6</td>\n",
       "    </tr>\n",
       "    <tr>\n",
       "      <th>top</th>\n",
       "      <td>New EP/Music Development</td>\n",
       "      <td>failed</td>\n",
       "    </tr>\n",
       "    <tr>\n",
       "      <th>freq</th>\n",
       "      <td>41</td>\n",
       "      <td>197719</td>\n",
       "    </tr>\n",
       "  </tbody>\n",
       "</table>\n",
       "</div>"
      ],
      "text/plain": [
       "                            text   label\n",
       "count                     378657  378661\n",
       "unique                    375764       6\n",
       "top     New EP/Music Development  failed\n",
       "freq                          41  197719"
      ]
     },
     "metadata": {},
     "output_type": "display_data"
    },
    {
     "data": {
      "text/markdown": [
       "\n",
       "\n",
       "**▼欠損データ確認**"
      ],
      "text/plain": [
       "<IPython.core.display.Markdown object>"
      ]
     },
     "metadata": {},
     "output_type": "display_data"
    },
    {
     "data": {
      "text/html": [
       "<div>\n",
       "<style scoped>\n",
       "    .dataframe tbody tr th:only-of-type {\n",
       "        vertical-align: middle;\n",
       "    }\n",
       "\n",
       "    .dataframe tbody tr th {\n",
       "        vertical-align: top;\n",
       "    }\n",
       "\n",
       "    .dataframe thead th {\n",
       "        text-align: right;\n",
       "    }\n",
       "</style>\n",
       "<table border=\"1\" class=\"dataframe\">\n",
       "  <thead>\n",
       "    <tr style=\"text-align: right;\">\n",
       "      <th></th>\n",
       "      <th>text</th>\n",
       "      <th>label</th>\n",
       "    </tr>\n",
       "  </thead>\n",
       "  <tbody>\n",
       "    <tr>\n",
       "      <th>166851</th>\n",
       "      <td>NaN</td>\n",
       "      <td>failed</td>\n",
       "    </tr>\n",
       "    <tr>\n",
       "      <th>307234</th>\n",
       "      <td>NaN</td>\n",
       "      <td>failed</td>\n",
       "    </tr>\n",
       "    <tr>\n",
       "      <th>309991</th>\n",
       "      <td>NaN</td>\n",
       "      <td>suspended</td>\n",
       "    </tr>\n",
       "    <tr>\n",
       "      <th>338931</th>\n",
       "      <td>NaN</td>\n",
       "      <td>failed</td>\n",
       "    </tr>\n",
       "  </tbody>\n",
       "</table>\n",
       "</div>"
      ],
      "text/plain": [
       "       text      label\n",
       "166851  NaN     failed\n",
       "307234  NaN     failed\n",
       "309991  NaN  suspended\n",
       "338931  NaN     failed"
      ]
     },
     "metadata": {},
     "output_type": "display_data"
    },
    {
     "name": "stdout",
     "output_type": "stream",
     "text": [
      "\n",
      "▼ 欠損データ確認\n"
     ]
    },
    {
     "data": {
      "text/html": [
       "<div>\n",
       "<style scoped>\n",
       "    .dataframe tbody tr th:only-of-type {\n",
       "        vertical-align: middle;\n",
       "    }\n",
       "\n",
       "    .dataframe tbody tr th {\n",
       "        vertical-align: top;\n",
       "    }\n",
       "\n",
       "    .dataframe thead th {\n",
       "        text-align: right;\n",
       "    }\n",
       "</style>\n",
       "<table border=\"1\" class=\"dataframe\">\n",
       "  <thead>\n",
       "    <tr style=\"text-align: right;\">\n",
       "      <th></th>\n",
       "      <th>Missing num</th>\n",
       "    </tr>\n",
       "  </thead>\n",
       "  <tbody>\n",
       "  </tbody>\n",
       "</table>\n",
       "</div>"
      ],
      "text/plain": [
       "Empty DataFrame\n",
       "Columns: [Missing num]\n",
       "Index: []"
      ]
     },
     "metadata": {},
     "output_type": "display_data"
    }
   ],
   "source": [
    "df = pd.read_csv(\"./ks-projects-201801.csv\")\n",
    "\n",
    "df = df.drop(['ID', 'category', 'main_category', 'currency', 'deadline', 'goal', 'launched', \n",
    "              'pledged', 'backers', 'country', 'usd pledged', 'usd_pledged_real', 'usd_goal_real'], axis=1)\n",
    "\n",
    "df = df.rename(columns={\"state\":\"label\", \"name\":\"text\"})\n",
    "\n",
    "printmd('▼サイズ')\n",
    "print(df.shape)\n",
    "\n",
    "printmd('▼先頭3行')\n",
    "display(df.head(3))\n",
    "\n",
    "printmd('▼基本統計量')\n",
    "display(df.describe())\n",
    "\n",
    "printmd('▼欠損データ確認')\n",
    "display(df[df['text'].isnull()])\n",
    "\n",
    "# 欠損行削除\n",
    "df.dropna(axis=0,inplace=True)\n",
    "\n",
    "print('\\n▼ 欠損データ確認')\n",
    "display(pd.DataFrame(df.isnull().sum()[df.isnull().sum()>0],columns=['Missing num']))"
   ]
  },
  {
   "cell_type": "code",
   "execution_count": 3,
   "metadata": {
    "_uuid": "6a4c90bd39e5bb963d845562e66854455b9118ca",
    "scrolled": false
   },
   "outputs": [
    {
     "data": {
      "text/markdown": [
       "\n",
       "\n",
       "**▼ 目的変数labelの種類（%）**"
      ],
      "text/plain": [
       "<IPython.core.display.Markdown object>"
      ]
     },
     "metadata": {},
     "output_type": "display_data"
    },
    {
     "data": {
      "image/png": "[encoded data removed]",
      "text/plain": [
       "<Figure size 216x216 with 1 Axes>"
      ]
     },
     "metadata": {},
     "output_type": "display_data"
    },
    {
     "data": {
      "text/markdown": [
       "\n",
       "\n",
       "**▼ 件数（successful=1，failed=0）**"
      ],
      "text/plain": [
       "<IPython.core.display.Markdown object>"
      ]
     },
     "metadata": {},
     "output_type": "display_data"
    },
    {
     "data": {
      "text/html": [
       "<div>\n",
       "<style scoped>\n",
       "    .dataframe tbody tr th:only-of-type {\n",
       "        vertical-align: middle;\n",
       "    }\n",
       "\n",
       "    .dataframe tbody tr th {\n",
       "        vertical-align: top;\n",
       "    }\n",
       "\n",
       "    .dataframe thead tr th {\n",
       "        text-align: left;\n",
       "    }\n",
       "\n",
       "    .dataframe thead tr:last-of-type th {\n",
       "        text-align: right;\n",
       "    }\n",
       "</style>\n",
       "<table border=\"1\" class=\"dataframe\">\n",
       "  <thead>\n",
       "    <tr>\n",
       "      <th></th>\n",
       "      <th colspan=\"4\" halign=\"left\">text</th>\n",
       "    </tr>\n",
       "    <tr>\n",
       "      <th></th>\n",
       "      <th>count</th>\n",
       "      <th>unique</th>\n",
       "      <th>top</th>\n",
       "      <th>freq</th>\n",
       "    </tr>\n",
       "    <tr>\n",
       "      <th>label</th>\n",
       "      <th></th>\n",
       "      <th></th>\n",
       "      <th></th>\n",
       "      <th></th>\n",
       "    </tr>\n",
       "  </thead>\n",
       "  <tbody>\n",
       "    <tr>\n",
       "      <th>0</th>\n",
       "      <td>197716</td>\n",
       "      <td>196761</td>\n",
       "      <td>New EP/Music Development</td>\n",
       "      <td>14</td>\n",
       "    </tr>\n",
       "    <tr>\n",
       "      <th>1</th>\n",
       "      <td>133956</td>\n",
       "      <td>133562</td>\n",
       "      <td>A Midsummer Night's Dream</td>\n",
       "      <td>5</td>\n",
       "    </tr>\n",
       "  </tbody>\n",
       "</table>\n",
       "</div>"
      ],
      "text/plain": [
       "         text                                        \n",
       "        count  unique                        top freq\n",
       "label                                                \n",
       "0      197716  196761   New EP/Music Development   14\n",
       "1      133956  133562  A Midsummer Night's Dream    5"
      ]
     },
     "metadata": {},
     "output_type": "display_data"
    },
    {
     "data": {
      "text/markdown": [
       "\n",
       "\n",
       "**▼ Success rate**"
      ],
      "text/plain": [
       "<IPython.core.display.Markdown object>"
      ]
     },
     "metadata": {},
     "output_type": "display_data"
    },
    {
     "name": "stdout",
     "output_type": "stream",
     "text": [
      "baseline=0.404\n"
     ]
    }
   ],
   "source": [
    "printmd('▼ 目的変数labelの種類（%）')\n",
    "per_class = round(df['label'].value_counts() / len(df['label']) * 100,2)\n",
    "values = list(per_class.values)\n",
    "\n",
    "# 円グラフ\n",
    "plt.figure(figsize=(3,3))\n",
    "plt.pie(values, labels=list(per_class.index),\n",
    "        wedgeprops={'linewidth': 2,'edgecolor':'white'},\n",
    "        textprops={'color': 'white', 'weight': 'bold'},\n",
    "        counterclock=False,startangle=90,\n",
    "        autopct=lambda p: '{:.1f}%'.format(p) if p >= 2.5 else '')\n",
    "lgnd=plt.legend(bbox_to_anchor=(1.0, 0.25, 1.55, 0.5), loc=\"center left\", borderaxespad=0.)\n",
    "plt.axis('equal')\n",
    "plt.show()\n",
    "\n",
    "# stateが成功または失敗のデータを抽出\n",
    "df = df.query('label in [\"successful\", \"failed\"]')\n",
    "\n",
    "df['label'] = df['label'].map({'failed': 0,'successful': 1})\n",
    "\n",
    "printmd('▼ 件数（successful=1，failed=0）')\n",
    "display(df.groupby('label').describe())\n",
    "\n",
    "printmd('▼ Success rate')\n",
    "baseline = df['label'].mean()\n",
    "print('baseline={:.3f}'.format(baseline))\n"
   ]
  },
  {
   "cell_type": "markdown",
   "metadata": {
    "_uuid": "dc9f69c3e24cd2aa2f2559825a7ad4710e361115"
   },
   "source": [
    "# 2. 前処理\n",
    "## 2-1. More frequent words in non-spam messages"
   ]
  },
  {
   "cell_type": "code",
   "execution_count": 4,
   "metadata": {
    "_uuid": "76654fd5e10f4c8a46d9d8c9dc5238e0a860d9af"
   },
   "outputs": [
    {
     "data": {
      "text/markdown": [
       "\n",
       "\n",
       "**▼出現回数が多い単語**"
      ],
      "text/plain": [
       "<IPython.core.display.Markdown object>"
      ]
     },
     "metadata": {},
     "output_type": "display_data"
    },
    {
     "data": {
      "text/html": [
       "<div>\n",
       "<style scoped>\n",
       "    .dataframe tbody tr th:only-of-type {\n",
       "        vertical-align: middle;\n",
       "    }\n",
       "\n",
       "    .dataframe tbody tr th {\n",
       "        vertical-align: top;\n",
       "    }\n",
       "\n",
       "    .dataframe thead th {\n",
       "        text-align: right;\n",
       "    }\n",
       "</style>\n",
       "<table border=\"1\" class=\"dataframe\">\n",
       "  <thead>\n",
       "    <tr style=\"text-align: right;\">\n",
       "      <th></th>\n",
       "      <th>words in non-spam</th>\n",
       "      <th>count</th>\n",
       "    </tr>\n",
       "  </thead>\n",
       "  <tbody>\n",
       "    <tr>\n",
       "      <th>0</th>\n",
       "      <td>The</td>\n",
       "      <td>31056</td>\n",
       "    </tr>\n",
       "    <tr>\n",
       "      <th>1</th>\n",
       "      <td>-</td>\n",
       "      <td>25300</td>\n",
       "    </tr>\n",
       "    <tr>\n",
       "      <th>2</th>\n",
       "      <td>the</td>\n",
       "      <td>17276</td>\n",
       "    </tr>\n",
       "    <tr>\n",
       "      <th>3</th>\n",
       "      <td>of</td>\n",
       "      <td>16811</td>\n",
       "    </tr>\n",
       "    <tr>\n",
       "      <th>4</th>\n",
       "      <td>A</td>\n",
       "      <td>13335</td>\n",
       "    </tr>\n",
       "  </tbody>\n",
       "</table>\n",
       "</div>"
      ],
      "text/plain": [
       "  words in non-spam  count\n",
       "0               The  31056\n",
       "1                 -  25300\n",
       "2               the  17276\n",
       "3                of  16811\n",
       "4                 A  13335"
      ]
     },
     "metadata": {},
     "output_type": "display_data"
    },
    {
     "data": {
      "image/png": "[encoded data removed]",
      "text/plain": [
       "<Figure size 432x288 with 1 Axes>"
      ]
     },
     "metadata": {
      "needs_background": "light"
     },
     "output_type": "display_data"
    }
   ],
   "source": [
    "# 失敗\n",
    "\n",
    "# 出現回数が多い順に要素を取得\n",
    "count1 = Counter(\" \".join(df[df['label']==0]['text']).split()).most_common(20)\n",
    "df1 = pd.DataFrame.from_dict(count1)\n",
    "df1 = df1.rename(columns={0: \"words in non-spam\", 1 : \"count\"})\n",
    "\n",
    "printmd('▼出現回数が多い単語')\n",
    "display(df1.head(5))\n",
    "\n",
    "df1.plot.bar(legend = False)\n",
    "y_pos = np.arange(len(df1[\"words in non-spam\"]))\n",
    "plt.xticks(y_pos, df1[\"words in non-spam\"])\n",
    "plt.title('More frequent words in non-spam messages')\n",
    "plt.xlabel('words')\n",
    "plt.ylabel('number')\n",
    "plt.show()"
   ]
  },
  {
   "cell_type": "markdown",
   "metadata": {},
   "source": [
    "## 2-1. More frequent words in spam messages"
   ]
  },
  {
   "cell_type": "code",
   "execution_count": 5,
   "metadata": {},
   "outputs": [
    {
     "data": {
      "text/markdown": [
       "\n",
       "\n",
       "**▼出現回数が多い単語**"
      ],
      "text/plain": [
       "<IPython.core.display.Markdown object>"
      ]
     },
     "metadata": {},
     "output_type": "display_data"
    },
    {
     "data": {
      "text/html": [
       "<div>\n",
       "<style scoped>\n",
       "    .dataframe tbody tr th:only-of-type {\n",
       "        vertical-align: middle;\n",
       "    }\n",
       "\n",
       "    .dataframe tbody tr th {\n",
       "        vertical-align: top;\n",
       "    }\n",
       "\n",
       "    .dataframe thead th {\n",
       "        text-align: right;\n",
       "    }\n",
       "</style>\n",
       "<table border=\"1\" class=\"dataframe\">\n",
       "  <thead>\n",
       "    <tr style=\"text-align: right;\">\n",
       "      <th></th>\n",
       "      <th>words in spam</th>\n",
       "      <th>count_</th>\n",
       "    </tr>\n",
       "  </thead>\n",
       "  <tbody>\n",
       "    <tr>\n",
       "      <th>0</th>\n",
       "      <td>The</td>\n",
       "      <td>24235</td>\n",
       "    </tr>\n",
       "    <tr>\n",
       "      <th>1</th>\n",
       "      <td>-</td>\n",
       "      <td>21828</td>\n",
       "    </tr>\n",
       "    <tr>\n",
       "      <th>2</th>\n",
       "      <td>the</td>\n",
       "      <td>13141</td>\n",
       "    </tr>\n",
       "    <tr>\n",
       "      <th>3</th>\n",
       "      <td>of</td>\n",
       "      <td>12791</td>\n",
       "    </tr>\n",
       "    <tr>\n",
       "      <th>4</th>\n",
       "      <td>A</td>\n",
       "      <td>12378</td>\n",
       "    </tr>\n",
       "  </tbody>\n",
       "</table>\n",
       "</div>"
      ],
      "text/plain": [
       "  words in spam  count_\n",
       "0           The   24235\n",
       "1             -   21828\n",
       "2           the   13141\n",
       "3            of   12791\n",
       "4             A   12378"
      ]
     },
     "metadata": {},
     "output_type": "display_data"
    },
    {
     "data": {
      "image/png": "[encoded data removed]",
      "text/plain": [
       "<Figure size 432x288 with 1 Axes>"
      ]
     },
     "metadata": {
      "needs_background": "light"
     },
     "output_type": "display_data"
    }
   ],
   "source": [
    "# spam\n",
    "\n",
    "# 出現回数が多い順に要素を取得\n",
    "count2 = Counter(\" \".join(df[df['label']==1]['text']).split()).most_common(20)\n",
    "df2 = pd.DataFrame.from_dict(count2)\n",
    "df2 = df2.rename(columns={0: \"words in spam\", 1 : \"count_\"})\n",
    "\n",
    "printmd('▼出現回数が多い単語')\n",
    "display(df2.head(5))\n",
    "\n",
    "df2.plot.bar(legend = False, color = 'orange')\n",
    "y_pos = np.arange(len(df2[\"words in spam\"]))\n",
    "plt.xticks(y_pos, df2[\"words in spam\"])\n",
    "plt.title('More frequent words in spam messages')\n",
    "plt.xlabel('words')\n",
    "plt.ylabel('number')\n",
    "plt.show()"
   ]
  },
  {
   "cell_type": "markdown",
   "metadata": {},
   "source": [
    "## 2-2. 特徴量エンジニアリング\n",
    "- テキストの前処理、トークン化、およびストップワードのフィルタリングは、機能の辞書を構築し、ドキュメントを機能ベクトルに変換できる高レベルのコンポーネントに含まれています。\n",
    "- sklearnの[CountVectorizer](https://scikit-learn.org/stable/modules/generated/sklearn.feature_extraction.text.CountVectorizer.html)を使うとBoW(Bag of Words)の特徴量が簡単に作れます\n",
    "- 分析を改善するためにストップワードを削除します\n"
   ]
  },
  {
   "cell_type": "code",
   "execution_count": 9,
   "metadata": {
    "_uuid": "2b71df4ef3915bc73648a5380b29019a461305e7"
   },
   "outputs": [
    {
     "name": "stdout",
     "output_type": "stream",
     "text": [
      "<class 'numpy.ndarray'>\n",
      "X_train=   (0, 23)\t1\n",
      "  (0, 67)\t1\n",
      "  (0, 132)\t1\n",
      "  (1, 10)\t1\n",
      "  (1, 220)\t1\n",
      "  (1, 96)\t1\n",
      "  (1, 19)\t1\n",
      "  (1, 38)\t1\n",
      "  (1, 77)\t1\n",
      "  (2, 159)\t1\n",
      "  (2, 60)\t1\n",
      "  (2, 49)\t1\n",
      "  (2, 81)\t1\n",
      "  (2, 154)\t1\n",
      "  (2, 192)\t1\n",
      "  (3, 155)\t1\n",
      "  (3, 16)\t1\n",
      "  (3, 57)\t1\n",
      "  (4, 180)\t1\n",
      "  (4, 89)\t1\n",
      "  (4, 4)\t1\n",
      "  (4, 100)\t1\n",
      "  (4, 54)\t1\n",
      "  (4, 167)\t1\n",
      "  (4, 70)\t1\n"
     ]
    }
   ],
   "source": [
    "# 計算時間を考慮してデータ絞込\n",
    "if squeeze_num > 0:\n",
    "    df = df[0:squeeze_num]\n",
    "\n",
    "X_train, X_test, y_train, y_test = train_test_split(df['text'], df['label'], test_size=0.30, random_state=1234)\n",
    "\n",
    "# テキストドキュメントのコレクションをトークンカウントのマトリックスに変換\n",
    "f = CountVectorizer(stop_words = 'english')\n",
    "X_train = f.fit_transform(X_train)\n",
    "X_test = f.transform(X_test)\n",
    "\n",
    "print(type(X_train.toarray()))\n",
    "\n",
    "print('X_train=',X_train[:5,:])"
   ]
  },
  {
   "cell_type": "markdown",
   "metadata": {},
   "source": [
    "## 3.モデル構築（SVM）\n",
    "- ガウスカーネルでサポートベクターマシンモデルを適用する同じ推論を適用します。\n",
    "- 正則化パラメーターCを変更してさまざまなモデルをトレーニングします。\n",
    "- テストセットを使用して、モデルの精度、再現率、および精度を評価します。"
   ]
  },
  {
   "cell_type": "code",
   "execution_count": 7,
   "metadata": {},
   "outputs": [
    {
     "data": {
      "text/html": [
       "<div>\n",
       "<style scoped>\n",
       "    .dataframe tbody tr th:only-of-type {\n",
       "        vertical-align: middle;\n",
       "    }\n",
       "\n",
       "    .dataframe tbody tr th {\n",
       "        vertical-align: top;\n",
       "    }\n",
       "\n",
       "    .dataframe thead th {\n",
       "        text-align: right;\n",
       "    }\n",
       "</style>\n",
       "<table border=\"1\" class=\"dataframe\">\n",
       "  <thead>\n",
       "    <tr style=\"text-align: right;\">\n",
       "      <th></th>\n",
       "      <th>予測 = 資金調達失敗</th>\n",
       "      <th>予測 = 資金調達成功</th>\n",
       "    </tr>\n",
       "  </thead>\n",
       "  <tbody>\n",
       "    <tr>\n",
       "      <th>正解 = 資金調達失敗</th>\n",
       "      <td>3</td>\n",
       "      <td>13</td>\n",
       "    </tr>\n",
       "    <tr>\n",
       "      <th>正解 = 資金調達成功</th>\n",
       "      <td>1</td>\n",
       "      <td>13</td>\n",
       "    </tr>\n",
       "  </tbody>\n",
       "</table>\n",
       "</div>"
      ],
      "text/plain": [
       "             予測 = 資金調達失敗  予測 = 資金調達成功\n",
       "正解 = 資金調達失敗            3           13\n",
       "正解 = 資金調達成功            1           13"
      ]
     },
     "metadata": {},
     "output_type": "display_data"
    },
    {
     "data": {
      "text/html": [
       "<div>\n",
       "<style scoped>\n",
       "    .dataframe tbody tr th:only-of-type {\n",
       "        vertical-align: middle;\n",
       "    }\n",
       "\n",
       "    .dataframe tbody tr th {\n",
       "        vertical-align: top;\n",
       "    }\n",
       "\n",
       "    .dataframe thead th {\n",
       "        text-align: right;\n",
       "    }\n",
       "</style>\n",
       "<table border=\"1\" class=\"dataframe\">\n",
       "  <thead>\n",
       "    <tr style=\"text-align: right;\">\n",
       "      <th></th>\n",
       "      <th>予測 = 資金調達失敗</th>\n",
       "      <th>予測 = 資金調達成功</th>\n",
       "    </tr>\n",
       "  </thead>\n",
       "  <tbody>\n",
       "    <tr>\n",
       "      <th>正解 = 資金調達失敗</th>\n",
       "      <td>11</td>\n",
       "      <td>5</td>\n",
       "    </tr>\n",
       "    <tr>\n",
       "      <th>正解 = 資金調達成功</th>\n",
       "      <td>11</td>\n",
       "      <td>3</td>\n",
       "    </tr>\n",
       "  </tbody>\n",
       "</table>\n",
       "</div>"
      ],
      "text/plain": [
       "             予測 = 資金調達失敗  予測 = 資金調達成功\n",
       "正解 = 資金調達失敗           11            5\n",
       "正解 = 資金調達成功           11            3"
      ]
     },
     "metadata": {},
     "output_type": "display_data"
    },
    {
     "data": {
      "text/html": [
       "<div>\n",
       "<style scoped>\n",
       "    .dataframe tbody tr th:only-of-type {\n",
       "        vertical-align: middle;\n",
       "    }\n",
       "\n",
       "    .dataframe tbody tr th {\n",
       "        vertical-align: top;\n",
       "    }\n",
       "\n",
       "    .dataframe thead th {\n",
       "        text-align: right;\n",
       "    }\n",
       "</style>\n",
       "<table border=\"1\" class=\"dataframe\">\n",
       "  <thead>\n",
       "    <tr style=\"text-align: right;\">\n",
       "      <th></th>\n",
       "      <th>alpha</th>\n",
       "      <th>Train Accuracy</th>\n",
       "      <th>Test Accuracy</th>\n",
       "      <th>Test Recall</th>\n",
       "      <th>Test Precision</th>\n",
       "    </tr>\n",
       "  </thead>\n",
       "  <tbody>\n",
       "    <tr>\n",
       "      <th>0</th>\n",
       "      <td>0.00001</td>\n",
       "      <td>1.0</td>\n",
       "      <td>0.533333</td>\n",
       "      <td>0.928571</td>\n",
       "      <td>0.500</td>\n",
       "    </tr>\n",
       "    <tr>\n",
       "      <th>1</th>\n",
       "      <td>0.00010</td>\n",
       "      <td>1.0</td>\n",
       "      <td>0.466667</td>\n",
       "      <td>0.214286</td>\n",
       "      <td>0.375</td>\n",
       "    </tr>\n",
       "  </tbody>\n",
       "</table>\n",
       "</div>"
      ],
      "text/plain": [
       "     alpha  Train Accuracy  Test Accuracy  Test Recall  Test Precision\n",
       "0  0.00001             1.0       0.533333     0.928571           0.500\n",
       "1  0.00010             1.0       0.466667     0.214286           0.375"
      ]
     },
     "metadata": {},
     "output_type": "display_data"
    }
   ],
   "source": [
    "list_alpha = [1e-5, 1e-4] \n",
    "\n",
    "score_train = np.zeros(len(list_alpha))\n",
    "score_test = np.zeros(len(list_alpha))\n",
    "recall_test = np.zeros(len(list_alpha))\n",
    "precision_test= np.zeros(len(list_alpha))\n",
    "\n",
    "count = 0\n",
    "first_flg = False\n",
    "for p_alpha in list_alpha:\n",
    "    \n",
    "    # モデル生成\n",
    "    lr = SGDClassifier(loss='log',penalty='l2',alpha= p_alpha, max_iter=10000,fit_intercept=True,random_state=1234,tol=1e-3)\n",
    "    \n",
    "    # 学習\n",
    "    lr.fit(X_train, y_train)\n",
    "    \n",
    "    # 結果を格納\n",
    "    score_train[count] = lr.score(X_train, y_train)\n",
    "    score_test[count]= lr.score(X_test, y_test)\n",
    "    \n",
    "    y_test_pred = lr.predict(X_test)\n",
    "    recall_test[count] = metrics.recall_score(y_test, y_test_pred)\n",
    "    precision_test[count] = metrics.precision_score(y_test, y_test_pred)\n",
    "        \n",
    "    conf_mat = pd.DataFrame(confusion_matrix(y_test, y_test_pred), \n",
    "                        index=['正解 = 資金調達失敗', '正解 = 資金調達成功'], \n",
    "                        columns=['予測 = 資金調達失敗', '予測 = 資金調達成功'])\n",
    "    display(conf_mat)\n",
    "\n",
    "    count = count + 1 \n",
    "\n",
    "# 行列に格納\n",
    "matrix = np.matrix(np.c_[list_alpha, score_train, score_test, recall_test, precision_test])\n",
    "\n",
    "# DataFrameに格納\n",
    "models = pd.DataFrame(data=matrix, columns=['alpha', 'Train Accuracy', 'Test Accuracy', 'Test Recall', 'Test Precision'])\n",
    "\n",
    "# テスト結果一覧\n",
    "display(models.head(n=10))"
   ]
  }
 ],
 "metadata": {
  "kernelspec": {
   "display_name": "Python 3",
   "language": "python",
   "name": "python3"
  },
  "language_info": {
   "codemirror_mode": {
    "name": "ipython",
    "version": 3
   },
   "file_extension": ".py",
   "mimetype": "text/x-python",
   "name": "python",
   "nbconvert_exporter": "python",
   "pygments_lexer": "ipython3",
   "version": "3.7.3"
  }
 },
 "nbformat": 4,
 "nbformat_minor": 1
}
