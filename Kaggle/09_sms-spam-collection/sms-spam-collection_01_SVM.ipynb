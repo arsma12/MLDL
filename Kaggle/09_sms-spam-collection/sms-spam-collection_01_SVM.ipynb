{
 "cells": [
  {
   "cell_type": "markdown",
   "metadata": {
    "_uuid": "83e92e96c1b2693175187f170e874f80811b915b"
   },
   "source": [
    "# ◆SMS Spam Collection Dataset\n",
    "### 目的：SMSメッセージのテキストから「スパム」または「ハム」に分類する。\n",
    "### 目的変数を\n",
    "- kaggle URL:https://www.kaggle.com/uciml/sms-spam-collection-dataset\n",
    "- Create Date：2020/01/17　Author：M.Hasegawa\n",
    "### ────────────────────────────────────────────────────────────────\n",
    "\n",
    "### 【手順】\n",
    "\n",
    "#### 0.Notebook内で利用する関数の定義\n",
    "\n",
    "#### 1.データ読込\n",
    "- 欠損項目を確認する\n",
    "\n",
    "#### 2.データ前処理\n",
    "- CountVectorizer（出現する単語のカウントを特徴量にする手法）\n",
    "\n",
    "#### 3.モデル生成\n",
    "- SVM Classifier\n",
    "\n",
    "#### 4.モデル評価\n",
    "- 混同行列を作成し、Accuracy、Recall、Precisionを求める\n",
    "\n",
    "#### ※データセット\n",
    "- 「spam.csv」（データ数：5572, 2）\n",
    "\n",
    "| 列 | 項目 | 項目名 | 欠損有無 | 利用有無 |\n",
    "| :--- | :--- | :--- | :---: | :---: |\n",
    "|  1 | v1→label |spam or hum | - | ○ |\n",
    "|  2 | v2→text | SNS message | - | ○ |"
   ]
  },
  {
   "cell_type": "markdown",
   "metadata": {
    "_uuid": "7e07c8e4ca9941fa0b409bbc48c79f4b432c9832"
   },
   "source": [
    "## Imports"
   ]
  },
  {
   "cell_type": "code",
   "execution_count": 1,
   "metadata": {
    "_cell_guid": "b1076dfc-b9ad-4769-8c92-a6c4dae69d19",
    "_uuid": "8f2839f25d086af736a60e9eeb907d3b93b6e0e5"
   },
   "outputs": [],
   "source": [
    "%matplotlib inline\n",
    "\n",
    "import numpy as np \n",
    "import pandas as pd \n",
    "import seaborn as sns\n",
    "import matplotlib.pyplot as plt\n",
    "from collections             import Counter\n",
    "from sklearn.svm             import SVC\n",
    "from IPython.display         import Markdown, display\n",
    "from sklearn.pipeline        import Pipeline\n",
    "from sklearn.model_selection import GridSearchCV\n",
    "from sklearn.metrics         import classification_report, confusion_matrix, accuracy_score\n",
    "from sklearn                 import feature_extraction, model_selection, naive_bayes, metrics, svm\n",
    "from sklearn.model_selection import train_test_split\n",
    "from sklearn.feature_extraction.text import CountVectorizer\n",
    "\n",
    "import warnings\n",
    "warnings.filterwarnings('ignore')\n",
    "    \n",
    "# ============================================================================\n",
    "# MarkDown記法\n",
    "# ============================================================================\n",
    "def printmd(string):\n",
    "    display(Markdown('\\n\\n**' + string + '**'))"
   ]
  },
  {
   "cell_type": "markdown",
   "metadata": {
    "_uuid": "082306c6380a6bc0a2d1aa16843ab4200f011ebe"
   },
   "source": [
    "# 1. Explanatory Data Analysis"
   ]
  },
  {
   "cell_type": "code",
   "execution_count": 2,
   "metadata": {
    "_uuid": "5654c4b08e286b2833bc03d056878325041c75c9"
   },
   "outputs": [
    {
     "data": {
      "text/markdown": [
       "\n",
       "\n",
       "**▼サイズ**"
      ],
      "text/plain": [
       "<IPython.core.display.Markdown object>"
      ]
     },
     "metadata": {},
     "output_type": "display_data"
    },
    {
     "name": "stdout",
     "output_type": "stream",
     "text": [
      "(5572, 2)\n"
     ]
    },
    {
     "data": {
      "text/markdown": [
       "\n",
       "\n",
       "**▼先頭5行**"
      ],
      "text/plain": [
       "<IPython.core.display.Markdown object>"
      ]
     },
     "metadata": {},
     "output_type": "display_data"
    },
    {
     "data": {
      "text/html": [
       "<div>\n",
       "<style scoped>\n",
       "    .dataframe tbody tr th:only-of-type {\n",
       "        vertical-align: middle;\n",
       "    }\n",
       "\n",
       "    .dataframe tbody tr th {\n",
       "        vertical-align: top;\n",
       "    }\n",
       "\n",
       "    .dataframe thead th {\n",
       "        text-align: right;\n",
       "    }\n",
       "</style>\n",
       "<table border=\"1\" class=\"dataframe\">\n",
       "  <thead>\n",
       "    <tr style=\"text-align: right;\">\n",
       "      <th></th>\n",
       "      <th>label</th>\n",
       "      <th>text</th>\n",
       "    </tr>\n",
       "  </thead>\n",
       "  <tbody>\n",
       "    <tr>\n",
       "      <th>0</th>\n",
       "      <td>ham</td>\n",
       "      <td>Go until jurong point, crazy.. Available only ...</td>\n",
       "    </tr>\n",
       "    <tr>\n",
       "      <th>1</th>\n",
       "      <td>ham</td>\n",
       "      <td>Ok lar... Joking wif u oni...</td>\n",
       "    </tr>\n",
       "    <tr>\n",
       "      <th>2</th>\n",
       "      <td>spam</td>\n",
       "      <td>Free entry in 2 a wkly comp to win FA Cup fina...</td>\n",
       "    </tr>\n",
       "    <tr>\n",
       "      <th>3</th>\n",
       "      <td>ham</td>\n",
       "      <td>U dun say so early hor... U c already then say...</td>\n",
       "    </tr>\n",
       "    <tr>\n",
       "      <th>4</th>\n",
       "      <td>ham</td>\n",
       "      <td>Nah I don't think he goes to usf, he lives aro...</td>\n",
       "    </tr>\n",
       "  </tbody>\n",
       "</table>\n",
       "</div>"
      ],
      "text/plain": [
       "  label                                               text\n",
       "0   ham  Go until jurong point, crazy.. Available only ...\n",
       "1   ham                      Ok lar... Joking wif u oni...\n",
       "2  spam  Free entry in 2 a wkly comp to win FA Cup fina...\n",
       "3   ham  U dun say so early hor... U c already then say...\n",
       "4   ham  Nah I don't think he goes to usf, he lives aro..."
      ]
     },
     "metadata": {},
     "output_type": "display_data"
    },
    {
     "data": {
      "text/markdown": [
       "\n",
       "\n",
       "**▼基本統計量**"
      ],
      "text/plain": [
       "<IPython.core.display.Markdown object>"
      ]
     },
     "metadata": {},
     "output_type": "display_data"
    },
    {
     "data": {
      "text/html": [
       "<div>\n",
       "<style scoped>\n",
       "    .dataframe tbody tr th:only-of-type {\n",
       "        vertical-align: middle;\n",
       "    }\n",
       "\n",
       "    .dataframe tbody tr th {\n",
       "        vertical-align: top;\n",
       "    }\n",
       "\n",
       "    .dataframe thead th {\n",
       "        text-align: right;\n",
       "    }\n",
       "</style>\n",
       "<table border=\"1\" class=\"dataframe\">\n",
       "  <thead>\n",
       "    <tr style=\"text-align: right;\">\n",
       "      <th></th>\n",
       "      <th>label</th>\n",
       "      <th>text</th>\n",
       "    </tr>\n",
       "  </thead>\n",
       "  <tbody>\n",
       "    <tr>\n",
       "      <th>count</th>\n",
       "      <td>5572</td>\n",
       "      <td>5572</td>\n",
       "    </tr>\n",
       "    <tr>\n",
       "      <th>unique</th>\n",
       "      <td>2</td>\n",
       "      <td>5169</td>\n",
       "    </tr>\n",
       "    <tr>\n",
       "      <th>top</th>\n",
       "      <td>ham</td>\n",
       "      <td>Sorry, I'll call later</td>\n",
       "    </tr>\n",
       "    <tr>\n",
       "      <th>freq</th>\n",
       "      <td>4825</td>\n",
       "      <td>30</td>\n",
       "    </tr>\n",
       "  </tbody>\n",
       "</table>\n",
       "</div>"
      ],
      "text/plain": [
       "       label                    text\n",
       "count   5572                    5572\n",
       "unique     2                    5169\n",
       "top      ham  Sorry, I'll call later\n",
       "freq    4825                      30"
      ]
     },
     "metadata": {},
     "output_type": "display_data"
    }
   ],
   "source": [
    "df = pd.read_csv(\"./input/spam.csv\",encoding='latin-1')\n",
    "df = df.drop([\"Unnamed: 2\", \"Unnamed: 3\", \"Unnamed: 4\"], axis=1)\n",
    "df = df.rename(columns={\"v1\":\"label\", \"v2\":\"text\"})\n",
    "\n",
    "printmd('▼サイズ')\n",
    "print(df.shape)\n",
    "\n",
    "printmd('▼先頭5行')\n",
    "display(df.head(5))\n",
    "\n",
    "printmd('▼基本統計量')\n",
    "display(df.describe())"
   ]
  },
  {
   "cell_type": "code",
   "execution_count": 3,
   "metadata": {
    "_uuid": "6a4c90bd39e5bb963d845562e66854455b9118ca"
   },
   "outputs": [
    {
     "data": {
      "text/markdown": [
       "\n",
       "\n",
       "**▼ 目的変数labelの種類（%）**"
      ],
      "text/plain": [
       "<IPython.core.display.Markdown object>"
      ]
     },
     "metadata": {},
     "output_type": "display_data"
    },
    {
     "data": {
      "image/png": "[encoded data removed]",
      "text/plain": [
       "<Figure size 216x216 with 1 Axes>"
      ]
     },
     "metadata": {},
     "output_type": "display_data"
    },
    {
     "data": {
      "text/markdown": [
       "\n",
       "\n",
       "**▼ 件数（spam=1，ham=0）**"
      ],
      "text/plain": [
       "<IPython.core.display.Markdown object>"
      ]
     },
     "metadata": {},
     "output_type": "display_data"
    },
    {
     "data": {
      "text/html": [
       "<div>\n",
       "<style scoped>\n",
       "    .dataframe tbody tr th:only-of-type {\n",
       "        vertical-align: middle;\n",
       "    }\n",
       "\n",
       "    .dataframe tbody tr th {\n",
       "        vertical-align: top;\n",
       "    }\n",
       "\n",
       "    .dataframe thead tr th {\n",
       "        text-align: left;\n",
       "    }\n",
       "\n",
       "    .dataframe thead tr:last-of-type th {\n",
       "        text-align: right;\n",
       "    }\n",
       "</style>\n",
       "<table border=\"1\" class=\"dataframe\">\n",
       "  <thead>\n",
       "    <tr>\n",
       "      <th></th>\n",
       "      <th colspan=\"4\" halign=\"left\">text</th>\n",
       "    </tr>\n",
       "    <tr>\n",
       "      <th></th>\n",
       "      <th>count</th>\n",
       "      <th>unique</th>\n",
       "      <th>top</th>\n",
       "      <th>freq</th>\n",
       "    </tr>\n",
       "    <tr>\n",
       "      <th>label</th>\n",
       "      <th></th>\n",
       "      <th></th>\n",
       "      <th></th>\n",
       "      <th></th>\n",
       "    </tr>\n",
       "  </thead>\n",
       "  <tbody>\n",
       "    <tr>\n",
       "      <th>0</th>\n",
       "      <td>4825</td>\n",
       "      <td>4516</td>\n",
       "      <td>Sorry, I'll call later</td>\n",
       "      <td>30</td>\n",
       "    </tr>\n",
       "    <tr>\n",
       "      <th>1</th>\n",
       "      <td>747</td>\n",
       "      <td>653</td>\n",
       "      <td>Please call our customer service representativ...</td>\n",
       "      <td>4</td>\n",
       "    </tr>\n",
       "  </tbody>\n",
       "</table>\n",
       "</div>"
      ],
      "text/plain": [
       "       text                                                               \n",
       "      count unique                                                top freq\n",
       "label                                                                     \n",
       "0      4825   4516                             Sorry, I'll call later   30\n",
       "1       747    653  Please call our customer service representativ...    4"
      ]
     },
     "metadata": {},
     "output_type": "display_data"
    },
    {
     "data": {
      "text/markdown": [
       "\n",
       "\n",
       "**▼ spam rate**"
      ],
      "text/plain": [
       "<IPython.core.display.Markdown object>"
      ]
     },
     "metadata": {},
     "output_type": "display_data"
    },
    {
     "name": "stdout",
     "output_type": "stream",
     "text": [
      "baseline=0.134\n"
     ]
    }
   ],
   "source": [
    "printmd('▼ 目的変数labelの種類（%）')\n",
    "per_class = round(df['label'].value_counts() / len(df['label']) * 100,2)\n",
    "values = list(per_class.values)\n",
    "\n",
    "# 円グラフ\n",
    "plt.figure(figsize=(3,3))\n",
    "plt.pie(values, labels=list(per_class.index),\n",
    "        wedgeprops={'linewidth': 2,'edgecolor':'white'},\n",
    "        textprops={'color': 'white', 'weight': 'bold'},\n",
    "        counterclock=False,startangle=90,\n",
    "        autopct=lambda p: '{:.1f}%'.format(p) if p >= 2.5 else '')\n",
    "lgnd=plt.legend(bbox_to_anchor=(1.0, 0.25, 1.55, 0.5), loc=\"center left\", borderaxespad=0.)\n",
    "plt.axis('equal')\n",
    "plt.show()\n",
    "\n",
    "df['label'] = df['label'].map({'ham': 0,'spam': 1})\n",
    "\n",
    "printmd('▼ 件数（spam=1，ham=0）')\n",
    "display(df.groupby('label').describe())\n",
    "\n",
    "printmd('▼ spam rate')\n",
    "baseline = df['label'].mean()\n",
    "print('baseline={:.3f}'.format(baseline))\n"
   ]
  },
  {
   "cell_type": "markdown",
   "metadata": {
    "_uuid": "dc9f69c3e24cd2aa2f2559825a7ad4710e361115"
   },
   "source": [
    "# 2. 前処理\n",
    "## 2-1. More frequent words in non-spam messages"
   ]
  },
  {
   "cell_type": "code",
   "execution_count": 4,
   "metadata": {
    "_uuid": "76654fd5e10f4c8a46d9d8c9dc5238e0a860d9af"
   },
   "outputs": [
    {
     "data": {
      "text/markdown": [
       "\n",
       "\n",
       "**▼出現回数が多い単語**"
      ],
      "text/plain": [
       "<IPython.core.display.Markdown object>"
      ]
     },
     "metadata": {},
     "output_type": "display_data"
    },
    {
     "data": {
      "text/html": [
       "<div>\n",
       "<style scoped>\n",
       "    .dataframe tbody tr th:only-of-type {\n",
       "        vertical-align: middle;\n",
       "    }\n",
       "\n",
       "    .dataframe tbody tr th {\n",
       "        vertical-align: top;\n",
       "    }\n",
       "\n",
       "    .dataframe thead th {\n",
       "        text-align: right;\n",
       "    }\n",
       "</style>\n",
       "<table border=\"1\" class=\"dataframe\">\n",
       "  <thead>\n",
       "    <tr style=\"text-align: right;\">\n",
       "      <th></th>\n",
       "      <th>words in non-spam</th>\n",
       "      <th>count</th>\n",
       "    </tr>\n",
       "  </thead>\n",
       "  <tbody>\n",
       "    <tr>\n",
       "      <th>0</th>\n",
       "      <td>to</td>\n",
       "      <td>1530</td>\n",
       "    </tr>\n",
       "    <tr>\n",
       "      <th>1</th>\n",
       "      <td>you</td>\n",
       "      <td>1458</td>\n",
       "    </tr>\n",
       "    <tr>\n",
       "      <th>2</th>\n",
       "      <td>I</td>\n",
       "      <td>1436</td>\n",
       "    </tr>\n",
       "    <tr>\n",
       "      <th>3</th>\n",
       "      <td>the</td>\n",
       "      <td>1019</td>\n",
       "    </tr>\n",
       "    <tr>\n",
       "      <th>4</th>\n",
       "      <td>a</td>\n",
       "      <td>969</td>\n",
       "    </tr>\n",
       "  </tbody>\n",
       "</table>\n",
       "</div>"
      ],
      "text/plain": [
       "  words in non-spam  count\n",
       "0                to   1530\n",
       "1               you   1458\n",
       "2                 I   1436\n",
       "3               the   1019\n",
       "4                 a    969"
      ]
     },
     "metadata": {},
     "output_type": "display_data"
    },
    {
     "data": {
      "image/png": "[encoded data removed]",
      "text/plain": [
       "<Figure size 432x288 with 1 Axes>"
      ]
     },
     "metadata": {
      "needs_background": "light"
     },
     "output_type": "display_data"
    }
   ],
   "source": [
    "# non-spam\n",
    "\n",
    "# 出現回数が多い順に要素を取得\n",
    "count1 = Counter(\" \".join(df[df['label']==0]['text']).split()).most_common(20)\n",
    "df1 = pd.DataFrame.from_dict(count1)\n",
    "df1 = df1.rename(columns={0: \"words in non-spam\", 1 : \"count\"})\n",
    "\n",
    "printmd('▼出現回数が多い単語')\n",
    "display(df1.head(5))\n",
    "\n",
    "df1.plot.bar(legend = False)\n",
    "y_pos = np.arange(len(df1[\"words in non-spam\"]))\n",
    "plt.xticks(y_pos, df1[\"words in non-spam\"])\n",
    "plt.title('More frequent words in non-spam messages')\n",
    "plt.xlabel('words')\n",
    "plt.ylabel('number')\n",
    "plt.show()"
   ]
  },
  {
   "cell_type": "markdown",
   "metadata": {},
   "source": [
    "## 2-1. More frequent words in spam messages"
   ]
  },
  {
   "cell_type": "code",
   "execution_count": 5,
   "metadata": {},
   "outputs": [
    {
     "data": {
      "text/markdown": [
       "\n",
       "\n",
       "**▼出現回数が多い単語**"
      ],
      "text/plain": [
       "<IPython.core.display.Markdown object>"
      ]
     },
     "metadata": {},
     "output_type": "display_data"
    },
    {
     "data": {
      "text/html": [
       "<div>\n",
       "<style scoped>\n",
       "    .dataframe tbody tr th:only-of-type {\n",
       "        vertical-align: middle;\n",
       "    }\n",
       "\n",
       "    .dataframe tbody tr th {\n",
       "        vertical-align: top;\n",
       "    }\n",
       "\n",
       "    .dataframe thead th {\n",
       "        text-align: right;\n",
       "    }\n",
       "</style>\n",
       "<table border=\"1\" class=\"dataframe\">\n",
       "  <thead>\n",
       "    <tr style=\"text-align: right;\">\n",
       "      <th></th>\n",
       "      <th>words in spam</th>\n",
       "      <th>count_</th>\n",
       "    </tr>\n",
       "  </thead>\n",
       "  <tbody>\n",
       "    <tr>\n",
       "      <th>0</th>\n",
       "      <td>to</td>\n",
       "      <td>604</td>\n",
       "    </tr>\n",
       "    <tr>\n",
       "      <th>1</th>\n",
       "      <td>a</td>\n",
       "      <td>358</td>\n",
       "    </tr>\n",
       "    <tr>\n",
       "      <th>2</th>\n",
       "      <td>your</td>\n",
       "      <td>187</td>\n",
       "    </tr>\n",
       "    <tr>\n",
       "      <th>3</th>\n",
       "      <td>call</td>\n",
       "      <td>185</td>\n",
       "    </tr>\n",
       "    <tr>\n",
       "      <th>4</th>\n",
       "      <td>or</td>\n",
       "      <td>185</td>\n",
       "    </tr>\n",
       "  </tbody>\n",
       "</table>\n",
       "</div>"
      ],
      "text/plain": [
       "  words in spam  count_\n",
       "0            to     604\n",
       "1             a     358\n",
       "2          your     187\n",
       "3          call     185\n",
       "4            or     185"
      ]
     },
     "metadata": {},
     "output_type": "display_data"
    },
    {
     "data": {
      "image/png": "[encoded data removed]",
      "text/plain": [
       "<Figure size 432x288 with 1 Axes>"
      ]
     },
     "metadata": {
      "needs_background": "light"
     },
     "output_type": "display_data"
    }
   ],
   "source": [
    "# spam\n",
    "\n",
    "# 出現回数が多い順に要素を取得\n",
    "count2 = Counter(\" \".join(df[df['label']==1]['text']).split()).most_common(20)\n",
    "df2 = pd.DataFrame.from_dict(count2)\n",
    "df2 = df2.rename(columns={0: \"words in spam\", 1 : \"count_\"})\n",
    "\n",
    "printmd('▼出現回数が多い単語')\n",
    "display(df2.head(5))\n",
    "\n",
    "df2.plot.bar(legend = False, color = 'orange')\n",
    "y_pos = np.arange(len(df2[\"words in spam\"]))\n",
    "plt.xticks(y_pos, df2[\"words in spam\"])\n",
    "plt.title('More frequent words in spam messages')\n",
    "plt.xlabel('words')\n",
    "plt.ylabel('number')\n",
    "plt.show()"
   ]
  },
  {
   "cell_type": "markdown",
   "metadata": {},
   "source": [
    "## 2-2. 特徴量エンジニアリング\n",
    "- テキストの前処理、トークン化、およびストップワードのフィルタリングは、機能の辞書を構築し、ドキュメントを機能ベクトルに変換できる高レベルのコンポーネントに含まれています。\n",
    "- sklearnの[CountVectorizer](https://scikit-learn.org/stable/modules/generated/sklearn.feature_extraction.text.CountVectorizer.html)を使うとBoW(Bag of Words)の特徴量が簡単に作れます\n",
    "- 分析を改善するためにストップワードを削除します\n"
   ]
  },
  {
   "cell_type": "code",
   "execution_count": 6,
   "metadata": {
    "_uuid": "2b71df4ef3915bc73648a5380b29019a461305e7"
   },
   "outputs": [],
   "source": [
    "X_train, X_test, y_train, y_test = train_test_split(df['text'], df['label'], test_size=0.30, random_state=1234)\n",
    "\n",
    "# テキストドキュメントのコレクションをトークンカウントのマトリックスに変換\n",
    "f = CountVectorizer(stop_words = 'english')\n",
    "X_train = f.fit_transform(X_train)\n",
    "X_test = f.transform(X_test)\n",
    "\n",
    "#print(np.shape(X_train))\n",
    "#print(type(X_train))\n",
    "#print(X_train)"
   ]
  },
  {
   "cell_type": "markdown",
   "metadata": {},
   "source": [
    "## 3.モデル構築（SVM）\n",
    "- ガウスカーネルでサポートベクターマシンモデルを適用する同じ推論を適用します。\n",
    "- 正則化パラメーターCを変更してさまざまなモデルをトレーニングします。\n",
    "- テストセットを使用して、モデルの精度、再現率、および精度を評価します。"
   ]
  },
  {
   "cell_type": "code",
   "execution_count": 7,
   "metadata": {},
   "outputs": [],
   "source": [
    "list_C = np.arange(500, 2000, 100) #500～1000まで100刻みで増加\n",
    "\n",
    "score_train = np.zeros(len(list_C))\n",
    "score_test = np.zeros(len(list_C))\n",
    "recall_test = np.zeros(len(list_C))\n",
    "precision_test= np.zeros(len(list_C))\n",
    "\n",
    "count = 0\n",
    "for C in list_C:\n",
    "    # 生成\n",
    "    svc = svm.SVC(C=C, kernel='rbf', gamma='auto_deprecated')\n",
    "    # 学習\n",
    "    svc.fit(X_train, y_train)\n",
    "    \n",
    "    # 結果を格納\n",
    "    score_train[count] = svc.score(X_train, y_train)\n",
    "    score_test[count]= svc.score(X_test, y_test)\n",
    "    recall_test[count] = metrics.recall_score(y_test, svc.predict(X_test))\n",
    "    precision_test[count] = metrics.precision_score(y_test, svc.predict(X_test))\n",
    "    \n",
    "    count = count + 1 "
   ]
  },
  {
   "cell_type": "code",
   "execution_count": 8,
   "metadata": {},
   "outputs": [
    {
     "data": {
      "text/html": [
       "<div>\n",
       "<style scoped>\n",
       "    .dataframe tbody tr th:only-of-type {\n",
       "        vertical-align: middle;\n",
       "    }\n",
       "\n",
       "    .dataframe tbody tr th {\n",
       "        vertical-align: top;\n",
       "    }\n",
       "\n",
       "    .dataframe thead th {\n",
       "        text-align: right;\n",
       "    }\n",
       "</style>\n",
       "<table border=\"1\" class=\"dataframe\">\n",
       "  <thead>\n",
       "    <tr style=\"text-align: right;\">\n",
       "      <th></th>\n",
       "      <th>C</th>\n",
       "      <th>Train Accuracy</th>\n",
       "      <th>Test Accuracy</th>\n",
       "      <th>Test Recall</th>\n",
       "      <th>Test Precision</th>\n",
       "    </tr>\n",
       "  </thead>\n",
       "  <tbody>\n",
       "    <tr>\n",
       "      <th>0</th>\n",
       "      <td>500.0</td>\n",
       "      <td>0.995641</td>\n",
       "      <td>0.979067</td>\n",
       "      <td>0.852941</td>\n",
       "      <td>1.000000</td>\n",
       "    </tr>\n",
       "    <tr>\n",
       "      <th>1</th>\n",
       "      <td>600.0</td>\n",
       "      <td>0.996410</td>\n",
       "      <td>0.979067</td>\n",
       "      <td>0.852941</td>\n",
       "      <td>1.000000</td>\n",
       "    </tr>\n",
       "    <tr>\n",
       "      <th>2</th>\n",
       "      <td>700.0</td>\n",
       "      <td>0.997436</td>\n",
       "      <td>0.978469</td>\n",
       "      <td>0.848739</td>\n",
       "      <td>1.000000</td>\n",
       "    </tr>\n",
       "    <tr>\n",
       "      <th>3</th>\n",
       "      <td>800.0</td>\n",
       "      <td>0.997692</td>\n",
       "      <td>0.979067</td>\n",
       "      <td>0.852941</td>\n",
       "      <td>1.000000</td>\n",
       "    </tr>\n",
       "    <tr>\n",
       "      <th>4</th>\n",
       "      <td>900.0</td>\n",
       "      <td>0.997949</td>\n",
       "      <td>0.979067</td>\n",
       "      <td>0.852941</td>\n",
       "      <td>1.000000</td>\n",
       "    </tr>\n",
       "    <tr>\n",
       "      <th>5</th>\n",
       "      <td>1000.0</td>\n",
       "      <td>0.997949</td>\n",
       "      <td>0.978469</td>\n",
       "      <td>0.852941</td>\n",
       "      <td>0.995098</td>\n",
       "    </tr>\n",
       "    <tr>\n",
       "      <th>6</th>\n",
       "      <td>1100.0</td>\n",
       "      <td>0.998462</td>\n",
       "      <td>0.978469</td>\n",
       "      <td>0.852941</td>\n",
       "      <td>0.995098</td>\n",
       "    </tr>\n",
       "    <tr>\n",
       "      <th>7</th>\n",
       "      <td>1200.0</td>\n",
       "      <td>0.999231</td>\n",
       "      <td>0.979067</td>\n",
       "      <td>0.857143</td>\n",
       "      <td>0.995122</td>\n",
       "    </tr>\n",
       "    <tr>\n",
       "      <th>8</th>\n",
       "      <td>1300.0</td>\n",
       "      <td>0.999231</td>\n",
       "      <td>0.979665</td>\n",
       "      <td>0.861345</td>\n",
       "      <td>0.995146</td>\n",
       "    </tr>\n",
       "    <tr>\n",
       "      <th>9</th>\n",
       "      <td>1400.0</td>\n",
       "      <td>0.999231</td>\n",
       "      <td>0.980861</td>\n",
       "      <td>0.865546</td>\n",
       "      <td>1.000000</td>\n",
       "    </tr>\n",
       "  </tbody>\n",
       "</table>\n",
       "</div>"
      ],
      "text/plain": [
       "        C  Train Accuracy  Test Accuracy  Test Recall  Test Precision\n",
       "0   500.0        0.995641       0.979067     0.852941        1.000000\n",
       "1   600.0        0.996410       0.979067     0.852941        1.000000\n",
       "2   700.0        0.997436       0.978469     0.848739        1.000000\n",
       "3   800.0        0.997692       0.979067     0.852941        1.000000\n",
       "4   900.0        0.997949       0.979067     0.852941        1.000000\n",
       "5  1000.0        0.997949       0.978469     0.852941        0.995098\n",
       "6  1100.0        0.998462       0.978469     0.852941        0.995098\n",
       "7  1200.0        0.999231       0.979067     0.857143        0.995122\n",
       "8  1300.0        0.999231       0.979665     0.861345        0.995146\n",
       "9  1400.0        0.999231       0.980861     0.865546        1.000000"
      ]
     },
     "metadata": {},
     "output_type": "display_data"
    }
   ],
   "source": [
    "# 行列に格納\n",
    "matrix = np.matrix(np.c_[list_C, score_train, score_test, recall_test, precision_test])\n",
    "\n",
    "# DataFrameに格納\n",
    "models = pd.DataFrame(data=matrix, columns=['C', 'Train Accuracy', 'Test Accuracy', 'Test Recall', 'Test Precision'])\n",
    "\n",
    "# テスト結果一覧\n",
    "display(models.head(n=10))"
   ]
  },
  {
   "cell_type": "code",
   "execution_count": 9,
   "metadata": {},
   "outputs": [
    {
     "data": {
      "text/markdown": [
       "\n",
       "\n",
       "**▼ モデルの評価結果**"
      ],
      "text/plain": [
       "<IPython.core.display.Markdown object>"
      ]
     },
     "metadata": {},
     "output_type": "display_data"
    },
    {
     "name": "stdout",
     "output_type": "stream",
     "text": [
      "C                 1400.000000\n",
      "Train Accuracy       0.999231\n",
      "Test Accuracy        0.980861\n",
      "Test Recall          0.865546\n",
      "Test Precision       1.000000\n",
      "Name: 9, dtype: float64\n"
     ]
    },
    {
     "data": {
      "text/html": [
       "<div>\n",
       "<style scoped>\n",
       "    .dataframe tbody tr th:only-of-type {\n",
       "        vertical-align: middle;\n",
       "    }\n",
       "\n",
       "    .dataframe tbody tr th {\n",
       "        vertical-align: top;\n",
       "    }\n",
       "\n",
       "    .dataframe thead th {\n",
       "        text-align: right;\n",
       "    }\n",
       "</style>\n",
       "<table border=\"1\" class=\"dataframe\">\n",
       "  <thead>\n",
       "    <tr style=\"text-align: right;\">\n",
       "      <th></th>\n",
       "      <th>予測 hum:0</th>\n",
       "      <th>予測 spam:1</th>\n",
       "    </tr>\n",
       "  </thead>\n",
       "  <tbody>\n",
       "    <tr>\n",
       "      <th>正解 hum:0</th>\n",
       "      <td>1434</td>\n",
       "      <td>0</td>\n",
       "    </tr>\n",
       "    <tr>\n",
       "      <th>正解 spam:1</th>\n",
       "      <td>32</td>\n",
       "      <td>206</td>\n",
       "    </tr>\n",
       "  </tbody>\n",
       "</table>\n",
       "</div>"
      ],
      "text/plain": [
       "           予測 hum:0  予測 spam:1\n",
       "正解 hum:0       1434          0\n",
       "正解 spam:1        32        206"
      ]
     },
     "metadata": {},
     "output_type": "display_data"
    }
   ],
   "source": [
    "printmd('▼ モデルの評価結果')\n",
    "best_index = models[models['Test Precision']==1]['Test Accuracy'].idxmax()\n",
    "svc = svm.SVC(C=list_C[best_index])\n",
    "svc.fit(X_train, y_train)\n",
    "print(models.iloc[best_index, :])\n",
    "\n",
    "m_confusion_test = metrics.confusion_matrix(y_test, svc.predict(X_test))\n",
    "conf_mat = pd.DataFrame(data = m_confusion_test,index = ['正解 hum:0', '正解 spam:1'], \n",
    "                                              columns = ['予測 hum:0', '予測 spam:1'])\n",
    "display(conf_mat)"
   ]
  },
  {
   "cell_type": "markdown",
   "metadata": {},
   "source": [
    "## 4.結論\n",
    "- 最良のモデルは、98.0％の精度のサポートベクターマシン\n",
    "- すべての非スパムメッセージを正しく分類します（モデルの精度）\n",
    "- スパムメッセージの87.7％を正しく分類します（モデルのリコール）"
   ]
  }
 ],
 "metadata": {
  "kernelspec": {
   "display_name": "Python 3",
   "language": "python",
   "name": "python3"
  },
  "language_info": {
   "codemirror_mode": {
    "name": "ipython",
    "version": 3
   },
   "file_extension": ".py",
   "mimetype": "text/x-python",
   "name": "python",
   "nbconvert_exporter": "python",
   "pygments_lexer": "ipython3",
   "version": "3.7.3"
  }
 },
 "nbformat": 4,
 "nbformat_minor": 1
}
